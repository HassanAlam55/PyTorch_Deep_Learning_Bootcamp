{
 "cells": [
  {
   "cell_type": "markdown",
   "id": "c2dc16c4-c7f4-4945-ba91-6430a51e6f5a",
   "metadata": {
    "id": "c2dc16c4-c7f4-4945-ba91-6430a51e6f5a"
   },
   "source": [
    "<a href=\"https://colab.research.google.com/github/mrdbourke/pytorch-deep-learning/blob/main/03_pytorch_computer_vision.ipynb\" target=\"_parent\"><img src=\"https://colab.research.google.com/assets/colab-badge.svg\" alt=\"Open In Colab\"/></a>\n",
    "\n",
    "[View Source Code](https://github.com/mrdbourke/pytorch-deep-learning/blob/main/03_pytorch_computer_vision.ipynb) | [View Slides](https://github.com/mrdbourke/pytorch-deep-learning/blob/main/slides/03_pytorch_computer_vision.pdf) | [Watch Video Walkthrough](https://youtu.be/Z_ikDlimN6A?t=50417) "
   ]
  },
  {
   "cell_type": "markdown",
   "id": "08f47c6a-3318-4e3f-8bb3-c520e00e63dd",
   "metadata": {
    "id": "08f47c6a-3318-4e3f-8bb3-c520e00e63dd"
   },
   "source": [
    "# 03. PyTorch Computer Vision\n",
    "\n",
    "[Computer vision](https://en.wikipedia.org/wiki/Computer_vision) is the art of teaching a computer to see.\n",
    "\n",
    "For example, it could involve building a model to classify whether a photo is of a cat or a dog ([binary classification](https://developers.google.com/machine-learning/glossary#binary-classification)).\n",
    "\n",
    "Or whether a photo is of a cat, dog or chicken ([multi-class classification](https://developers.google.com/machine-learning/glossary#multi-class-classification)).\n",
    "\n",
    "Or identifying where a car appears in a video frame ([object detection](https://en.wikipedia.org/wiki/Object_detection)).\n",
    "\n",
    "Or figuring out where different objects in an image can be separated ([panoptic segmentation](https://arxiv.org/abs/1801.00868)).\n",
    "\n",
    "![example computer vision problems](https://raw.githubusercontent.com/mrdbourke/pytorch-deep-learning/main/images/03-computer-vision-problems.png)\n",
    "*Example computer vision problems for binary classification, multiclass classification, object detection and segmentation.*"
   ]
  },
  {
   "cell_type": "markdown",
   "id": "19179a39-0c6c-40f7-9891-09e17d107ecf",
   "metadata": {
    "id": "19179a39-0c6c-40f7-9891-09e17d107ecf"
   },
   "source": [
    "## Where does computer vision get used?\n",
    "\n",
    "If you use a smartphone, you've already used computer vision.\n",
    "\n",
    "Camera and photo apps use [computer vision to enhance](https://machinelearning.apple.com/research/panoptic-segmentation) and sort images.\n",
    "\n",
    "Modern cars use [computer vision](https://youtu.be/j0z4FweCy4M?t=2989) to avoid other cars and stay within lane lines.\n",
    "\n",
    "Manufacturers use computer vision to identify defects in various products.\n",
    "\n",
    "Security cameras use computer vision to detect potential intruders.\n",
    "\n",
    "In essence, anything that can described in a visual sense can be a potential computer vision problem."
   ]
  },
  {
   "cell_type": "markdown",
   "id": "412e8bd1-0e6b-4ad6-8506-b28a8f669dc1",
   "metadata": {
    "id": "412e8bd1-0e6b-4ad6-8506-b28a8f669dc1"
   },
   "source": [
    "## What we're going to cover\n",
    "\n",
    "We're going to apply the PyTorch Workflow we've been learning in the past couple of sections to computer vision.\n",
    "\n",
    "![a PyTorch workflow with a computer vision focus](https://raw.githubusercontent.com/mrdbourke/pytorch-deep-learning/main/images/03-pytorch-computer-vision-workflow.png)\n",
    "\n",
    "Specifically, we're going to cover:\n",
    "\n",
    "| **Topic** | **Contents** |\n",
    "| ----- | ----- |\n",
    "| **0. Computer vision libraries in PyTorch** | PyTorch has a bunch of built-in helpful computer vision libraries, let's check them out.  |\n",
    "| **1. Load data** | To practice computer vision, we'll start with some images of different pieces of clothing from [FashionMNIST](https://github.com/zalandoresearch/fashion-mnist). |\n",
    "| **2. Prepare data** | We've got some images, let's load them in with a [PyTorch `DataLoader`](https://pytorch.org/docs/stable/data.html) so we can use them with our training loop. |\n",
    "| **3. Model 0: Building a baseline model** | Here we'll create a multi-class classification model to learn patterns in the data, we'll also choose a **loss function**, **optimizer** and build a **training loop**. | \n",
    "| **4. Making predictions and evaluting model 0** | Let's make some predictions with our baseline model and evaluate them. |\n",
    "| **5. Setup device agnostic code for future models** | It's best practice to write device-agnostic code, so let's set it up. |\n",
    "| **6. Model 1: Adding non-linearity** | Experimenting is a large part of machine learning, let's try and improve upon our baseline model by adding non-linear layers. |\n",
    "| **7. Model 2: Convolutional Neural Network (CNN)** | Time to get computer vision specific and introduce the powerful convolutional neural network architecture. |\n",
    "| **8. Comparing our models** | We've built three different models, let's compare them. |\n",
    "| **9. Evaluating our best model** | Let's make some predictons on random images and evaluate our best model. |\n",
    "| **10. Making a confusion matrix** | A confusion matrix is a great way to evaluate a classification model, let's see how we can make one. |\n",
    "| **11. Saving and loading the best performing model** | Since we might want to use our model for later, let's save it and make sure it loads back in correctly. |"
   ]
  },
  {
   "cell_type": "markdown",
   "id": "cddf62c3-f5e5-4f7e-852a-2ad6d38b7399",
   "metadata": {
    "id": "cddf62c3-f5e5-4f7e-852a-2ad6d38b7399"
   },
   "source": [
    "## Where can can you get help?\n",
    "\n",
    "All of the materials for this course [live on GitHub](https://github.com/mrdbourke/pytorch-deep-learning).\n",
    "\n",
    "If you run into trouble, you can ask a question on the course [GitHub Discussions page](https://github.com/mrdbourke/pytorch-deep-learning/discussions) there too.\n",
    "\n",
    "And of course, there's the [PyTorch documentation](https://pytorch.org/docs/stable/index.html) and [PyTorch developer forums](https://discuss.pytorch.org/), a very helpful place for all things PyTorch. "
   ]
  },
  {
   "cell_type": "markdown",
   "id": "a0bedcfc-e12a-4a81-9913-84c6a888742a",
   "metadata": {
    "id": "a0bedcfc-e12a-4a81-9913-84c6a888742a"
   },
   "source": [
    "## 0. Computer vision libraries in PyTorch\n",
    "\n",
    "Before we get started writing code, let's talk about some PyTorch computer vision libraries you should be aware of.\n",
    "\n",
    "| PyTorch module | What does it do? |\n",
    "| ----- | ----- |\n",
    "| [`torchvision`](https://pytorch.org/vision/stable/index.html) | Contains datasets, model architectures and image transformations often used for computer vision problems. |\n",
    "| [`torchvision.datasets`](https://pytorch.org/vision/stable/datasets.html) | Here you'll find many example computer vision datasets for a range of problems from image classification, object detection, image captioning, video classification and more. It also contains [a series of base classes for making custom datasets](https://pytorch.org/vision/stable/datasets.html#base-classes-for-custom-datasets). |\n",
    "| [`torchvision.models`](https://pytorch.org/vision/stable/models.html) | This module contains well-performing and commonly used computer vision model architectures implemented in PyTorch, you can use these with your own problems. | \n",
    "| [`torchvision.transforms`](https://pytorch.org/vision/stable/transforms.html) | Often images need to be transformed (turned into numbers/processed/augmented) before being used with a model, common image transformations are found here. | \n",
    "| [`torch.utils.data.Dataset`](https://pytorch.org/docs/stable/data.html#torch.utils.data.Dataset) | Base dataset class for PyTorch.  | \n",
    "| [`torch.utils.data.DataLoader`](https://pytorch.org/docs/stable/data.html#module-torch.utils.data) | Creates a Python iterable over a dataset (created with `torch.utils.data.Dataset`). |\n",
    "\n",
    "> **Note:** The `torch.utils.data.Dataset` and `torch.utils.data.DataLoader` classes aren't only for computer vision in PyTorch, they are capable of dealing with many different types of data.\n",
    "\n",
    "Now we've covered some of the most important PyTorch computer vision libraries, let's import the relevant dependencies.\n"
   ]
  },
  {
   "cell_type": "code",
   "execution_count": null,
   "id": "5d1c3d02",
   "metadata": {},
   "outputs": [],
   "source": []
  },
  {
   "cell_type": "code",
   "execution_count": 5,
   "id": "0dc439d2",
   "metadata": {},
   "outputs": [],
   "source": [
    "import requests\n",
    "from pathlib import Path\n",
    "import sklearn\n",
    "import matplotlib.pyplot as plt\n",
    "import pandas as pd\n",
    "from sklearn.datasets import make_circles\n",
    "from sklearn.datasets import make_moons\n",
    "from sklearn.model_selection import train_test_split\n",
    "from sklearn.datasets import make_blobs\n",
    "import pandas as pd\n",
    "import torch\n",
    "from torch import nn\n",
    "from helper_functions import plot_predictions, plot_decision_boundary, accuracy_fn\n",
    "from torchmetrics import Accuracy, ConfusionMatrix\n",
    "import mlxtend\n",
    "from torchvision import datasets\n",
    "from torchvision import transforms\n",
    "from torchvision.transforms import ToTensor\n",
    "from torch.utils.data import DataLoader\n",
    "from timeit import default_timer as timer\n",
    "from tqdm.auto import tqdm\n",
    "from mlxtend.plotting import plot_confusion_matrix\n",
    "import random\n",
    "from pathlib import Path"
   ]
  },
  {
   "cell_type": "code",
   "execution_count": 6,
   "id": "c263a60d-d788-482f-b9e7-9cab4f6b1f72",
   "metadata": {
    "colab": {
     "base_uri": "https://localhost:8080/"
    },
    "id": "c263a60d-d788-482f-b9e7-9cab4f6b1f72",
    "outputId": "20ba933b-6026-475f-a8d9-12cf416aff74"
   },
   "outputs": [
    {
     "name": "stdout",
     "output_type": "stream",
     "text": [
      "PyTorch version: 2.3.0\n",
      "torchvision version: 0.18.0\n"
     ]
    }
   ],
   "source": [
    "# Import PyTorch\n",
    "import torch\n",
    "from torch import nn\n",
    "\n",
    "# Import torchvision \n",
    "import torchvision\n",
    "from torchvision import datasets\n",
    "from torchvision.transforms import ToTensor\n",
    "\n",
    "# Import matplotlib for visualization\n",
    "import matplotlib.pyplot as plt\n",
    "\n",
    "# Check versions\n",
    "# Note: your PyTorch version shouldn't be lower than 1.10.0 and torchvision version shouldn't be lower than 0.11\n",
    "print(f\"PyTorch version: {torch.__version__}\\ntorchvision version: {torchvision.__version__}\")"
   ]
  },
  {
   "cell_type": "markdown",
   "id": "48d6bfe7-91da-44eb-9ab6-7c41c1e9fa8e",
   "metadata": {
    "id": "48d6bfe7-91da-44eb-9ab6-7c41c1e9fa8e"
   },
   "source": [
    "## 1. Getting a dataset\n",
    "\n",
    "To begin working on a computer vision problem, let's get a computer vision dataset.\n",
    "\n",
    "We're going to start with FashionMNIST.\n",
    "\n",
    "MNIST stands for Modified National Institute of Standards and Technology.\n",
    "\n",
    "The [original MNIST dataset](https://en.wikipedia.org/wiki/MNIST_database) contains thousands of examples of handwritten digits (from 0 to 9) and was used to build computer vision models to identify numbers for postal services.\n",
    "\n",
    "[FashionMNIST](https://github.com/zalandoresearch/fashion-mnist), made by Zalando Research, is a similar setup. \n",
    "\n",
    "Except it contains grayscale images of 10 different kinds of clothing.\n",
    "\n",
    "![example image of FashionMNIST](https://raw.githubusercontent.com/mrdbourke/pytorch-deep-learning/main/images/03-fashion-mnist-slide.png)\n",
    "*`torchvision.datasets` contains a lot of example datasets you can use to practice writing computer vision code on. FashionMNIST is one of those datasets. And since it has 10 different image classes (different types of clothing), it's a multi-class classification problem.*\n",
    "\n",
    "Later, we'll be building a computer vision neural network to identify the different styles of clothing in these images.\n",
    "\n",
    "PyTorch has a bunch of common computer vision datasets stored in `torchvision.datasets`.\n",
    "\n",
    "Including FashionMNIST in [`torchvision.datasets.FashionMNIST()`](https://pytorch.org/vision/main/generated/torchvision.datasets.FashionMNIST.html).\n",
    "\n",
    "To download it, we provide the following parameters:\n",
    "* `root: str` - which folder do you want to download the data to?\n",
    "* `train: Bool` - do you want the training or test split?\n",
    "* `download: Bool` - should the data be downloaded?\n",
    "* `transform: torchvision.transforms` - what transformations would you like to do on the data?\n",
    "* `target_transform` - you can transform the targets (labels) if you like too.\n",
    "\n",
    "Many other datasets in `torchvision` have these parameter options."
   ]
  },
  {
   "cell_type": "code",
   "execution_count": 7,
   "id": "486f8377-6810-4367-859d-69dccc7aef95",
   "metadata": {
    "colab": {
     "base_uri": "https://localhost:8080/"
    },
    "id": "486f8377-6810-4367-859d-69dccc7aef95",
    "outputId": "877f93b2-12c5-477e-92bf-3ec3f1449282"
   },
   "outputs": [],
   "source": [
    "# Setup training data\n",
    "train_data = datasets.FashionMNIST(\n",
    "    root=\"data\", # where to download data to?\n",
    "    train=True, # get training data\n",
    "    download=True, # download data if it doesn't exist on disk\n",
    "    transform=ToTensor(), # images come as PIL format, we want to turn into Torch tensors\n",
    "    target_transform=None # you can transform labels as well\n",
    ")\n",
    "\n",
    "# Setup testing data\n",
    "test_data = datasets.FashionMNIST(\n",
    "    root=\"data\",\n",
    "    train=False, # get test data\n",
    "    download=True,\n",
    "    transform=ToTensor()\n",
    ")"
   ]
  },
  {
   "cell_type": "markdown",
   "id": "a63246f6-3645-49de-88fe-ec18e78bfbaf",
   "metadata": {
    "id": "a63246f6-3645-49de-88fe-ec18e78bfbaf"
   },
   "source": [
    "Let's check out the first sample of the training data."
   ]
  },
  {
   "cell_type": "code",
   "execution_count": 8,
   "id": "43bfd3d9-a132-41e8-8ccd-5ae25a7da59a",
   "metadata": {
    "colab": {
     "base_uri": "https://localhost:8080/"
    },
    "id": "43bfd3d9-a132-41e8-8ccd-5ae25a7da59a",
    "outputId": "1595e80b-6a3f-4171-a128-ec506b4d8326"
   },
   "outputs": [
    {
     "data": {
      "text/plain": [
       "(tensor([[[0.0000, 0.0000, 0.0000, 0.0000, 0.0000, 0.0000, 0.0000, 0.0000,\n",
       "           0.0000, 0.0000, 0.0000, 0.0000, 0.0000, 0.0000, 0.0000, 0.0000,\n",
       "           0.0000, 0.0000, 0.0000, 0.0000, 0.0000, 0.0000, 0.0000, 0.0000,\n",
       "           0.0000, 0.0000, 0.0000, 0.0000],\n",
       "          [0.0000, 0.0000, 0.0000, 0.0000, 0.0000, 0.0000, 0.0000, 0.0000,\n",
       "           0.0000, 0.0000, 0.0000, 0.0000, 0.0000, 0.0000, 0.0000, 0.0000,\n",
       "           0.0000, 0.0000, 0.0000, 0.0000, 0.0000, 0.0000, 0.0000, 0.0000,\n",
       "           0.0000, 0.0000, 0.0000, 0.0000],\n",
       "          [0.0000, 0.0000, 0.0000, 0.0000, 0.0000, 0.0000, 0.0000, 0.0000,\n",
       "           0.0000, 0.0000, 0.0000, 0.0000, 0.0000, 0.0000, 0.0000, 0.0000,\n",
       "           0.0000, 0.0000, 0.0000, 0.0000, 0.0000, 0.0000, 0.0000, 0.0000,\n",
       "           0.0000, 0.0000, 0.0000, 0.0000],\n",
       "          [0.0000, 0.0000, 0.0000, 0.0000, 0.0000, 0.0000, 0.0000, 0.0000,\n",
       "           0.0000, 0.0000, 0.0000, 0.0000, 0.0039, 0.0000, 0.0000, 0.0510,\n",
       "           0.2863, 0.0000, 0.0000, 0.0039, 0.0157, 0.0000, 0.0000, 0.0000,\n",
       "           0.0000, 0.0039, 0.0039, 0.0000],\n",
       "          [0.0000, 0.0000, 0.0000, 0.0000, 0.0000, 0.0000, 0.0000, 0.0000,\n",
       "           0.0000, 0.0000, 0.0000, 0.0000, 0.0118, 0.0000, 0.1412, 0.5333,\n",
       "           0.4980, 0.2431, 0.2118, 0.0000, 0.0000, 0.0000, 0.0039, 0.0118,\n",
       "           0.0157, 0.0000, 0.0000, 0.0118],\n",
       "          [0.0000, 0.0000, 0.0000, 0.0000, 0.0000, 0.0000, 0.0000, 0.0000,\n",
       "           0.0000, 0.0000, 0.0000, 0.0000, 0.0235, 0.0000, 0.4000, 0.8000,\n",
       "           0.6902, 0.5255, 0.5647, 0.4824, 0.0902, 0.0000, 0.0000, 0.0000,\n",
       "           0.0000, 0.0471, 0.0392, 0.0000],\n",
       "          [0.0000, 0.0000, 0.0000, 0.0000, 0.0000, 0.0000, 0.0000, 0.0000,\n",
       "           0.0000, 0.0000, 0.0000, 0.0000, 0.0000, 0.0000, 0.6078, 0.9255,\n",
       "           0.8118, 0.6980, 0.4196, 0.6118, 0.6314, 0.4275, 0.2510, 0.0902,\n",
       "           0.3020, 0.5098, 0.2824, 0.0588],\n",
       "          [0.0000, 0.0000, 0.0000, 0.0000, 0.0000, 0.0000, 0.0000, 0.0000,\n",
       "           0.0000, 0.0000, 0.0000, 0.0039, 0.0000, 0.2706, 0.8118, 0.8745,\n",
       "           0.8549, 0.8471, 0.8471, 0.6392, 0.4980, 0.4745, 0.4784, 0.5725,\n",
       "           0.5529, 0.3451, 0.6745, 0.2588],\n",
       "          [0.0000, 0.0000, 0.0000, 0.0000, 0.0000, 0.0000, 0.0000, 0.0000,\n",
       "           0.0000, 0.0039, 0.0039, 0.0039, 0.0000, 0.7843, 0.9098, 0.9098,\n",
       "           0.9137, 0.8980, 0.8745, 0.8745, 0.8431, 0.8353, 0.6431, 0.4980,\n",
       "           0.4824, 0.7686, 0.8980, 0.0000],\n",
       "          [0.0000, 0.0000, 0.0000, 0.0000, 0.0000, 0.0000, 0.0000, 0.0000,\n",
       "           0.0000, 0.0000, 0.0000, 0.0000, 0.0000, 0.7176, 0.8824, 0.8471,\n",
       "           0.8745, 0.8941, 0.9216, 0.8902, 0.8784, 0.8706, 0.8784, 0.8667,\n",
       "           0.8745, 0.9608, 0.6784, 0.0000],\n",
       "          [0.0000, 0.0000, 0.0000, 0.0000, 0.0000, 0.0000, 0.0000, 0.0000,\n",
       "           0.0000, 0.0000, 0.0000, 0.0000, 0.0000, 0.7569, 0.8941, 0.8549,\n",
       "           0.8353, 0.7765, 0.7059, 0.8314, 0.8235, 0.8275, 0.8353, 0.8745,\n",
       "           0.8627, 0.9529, 0.7922, 0.0000],\n",
       "          [0.0000, 0.0000, 0.0000, 0.0000, 0.0000, 0.0000, 0.0000, 0.0000,\n",
       "           0.0000, 0.0039, 0.0118, 0.0000, 0.0471, 0.8588, 0.8627, 0.8314,\n",
       "           0.8549, 0.7529, 0.6627, 0.8902, 0.8157, 0.8549, 0.8784, 0.8314,\n",
       "           0.8863, 0.7725, 0.8196, 0.2039],\n",
       "          [0.0000, 0.0000, 0.0000, 0.0000, 0.0000, 0.0000, 0.0000, 0.0000,\n",
       "           0.0000, 0.0000, 0.0235, 0.0000, 0.3882, 0.9569, 0.8706, 0.8627,\n",
       "           0.8549, 0.7961, 0.7765, 0.8667, 0.8431, 0.8353, 0.8706, 0.8627,\n",
       "           0.9608, 0.4667, 0.6549, 0.2196],\n",
       "          [0.0000, 0.0000, 0.0000, 0.0000, 0.0000, 0.0000, 0.0000, 0.0000,\n",
       "           0.0000, 0.0157, 0.0000, 0.0000, 0.2157, 0.9255, 0.8941, 0.9020,\n",
       "           0.8941, 0.9412, 0.9098, 0.8353, 0.8549, 0.8745, 0.9176, 0.8510,\n",
       "           0.8510, 0.8196, 0.3608, 0.0000],\n",
       "          [0.0000, 0.0000, 0.0039, 0.0157, 0.0235, 0.0275, 0.0078, 0.0000,\n",
       "           0.0000, 0.0000, 0.0000, 0.0000, 0.9294, 0.8863, 0.8510, 0.8745,\n",
       "           0.8706, 0.8588, 0.8706, 0.8667, 0.8471, 0.8745, 0.8980, 0.8431,\n",
       "           0.8549, 1.0000, 0.3020, 0.0000],\n",
       "          [0.0000, 0.0118, 0.0000, 0.0000, 0.0000, 0.0000, 0.0000, 0.0000,\n",
       "           0.0000, 0.2431, 0.5686, 0.8000, 0.8941, 0.8118, 0.8353, 0.8667,\n",
       "           0.8549, 0.8157, 0.8275, 0.8549, 0.8784, 0.8745, 0.8588, 0.8431,\n",
       "           0.8784, 0.9569, 0.6235, 0.0000],\n",
       "          [0.0000, 0.0000, 0.0000, 0.0000, 0.0706, 0.1725, 0.3216, 0.4196,\n",
       "           0.7412, 0.8941, 0.8627, 0.8706, 0.8510, 0.8863, 0.7843, 0.8039,\n",
       "           0.8275, 0.9020, 0.8784, 0.9176, 0.6902, 0.7373, 0.9804, 0.9725,\n",
       "           0.9137, 0.9333, 0.8431, 0.0000],\n",
       "          [0.0000, 0.2235, 0.7333, 0.8157, 0.8784, 0.8667, 0.8784, 0.8157,\n",
       "           0.8000, 0.8392, 0.8157, 0.8196, 0.7843, 0.6235, 0.9608, 0.7569,\n",
       "           0.8078, 0.8745, 1.0000, 1.0000, 0.8667, 0.9176, 0.8667, 0.8275,\n",
       "           0.8627, 0.9098, 0.9647, 0.0000],\n",
       "          [0.0118, 0.7922, 0.8941, 0.8784, 0.8667, 0.8275, 0.8275, 0.8392,\n",
       "           0.8039, 0.8039, 0.8039, 0.8627, 0.9412, 0.3137, 0.5882, 1.0000,\n",
       "           0.8980, 0.8667, 0.7373, 0.6039, 0.7490, 0.8235, 0.8000, 0.8196,\n",
       "           0.8706, 0.8941, 0.8824, 0.0000],\n",
       "          [0.3843, 0.9137, 0.7765, 0.8235, 0.8706, 0.8980, 0.8980, 0.9176,\n",
       "           0.9765, 0.8627, 0.7608, 0.8431, 0.8510, 0.9451, 0.2549, 0.2863,\n",
       "           0.4157, 0.4588, 0.6588, 0.8588, 0.8667, 0.8431, 0.8510, 0.8745,\n",
       "           0.8745, 0.8784, 0.8980, 0.1137],\n",
       "          [0.2941, 0.8000, 0.8314, 0.8000, 0.7569, 0.8039, 0.8275, 0.8824,\n",
       "           0.8471, 0.7255, 0.7725, 0.8078, 0.7765, 0.8353, 0.9412, 0.7647,\n",
       "           0.8902, 0.9608, 0.9373, 0.8745, 0.8549, 0.8314, 0.8196, 0.8706,\n",
       "           0.8627, 0.8667, 0.9020, 0.2627],\n",
       "          [0.1882, 0.7961, 0.7176, 0.7608, 0.8353, 0.7725, 0.7255, 0.7451,\n",
       "           0.7608, 0.7529, 0.7922, 0.8392, 0.8588, 0.8667, 0.8627, 0.9255,\n",
       "           0.8824, 0.8471, 0.7804, 0.8078, 0.7294, 0.7098, 0.6941, 0.6745,\n",
       "           0.7098, 0.8039, 0.8078, 0.4510],\n",
       "          [0.0000, 0.4784, 0.8588, 0.7569, 0.7020, 0.6706, 0.7176, 0.7686,\n",
       "           0.8000, 0.8235, 0.8353, 0.8118, 0.8275, 0.8235, 0.7843, 0.7686,\n",
       "           0.7608, 0.7490, 0.7647, 0.7490, 0.7765, 0.7529, 0.6902, 0.6118,\n",
       "           0.6549, 0.6941, 0.8235, 0.3608],\n",
       "          [0.0000, 0.0000, 0.2902, 0.7412, 0.8314, 0.7490, 0.6863, 0.6745,\n",
       "           0.6863, 0.7098, 0.7255, 0.7373, 0.7412, 0.7373, 0.7569, 0.7765,\n",
       "           0.8000, 0.8196, 0.8235, 0.8235, 0.8275, 0.7373, 0.7373, 0.7608,\n",
       "           0.7529, 0.8471, 0.6667, 0.0000],\n",
       "          [0.0078, 0.0000, 0.0000, 0.0000, 0.2588, 0.7843, 0.8706, 0.9294,\n",
       "           0.9373, 0.9490, 0.9647, 0.9529, 0.9569, 0.8667, 0.8627, 0.7569,\n",
       "           0.7490, 0.7020, 0.7137, 0.7137, 0.7098, 0.6902, 0.6510, 0.6588,\n",
       "           0.3882, 0.2275, 0.0000, 0.0000],\n",
       "          [0.0000, 0.0000, 0.0000, 0.0000, 0.0000, 0.0000, 0.0000, 0.1569,\n",
       "           0.2392, 0.1725, 0.2824, 0.1608, 0.1373, 0.0000, 0.0000, 0.0000,\n",
       "           0.0000, 0.0000, 0.0000, 0.0000, 0.0000, 0.0000, 0.0000, 0.0000,\n",
       "           0.0000, 0.0000, 0.0000, 0.0000],\n",
       "          [0.0000, 0.0000, 0.0000, 0.0000, 0.0000, 0.0000, 0.0000, 0.0000,\n",
       "           0.0000, 0.0000, 0.0000, 0.0000, 0.0000, 0.0000, 0.0000, 0.0000,\n",
       "           0.0000, 0.0000, 0.0000, 0.0000, 0.0000, 0.0000, 0.0000, 0.0000,\n",
       "           0.0000, 0.0000, 0.0000, 0.0000],\n",
       "          [0.0000, 0.0000, 0.0000, 0.0000, 0.0000, 0.0000, 0.0000, 0.0000,\n",
       "           0.0000, 0.0000, 0.0000, 0.0000, 0.0000, 0.0000, 0.0000, 0.0000,\n",
       "           0.0000, 0.0000, 0.0000, 0.0000, 0.0000, 0.0000, 0.0000, 0.0000,\n",
       "           0.0000, 0.0000, 0.0000, 0.0000]]]),\n",
       " 9)"
      ]
     },
     "execution_count": 8,
     "metadata": {},
     "output_type": "execute_result"
    }
   ],
   "source": [
    "# See first training sample\n",
    "image, label = train_data[0]\n",
    "image, label"
   ]
  },
  {
   "cell_type": "markdown",
   "id": "9ad9d782-06cb-4591-ae3c-3a8b2389a1b2",
   "metadata": {
    "id": "9ad9d782-06cb-4591-ae3c-3a8b2389a1b2"
   },
   "source": [
    "### 1.1 Input and output shapes of a computer vision model\n",
    "\n",
    "We've got a big tensor of values (the image) leading to a single value for the target (the label).\n",
    "\n",
    "Let's see the image shape."
   ]
  },
  {
   "cell_type": "code",
   "execution_count": 9,
   "id": "c2997d9f-b574-4d23-aa34-1a4df1751226",
   "metadata": {
    "colab": {
     "base_uri": "https://localhost:8080/"
    },
    "id": "c2997d9f-b574-4d23-aa34-1a4df1751226",
    "outputId": "d9c4283b-aab8-410f-dd7f-03f08d943366"
   },
   "outputs": [
    {
     "data": {
      "text/plain": [
       "torch.Size([1, 28, 28])"
      ]
     },
     "execution_count": 9,
     "metadata": {},
     "output_type": "execute_result"
    }
   ],
   "source": [
    "# What's the shape of the image?\n",
    "image.shape"
   ]
  },
  {
   "cell_type": "markdown",
   "id": "b5326a05-f807-448d-99a3-6d03fc8739f8",
   "metadata": {
    "id": "b5326a05-f807-448d-99a3-6d03fc8739f8"
   },
   "source": [
    "The shape of the image tensor is `[1, 28, 28]` or more specifically:\n",
    "\n",
    "```\n",
    "[color_channels=1, height=28, width=28]\n",
    "```\n",
    "\n",
    "Having `color_channels=1` means the image is grayscale.\n",
    "\n",
    "![example input and output shapes of the fashionMNIST problem](https://raw.githubusercontent.com/mrdbourke/pytorch-deep-learning/main/images/03-computer-vision-input-and-output-shapes.png)\n",
    "*Various problems will have various input and output shapes. But the premise remains: encode data into numbers, build a model to find patterns in those numbers, convert those patterns into something meaningful.*\n",
    "\n",
    "If `color_channels=3`, the image comes in pixel values for red, green and blue (this is also known a the [RGB color model](https://en.wikipedia.org/wiki/RGB_color_model)).\n",
    "\n",
    "The order of our current tensor is often referred to as `CHW` (Color Channels, Height, Width).\n",
    "\n",
    "There's debate on whether images should be represented as `CHW` (color channels first) or `HWC` (color channels last).\n",
    "\n",
    "> **Note:** You'll also see `NCHW` and `NHWC` formats where `N` stands for *number of images*. For example if you have a `batch_size=32`, your tensor shape may be `[32, 1, 28, 28]`. We'll cover batch sizes later.\n",
    "\n",
    "PyTorch generally accepts `NCHW` (channels first) as the default for many operators.\n",
    "\n",
    "However, PyTorch also explains that `NHWC` (channels last) performs better and is [considered best practice](https://pytorch.org/blog/tensor-memory-format-matters/#pytorch-best-practice). \n",
    "\n",
    "For now, since our dataset and models are relatively small, this won't make too much of a difference.\n",
    "\n",
    "But keep it in mind for when you're working on larger image datasets and using convolutional neural networks (we'll see these later).\n",
    "\n",
    "Let's check out more shapes of our data."
   ]
  },
  {
   "cell_type": "code",
   "execution_count": 10,
   "id": "fc4f768c-c3f6-454d-a633-673ad1d6eca0",
   "metadata": {
    "colab": {
     "base_uri": "https://localhost:8080/"
    },
    "id": "fc4f768c-c3f6-454d-a633-673ad1d6eca0",
    "outputId": "fcac1ff4-5b9a-4459-a05e-77482f0e6776"
   },
   "outputs": [
    {
     "data": {
      "text/plain": [
       "(60000, 60000, 10000, 10000)"
      ]
     },
     "execution_count": 10,
     "metadata": {},
     "output_type": "execute_result"
    }
   ],
   "source": [
    "# How many samples are there? \n",
    "len(train_data.data), len(train_data.targets), len(test_data.data), len(test_data.targets)"
   ]
  },
  {
   "cell_type": "markdown",
   "id": "6e0267d5-946b-4c53-af69-61acd3527972",
   "metadata": {
    "id": "6e0267d5-946b-4c53-af69-61acd3527972"
   },
   "source": [
    "So we've got 60,000 training samples and 10,000 testing samples.\n",
    "\n",
    "What classes are there?\n",
    "\n",
    "We can find these via the `.classes` attribute."
   ]
  },
  {
   "cell_type": "code",
   "execution_count": 11,
   "id": "e22849c6-d93f-4b38-8403-5ebf0deaf008",
   "metadata": {
    "colab": {
     "base_uri": "https://localhost:8080/"
    },
    "id": "e22849c6-d93f-4b38-8403-5ebf0deaf008",
    "outputId": "6e18aa0f-b8a0-45ee-9f4e-8931bcdfbec0"
   },
   "outputs": [
    {
     "data": {
      "text/plain": [
       "['T-shirt/top',\n",
       " 'Trouser',\n",
       " 'Pullover',\n",
       " 'Dress',\n",
       " 'Coat',\n",
       " 'Sandal',\n",
       " 'Shirt',\n",
       " 'Sneaker',\n",
       " 'Bag',\n",
       " 'Ankle boot']"
      ]
     },
     "execution_count": 11,
     "metadata": {},
     "output_type": "execute_result"
    }
   ],
   "source": [
    "# See classes\n",
    "class_names = train_data.classes\n",
    "class_names"
   ]
  },
  {
   "cell_type": "markdown",
   "id": "abdd225c-5742-4d9c-8e8d-fb30a9c3cb6e",
   "metadata": {
    "id": "abdd225c-5742-4d9c-8e8d-fb30a9c3cb6e"
   },
   "source": [
    "Sweet! It looks like we're dealing with 10 different kinds of clothes.\n",
    "\n",
    "Because we're working with 10 different classes, it means our problem is **multi-class classification**.\n",
    "\n",
    "Let's get visual."
   ]
  },
  {
   "cell_type": "markdown",
   "id": "fb625d80-6a98-471e-a758-4de0ce0f3a64",
   "metadata": {
    "id": "fb625d80-6a98-471e-a758-4de0ce0f3a64"
   },
   "source": [
    "### 1.2 Visualizing our data"
   ]
  },
  {
   "cell_type": "code",
   "execution_count": 12,
   "id": "b1df1f2c-28c9-43bf-aaef-cf996c9ae1c5",
   "metadata": {
    "colab": {
     "base_uri": "https://localhost:8080/",
     "height": 469
    },
    "id": "b1df1f2c-28c9-43bf-aaef-cf996c9ae1c5",
    "outputId": "9bbdbb0d-eed3-408a-bd7b-03aa22cb35bb"
   },
   "outputs": [
    {
     "name": "stdout",
     "output_type": "stream",
     "text": [
      "Image shape: torch.Size([1, 28, 28])\n"
     ]
    },
    {
     "data": {
      "image/png": "[encoded data removed]",
      "text/plain": [
       "<Figure size 640x480 with 1 Axes>"
      ]
     },
     "metadata": {},
     "output_type": "display_data"
    }
   ],
   "source": [
    "import matplotlib.pyplot as plt\n",
    "image, label = train_data[0]\n",
    "print(f\"Image shape: {image.shape}\")\n",
    "plt.imshow(image.squeeze()) # image shape is [1, 28, 28] (colour channels, height, width)\n",
    "plt.title(label);"
   ]
  },
  {
   "cell_type": "markdown",
   "id": "adb19c5c-2f2b-4aaf-8300-256f3594e2db",
   "metadata": {
    "id": "adb19c5c-2f2b-4aaf-8300-256f3594e2db"
   },
   "source": [
    "We can turn the image into grayscale using the `cmap` parameter of `plt.imshow()`."
   ]
  },
  {
   "cell_type": "code",
   "execution_count": 13,
   "id": "92f09917-88f7-4446-b65f-baae586914c9",
   "metadata": {
    "colab": {
     "base_uri": "https://localhost:8080/",
     "height": 452
    },
    "id": "92f09917-88f7-4446-b65f-baae586914c9",
    "outputId": "c702456b-607c-4214-8e03-4bd0b22b097f"
   },
   "outputs": [
    {
     "data": {
      "image/png": "[encoded data removed]",
      "text/plain": [
       "<Figure size 640x480 with 1 Axes>"
      ]
     },
     "metadata": {},
     "output_type": "display_data"
    }
   ],
   "source": [
    "plt.imshow(image.squeeze(), cmap=\"gray\")\n",
    "plt.title(class_names[label]);"
   ]
  },
  {
   "cell_type": "markdown",
   "id": "9a09388a-d754-485f-aa26-4e7a0f782967",
   "metadata": {
    "id": "9a09388a-d754-485f-aa26-4e7a0f782967"
   },
   "source": [
    "Beautiful, well as beautiful as a pixelated grayscale ankle boot can get.\n",
    "\n",
    "Let's view a few more."
   ]
  },
  {
   "cell_type": "code",
   "execution_count": 14,
   "id": "7188ed7a-5959-48c4-ac7f-19129a2adc83",
   "metadata": {
    "colab": {
     "base_uri": "https://localhost:8080/",
     "height": 752
    },
    "id": "7188ed7a-5959-48c4-ac7f-19129a2adc83",
    "outputId": "98d50938-b984-4725-8949-d85bf3143555"
   },
   "outputs": [
    {
     "data": {
      "image/png": "[encoded data removed]",
      "text/plain": [
       "<Figure size 900x900 with 16 Axes>"
      ]
     },
     "metadata": {},
     "output_type": "display_data"
    }
   ],
   "source": [
    "# Plot more images\n",
    "torch.manual_seed(42)\n",
    "fig = plt.figure(figsize=(9, 9))\n",
    "rows, cols = 4, 4\n",
    "for i in range(1, rows * cols + 1):\n",
    "    random_idx = torch.randint(0, len(train_data), size=[1]).item()\n",
    "    img, label = train_data[random_idx]\n",
    "    fig.add_subplot(rows, cols, i)\n",
    "    plt.imshow(img.squeeze(), cmap=\"gray\")\n",
    "    plt.title(class_names[label])\n",
    "    plt.axis(False);"
   ]
  },
  {
   "cell_type": "markdown",
   "id": "f356fbe9-95b1-4f81-a82d-dc15b3adc06a",
   "metadata": {
    "id": "f356fbe9-95b1-4f81-a82d-dc15b3adc06a"
   },
   "source": [
    "Hmmm, this dataset doesn't look too aesthetic.\n",
    "\n",
    "But the principles we're going to learn on how to build a model for it will be similar across a wide range of computer vision problems.\n",
    "\n",
    "In essence, taking pixel values and building a model to find patterns in them to use on future pixel values.\n",
    "\n",
    "Plus, even for this small dataset (yes, even 60,000 images in deep learning is considered quite small), could you write a program to classify each one of them?\n",
    "\n",
    "You probably could.\n",
    "\n",
    "But I think coding a model in PyTorch would be faster.\n",
    "\n",
    "> **Question:** Do you think the above data can be model with only straight (linear) lines? Or do you think you'd also need non-straight (non-linear) lines?"
   ]
  },
  {
   "cell_type": "markdown",
   "id": "43cdd23d-bd1f-4e8c-ba20-22d2b6ac14b1",
   "metadata": {
    "id": "43cdd23d-bd1f-4e8c-ba20-22d2b6ac14b1"
   },
   "source": [
    "## 2. Prepare DataLoader\n",
    "\n",
    "Now we've got a dataset ready to go.\n",
    "\n",
    "The next step is to prepare it with a [`torch.utils.data.DataLoader`](https://pytorch.org/docs/stable/data.html#torch.utils.data.Dataset) or `DataLoader` for short.\n",
    "\n",
    "The `DataLoader` does what you think it might do.\n",
    "\n",
    "It helps load data into a model.\n",
    "\n",
    "For training and for inference.\n",
    "\n",
    "It turns a large `Dataset` into a Python iterable of smaller chunks.\n",
    "\n",
    "These smaller chunks are called **batches** or **mini-batches** and can be set by the `batch_size` parameter.\n",
    "\n",
    "Why do this?\n",
    "\n",
    "Because it's more computationally efficient.\n",
    "\n",
    "In an ideal world you could do the forward pass and backward pass across all of your data at once.\n",
    "\n",
    "But once you start using really large datasets, unless you've got infinite computing power, it's easier to break them up into batches.\n",
    "\n",
    "It also gives your model more opportunities to improve.\n",
    "\n",
    "With **mini-batches** (small portions of the data), gradient descent is performed more often per epoch (once per mini-batch rather than once per epoch).\n",
    "\n",
    "What's a good batch size?\n",
    "\n",
    "[32 is a good place to start](https://twitter.com/ylecun/status/989610208497360896?s=20&t=N96J_jotN--PYuJk2WcjMw) for a fair amount of problems.\n",
    "\n",
    "But since this is a value you can set (a **hyperparameter**) you can try all different kinds of values, though generally powers of 2 are used most often (e.g. 32, 64, 128, 256, 512).\n",
    "\n",
    "![an example of what a batched dataset looks like](https://raw.githubusercontent.com/mrdbourke/pytorch-deep-learning/main/images/03-batching-fashionmnist.png)\n",
    "*Batching FashionMNIST with a batch size of 32 and shuffle turned on. A similar batching process will occur for other datasets but will differ depending on the batch size.*\n",
    "\n",
    "Let's create `DataLoader`'s for our training and test sets. "
   ]
  },
  {
   "cell_type": "code",
   "execution_count": 15,
   "id": "bb2dbf90-a326-43cb-b25b-71af142fafeb",
   "metadata": {
    "colab": {
     "base_uri": "https://localhost:8080/"
    },
    "id": "bb2dbf90-a326-43cb-b25b-71af142fafeb",
    "outputId": "1f563408-3f50-4e8c-a15f-53e2f918b1ac"
   },
   "outputs": [
    {
     "name": "stdout",
     "output_type": "stream",
     "text": [
      "Dataloaders: (<torch.utils.data.dataloader.DataLoader object at 0x000001EB2536FFD0>, <torch.utils.data.dataloader.DataLoader object at 0x000001EB254E0550>)\n",
      "Length of train dataloader: 1875 batches of 32\n",
      "Length of test dataloader: 313 batches of 32\n"
     ]
    }
   ],
   "source": [
    "from torch.utils.data import DataLoader\n",
    "\n",
    "# Setup the batch size hyperparameter\n",
    "BATCH_SIZE = 32\n",
    "\n",
    "# Turn datasets into iterables (batches)\n",
    "train_dataloader = DataLoader(train_data, # dataset to turn into iterable\n",
    "    batch_size=BATCH_SIZE, # how many samples per batch? \n",
    "    shuffle=True # shuffle data every epoch?\n",
    ")\n",
    "\n",
    "test_dataloader = DataLoader(test_data,\n",
    "    batch_size=BATCH_SIZE,\n",
    "    shuffle=False # don't necessarily have to shuffle the testing data\n",
    ")\n",
    "\n",
    "# Let's check out what we've created\n",
    "print(f\"Dataloaders: {train_dataloader, test_dataloader}\") \n",
    "print(f\"Length of train dataloader: {len(train_dataloader)} batches of {BATCH_SIZE}\")\n",
    "print(f\"Length of test dataloader: {len(test_dataloader)} batches of {BATCH_SIZE}\")"
   ]
  },
  {
   "cell_type": "code",
   "execution_count": 16,
   "id": "7a925ee7-484b-4149-be8f-3ad790172a5f",
   "metadata": {
    "colab": {
     "base_uri": "https://localhost:8080/"
    },
    "id": "7a925ee7-484b-4149-be8f-3ad790172a5f",
    "outputId": "85815bd7-39e9-44ed-b974-9e30fff5b5ad"
   },
   "outputs": [
    {
     "data": {
      "text/plain": [
       "(torch.Size([32, 1, 28, 28]), torch.Size([32]))"
      ]
     },
     "execution_count": 16,
     "metadata": {},
     "output_type": "execute_result"
    }
   ],
   "source": [
    "# Check out what's inside the training dataloader\n",
    "train_features_batch, train_labels_batch = next(iter(train_dataloader))\n",
    "train_features_batch.shape, train_labels_batch.shape"
   ]
  },
  {
   "cell_type": "markdown",
   "id": "4fee4cf8-ab73-4c81-8e5e-3c81691e799c",
   "metadata": {
    "id": "4fee4cf8-ab73-4c81-8e5e-3c81691e799c"
   },
   "source": [
    "And we can see that the data remains unchanged by checking a single sample. "
   ]
  },
  {
   "cell_type": "code",
   "execution_count": 17,
   "id": "c863d66a-49be-43be-84dc-372a5d6fc2c2",
   "metadata": {
    "colab": {
     "base_uri": "https://localhost:8080/",
     "height": 463
    },
    "id": "c863d66a-49be-43be-84dc-372a5d6fc2c2",
    "outputId": "1052cbcb-6186-4dfe-b5f0-6968bde9fb21"
   },
   "outputs": [
    {
     "name": "stdout",
     "output_type": "stream",
     "text": [
      "Image size: torch.Size([1, 28, 28])\n",
      "Label: 6, label size: torch.Size([])\n"
     ]
    },
    {
     "data": {
      "image/png": "[encoded data removed]",
      "text/plain": [
       "<Figure size 640x480 with 1 Axes>"
      ]
     },
     "metadata": {},
     "output_type": "display_data"
    }
   ],
   "source": [
    "# Show a sample\n",
    "torch.manual_seed(42)\n",
    "random_idx = torch.randint(0, len(train_features_batch), size=[1]).item()\n",
    "img, label = train_features_batch[random_idx], train_labels_batch[random_idx]\n",
    "plt.imshow(img.squeeze(), cmap=\"gray\")\n",
    "plt.title(class_names[label])\n",
    "plt.axis(\"Off\");\n",
    "print(f\"Image size: {img.shape}\")\n",
    "print(f\"Label: {label}, label size: {label.shape}\")"
   ]
  },
  {
   "cell_type": "markdown",
   "id": "db1695cf-f53d-4c7c-ad39-dfed76533125",
   "metadata": {
    "id": "db1695cf-f53d-4c7c-ad39-dfed76533125"
   },
   "source": [
    "## 3. Model 0: Build a baseline model\n",
    "\n",
    "Data loaded and prepared!\n",
    "\n",
    "Time to build a **baseline model** by subclassing `nn.Module`.\n",
    "\n",
    "A **baseline model** is one of the simplest models you can imagine.\n",
    "\n",
    "You use the baseline as a starting point and try to improve upon it with subsequent, more complicated models.\n",
    "\n",
    "Our baseline will consist of two [`nn.Linear()`](https://pytorch.org/docs/stable/generated/torch.nn.Linear.html) layers.\n",
    "\n",
    "We've done this in a previous section but there's going to one slight difference.\n",
    "\n",
    "Because we're working with image data, we're going to use a different layer to start things off.\n",
    "\n",
    "And that's the [`nn.Flatten()`](https://pytorch.org/docs/stable/generated/torch.nn.Flatten.html) layer.\n",
    "\n",
    "`nn.Flatten()` compresses the dimensions of a tensor into a single vector.\n",
    "\n",
    "This is easier to understand when you see it."
   ]
  },
  {
   "cell_type": "code",
   "execution_count": 18,
   "id": "405319f1-f242-4bd9-90f5-3abdc50782ac",
   "metadata": {
    "colab": {
     "base_uri": "https://localhost:8080/"
    },
    "id": "405319f1-f242-4bd9-90f5-3abdc50782ac",
    "outputId": "742cd0fe-c95f-4201-a469-f12733625784"
   },
   "outputs": [
    {
     "name": "stdout",
     "output_type": "stream",
     "text": [
      "Shape before flattening: torch.Size([1, 28, 28]) -> [color_channels, height, width]\n",
      "Shape after flattening: torch.Size([1, 784]) -> [color_channels, height*width]\n"
     ]
    }
   ],
   "source": [
    "# Create a flatten layer\n",
    "flatten_model = nn.Flatten() # all nn modules function as a model (can do a forward pass)\n",
    "\n",
    "# Get a single sample\n",
    "x = train_features_batch[0]\n",
    "\n",
    "# Flatten the sample\n",
    "output = flatten_model(x) # perform forward pass\n",
    "\n",
    "# Print out what happened\n",
    "print(f\"Shape before flattening: {x.shape} -> [color_channels, height, width]\")\n",
    "print(f\"Shape after flattening: {output.shape} -> [color_channels, height*width]\")\n",
    "\n",
    "# Try uncommenting below and see what happens\n",
    "#print(x)\n",
    "#print(output)"
   ]
  },
  {
   "cell_type": "markdown",
   "id": "86bb7806-fca6-45af-8111-3e00e38f5be9",
   "metadata": {
    "id": "86bb7806-fca6-45af-8111-3e00e38f5be9"
   },
   "source": [
    "The `nn.Flatten()` layer took our shape from `[color_channels, height, width]` to `[color_channels, height*width]`.\n",
    "\n",
    "Why do this?\n",
    "\n",
    "Because we've now turned our pixel data from height and width dimensions into one long **feature vector**.\n",
    "\n",
    "And `nn.Linear()` layers like their inputs to be in the form of feature vectors.\n",
    "\n",
    "Let's create our first model using `nn.Flatten()` as the first layer. "
   ]
  },
  {
   "cell_type": "code",
   "execution_count": 19,
   "id": "1449f427-6859-41ae-8133-50b58ffbce72",
   "metadata": {
    "id": "1449f427-6859-41ae-8133-50b58ffbce72"
   },
   "outputs": [],
   "source": [
    "from torch import nn\n",
    "class FashionMNISTModelV0(nn.Module):\n",
    "    def __init__(self, input_shape: int, hidden_units: int, output_shape: int):\n",
    "        super().__init__()\n",
    "        self.layer_stack = nn.Sequential(\n",
    "            nn.Flatten(), # neural networks like their inputs in vector form\n",
    "            nn.Linear(in_features=input_shape, out_features=hidden_units), # in_features = number of features in a data sample (784 pixels)\n",
    "            nn.Linear(in_features=hidden_units, out_features=output_shape)\n",
    "        )\n",
    "    \n",
    "    def forward(self, x):\n",
    "        return self.layer_stack(x)"
   ]
  },
  {
   "cell_type": "markdown",
   "id": "4d1b50bf-d00b-485c-be00-b3e4de156fab",
   "metadata": {
    "id": "4d1b50bf-d00b-485c-be00-b3e4de156fab"
   },
   "source": [
    "Wonderful!\n",
    "\n",
    "We've got a baseline model class we can use, now let's instantiate a model.\n",
    "\n",
    "We'll need to set the following parameters:\n",
    "* `input_shape=784` - this is how many features you've got going in the model, in our case, it's one for every pixel in the target image (28 pixels high by 28 pixels wide = 784 features).\n",
    "* `hidden_units=10` - number of units/neurons in the hidden layer(s), this number could be whatever you want but to keep the model small we'll start with `10`.\n",
    "* `output_shape=len(class_names)` - since we're working with a multi-class classification problem, we need an output neuron per class in our dataset.\n",
    "\n",
    "Let's create an instance of our model and send to the CPU for now (we'll run a small test for running `model_0` on CPU vs. a similar model on GPU soon)."
   ]
  },
  {
   "cell_type": "code",
   "execution_count": 20,
   "id": "dd18384a-76f9-4b5a-a013-fda077f16865",
   "metadata": {
    "colab": {
     "base_uri": "https://localhost:8080/"
    },
    "id": "dd18384a-76f9-4b5a-a013-fda077f16865",
    "outputId": "e4b63839-d012-40db-a7f7-967a146fe566"
   },
   "outputs": [
    {
     "data": {
      "text/plain": [
       "FashionMNISTModelV0(\n",
       "  (layer_stack): Sequential(\n",
       "    (0): Flatten(start_dim=1, end_dim=-1)\n",
       "    (1): Linear(in_features=784, out_features=10, bias=True)\n",
       "    (2): Linear(in_features=10, out_features=10, bias=True)\n",
       "  )\n",
       ")"
      ]
     },
     "execution_count": 20,
     "metadata": {},
     "output_type": "execute_result"
    }
   ],
   "source": [
    "torch.manual_seed(42)\n",
    "\n",
    "# Need to setup model with input parameters\n",
    "model_0 = FashionMNISTModelV0(input_shape=784, # one for every pixel (28x28)\n",
    "    hidden_units=10, # how many units in the hiden layer\n",
    "    output_shape=len(class_names) # one for every class\n",
    ")\n",
    "model_0.to(\"cpu\") # keep model on CPU to begin with "
   ]
  },
  {
   "cell_type": "markdown",
   "id": "03243179-1cdc-45d9-8b8c-82538ac02e9c",
   "metadata": {
    "id": "03243179-1cdc-45d9-8b8c-82538ac02e9c"
   },
   "source": [
    "### 3.1 Setup loss, optimizer and evaluation metrics\n",
    "\n",
    "Since we're working on a classification problem, let's bring in our [`helper_functions.py` script](https://github.com/mrdbourke/pytorch-deep-learning/blob/main/helper_functions.py) and subsequently the `accuracy_fn()` we defined in [notebook 02](https://www.learnpytorch.io/02_pytorch_classification/).\n",
    "\n",
    "> **Note:** Rather than importing and using our own accuracy function or evaluation metric(s), you could import various evaluation metrics from the [TorchMetrics package](https://torchmetrics.readthedocs.io/en/latest/)."
   ]
  },
  {
   "cell_type": "code",
   "execution_count": 21,
   "id": "31c91f17-d810-46a4-97c3-c734f93430b1",
   "metadata": {
    "colab": {
     "base_uri": "https://localhost:8080/"
    },
    "id": "31c91f17-d810-46a4-97c3-c734f93430b1",
    "outputId": "d2333811-f5fa-426f-90a7-c884fe2493df"
   },
   "outputs": [
    {
     "name": "stdout",
     "output_type": "stream",
     "text": [
      "helper_functions.py already exists, skipping download\n"
     ]
    }
   ],
   "source": [
    "import requests\n",
    "from pathlib import Path \n",
    "\n",
    "# Download helper functions from Learn PyTorch repo (if not already downloaded)\n",
    "if Path(\"helper_functions.py\").is_file():\n",
    "  print(\"helper_functions.py already exists, skipping download\")\n",
    "else:\n",
    "  print(\"Downloading helper_functions.py\")\n",
    "  # Note: you need the \"raw\" GitHub URL for this to work\n",
    "  request = requests.get(\"https://raw.githubusercontent.com/mrdbourke/pytorch-deep-learning/main/helper_functions.py\")\n",
    "  with open(\"helper_functions.py\", \"wb\") as f:\n",
    "    f.write(request.content)"
   ]
  },
  {
   "cell_type": "code",
   "execution_count": 22,
   "id": "ce3d13b8-f018-4b44-8bba-375074dc4c5f",
   "metadata": {
    "id": "ce3d13b8-f018-4b44-8bba-375074dc4c5f"
   },
   "outputs": [],
   "source": [
    "# Import accuracy metric\n",
    "from helper_functions import accuracy_fn # Note: could also use torchmetrics.Accuracy(task = 'multiclass', num_classes=len(class_names)).to(device)\n",
    "\n",
    "# Setup loss function and optimizer\n",
    "loss_fn = nn.CrossEntropyLoss() # this is also called \"criterion\"/\"cost function\" in some places\n",
    "optimizer = torch.optim.SGD(params=model_0.parameters(), lr=0.1)"
   ]
  },
  {
   "cell_type": "markdown",
   "id": "4109f867-83f2-4394-a925-8acdc63ccffe",
   "metadata": {
    "id": "4109f867-83f2-4394-a925-8acdc63ccffe"
   },
   "source": [
    "### 3.2 Creating a function to time our experiments\n",
    "\n",
    "Loss function and optimizer ready!\n",
    "\n",
    "It's time to start training a model.\n",
    "\n",
    "But how about we do a little experiment while we train.\n",
    "\n",
    "I mean, let's make a timing function to measure the time it takes our model to train on CPU versus using a GPU.\n",
    "\n",
    "We'll train this model on the CPU but the next one on the GPU and see what happens.\n",
    "\n",
    "Our timing function will import the [`timeit.default_timer()` function](https://docs.python.org/3/library/timeit.html#timeit.default_timer) from the Python [`timeit` module](https://docs.python.org/3/library/timeit.html)."
   ]
  },
  {
   "cell_type": "code",
   "execution_count": 23,
   "id": "31adc3fe-ce90-4b4e-b0d4-3613abae5714",
   "metadata": {
    "id": "31adc3fe-ce90-4b4e-b0d4-3613abae5714"
   },
   "outputs": [],
   "source": [
    "from timeit import default_timer as timer \n",
    "def print_train_time(start: float, end: float, device: torch.device = None):\n",
    "    \"\"\"Prints difference between start and end time.\n",
    "\n",
    "    Args:\n",
    "        start (float): Start time of computation (preferred in timeit format). \n",
    "        end (float): End time of computation.\n",
    "        device ([type], optional): Device that compute is running on. Defaults to None.\n",
    "\n",
    "    Returns:\n",
    "        float: time between start and end in seconds (higher is longer).\n",
    "    \"\"\"\n",
    "    total_time = end - start\n",
    "    print(f\"Train time on {device}: {total_time:.3f} seconds\")\n",
    "    return total_time"
   ]
  },
  {
   "cell_type": "markdown",
   "id": "07b9560e-f5dc-45d6-b3b2-ddae17a71b34",
   "metadata": {
    "id": "07b9560e-f5dc-45d6-b3b2-ddae17a71b34"
   },
   "source": [
    "### 3.3 Creating a training loop and training a model on batches of data\n",
    "\n",
    "Beautiful!\n",
    "\n",
    "Looks like we've got all of the pieces of the puzzle ready to go, a timer, a loss function, an optimizer, a model and most importantly, some data.\n",
    "\n",
    "Let's now create a training loop and a testing loop to train and evaluate our model.\n",
    "\n",
    "We'll be using the same steps as the previous notebook(s), though since our data is now in batch form, we'll add another loop to loop through our data batches.\n",
    "\n",
    "Our data batches are contained within our `DataLoader`s, `train_dataloader` and `test_dataloader` for the training and test data splits respectively.\n",
    "\n",
    "A batch is `BATCH_SIZE` samples of `X` (features) and `y` (labels), since we're using `BATCH_SIZE=32`, our batches have 32 samples of images and targets.\n",
    "\n",
    "And since we're computing on batches of data, our loss and evaluation metrics will be calculated **per batch** rather than across the whole dataset.\n",
    "\n",
    "This means we'll have to divide our loss and accuracy values by the number of batches in each dataset's respective dataloader. \n",
    "\n",
    "Let's step through it: \n",
    "1. Loop through epochs.\n",
    "2. Loop through training batches, perform training steps, calculate the train loss *per batch*.\n",
    "3. Loop through testing batches, perform testing steps, calculate the test loss *per batch*.\n",
    "4. Print out what's happening.\n",
    "5. Time it all (for fun).\n",
    "\n",
    "A fair few steps but...\n",
    "\n",
    "...if in doubt, code it out. "
   ]
  },
  {
   "cell_type": "code",
   "execution_count": 24,
   "id": "c07bbf10-81e3-47f0-990d-9a4a838276ab",
   "metadata": {
    "colab": {
     "base_uri": "https://localhost:8080/",
     "height": 587,
     "referenced_widgets": [
      "0bd8f8b5ff4d4b50b03e3a65cc1446f0",
      "430d171cfd584196ad0fa3e1cd0a286c",
      "618fb3cf63a94da9ad5f29a3d9a87ac3",
      "3524e24faad44aa38926b40b2d590f6b",
      "c01ca4def9224135ad367b6f8dbbae62",
      "decc1966e6a84973839efc0c65f51790",
      "39fc424b6cef4e98a80a342f530be99b",
      "e929063168354b018bbf0bb45fdfef1f",
      "d62646457b284fcb8aeac382b77eb942",
      "5c0883aa74f94568850741dad118cb88",
      "e44697d8dd41492e8619a860b3911e19"
     ]
    },
    "id": "c07bbf10-81e3-47f0-990d-9a4a838276ab",
    "outputId": "3fb70da8-1a65-42bb-a684-85f0d1dd11c0"
   },
   "outputs": [
    {
     "name": "stderr",
     "output_type": "stream",
     "text": [
      "  0%|          | 0/3 [00:00<?, ?it/s]"
     ]
    },
    {
     "name": "stdout",
     "output_type": "stream",
     "text": [
      "Epoch: 0\n",
      "-------\n",
      "Looked at 0/60000 samples\n",
      "Looked at 12800/60000 samples\n",
      "Looked at 25600/60000 samples\n",
      "Looked at 38400/60000 samples\n",
      "Looked at 51200/60000 samples\n"
     ]
    },
    {
     "name": "stderr",
     "output_type": "stream",
     "text": [
      " 33%|███▎      | 1/3 [00:09<00:19,  9.84s/it]"
     ]
    },
    {
     "name": "stdout",
     "output_type": "stream",
     "text": [
      "\n",
      "Train loss: 0.59039 | Test loss: 0.50954, Test acc: 82.04%\n",
      "\n",
      "Epoch: 1\n",
      "-------\n",
      "Looked at 0/60000 samples\n",
      "Looked at 12800/60000 samples\n",
      "Looked at 25600/60000 samples\n",
      "Looked at 38400/60000 samples\n",
      "Looked at 51200/60000 samples\n"
     ]
    },
    {
     "name": "stderr",
     "output_type": "stream",
     "text": [
      " 67%|██████▋   | 2/3 [00:19<00:09,  9.81s/it]"
     ]
    },
    {
     "name": "stdout",
     "output_type": "stream",
     "text": [
      "\n",
      "Train loss: 0.47633 | Test loss: 0.47989, Test acc: 83.20%\n",
      "\n",
      "Epoch: 2\n",
      "-------\n",
      "Looked at 0/60000 samples\n",
      "Looked at 12800/60000 samples\n",
      "Looked at 25600/60000 samples\n",
      "Looked at 38400/60000 samples\n",
      "Looked at 51200/60000 samples\n"
     ]
    },
    {
     "name": "stderr",
     "output_type": "stream",
     "text": [
      "100%|██████████| 3/3 [00:29<00:00,  9.78s/it]"
     ]
    },
    {
     "name": "stdout",
     "output_type": "stream",
     "text": [
      "\n",
      "Train loss: 0.45503 | Test loss: 0.47664, Test acc: 83.43%\n",
      "\n",
      "Train time on cpu: 29.342 seconds\n"
     ]
    },
    {
     "name": "stderr",
     "output_type": "stream",
     "text": [
      "\n"
     ]
    }
   ],
   "source": [
    "# Import tqdm for progress bar\n",
    "from tqdm.auto import tqdm\n",
    "\n",
    "# Set the seed and start the timer\n",
    "torch.manual_seed(42)\n",
    "train_time_start_on_cpu = timer()\n",
    "\n",
    "# Set the number of epochs (we'll keep this small for faster training times)\n",
    "epochs = 3\n",
    "\n",
    "# Create training and testing loop\n",
    "for epoch in tqdm(range(epochs)):\n",
    "    print(f\"Epoch: {epoch}\\n-------\")\n",
    "    ### Training\n",
    "    train_loss = 0\n",
    "    # Add a loop to loop through training batches\n",
    "    for batch, (X, y) in enumerate(train_dataloader):\n",
    "        model_0.train() \n",
    "        # 1. Forward pass\n",
    "        y_pred = model_0(X)\n",
    "\n",
    "        # 2. Calculate loss (per batch)\n",
    "        loss = loss_fn(y_pred, y)\n",
    "        train_loss += loss # accumulatively add up the loss per epoch \n",
    "\n",
    "        # 3. Optimizer zero grad\n",
    "        optimizer.zero_grad()\n",
    "\n",
    "        # 4. Loss backward\n",
    "        loss.backward()\n",
    "\n",
    "        # 5. Optimizer step\n",
    "        optimizer.step()\n",
    "\n",
    "        # Print out how many samples have been seen\n",
    "        if batch % 400 == 0:\n",
    "            print(f\"Looked at {batch * len(X)}/{len(train_dataloader.dataset)} samples\")\n",
    "\n",
    "    # Divide total train loss by length of train dataloader (average loss per batch per epoch)\n",
    "    train_loss /= len(train_dataloader)\n",
    "    \n",
    "    ### Testing\n",
    "    # Setup variables for accumulatively adding up loss and accuracy \n",
    "    test_loss, test_acc = 0, 0 \n",
    "    model_0.eval()\n",
    "    with torch.inference_mode():\n",
    "        for X, y in test_dataloader:\n",
    "            # 1. Forward pass\n",
    "            test_pred = model_0(X)\n",
    "           \n",
    "            # 2. Calculate loss (accumatively)\n",
    "            test_loss += loss_fn(test_pred, y) # accumulatively add up the loss per epoch\n",
    "\n",
    "            # 3. Calculate accuracy (preds need to be same as y_true)\n",
    "            test_acc += accuracy_fn(y_true=y, y_pred=test_pred.argmax(dim=1))\n",
    "        \n",
    "        # Calculations on test metrics need to happen inside torch.inference_mode()\n",
    "        # Divide total test loss by length of test dataloader (per batch)\n",
    "        test_loss /= len(test_dataloader)\n",
    "\n",
    "        # Divide total accuracy by length of test dataloader (per batch)\n",
    "        test_acc /= len(test_dataloader)\n",
    "\n",
    "    ## Print out what's happening\n",
    "    print(f\"\\nTrain loss: {train_loss:.5f} | Test loss: {test_loss:.5f}, Test acc: {test_acc:.2f}%\\n\")\n",
    "\n",
    "# Calculate training time      \n",
    "train_time_end_on_cpu = timer()\n",
    "total_train_time_model_0 = print_train_time(start=train_time_start_on_cpu, \n",
    "                                           end=train_time_end_on_cpu,\n",
    "                                           device=str(next(model_0.parameters()).device))"
   ]
  },
  {
   "cell_type": "markdown",
   "id": "7b02a939-a3a1-4a9d-bb9d-62928def2ded",
   "metadata": {
    "id": "7b02a939-a3a1-4a9d-bb9d-62928def2ded"
   },
   "source": [
    "Nice! Looks like our baseline model did fairly well.\n",
    "\n",
    "It didn't take too long to train either, even just on the CPU, I wonder if it'll speed up on the GPU?\n",
    "\n",
    "Let's write some code to evaluate our model."
   ]
  },
  {
   "cell_type": "markdown",
   "id": "7442511b-bfe9-4ec7-9f5b-9c808f8e560b",
   "metadata": {
    "id": "7442511b-bfe9-4ec7-9f5b-9c808f8e560b"
   },
   "source": [
    "## 4. Make predictions and get Model 0 results\n",
    "\n",
    "Since we're going to be building a few models, it's a good idea to write some code to evaluate them all in similar ways.\n",
    "\n",
    "Namely, let's create a function that takes in a trained model, a `DataLoader`, a loss function and an accuracy function.\n",
    "\n",
    "The function will use the model to make predictions on the data in the `DataLoader` and then we can evaluate those predictions using the loss function and accuracy function."
   ]
  },
  {
   "cell_type": "code",
   "execution_count": 25,
   "id": "8317dd04-9de2-4fd7-97bd-1e202621397d",
   "metadata": {
    "colab": {
     "base_uri": "https://localhost:8080/"
    },
    "id": "8317dd04-9de2-4fd7-97bd-1e202621397d",
    "outputId": "7132105e-6f51-43d3-efa7-f0231a21addc"
   },
   "outputs": [
    {
     "data": {
      "text/plain": [
       "{'model_name': 'FashionMNISTModelV0',\n",
       " 'model_loss': 0.47663894295692444,\n",
       " 'model_acc': 83.42651757188499}"
      ]
     },
     "execution_count": 25,
     "metadata": {},
     "output_type": "execute_result"
    }
   ],
   "source": [
    "torch.manual_seed(42)\n",
    "def eval_model(model: torch.nn.Module, \n",
    "               data_loader: torch.utils.data.DataLoader, \n",
    "               loss_fn: torch.nn.Module, \n",
    "               accuracy_fn):\n",
    "    \"\"\"Returns a dictionary containing the results of model predicting on data_loader.\n",
    "\n",
    "    Args:\n",
    "        model (torch.nn.Module): A PyTorch model capable of making predictions on data_loader.\n",
    "        data_loader (torch.utils.data.DataLoader): The target dataset to predict on.\n",
    "        loss_fn (torch.nn.Module): The loss function of model.\n",
    "        accuracy_fn: An accuracy function to compare the models predictions to the truth labels.\n",
    "\n",
    "    Returns:\n",
    "        (dict): Results of model making predictions on data_loader.\n",
    "    \"\"\"\n",
    "    loss, acc = 0, 0\n",
    "    model.eval()\n",
    "    with torch.inference_mode():\n",
    "        for X, y in data_loader:\n",
    "            # Make predictions with the model\n",
    "            y_pred = model(X)\n",
    "            \n",
    "            # Accumulate the loss and accuracy values per batch\n",
    "            loss += loss_fn(y_pred, y)\n",
    "            acc += accuracy_fn(y_true=y, \n",
    "                                y_pred=y_pred.argmax(dim=1)) # For accuracy, need the prediction labels (logits -> pred_prob -> pred_labels)\n",
    "        \n",
    "        # Scale loss and acc to find the average loss/acc per batch\n",
    "        loss /= len(data_loader)\n",
    "        acc /= len(data_loader)\n",
    "        \n",
    "    return {\"model_name\": model.__class__.__name__, # only works when model was created with a class\n",
    "            \"model_loss\": loss.item(),\n",
    "            \"model_acc\": acc}\n",
    "\n",
    "# Calculate model 0 results on test dataset\n",
    "model_0_results = eval_model(model=model_0, data_loader=test_dataloader,\n",
    "    loss_fn=loss_fn, accuracy_fn=accuracy_fn\n",
    ")\n",
    "model_0_results"
   ]
  },
  {
   "cell_type": "markdown",
   "id": "a39c3042-1262-4d1f-b33e-c8e2ba6781d3",
   "metadata": {
    "id": "a39c3042-1262-4d1f-b33e-c8e2ba6781d3"
   },
   "source": [
    "Looking good!\n",
    "\n",
    "We can use this dictionary to compare the baseline model results to other models later on."
   ]
  },
  {
   "cell_type": "markdown",
   "id": "3b76784d-4cdb-43d2-a6da-8e4da9a812a9",
   "metadata": {
    "id": "3b76784d-4cdb-43d2-a6da-8e4da9a812a9"
   },
   "source": [
    "## 5. Setup device agnostic-code (for using a GPU if there is one)\n",
    "We've seen how long it takes to train ma PyTorch model on 60,000 samples on CPU.\n",
    "\n",
    "> **Note:** Model training time is dependent on hardware used. Generally, more processors means faster training and smaller models on smaller datasets will often train faster than large models and large datasets.\n",
    "\n",
    "Now let's setup some [device-agnostic code](https://pytorch.org/docs/stable/notes/cuda.html#best-practices) for our models and data to run on GPU if it's available.\n",
    "\n",
    "If you're running this notebook on Google Colab, and you don't a GPU turned on yet, it's now time to turn one on via `Runtime -> Change runtime type -> Hardware accelerator -> GPU`. If you do this, your runtime will likely reset and you'll have to run all of the cells above by going `Runtime -> Run before`."
   ]
  },
  {
   "cell_type": "code",
   "execution_count": 26,
   "id": "17b69fe9-f974-4538-922c-20c5cc8220cc",
   "metadata": {
    "colab": {
     "base_uri": "https://localhost:8080/",
     "height": 35
    },
    "id": "17b69fe9-f974-4538-922c-20c5cc8220cc",
    "outputId": "10c3b74b-4db7-4a30-8c3a-5a259d1f54b8"
   },
   "outputs": [
    {
     "data": {
      "text/plain": [
       "'cuda'"
      ]
     },
     "execution_count": 26,
     "metadata": {},
     "output_type": "execute_result"
    }
   ],
   "source": [
    "# Setup device agnostic code\n",
    "import torch\n",
    "device = \"cuda\" if torch.cuda.is_available() else \"cpu\"\n",
    "device"
   ]
  },
  {
   "cell_type": "markdown",
   "id": "514021a8-d6f2-47f3-ab50-55f844e42310",
   "metadata": {
    "id": "514021a8-d6f2-47f3-ab50-55f844e42310"
   },
   "source": [
    "Beautiful!\n",
    "\n",
    "Let's build another model."
   ]
  },
  {
   "cell_type": "markdown",
   "id": "d7893907-5f82-4c5e-8fde-fa542a9f25af",
   "metadata": {
    "id": "d7893907-5f82-4c5e-8fde-fa542a9f25af"
   },
   "source": [
    "## 6. Model 1: Building a better model with non-linearity\n",
    "\n",
    "We learned about [the power of non-linearity in notebook 02](https://www.learnpytorch.io/02_pytorch_classification/#6-the-missing-piece-non-linearity).\n",
    "\n",
    "Seeing the data we've been working with, do you think it needs non-linear functions?\n",
    "\n",
    "And remember, linear means straight and non-linear means non-straight.\n",
    "\n",
    "Let's find out.\n",
    "\n",
    "We'll do so by recreating a similar model to before, except this time we'll put non-linear functions (`nn.ReLU()`) in between each linear layer."
   ]
  },
  {
   "cell_type": "code",
   "execution_count": 27,
   "id": "2ccce5f2-b1e5-47a6-a7f3-6bc096b35ffb",
   "metadata": {
    "id": "2ccce5f2-b1e5-47a6-a7f3-6bc096b35ffb"
   },
   "outputs": [],
   "source": [
    "# Create a model with non-linear and linear layers\n",
    "class FashionMNISTModelV1(nn.Module):\n",
    "    def __init__(self, input_shape: int, hidden_units: int, output_shape: int):\n",
    "        super().__init__()\n",
    "        self.layer_stack = nn.Sequential(\n",
    "            nn.Flatten(), # flatten inputs into single vector\n",
    "            nn.Linear(in_features=input_shape, out_features=hidden_units),\n",
    "            nn.ReLU(),\n",
    "            nn.Linear(in_features=hidden_units, out_features=output_shape),\n",
    "            nn.ReLU()\n",
    "        )\n",
    "    \n",
    "    def forward(self, x: torch.Tensor):\n",
    "        return self.layer_stack(x)"
   ]
  },
  {
   "cell_type": "markdown",
   "id": "4b4b7a2f-4834-4aa1-a8e2-b6e3e2b49224",
   "metadata": {
    "id": "4b4b7a2f-4834-4aa1-a8e2-b6e3e2b49224"
   },
   "source": [
    "That looks good.\n",
    "\n",
    "Now let's instantiate it with the same settings we used before.\n",
    "\n",
    "We'll need `input_shape=784` (equal to the number of features of our image data), `hidden_units=10` (starting small and the same as our baseline model) and `output_shape=len(class_names)` (one output unit per class).\n",
    "\n",
    "> **Note:** Notice how we kept most of the settings of our model the same except for one change: adding non-linear layers. This is a standard practice for running a series of machine learning experiments, change one thing and see what happens, then do it again, again, again."
   ]
  },
  {
   "cell_type": "code",
   "execution_count": 28,
   "id": "907091ec-7e46-470b-a305-788a3009b837",
   "metadata": {
    "colab": {
     "base_uri": "https://localhost:8080/"
    },
    "id": "907091ec-7e46-470b-a305-788a3009b837",
    "outputId": "4cecd2df-2918-4368-fa33-7aea8f958d8f"
   },
   "outputs": [
    {
     "data": {
      "text/plain": [
       "device(type='cuda', index=0)"
      ]
     },
     "execution_count": 28,
     "metadata": {},
     "output_type": "execute_result"
    }
   ],
   "source": [
    "torch.manual_seed(42)\n",
    "model_1 = FashionMNISTModelV1(input_shape=784, # number of input features\n",
    "    hidden_units=10,\n",
    "    output_shape=len(class_names) # number of output classes desired\n",
    ").to(device) # send model to GPU if it's available\n",
    "next(model_1.parameters()).device # check model device"
   ]
  },
  {
   "cell_type": "markdown",
   "id": "b54a4e9d-a7ad-404c-920f-485fcff18a92",
   "metadata": {
    "id": "b54a4e9d-a7ad-404c-920f-485fcff18a92"
   },
   "source": [
    "### 6.1 Setup loss, optimizer and evaluation metrics\n",
    "\n",
    "As usual, we'll setup a loss function, an optimizer and an evaluation metric (we could do multiple evaluation metrics but we'll stick with accuracy for now)."
   ]
  },
  {
   "cell_type": "code",
   "execution_count": 29,
   "id": "fe7e463b-d46c-4f00-853c-fdf0a28d74c8",
   "metadata": {
    "id": "fe7e463b-d46c-4f00-853c-fdf0a28d74c8"
   },
   "outputs": [],
   "source": [
    "from helper_functions import accuracy_fn\n",
    "loss_fn = nn.CrossEntropyLoss()\n",
    "optimizer = torch.optim.SGD(params=model_1.parameters(), \n",
    "                            lr=0.1)"
   ]
  },
  {
   "cell_type": "markdown",
   "id": "1eb30af6-a355-49a2-a59f-25169fd27a6e",
   "metadata": {
    "id": "1eb30af6-a355-49a2-a59f-25169fd27a6e"
   },
   "source": [
    "### 6.2 Functionizing training and test loops\n",
    "\n",
    "So far we've been writing train and test loops over and over. \n",
    "\n",
    "Let's write them again but this time we'll put them in functions so they can be called again and again.\n",
    "\n",
    "And because we're using device-agnostic code now, we'll be sure to call `.to(device)` on our feature (`X`) and target (`y`) tensors.\n",
    "\n",
    "For the training loop we'll create a function called `train_step()` which takes in a model, a `DataLoader` a loss function and an optimizer.\n",
    "\n",
    "The testing loop will be similar but it'll be called `test_step()` and it'll take in a model, a `DataLoader`, a loss function and an evaluation function.\n",
    "\n",
    "> **Note:** Since these are functions, you can customize them in any way you like. What we're making here can be considered barebones training and testing functions for our specific classification use case."
   ]
  },
  {
   "cell_type": "code",
   "execution_count": 30,
   "id": "3d239ed2-4028-4603-8db3-ffca2b727819",
   "metadata": {
    "id": "3d239ed2-4028-4603-8db3-ffca2b727819"
   },
   "outputs": [],
   "source": [
    "def train_step(model: torch.nn.Module,\n",
    "               data_loader: torch.utils.data.DataLoader,\n",
    "               loss_fn: torch.nn.Module,\n",
    "               optimizer: torch.optim.Optimizer,\n",
    "               accuracy_fn,\n",
    "               device: torch.device = device):\n",
    "    train_loss, train_acc = 0, 0\n",
    "    model.to(device)\n",
    "    for batch, (X, y) in enumerate(data_loader):\n",
    "        # Send data to GPU\n",
    "        X, y = X.to(device), y.to(device)\n",
    "\n",
    "        # 1. Forward pass\n",
    "        y_pred = model(X)\n",
    "\n",
    "        # 2. Calculate loss\n",
    "        loss = loss_fn(y_pred, y)\n",
    "        train_loss += loss\n",
    "        train_acc += accuracy_fn(y_true=y,\n",
    "                                 y_pred=y_pred.argmax(dim=1)) # Go from logits -> pred labels\n",
    "\n",
    "        # 3. Optimizer zero grad\n",
    "        optimizer.zero_grad()\n",
    "\n",
    "        # 4. Loss backward\n",
    "        loss.backward()\n",
    "\n",
    "        # 5. Optimizer step\n",
    "        optimizer.step()\n",
    "\n",
    "    # Calculate loss and accuracy per epoch and print out what's happening\n",
    "    train_loss /= len(data_loader)\n",
    "    train_acc /= len(data_loader)\n",
    "    print(f\"Train loss: {train_loss:.5f} | Train accuracy: {train_acc:.2f}%\")\n",
    "\n",
    "def test_step(data_loader: torch.utils.data.DataLoader,\n",
    "              model: torch.nn.Module,\n",
    "              loss_fn: torch.nn.Module,\n",
    "              accuracy_fn,\n",
    "              device: torch.device = device):\n",
    "    test_loss, test_acc = 0, 0\n",
    "    model.to(device)\n",
    "    model.eval() # put model in eval mode\n",
    "    # Turn on inference context manager\n",
    "    with torch.inference_mode(): \n",
    "        for X, y in data_loader:\n",
    "            # Send data to GPU\n",
    "            X, y = X.to(device), y.to(device)\n",
    "            \n",
    "            # 1. Forward pass\n",
    "            test_pred = model(X)\n",
    "            \n",
    "            # 2. Calculate loss and accuracy\n",
    "            test_loss += loss_fn(test_pred, y)\n",
    "            test_acc += accuracy_fn(y_true=y,\n",
    "                y_pred=test_pred.argmax(dim=1) # Go from logits -> pred labels\n",
    "            )\n",
    "        \n",
    "        # Adjust metrics and print out\n",
    "        test_loss /= len(data_loader)\n",
    "        test_acc /= len(data_loader)\n",
    "        print(f\"Test loss: {test_loss:.5f} | Test accuracy: {test_acc:.2f}%\\n\")"
   ]
  },
  {
   "cell_type": "markdown",
   "id": "e44121b6-c4be-4909-9175-dc9bd8dc6273",
   "metadata": {
    "id": "e44121b6-c4be-4909-9175-dc9bd8dc6273"
   },
   "source": [
    "Woohoo!\n",
    "\n",
    "Now we've got some functions for training and testing our model, let's run them.\n",
    "\n",
    "We'll do so inside another loop for each epoch.\n",
    "\n",
    "That way for each epoch we're going a training and a testing step.\n",
    "\n",
    "> **Note:** You can customize how often you do a testing step. Sometimes people do them every five epochs or 10 epochs or in our case, every epoch.\n",
    "\n",
    "Let's also time things to see how long our code takes to run on the GPU."
   ]
  },
  {
   "cell_type": "code",
   "execution_count": 31,
   "id": "2bb8094b-01a0-4b84-9526-ba8888d04901",
   "metadata": {
    "colab": {
     "base_uri": "https://localhost:8080/",
     "height": 327,
     "referenced_widgets": [
      "3ee8f4a32dae40a2954869aa28d511af",
      "9bdbfed6aaa64648ac9624541a719134",
      "a7e31e6725a0417495bb5d8d9bb0eedb",
      "8a07bf3a83cf44b09ebec23372699dd4",
      "4da7f6dcecfc44928a784709a2f85c67",
      "85241944b82749bda4b5b6ff50f484b2",
      "b139c87d10be44229d2f65d356912c25",
      "b684374f8a3c41cb887142dd2c4a0c94",
      "325e5b7b95db4289b3ee1bd6dbfc4a6c",
      "987db9e4bab746ff9d393aa1409cf628",
      "dd5dcc8d0c424965ba5a329efbf725cc"
     ]
    },
    "id": "2bb8094b-01a0-4b84-9526-ba8888d04901",
    "outputId": "83769d2d-6f3b-4704-e443-cfc4ef52cc81"
   },
   "outputs": [
    {
     "name": "stderr",
     "output_type": "stream",
     "text": [
      "  0%|          | 0/3 [00:00<?, ?it/s]"
     ]
    },
    {
     "name": "stdout",
     "output_type": "stream",
     "text": [
      "Epoch: 0\n",
      "---------\n",
      "Train loss: 1.09199 | Train accuracy: 61.34%\n"
     ]
    },
    {
     "name": "stderr",
     "output_type": "stream",
     "text": [
      " 33%|███▎      | 1/3 [00:12<00:25, 12.64s/it]"
     ]
    },
    {
     "name": "stdout",
     "output_type": "stream",
     "text": [
      "Test loss: 0.95636 | Test accuracy: 65.00%\n",
      "\n",
      "Epoch: 1\n",
      "---------\n",
      "Train loss: 0.78101 | Train accuracy: 71.93%\n"
     ]
    },
    {
     "name": "stderr",
     "output_type": "stream",
     "text": [
      " 67%|██████▋   | 2/3 [00:26<00:13, 13.31s/it]"
     ]
    },
    {
     "name": "stdout",
     "output_type": "stream",
     "text": [
      "Test loss: 0.72227 | Test accuracy: 73.91%\n",
      "\n",
      "Epoch: 2\n",
      "---------\n",
      "Train loss: 0.67027 | Train accuracy: 75.94%\n"
     ]
    },
    {
     "name": "stderr",
     "output_type": "stream",
     "text": [
      "100%|██████████| 3/3 [00:40<00:00, 13.36s/it]"
     ]
    },
    {
     "name": "stdout",
     "output_type": "stream",
     "text": [
      "Test loss: 0.68500 | Test accuracy: 75.02%\n",
      "\n",
      "Train time on cuda: 40.067 seconds\n"
     ]
    },
    {
     "name": "stderr",
     "output_type": "stream",
     "text": [
      "\n"
     ]
    }
   ],
   "source": [
    "torch.manual_seed(42)\n",
    "\n",
    "# Measure time\n",
    "from timeit import default_timer as timer\n",
    "train_time_start_on_gpu = timer()\n",
    "\n",
    "epochs = 3\n",
    "for epoch in tqdm(range(epochs)):\n",
    "    print(f\"Epoch: {epoch}\\n---------\")\n",
    "    train_step(data_loader=train_dataloader, \n",
    "        model=model_1, \n",
    "        loss_fn=loss_fn,\n",
    "        optimizer=optimizer,\n",
    "        accuracy_fn=accuracy_fn\n",
    "    )\n",
    "    test_step(data_loader=test_dataloader,\n",
    "        model=model_1,\n",
    "        loss_fn=loss_fn,\n",
    "        accuracy_fn=accuracy_fn\n",
    "    )\n",
    "\n",
    "train_time_end_on_gpu = timer()\n",
    "total_train_time_model_1 = print_train_time(start=train_time_start_on_gpu,\n",
    "                                            end=train_time_end_on_gpu,\n",
    "                                            device=device)"
   ]
  },
  {
   "cell_type": "markdown",
   "id": "719b8eb9-9a7f-42ed-a49f-5eedc6fdd720",
   "metadata": {
    "id": "719b8eb9-9a7f-42ed-a49f-5eedc6fdd720"
   },
   "source": [
    "Excellent!\n",
    "\n",
    "Our model trained but the training time took longer?\n",
    "\n",
    "> **Note:** The training time on CUDA vs CPU will depend largely on the quality of the CPU/GPU you're using. Read on for a more explained answer.\n",
    "\n",
    "> **Question:** \"I used a a GPU but my model didn't train faster, why might that be?\"\n",
    ">\n",
    "> **Answer:** Well, one reason could be because your dataset and model are both so small (like the dataset and model we're working with) the benefits of using a GPU are outweighed by the time it actually takes to transfer the data there.\n",
    "> \n",
    "> There's a small bottleneck between copying data from the CPU memory (default) to the GPU memory.\n",
    ">\n",
    "> So for smaller models and datasets, the CPU might actually be the optimal place to compute on.\n",
    ">\n",
    "> But for larger datasets and models, the speed of computing the GPU can offer usually far outweighs the cost of getting the data there.\n",
    ">\n",
    "> However, this is largely dependant on the hardware you're using. With practice, you will get used to where the best place to train your models is. \n",
    "\n",
    "Let's evaluate our trained `model_1` using our `eval_model()` function and see how it went."
   ]
  },
  {
   "cell_type": "code",
   "execution_count": 32,
   "id": "32a544e3-9dbe-4aa1-b074-22e28b8f2f2a",
   "metadata": {
    "colab": {
     "base_uri": "https://localhost:8080/",
     "height": 381
    },
    "id": "32a544e3-9dbe-4aa1-b074-22e28b8f2f2a",
    "outputId": "bab29648-1e35-4f01-9efe-fa4d2030cddb"
   },
   "outputs": [
    {
     "ename": "RuntimeError",
     "evalue": "Expected all tensors to be on the same device, but found at least two devices, cuda:0 and cpu! (when checking argument for argument mat1 in method wrapper_CUDA_addmm)",
     "output_type": "error",
     "traceback": [
      "\u001b[1;31m---------------------------------------------------------------------------\u001b[0m",
      "\u001b[1;31mRuntimeError\u001b[0m                              Traceback (most recent call last)",
      "Cell \u001b[1;32mIn[32], line 4\u001b[0m\n\u001b[0;32m      1\u001b[0m torch\u001b[38;5;241m.\u001b[39mmanual_seed(\u001b[38;5;241m42\u001b[39m)\n\u001b[0;32m      3\u001b[0m \u001b[38;5;66;03m# Note: This will error due to `eval_model()` not using device agnostic code \u001b[39;00m\n\u001b[1;32m----> 4\u001b[0m model_1_results \u001b[38;5;241m=\u001b[39m eval_model(model\u001b[38;5;241m=\u001b[39mmodel_1, \n\u001b[0;32m      5\u001b[0m     data_loader\u001b[38;5;241m=\u001b[39mtest_dataloader,\n\u001b[0;32m      6\u001b[0m     loss_fn\u001b[38;5;241m=\u001b[39mloss_fn, \n\u001b[0;32m      7\u001b[0m     accuracy_fn\u001b[38;5;241m=\u001b[39maccuracy_fn) \n\u001b[0;32m      8\u001b[0m model_1_results\n",
      "Cell \u001b[1;32mIn[25], line 22\u001b[0m, in \u001b[0;36meval_model\u001b[1;34m(model, data_loader, loss_fn, accuracy_fn)\u001b[0m\n\u001b[0;32m     19\u001b[0m \u001b[38;5;28;01mwith\u001b[39;00m torch\u001b[38;5;241m.\u001b[39minference_mode():\n\u001b[0;32m     20\u001b[0m     \u001b[38;5;28;01mfor\u001b[39;00m X, y \u001b[38;5;129;01min\u001b[39;00m data_loader:\n\u001b[0;32m     21\u001b[0m         \u001b[38;5;66;03m# Make predictions with the model\u001b[39;00m\n\u001b[1;32m---> 22\u001b[0m         y_pred \u001b[38;5;241m=\u001b[39m model(X)\n\u001b[0;32m     24\u001b[0m         \u001b[38;5;66;03m# Accumulate the loss and accuracy values per batch\u001b[39;00m\n\u001b[0;32m     25\u001b[0m         loss \u001b[38;5;241m+\u001b[39m\u001b[38;5;241m=\u001b[39m loss_fn(y_pred, y)\n",
      "File \u001b[1;32mc:\\Users\\Tiger\\anaconda3\\envs\\py311Udemy\\Lib\\site-packages\\torch\\nn\\modules\\module.py:1532\u001b[0m, in \u001b[0;36mModule._wrapped_call_impl\u001b[1;34m(self, *args, **kwargs)\u001b[0m\n\u001b[0;32m   1530\u001b[0m     \u001b[38;5;28;01mreturn\u001b[39;00m \u001b[38;5;28mself\u001b[39m\u001b[38;5;241m.\u001b[39m_compiled_call_impl(\u001b[38;5;241m*\u001b[39margs, \u001b[38;5;241m*\u001b[39m\u001b[38;5;241m*\u001b[39mkwargs)  \u001b[38;5;66;03m# type: ignore[misc]\u001b[39;00m\n\u001b[0;32m   1531\u001b[0m \u001b[38;5;28;01melse\u001b[39;00m:\n\u001b[1;32m-> 1532\u001b[0m     \u001b[38;5;28;01mreturn\u001b[39;00m \u001b[38;5;28mself\u001b[39m\u001b[38;5;241m.\u001b[39m_call_impl(\u001b[38;5;241m*\u001b[39margs, \u001b[38;5;241m*\u001b[39m\u001b[38;5;241m*\u001b[39mkwargs)\n",
      "File \u001b[1;32mc:\\Users\\Tiger\\anaconda3\\envs\\py311Udemy\\Lib\\site-packages\\torch\\nn\\modules\\module.py:1541\u001b[0m, in \u001b[0;36mModule._call_impl\u001b[1;34m(self, *args, **kwargs)\u001b[0m\n\u001b[0;32m   1536\u001b[0m \u001b[38;5;66;03m# If we don't have any hooks, we want to skip the rest of the logic in\u001b[39;00m\n\u001b[0;32m   1537\u001b[0m \u001b[38;5;66;03m# this function, and just call forward.\u001b[39;00m\n\u001b[0;32m   1538\u001b[0m \u001b[38;5;28;01mif\u001b[39;00m \u001b[38;5;129;01mnot\u001b[39;00m (\u001b[38;5;28mself\u001b[39m\u001b[38;5;241m.\u001b[39m_backward_hooks \u001b[38;5;129;01mor\u001b[39;00m \u001b[38;5;28mself\u001b[39m\u001b[38;5;241m.\u001b[39m_backward_pre_hooks \u001b[38;5;129;01mor\u001b[39;00m \u001b[38;5;28mself\u001b[39m\u001b[38;5;241m.\u001b[39m_forward_hooks \u001b[38;5;129;01mor\u001b[39;00m \u001b[38;5;28mself\u001b[39m\u001b[38;5;241m.\u001b[39m_forward_pre_hooks\n\u001b[0;32m   1539\u001b[0m         \u001b[38;5;129;01mor\u001b[39;00m _global_backward_pre_hooks \u001b[38;5;129;01mor\u001b[39;00m _global_backward_hooks\n\u001b[0;32m   1540\u001b[0m         \u001b[38;5;129;01mor\u001b[39;00m _global_forward_hooks \u001b[38;5;129;01mor\u001b[39;00m _global_forward_pre_hooks):\n\u001b[1;32m-> 1541\u001b[0m     \u001b[38;5;28;01mreturn\u001b[39;00m forward_call(\u001b[38;5;241m*\u001b[39margs, \u001b[38;5;241m*\u001b[39m\u001b[38;5;241m*\u001b[39mkwargs)\n\u001b[0;32m   1543\u001b[0m \u001b[38;5;28;01mtry\u001b[39;00m:\n\u001b[0;32m   1544\u001b[0m     result \u001b[38;5;241m=\u001b[39m \u001b[38;5;28;01mNone\u001b[39;00m\n",
      "Cell \u001b[1;32mIn[27], line 14\u001b[0m, in \u001b[0;36mFashionMNISTModelV1.forward\u001b[1;34m(self, x)\u001b[0m\n\u001b[0;32m     13\u001b[0m \u001b[38;5;28;01mdef\u001b[39;00m \u001b[38;5;21mforward\u001b[39m(\u001b[38;5;28mself\u001b[39m, x: torch\u001b[38;5;241m.\u001b[39mTensor):\n\u001b[1;32m---> 14\u001b[0m     \u001b[38;5;28;01mreturn\u001b[39;00m \u001b[38;5;28mself\u001b[39m\u001b[38;5;241m.\u001b[39mlayer_stack(x)\n",
      "File \u001b[1;32mc:\\Users\\Tiger\\anaconda3\\envs\\py311Udemy\\Lib\\site-packages\\torch\\nn\\modules\\module.py:1532\u001b[0m, in \u001b[0;36mModule._wrapped_call_impl\u001b[1;34m(self, *args, **kwargs)\u001b[0m\n\u001b[0;32m   1530\u001b[0m     \u001b[38;5;28;01mreturn\u001b[39;00m \u001b[38;5;28mself\u001b[39m\u001b[38;5;241m.\u001b[39m_compiled_call_impl(\u001b[38;5;241m*\u001b[39margs, \u001b[38;5;241m*\u001b[39m\u001b[38;5;241m*\u001b[39mkwargs)  \u001b[38;5;66;03m# type: ignore[misc]\u001b[39;00m\n\u001b[0;32m   1531\u001b[0m \u001b[38;5;28;01melse\u001b[39;00m:\n\u001b[1;32m-> 1532\u001b[0m     \u001b[38;5;28;01mreturn\u001b[39;00m \u001b[38;5;28mself\u001b[39m\u001b[38;5;241m.\u001b[39m_call_impl(\u001b[38;5;241m*\u001b[39margs, \u001b[38;5;241m*\u001b[39m\u001b[38;5;241m*\u001b[39mkwargs)\n",
      "File \u001b[1;32mc:\\Users\\Tiger\\anaconda3\\envs\\py311Udemy\\Lib\\site-packages\\torch\\nn\\modules\\module.py:1541\u001b[0m, in \u001b[0;36mModule._call_impl\u001b[1;34m(self, *args, **kwargs)\u001b[0m\n\u001b[0;32m   1536\u001b[0m \u001b[38;5;66;03m# If we don't have any hooks, we want to skip the rest of the logic in\u001b[39;00m\n\u001b[0;32m   1537\u001b[0m \u001b[38;5;66;03m# this function, and just call forward.\u001b[39;00m\n\u001b[0;32m   1538\u001b[0m \u001b[38;5;28;01mif\u001b[39;00m \u001b[38;5;129;01mnot\u001b[39;00m (\u001b[38;5;28mself\u001b[39m\u001b[38;5;241m.\u001b[39m_backward_hooks \u001b[38;5;129;01mor\u001b[39;00m \u001b[38;5;28mself\u001b[39m\u001b[38;5;241m.\u001b[39m_backward_pre_hooks \u001b[38;5;129;01mor\u001b[39;00m \u001b[38;5;28mself\u001b[39m\u001b[38;5;241m.\u001b[39m_forward_hooks \u001b[38;5;129;01mor\u001b[39;00m \u001b[38;5;28mself\u001b[39m\u001b[38;5;241m.\u001b[39m_forward_pre_hooks\n\u001b[0;32m   1539\u001b[0m         \u001b[38;5;129;01mor\u001b[39;00m _global_backward_pre_hooks \u001b[38;5;129;01mor\u001b[39;00m _global_backward_hooks\n\u001b[0;32m   1540\u001b[0m         \u001b[38;5;129;01mor\u001b[39;00m _global_forward_hooks \u001b[38;5;129;01mor\u001b[39;00m _global_forward_pre_hooks):\n\u001b[1;32m-> 1541\u001b[0m     \u001b[38;5;28;01mreturn\u001b[39;00m forward_call(\u001b[38;5;241m*\u001b[39margs, \u001b[38;5;241m*\u001b[39m\u001b[38;5;241m*\u001b[39mkwargs)\n\u001b[0;32m   1543\u001b[0m \u001b[38;5;28;01mtry\u001b[39;00m:\n\u001b[0;32m   1544\u001b[0m     result \u001b[38;5;241m=\u001b[39m \u001b[38;5;28;01mNone\u001b[39;00m\n",
      "File \u001b[1;32mc:\\Users\\Tiger\\anaconda3\\envs\\py311Udemy\\Lib\\site-packages\\torch\\nn\\modules\\container.py:217\u001b[0m, in \u001b[0;36mSequential.forward\u001b[1;34m(self, input)\u001b[0m\n\u001b[0;32m    215\u001b[0m \u001b[38;5;28;01mdef\u001b[39;00m \u001b[38;5;21mforward\u001b[39m(\u001b[38;5;28mself\u001b[39m, \u001b[38;5;28minput\u001b[39m):\n\u001b[0;32m    216\u001b[0m     \u001b[38;5;28;01mfor\u001b[39;00m module \u001b[38;5;129;01min\u001b[39;00m \u001b[38;5;28mself\u001b[39m:\n\u001b[1;32m--> 217\u001b[0m         \u001b[38;5;28minput\u001b[39m \u001b[38;5;241m=\u001b[39m module(\u001b[38;5;28minput\u001b[39m)\n\u001b[0;32m    218\u001b[0m     \u001b[38;5;28;01mreturn\u001b[39;00m \u001b[38;5;28minput\u001b[39m\n",
      "File \u001b[1;32mc:\\Users\\Tiger\\anaconda3\\envs\\py311Udemy\\Lib\\site-packages\\torch\\nn\\modules\\module.py:1532\u001b[0m, in \u001b[0;36mModule._wrapped_call_impl\u001b[1;34m(self, *args, **kwargs)\u001b[0m\n\u001b[0;32m   1530\u001b[0m     \u001b[38;5;28;01mreturn\u001b[39;00m \u001b[38;5;28mself\u001b[39m\u001b[38;5;241m.\u001b[39m_compiled_call_impl(\u001b[38;5;241m*\u001b[39margs, \u001b[38;5;241m*\u001b[39m\u001b[38;5;241m*\u001b[39mkwargs)  \u001b[38;5;66;03m# type: ignore[misc]\u001b[39;00m\n\u001b[0;32m   1531\u001b[0m \u001b[38;5;28;01melse\u001b[39;00m:\n\u001b[1;32m-> 1532\u001b[0m     \u001b[38;5;28;01mreturn\u001b[39;00m \u001b[38;5;28mself\u001b[39m\u001b[38;5;241m.\u001b[39m_call_impl(\u001b[38;5;241m*\u001b[39margs, \u001b[38;5;241m*\u001b[39m\u001b[38;5;241m*\u001b[39mkwargs)\n",
      "File \u001b[1;32mc:\\Users\\Tiger\\anaconda3\\envs\\py311Udemy\\Lib\\site-packages\\torch\\nn\\modules\\module.py:1541\u001b[0m, in \u001b[0;36mModule._call_impl\u001b[1;34m(self, *args, **kwargs)\u001b[0m\n\u001b[0;32m   1536\u001b[0m \u001b[38;5;66;03m# If we don't have any hooks, we want to skip the rest of the logic in\u001b[39;00m\n\u001b[0;32m   1537\u001b[0m \u001b[38;5;66;03m# this function, and just call forward.\u001b[39;00m\n\u001b[0;32m   1538\u001b[0m \u001b[38;5;28;01mif\u001b[39;00m \u001b[38;5;129;01mnot\u001b[39;00m (\u001b[38;5;28mself\u001b[39m\u001b[38;5;241m.\u001b[39m_backward_hooks \u001b[38;5;129;01mor\u001b[39;00m \u001b[38;5;28mself\u001b[39m\u001b[38;5;241m.\u001b[39m_backward_pre_hooks \u001b[38;5;129;01mor\u001b[39;00m \u001b[38;5;28mself\u001b[39m\u001b[38;5;241m.\u001b[39m_forward_hooks \u001b[38;5;129;01mor\u001b[39;00m \u001b[38;5;28mself\u001b[39m\u001b[38;5;241m.\u001b[39m_forward_pre_hooks\n\u001b[0;32m   1539\u001b[0m         \u001b[38;5;129;01mor\u001b[39;00m _global_backward_pre_hooks \u001b[38;5;129;01mor\u001b[39;00m _global_backward_hooks\n\u001b[0;32m   1540\u001b[0m         \u001b[38;5;129;01mor\u001b[39;00m _global_forward_hooks \u001b[38;5;129;01mor\u001b[39;00m _global_forward_pre_hooks):\n\u001b[1;32m-> 1541\u001b[0m     \u001b[38;5;28;01mreturn\u001b[39;00m forward_call(\u001b[38;5;241m*\u001b[39margs, \u001b[38;5;241m*\u001b[39m\u001b[38;5;241m*\u001b[39mkwargs)\n\u001b[0;32m   1543\u001b[0m \u001b[38;5;28;01mtry\u001b[39;00m:\n\u001b[0;32m   1544\u001b[0m     result \u001b[38;5;241m=\u001b[39m \u001b[38;5;28;01mNone\u001b[39;00m\n",
      "File \u001b[1;32mc:\\Users\\Tiger\\anaconda3\\envs\\py311Udemy\\Lib\\site-packages\\torch\\nn\\modules\\linear.py:116\u001b[0m, in \u001b[0;36mLinear.forward\u001b[1;34m(self, input)\u001b[0m\n\u001b[0;32m    115\u001b[0m \u001b[38;5;28;01mdef\u001b[39;00m \u001b[38;5;21mforward\u001b[39m(\u001b[38;5;28mself\u001b[39m, \u001b[38;5;28minput\u001b[39m: Tensor) \u001b[38;5;241m-\u001b[39m\u001b[38;5;241m>\u001b[39m Tensor:\n\u001b[1;32m--> 116\u001b[0m     \u001b[38;5;28;01mreturn\u001b[39;00m F\u001b[38;5;241m.\u001b[39mlinear(\u001b[38;5;28minput\u001b[39m, \u001b[38;5;28mself\u001b[39m\u001b[38;5;241m.\u001b[39mweight, \u001b[38;5;28mself\u001b[39m\u001b[38;5;241m.\u001b[39mbias)\n",
      "\u001b[1;31mRuntimeError\u001b[0m: Expected all tensors to be on the same device, but found at least two devices, cuda:0 and cpu! (when checking argument for argument mat1 in method wrapper_CUDA_addmm)"
     ]
    }
   ],
   "source": [
    "torch.manual_seed(42)\n",
    "\n",
    "# Note: This will error due to `eval_model()` not using device agnostic code \n",
    "model_1_results = eval_model(model=model_1, \n",
    "    data_loader=test_dataloader,\n",
    "    loss_fn=loss_fn, \n",
    "    accuracy_fn=accuracy_fn) \n",
    "model_1_results "
   ]
  },
  {
   "cell_type": "markdown",
   "id": "6a3481a5-489d-4db9-ac95-c3ce385978b7",
   "metadata": {
    "id": "6a3481a5-489d-4db9-ac95-c3ce385978b7"
   },
   "source": [
    "Oh no! \n",
    "\n",
    "It looks like our `eval_model()` function errors out with:\n",
    "\n",
    "> `RuntimeError: Expected all tensors to be on the same device, but found at least two devices, cuda:0 and cpu! (when checking argument for argument mat1 in method wrapper_addmm)`\n",
    "\n",
    "It's because we've setup our data and model to use device-agnostic code but not our evaluation function.\n",
    "\n",
    "How about we fix that by passing a target `device` parameter to our `eval_model()` function?\n",
    "\n",
    "Then we'll try calculating the results again."
   ]
  },
  {
   "cell_type": "code",
   "execution_count": 33,
   "id": "f3665d99-1adc-4d9f-bfc6-e5601a80691c",
   "metadata": {
    "colab": {
     "base_uri": "https://localhost:8080/"
    },
    "id": "f3665d99-1adc-4d9f-bfc6-e5601a80691c",
    "outputId": "05312922-d30b-4c09-9989-963a4a579bf8"
   },
   "outputs": [
    {
     "data": {
      "text/plain": [
       "{'model_name': 'FashionMNISTModelV1',\n",
       " 'model_loss': 0.6850008964538574,\n",
       " 'model_acc': 75.01996805111821}"
      ]
     },
     "execution_count": 33,
     "metadata": {},
     "output_type": "execute_result"
    }
   ],
   "source": [
    "# Move values to device\n",
    "torch.manual_seed(42)\n",
    "def eval_model(model: torch.nn.Module, \n",
    "               data_loader: torch.utils.data.DataLoader, \n",
    "               loss_fn: torch.nn.Module, \n",
    "               accuracy_fn, \n",
    "               device: torch.device = device):\n",
    "    \"\"\"Evaluates a given model on a given dataset.\n",
    "\n",
    "    Args:\n",
    "        model (torch.nn.Module): A PyTorch model capable of making predictions on data_loader.\n",
    "        data_loader (torch.utils.data.DataLoader): The target dataset to predict on.\n",
    "        loss_fn (torch.nn.Module): The loss function of model.\n",
    "        accuracy_fn: An accuracy function to compare the models predictions to the truth labels.\n",
    "        device (str, optional): Target device to compute on. Defaults to device.\n",
    "\n",
    "    Returns:\n",
    "        (dict): Results of model making predictions on data_loader.\n",
    "    \"\"\"\n",
    "    loss, acc = 0, 0\n",
    "    model.eval()\n",
    "    with torch.inference_mode():\n",
    "        for X, y in data_loader:\n",
    "            # Send data to the target device\n",
    "            X, y = X.to(device), y.to(device)\n",
    "            y_pred = model(X)\n",
    "            loss += loss_fn(y_pred, y)\n",
    "            acc += accuracy_fn(y_true=y, y_pred=y_pred.argmax(dim=1))\n",
    "        \n",
    "        # Scale loss and acc\n",
    "        loss /= len(data_loader)\n",
    "        acc /= len(data_loader)\n",
    "    return {\"model_name\": model.__class__.__name__, # only works when model was created with a class\n",
    "            \"model_loss\": loss.item(),\n",
    "            \"model_acc\": acc}\n",
    "\n",
    "# Calculate model 1 results with device-agnostic code \n",
    "model_1_results = eval_model(model=model_1, data_loader=test_dataloader,\n",
    "    loss_fn=loss_fn, accuracy_fn=accuracy_fn,\n",
    "    device=device\n",
    ")\n",
    "model_1_results"
   ]
  },
  {
   "cell_type": "code",
   "execution_count": 34,
   "id": "a9e916cf-f873-4481-a983-bac26ce4cac2",
   "metadata": {
    "colab": {
     "base_uri": "https://localhost:8080/"
    },
    "id": "a9e916cf-f873-4481-a983-bac26ce4cac2",
    "outputId": "5cdb9f7f-366c-4c14-9afa-f2d1d4e0267d"
   },
   "outputs": [
    {
     "data": {
      "text/plain": [
       "{'model_name': 'FashionMNISTModelV0',\n",
       " 'model_loss': 0.47663894295692444,\n",
       " 'model_acc': 83.42651757188499}"
      ]
     },
     "execution_count": 34,
     "metadata": {},
     "output_type": "execute_result"
    }
   ],
   "source": [
    "# Check baseline results\n",
    "model_0_results"
   ]
  },
  {
   "cell_type": "markdown",
   "id": "340cbf14-e83f-4981-8a93-5fedb6b51418",
   "metadata": {
    "id": "340cbf14-e83f-4981-8a93-5fedb6b51418"
   },
   "source": [
    "Woah, in this case, it looks like adding non-linearities to our model made it perform worse than the baseline.\n",
    "\n",
    "That's a thing to note in machine learning, sometimes the thing you thought should work doesn't. \n",
    "\n",
    "And then the thing you thought might not work does.\n",
    "\n",
    "It's part science, part art.\n",
    "\n",
    "From the looks of things, it seems like our model is **overfitting** on the training data.\n",
    "\n",
    "Overfitting means our model is learning the training data well but those patterns aren't generalizing to the testing data.\n",
    "\n",
    "Two of the main to fix overfitting include:\n",
    "1. Using a smaller or different model (some models fit certain kinds of data better than others).\n",
    "2. Using a larger dataset (the more data, the more chance a model has to learn generalizable patterns).\n",
    "\n",
    "There are more, but I'm going to leave that as a challenge for you to explore.\n",
    "\n",
    "Try searching online, \"ways to prevent overfitting in machine learning\" and see what comes up.\n",
    "\n",
    "In the meantime, let's take a look at number 1: using a different model."
   ]
  },
  {
   "cell_type": "markdown",
   "id": "ac22d685-1b8d-4215-90de-c0476cb0fbdf",
   "metadata": {
    "id": "ac22d685-1b8d-4215-90de-c0476cb0fbdf"
   },
   "source": [
    "## 7. Model 2: Building a Convolutional Neural Network (CNN)\n",
    "\n",
    "Alright, time to step things up a notch.\n",
    "\n",
    "It's time to create a [Convolutional Neural Network](https://en.wikipedia.org/wiki/Convolutional_neural_network) (CNN or ConvNet).\n",
    "\n",
    "CNN's are known for their capabilities to find patterns in visual data.\n",
    "\n",
    "And since we're dealing with visual data, let's see if using a CNN model can improve upon our baseline.\n",
    "\n",
    "The CNN model we're going to be using is known as TinyVGG from the [CNN Explainer](https://poloclub.github.io/cnn-explainer/) website.\n",
    "\n",
    "It follows the typical structure of a convolutional neural network:\n",
    "\n",
    "`Input layer -> [Convolutional layer -> activation layer -> pooling layer] -> Output layer`\n",
    "\n",
    "Where the contents of `[Convolutional layer -> activation layer -> pooling layer]` can be upscaled and repeated multiple times, depending on requirements. "
   ]
  },
  {
   "cell_type": "markdown",
   "id": "9c358955-1d20-4903-b872-a239d2753d88",
   "metadata": {
    "id": "9c358955-1d20-4903-b872-a239d2753d88"
   },
   "source": [
    "### What model should I use?\n",
    "\n",
    "> **Question:** Wait, you say CNN's are good for images, are there any other model types I should be aware of?\n",
    "\n",
    "Good question.\n",
    "\n",
    "This table is a good general guide for which model to use (though there are exceptions).\n",
    "\n",
    "| **Problem type** | **Model to use (generally)** | **Code example** |\n",
    "| ----- | ----- | ----- |\n",
    "| Structured data (Excel spreadsheets, row and column data) | Gradient boosted models, Random Forests, XGBoost | [`sklearn.ensemble`](https://scikit-learn.org/stable/modules/classes.html#module-sklearn.ensemble), [XGBoost library](https://xgboost.readthedocs.io/en/stable/) |\n",
    "| Unstructured data (images, audio, language) | Convolutional Neural Networks, Transformers | [`torchvision.models`](https://pytorch.org/vision/stable/models.html), [HuggingFace Transformers](https://huggingface.co/docs/transformers/index) | \n",
    "\n",
    "> **Note:** The table above is only for reference, the model you end up using will be highly dependant on the problem you're working on and the constraints you have (amount of data, latency requirements).\n",
    "\n",
    "Enough talking about models, let's now build a CNN that replicates the model on the [CNN Explainer website](https://poloclub.github.io/cnn-explainer/).\n",
    "\n",
    "![TinyVGG architecture, as setup by CNN explainer website](https://raw.githubusercontent.com/mrdbourke/pytorch-deep-learning/main/images/03-cnn-explainer-model.png)\n",
    "\n",
    "To do so, we'll leverage the [`nn.Conv2d()`](https://pytorch.org/docs/stable/generated/torch.nn.Conv2d.html) and [`nn.MaxPool2d()`](https://pytorch.org/docs/stable/generated/torch.nn.MaxPool2d.html) layers from `torch.nn`.\n"
   ]
  },
  {
   "cell_type": "code",
   "execution_count": 35,
   "id": "dce60214-63fd-46e2-89ba-125445ac76b7",
   "metadata": {
    "colab": {
     "base_uri": "https://localhost:8080/"
    },
    "id": "dce60214-63fd-46e2-89ba-125445ac76b7",
    "outputId": "5ae97191-bb41-4e58-e7f1-914b612cbb60"
   },
   "outputs": [
    {
     "data": {
      "text/plain": [
       "FashionMNISTModelV2(\n",
       "  (block_1): Sequential(\n",
       "    (0): Conv2d(1, 10, kernel_size=(3, 3), stride=(1, 1), padding=(1, 1))\n",
       "    (1): ReLU()\n",
       "    (2): Conv2d(10, 10, kernel_size=(3, 3), stride=(1, 1), padding=(1, 1))\n",
       "    (3): ReLU()\n",
       "    (4): MaxPool2d(kernel_size=2, stride=2, padding=0, dilation=1, ceil_mode=False)\n",
       "  )\n",
       "  (block_2): Sequential(\n",
       "    (0): Conv2d(10, 10, kernel_size=(3, 3), stride=(1, 1), padding=(1, 1))\n",
       "    (1): ReLU()\n",
       "    (2): Conv2d(10, 10, kernel_size=(3, 3), stride=(1, 1), padding=(1, 1))\n",
       "    (3): ReLU()\n",
       "    (4): MaxPool2d(kernel_size=2, stride=2, padding=0, dilation=1, ceil_mode=False)\n",
       "  )\n",
       "  (classifier): Sequential(\n",
       "    (0): Flatten(start_dim=1, end_dim=-1)\n",
       "    (1): Linear(in_features=490, out_features=10, bias=True)\n",
       "  )\n",
       ")"
      ]
     },
     "execution_count": 35,
     "metadata": {},
     "output_type": "execute_result"
    }
   ],
   "source": [
    "# Create a convolutional neural network \n",
    "class FashionMNISTModelV2(nn.Module):\n",
    "    \"\"\"\n",
    "    Model architecture copying TinyVGG from: \n",
    "    https://poloclub.github.io/cnn-explainer/\n",
    "    \"\"\"\n",
    "    def __init__(self, input_shape: int, hidden_units: int, output_shape: int):\n",
    "        super().__init__()\n",
    "        self.block_1 = nn.Sequential(\n",
    "            nn.Conv2d(in_channels=input_shape, \n",
    "                      out_channels=hidden_units, \n",
    "                      kernel_size=3, # how big is the square that's going over the image?\n",
    "                      stride=1, # default\n",
    "                      padding=1),# options = \"valid\" (no padding) or \"same\" (output has same shape as input) or int for specific number \n",
    "            nn.ReLU(),\n",
    "            nn.Conv2d(in_channels=hidden_units, \n",
    "                      out_channels=hidden_units,\n",
    "                      kernel_size=3,\n",
    "                      stride=1,\n",
    "                      padding=1),\n",
    "            nn.ReLU(),\n",
    "            nn.MaxPool2d(kernel_size=2,\n",
    "                         stride=2) # default stride value is same as kernel_size\n",
    "        )\n",
    "        self.block_2 = nn.Sequential(\n",
    "            nn.Conv2d(hidden_units, hidden_units, 3, padding=1),\n",
    "            nn.ReLU(),\n",
    "            nn.Conv2d(hidden_units, hidden_units, 3, padding=1),\n",
    "            nn.ReLU(),\n",
    "            nn.MaxPool2d(2)\n",
    "        )\n",
    "        self.classifier = nn.Sequential(\n",
    "            nn.Flatten(),\n",
    "            # Where did this in_features shape come from? \n",
    "            # It's because each layer of our network compresses and changes the shape of our inputs data.\n",
    "            nn.Linear(in_features=hidden_units*7*7, \n",
    "                      out_features=output_shape)\n",
    "        )\n",
    "    \n",
    "    def forward(self, x: torch.Tensor):\n",
    "        x = self.block_1(x)\n",
    "        # print(x.shape)\n",
    "        x = self.block_2(x)\n",
    "        # print(x.shape)\n",
    "        x = self.classifier(x)\n",
    "        # print(x.shape)\n",
    "        return x\n",
    "\n",
    "torch.manual_seed(42)\n",
    "model_2 = FashionMNISTModelV2(input_shape=1, \n",
    "    hidden_units=10, \n",
    "    output_shape=len(class_names)).to(device)\n",
    "model_2"
   ]
  },
  {
   "cell_type": "markdown",
   "id": "0a20f25e-cc16-4f85-a69b-62008c01d0ed",
   "metadata": {
    "id": "0a20f25e-cc16-4f85-a69b-62008c01d0ed"
   },
   "source": [
    "Nice!\n",
    "\n",
    "Our biggest model yet!\n",
    "\n",
    "What we've done is a common practice in machine learning.\n",
    "\n",
    "Find a model architecture somewhere and replicate it with code. "
   ]
  },
  {
   "cell_type": "markdown",
   "id": "6478cc5a-7b33-425d-9ab3-6d40168a1aee",
   "metadata": {
    "id": "6478cc5a-7b33-425d-9ab3-6d40168a1aee"
   },
   "source": [
    "### 7.1 Stepping through `nn.Conv2d()`\n",
    "\n",
    "We could start using our model above and see what happens but let's first step through the two new layers we've added:\n",
    "* [`nn.Conv2d()`](https://pytorch.org/docs/stable/generated/torch.nn.Conv2d.html), also known as a convolutional layer.\n",
    "* [`nn.MaxPool2d()`](https://pytorch.org/docs/stable/generated/torch.nn.MaxPool2d.html), also known as a max pooling layer.\n",
    "\n",
    "> **Question:** What does the \"2d\" in `nn.Conv2d()` stand for?\n",
    ">\n",
    "> The 2d is for 2-dimensional data. As in, our images have two dimensions: height and width. Yes, there's color channel dimension but each of the color channel dimensions have two dimensions too: height and width.\n",
    ">\n",
    "> For other dimensional data (such as 1D for text or 3D for 3D objects) there's also `nn.Conv1d()` and `nn.Conv3d()`. \n",
    "\n",
    "To test the layers out, let's create some toy data just like the data used on CNN Explainer."
   ]
  },
  {
   "cell_type": "code",
   "execution_count": 36,
   "id": "058b01ac-3f6a-4472-bcbf-3377974e3254",
   "metadata": {
    "colab": {
     "base_uri": "https://localhost:8080/"
    },
    "id": "058b01ac-3f6a-4472-bcbf-3377974e3254",
    "outputId": "c404a8dd-d804-4993-bc2b-e4fdbf02b62d"
   },
   "outputs": [
    {
     "name": "stdout",
     "output_type": "stream",
     "text": [
      "Image batch shape: torch.Size([32, 3, 64, 64]) -> [batch_size, color_channels, height, width]\n",
      "Single image shape: torch.Size([3, 64, 64]) -> [color_channels, height, width]\n",
      "Single image pixel values:\n",
      "tensor([[[ 1.9269,  1.4873,  0.9007,  ...,  1.8446, -1.1845,  1.3835],\n",
      "         [ 1.4451,  0.8564,  2.2181,  ...,  0.3399,  0.7200,  0.4114],\n",
      "         [ 1.9312,  1.0119, -1.4364,  ..., -0.5558,  0.7043,  0.7099],\n",
      "         ...,\n",
      "         [-0.5610, -0.4830,  0.4770,  ..., -0.2713, -0.9537, -0.6737],\n",
      "         [ 0.3076, -0.1277,  0.0366,  ..., -2.0060,  0.2824, -0.8111],\n",
      "         [-1.5486,  0.0485, -0.7712,  ..., -0.1403,  0.9416, -0.0118]],\n",
      "\n",
      "        [[-0.5197,  1.8524,  1.8365,  ...,  0.8935, -1.5114, -0.8515],\n",
      "         [ 2.0818,  1.0677, -1.4277,  ...,  1.6612, -2.6223, -0.4319],\n",
      "         [-0.1010, -0.4388, -1.9775,  ...,  0.2106,  0.2536, -0.7318],\n",
      "         ...,\n",
      "         [ 0.2779,  0.7342, -0.3736,  ..., -0.4601,  0.1815,  0.1850],\n",
      "         [ 0.7205, -0.2833,  0.0937,  ..., -0.1002, -2.3609,  2.2465],\n",
      "         [-1.3242, -0.1973,  0.2920,  ...,  0.5409,  0.6940,  1.8563]],\n",
      "\n",
      "        [[-0.7978,  1.0261,  1.1465,  ...,  1.2134,  0.9354, -0.0780],\n",
      "         [-1.4647, -1.9571,  0.1017,  ..., -1.9986, -0.7409,  0.7011],\n",
      "         [-1.3938,  0.8466, -1.7191,  ..., -1.1867,  0.1320,  0.3407],\n",
      "         ...,\n",
      "         [ 0.8206, -0.3745,  1.2499,  ..., -0.0676,  0.0385,  0.6335],\n",
      "         [-0.5589, -0.3393,  0.2347,  ...,  2.1181,  2.4569,  1.3083],\n",
      "         [-0.4092,  1.5199,  0.2401,  ..., -0.2558,  0.7870,  0.9924]]])\n"
     ]
    }
   ],
   "source": [
    "torch.manual_seed(42)\n",
    "\n",
    "# Create sample batch of random numbers with same size as image batch\n",
    "images = torch.randn(size=(32, 3, 64, 64)) # [batch_size, color_channels, height, width]\n",
    "test_image = images[0] # get a single image for testing\n",
    "print(f\"Image batch shape: {images.shape} -> [batch_size, color_channels, height, width]\")\n",
    "print(f\"Single image shape: {test_image.shape} -> [color_channels, height, width]\") \n",
    "print(f\"Single image pixel values:\\n{test_image}\")"
   ]
  },
  {
   "cell_type": "markdown",
   "id": "bd3291c2-854e-4d0c-97b9-8bf46085fc43",
   "metadata": {
    "id": "bd3291c2-854e-4d0c-97b9-8bf46085fc43"
   },
   "source": [
    "Let's create an example `nn.Conv2d()` with various parameters:\n",
    "* `in_channels` (int) - Number of channels in the input image.\n",
    "* `out_channels` (int) - Number of channels produced by the convolution.\n",
    "* `kernel_size` (int or tuple) - Size of the convolving kernel/filter.\n",
    "* `stride` (int or tuple, optional) - How big of a step the convolving kernel takes at a time. Default: 1.\n",
    "* `padding` (int, tuple, str) - Padding added to all four sides of input. Default: 0.\n",
    "\n",
    "![example of going through the different parameters of a Conv2d layer](https://raw.githubusercontent.com/mrdbourke/pytorch-deep-learning/main/images/03-conv2d-layer.gif)\n",
    "\n",
    "*Example of what happens when you change the hyperparameters of a `nn.Conv2d()` layer.*"
   ]
  },
  {
   "cell_type": "code",
   "execution_count": 37,
   "id": "ebd39562-1dad-40e3-90f5-750a5dac24e2",
   "metadata": {
    "colab": {
     "base_uri": "https://localhost:8080/"
    },
    "id": "ebd39562-1dad-40e3-90f5-750a5dac24e2",
    "outputId": "b61154fb-c5f7-4c3f-c619-4bde6edb4d16"
   },
   "outputs": [
    {
     "data": {
      "text/plain": [
       "tensor([[[ 1.5396,  0.0516,  0.6454,  ..., -0.3673,  0.8711,  0.4256],\n",
       "         [ 0.3662,  1.0114, -0.5997,  ...,  0.8983,  0.2809, -0.2741],\n",
       "         [ 1.2664, -1.4054,  0.3727,  ..., -0.3409,  1.2191, -0.0463],\n",
       "         ...,\n",
       "         [-0.1541,  0.5132, -0.3624,  ..., -0.2360, -0.4609, -0.0035],\n",
       "         [ 0.2981, -0.2432,  1.5012,  ..., -0.6289, -0.7283, -0.5767],\n",
       "         [-0.0386, -0.0781, -0.0388,  ...,  0.2842,  0.4228, -0.1802]],\n",
       "\n",
       "        [[-0.2840, -0.0319, -0.4455,  ..., -0.7956,  1.5599, -1.2449],\n",
       "         [ 0.2753, -0.1262, -0.6541,  ..., -0.2211,  0.1999, -0.8856],\n",
       "         [-0.5404, -1.5489,  0.0249,  ..., -0.5932, -1.0913, -0.3849],\n",
       "         ...,\n",
       "         [ 0.3870, -0.4064, -0.8236,  ...,  0.1734, -0.4330, -0.4951],\n",
       "         [-0.1984, -0.6386,  1.0263,  ..., -0.9401, -0.0585, -0.7833],\n",
       "         [-0.6306, -0.2052, -0.3694,  ..., -1.3248,  0.2456, -0.7134]],\n",
       "\n",
       "        [[ 0.4414,  0.5100,  0.4846,  ..., -0.8484,  0.2638,  1.1258],\n",
       "         [ 0.8117,  0.3191, -0.0157,  ...,  1.2686,  0.2319,  0.5003],\n",
       "         [ 0.3212,  0.0485, -0.2581,  ...,  0.2258,  0.2587, -0.8804],\n",
       "         ...,\n",
       "         [-0.1144, -0.1869,  0.0160,  ..., -0.8346,  0.0974,  0.8421],\n",
       "         [ 0.2941,  0.4417,  0.5866,  ..., -0.1224,  0.4814, -0.4799],\n",
       "         [ 0.6059, -0.0415, -0.2028,  ...,  0.1170,  0.2521, -0.4372]],\n",
       "\n",
       "        ...,\n",
       "\n",
       "        [[-0.2560, -0.0477,  0.6380,  ...,  0.6436,  0.7553, -0.7055],\n",
       "         [ 1.5595, -0.2209, -0.9486,  ..., -0.4876,  0.7754,  0.0750],\n",
       "         [-0.0797,  0.2471,  1.1300,  ...,  0.1505,  0.2354,  0.9576],\n",
       "         ...,\n",
       "         [ 1.1065,  0.6839,  1.2183,  ...,  0.3015, -0.1910, -0.1902],\n",
       "         [-0.3486, -0.7173, -0.3582,  ...,  0.4917,  0.7219,  0.1513],\n",
       "         [ 0.0119,  0.1017,  0.7839,  ..., -0.3752, -0.8127, -0.1257]],\n",
       "\n",
       "        [[ 0.3841,  1.1322,  0.1620,  ...,  0.7010,  0.0109,  0.6058],\n",
       "         [ 0.1664,  0.1873,  1.5924,  ...,  0.3733,  0.9096, -0.5399],\n",
       "         [ 0.4094, -0.0861, -0.7935,  ..., -0.1285, -0.9932, -0.3013],\n",
       "         ...,\n",
       "         [ 0.2688, -0.5630, -1.1902,  ...,  0.4493,  0.5404, -0.0103],\n",
       "         [ 0.0535,  0.4411,  0.5313,  ...,  0.0148, -1.0056,  0.3759],\n",
       "         [ 0.3031, -0.1590, -0.1316,  ..., -0.5384, -0.4271, -0.4876]],\n",
       "\n",
       "        [[-1.1865, -0.7280, -1.2331,  ..., -0.9013, -0.0542, -1.5949],\n",
       "         [-0.6345, -0.5920,  0.5326,  ..., -1.0395, -0.7963, -0.0647],\n",
       "         [-0.1132,  0.5166,  0.2569,  ...,  0.5595, -1.6881,  0.9485],\n",
       "         ...,\n",
       "         [-0.0254, -0.2669,  0.1927,  ..., -0.2917,  0.1088, -0.4807],\n",
       "         [-0.2609, -0.2328,  0.1404,  ..., -0.1325, -0.8436, -0.7524],\n",
       "         [-1.1399, -0.1751, -0.8705,  ...,  0.1589,  0.3377,  0.3493]]],\n",
       "       grad_fn=<SqueezeBackward1>)"
      ]
     },
     "execution_count": 37,
     "metadata": {},
     "output_type": "execute_result"
    }
   ],
   "source": [
    "torch.manual_seed(42)\n",
    "\n",
    "# Create a convolutional layer with same dimensions as TinyVGG \n",
    "# (try changing any of the parameters and see what happens)\n",
    "conv_layer = nn.Conv2d(in_channels=3,\n",
    "                       out_channels=10,\n",
    "                       kernel_size=3,\n",
    "                       stride=1,\n",
    "                       padding=0) # also try using \"valid\" or \"same\" here \n",
    "\n",
    "# Pass the data through the convolutional layer\n",
    "conv_layer(test_image) # Note: If running PyTorch <1.11.0, this will error because of shape issues (nn.Conv.2d() expects a 4d tensor as input) "
   ]
  },
  {
   "cell_type": "markdown",
   "id": "cb0184ad-5c16-4e1c-bcfa-70ecf15377da",
   "metadata": {
    "id": "cb0184ad-5c16-4e1c-bcfa-70ecf15377da"
   },
   "source": [
    "If we try to pass a single image in, we get a shape mismatch error:\n",
    "\n",
    "> `RuntimeError: Expected 4-dimensional input for 4-dimensional weight [10, 3, 3, 3], but got 3-dimensional input of size [3, 64, 64] instead`\n",
    ">\n",
    "> **Note:** If you're running PyTorch 1.11.0+, this error won't occur.\n",
    "\n",
    "This is because our `nn.Conv2d()` layer expects a 4-dimensional tensor as input with size `(N, C, H, W)` or `[batch_size, color_channels, height, width]`.\n",
    "\n",
    "Right now our single image `test_image` only has a shape of `[color_channels, height, width]` or `[3, 64, 64]`.\n",
    "\n",
    "We can fix this for a single image using `test_image.unsqueeze(dim=0)` to add an extra dimension for `N`."
   ]
  },
  {
   "cell_type": "code",
   "execution_count": 38,
   "id": "abba741d-a1ed-44ed-ba53-41d589433a2c",
   "metadata": {
    "colab": {
     "base_uri": "https://localhost:8080/"
    },
    "id": "abba741d-a1ed-44ed-ba53-41d589433a2c",
    "outputId": "9dd8151d-376c-4342-c379-91fcb6468706"
   },
   "outputs": [
    {
     "data": {
      "text/plain": [
       "torch.Size([1, 3, 64, 64])"
      ]
     },
     "execution_count": 38,
     "metadata": {},
     "output_type": "execute_result"
    }
   ],
   "source": [
    "# Add extra dimension to test image\n",
    "test_image.unsqueeze(dim=0).shape"
   ]
  },
  {
   "cell_type": "code",
   "execution_count": 39,
   "id": "c7280a49-4ee0-452b-a514-61115b6a444c",
   "metadata": {
    "colab": {
     "base_uri": "https://localhost:8080/"
    },
    "id": "c7280a49-4ee0-452b-a514-61115b6a444c",
    "outputId": "87bf7e37-c1a7-44a4-eef2-a02eb0489147"
   },
   "outputs": [
    {
     "data": {
      "text/plain": [
       "torch.Size([1, 10, 62, 62])"
      ]
     },
     "execution_count": 39,
     "metadata": {},
     "output_type": "execute_result"
    }
   ],
   "source": [
    "# Pass test image with extra dimension through conv_layer\n",
    "conv_layer(test_image.unsqueeze(dim=0)).shape"
   ]
  },
  {
   "cell_type": "markdown",
   "id": "181df81b-7c5a-46cc-b8d5-a592bf755a13",
   "metadata": {
    "id": "181df81b-7c5a-46cc-b8d5-a592bf755a13"
   },
   "source": [
    "Hmm, notice what happens to our shape (the same shape as the first layer of TinyVGG on [CNN Explainer](https://poloclub.github.io/cnn-explainer/)), we get different channel sizes as well as different pixel sizes.\n",
    "\n",
    "What if we changed the values of `conv_layer`?"
   ]
  },
  {
   "cell_type": "code",
   "execution_count": 40,
   "id": "04445d45-cf2f-4c1d-b215-bc50865a207a",
   "metadata": {
    "colab": {
     "base_uri": "https://localhost:8080/"
    },
    "id": "04445d45-cf2f-4c1d-b215-bc50865a207a",
    "outputId": "eaa97fb8-52c0-493d-eac3-f2e23df9b01c"
   },
   "outputs": [
    {
     "data": {
      "text/plain": [
       "torch.Size([1, 10, 30, 30])"
      ]
     },
     "execution_count": 40,
     "metadata": {},
     "output_type": "execute_result"
    }
   ],
   "source": [
    "torch.manual_seed(42)\n",
    "# Create a new conv_layer with different values (try setting these to whatever you like)\n",
    "conv_layer_2 = nn.Conv2d(in_channels=3, # same number of color channels as our input image\n",
    "                         out_channels=10,\n",
    "                         kernel_size=(5, 5), # kernel is usually a square so a tuple also works\n",
    "                         stride=2,\n",
    "                         padding=0)\n",
    "\n",
    "# Pass single image through new conv_layer_2 (this calls nn.Conv2d()'s forward() method on the input)\n",
    "conv_layer_2(test_image.unsqueeze(dim=0)).shape"
   ]
  },
  {
   "cell_type": "markdown",
   "id": "b27dbdbb-3e32-4ffa-803e-cf943d96c72b",
   "metadata": {
    "id": "b27dbdbb-3e32-4ffa-803e-cf943d96c72b"
   },
   "source": [
    "Woah, we get another shape change.\n",
    "\n",
    "Now our image is of shape `[1, 10, 30, 30]` (it will be different if you use different values) or `[batch_size=1, color_channels=10, height=30, width=30]`.\n",
    "\n",
    "What's going on here?\n",
    "\n",
    "Behind the scenes, our `nn.Conv2d()` is compressing the information stored in the image.\n",
    "\n",
    "It does this by performing operations on the input (our test image) against its internal parameters.\n",
    "\n",
    "The goal of this is similar to all of the other neural networks we've been building.\n",
    "\n",
    "Data goes in and the layers try to update their internal parameters (patterns) to lower the loss function thanks to some help of the optimizer.\n",
    "\n",
    "The only difference is *how* the different layers calculate their parameter updates or in PyTorch terms, the operation present in the layer `forward()` method.\n",
    "\n",
    "If we check out our `conv_layer_2.state_dict()` we'll find a similar weight and bias setup as we've seen before."
   ]
  },
  {
   "cell_type": "code",
   "execution_count": 41,
   "id": "46027ed1-c3a7-46bd-bab7-17f8c20e354b",
   "metadata": {
    "colab": {
     "base_uri": "https://localhost:8080/"
    },
    "id": "46027ed1-c3a7-46bd-bab7-17f8c20e354b",
    "outputId": "bc493b18-1ef3-41c6-9de9-5dfeaa4c259e"
   },
   "outputs": [
    {
     "name": "stdout",
     "output_type": "stream",
     "text": [
      "OrderedDict([('weight', tensor([[[[ 0.0883,  0.0958, -0.0271,  0.1061, -0.0253],\n",
      "          [ 0.0233, -0.0562,  0.0678,  0.1018, -0.0847],\n",
      "          [ 0.1004,  0.0216,  0.0853,  0.0156,  0.0557],\n",
      "          [-0.0163,  0.0890,  0.0171, -0.0539,  0.0294],\n",
      "          [-0.0532, -0.0135, -0.0469,  0.0766, -0.0911]],\n",
      "\n",
      "         [[-0.0532, -0.0326, -0.0694,  0.0109, -0.1140],\n",
      "          [ 0.1043, -0.0981,  0.0891,  0.0192, -0.0375],\n",
      "          [ 0.0714,  0.0180,  0.0933,  0.0126, -0.0364],\n",
      "          [ 0.0310, -0.0313,  0.0486,  0.1031,  0.0667],\n",
      "          [-0.0505,  0.0667,  0.0207,  0.0586, -0.0704]],\n",
      "\n",
      "         [[-0.1143, -0.0446, -0.0886,  0.0947,  0.0333],\n",
      "          [ 0.0478,  0.0365, -0.0020,  0.0904, -0.0820],\n",
      "          [ 0.0073, -0.0788,  0.0356, -0.0398,  0.0354],\n",
      "          [-0.0241,  0.0958, -0.0684, -0.0689, -0.0689],\n",
      "          [ 0.1039,  0.0385,  0.1111, -0.0953, -0.1145]]],\n",
      "\n",
      "\n",
      "        [[[-0.0903, -0.0777,  0.0468,  0.0413,  0.0959],\n",
      "          [-0.0596, -0.0787,  0.0613, -0.0467,  0.0701],\n",
      "          [-0.0274,  0.0661, -0.0897, -0.0583,  0.0352],\n",
      "          [ 0.0244, -0.0294,  0.0688,  0.0785, -0.0837],\n",
      "          [-0.0616,  0.1057, -0.0390, -0.0409, -0.1117]],\n",
      "\n",
      "         [[-0.0661,  0.0288, -0.0152, -0.0838,  0.0027],\n",
      "          [-0.0789, -0.0980, -0.0636, -0.1011, -0.0735],\n",
      "          [ 0.1154,  0.0218,  0.0356, -0.1077, -0.0758],\n",
      "          [-0.0384,  0.0181, -0.1016, -0.0498, -0.0691],\n",
      "          [ 0.0003, -0.0430, -0.0080, -0.0782, -0.0793]],\n",
      "\n",
      "         [[-0.0674, -0.0395, -0.0911,  0.0968, -0.0229],\n",
      "          [ 0.0994,  0.0360, -0.0978,  0.0799, -0.0318],\n",
      "          [-0.0443, -0.0958, -0.1148,  0.0330, -0.0252],\n",
      "          [ 0.0450, -0.0948,  0.0857, -0.0848, -0.0199],\n",
      "          [ 0.0241,  0.0596,  0.0932,  0.1052, -0.0916]]],\n",
      "\n",
      "\n",
      "        [[[ 0.0291, -0.0497, -0.0127, -0.0864,  0.1052],\n",
      "          [-0.0847,  0.0617,  0.0406,  0.0375, -0.0624],\n",
      "          [ 0.1050,  0.0254,  0.0149, -0.1018,  0.0485],\n",
      "          [-0.0173, -0.0529,  0.0992,  0.0257, -0.0639],\n",
      "          [-0.0584, -0.0055,  0.0645, -0.0295, -0.0659]],\n",
      "\n",
      "         [[-0.0395, -0.0863,  0.0412,  0.0894, -0.1087],\n",
      "          [ 0.0268,  0.0597,  0.0209, -0.0411,  0.0603],\n",
      "          [ 0.0607,  0.0432, -0.0203, -0.0306,  0.0124],\n",
      "          [-0.0204, -0.0344,  0.0738,  0.0992, -0.0114],\n",
      "          [-0.0259,  0.0017, -0.0069,  0.0278,  0.0324]],\n",
      "\n",
      "         [[-0.1049, -0.0426,  0.0972,  0.0450, -0.0057],\n",
      "          [-0.0696, -0.0706, -0.1034, -0.0376,  0.0390],\n",
      "          [ 0.0736,  0.0533, -0.1021, -0.0694, -0.0182],\n",
      "          [ 0.1117,  0.0167, -0.0299,  0.0478, -0.0440],\n",
      "          [-0.0747,  0.0843, -0.0525, -0.0231, -0.1149]]],\n",
      "\n",
      "\n",
      "        [[[ 0.0773,  0.0875,  0.0421, -0.0805, -0.1140],\n",
      "          [-0.0938,  0.0861,  0.0554,  0.0972,  0.0605],\n",
      "          [ 0.0292, -0.0011, -0.0878, -0.0989, -0.1080],\n",
      "          [ 0.0473, -0.0567, -0.0232, -0.0665, -0.0210],\n",
      "          [-0.0813, -0.0754,  0.0383, -0.0343,  0.0713]],\n",
      "\n",
      "         [[-0.0370, -0.0847, -0.0204, -0.0560, -0.0353],\n",
      "          [-0.1099,  0.0646, -0.0804,  0.0580,  0.0524],\n",
      "          [ 0.0825, -0.0886,  0.0830, -0.0546,  0.0428],\n",
      "          [ 0.1084, -0.0163, -0.0009, -0.0266, -0.0964],\n",
      "          [ 0.0554, -0.1146,  0.0717,  0.0864,  0.1092]],\n",
      "\n",
      "         [[-0.0272, -0.0949,  0.0260,  0.0638, -0.1149],\n",
      "          [-0.0262, -0.0692, -0.0101, -0.0568, -0.0472],\n",
      "          [-0.0367, -0.1097,  0.0947,  0.0968, -0.0181],\n",
      "          [-0.0131, -0.0471, -0.1043, -0.1124,  0.0429],\n",
      "          [-0.0634, -0.0742, -0.0090, -0.0385, -0.0374]]],\n",
      "\n",
      "\n",
      "        [[[ 0.0037, -0.0245, -0.0398, -0.0553, -0.0940],\n",
      "          [ 0.0968, -0.0462,  0.0306, -0.0401,  0.0094],\n",
      "          [ 0.1077,  0.0532, -0.1001,  0.0458,  0.1096],\n",
      "          [ 0.0304,  0.0774,  0.1138, -0.0177,  0.0240],\n",
      "          [-0.0803, -0.0238,  0.0855,  0.0592, -0.0731]],\n",
      "\n",
      "         [[-0.0926, -0.0789, -0.1140, -0.0891, -0.0286],\n",
      "          [ 0.0779,  0.0193, -0.0878, -0.0926,  0.0574],\n",
      "          [-0.0859, -0.0142,  0.0554, -0.0534, -0.0126],\n",
      "          [-0.0101, -0.0273, -0.0585, -0.1029, -0.0933],\n",
      "          [-0.0618,  0.1115, -0.0558, -0.0775,  0.0280]],\n",
      "\n",
      "         [[ 0.0318,  0.0633,  0.0878,  0.0643, -0.1145],\n",
      "          [ 0.0102,  0.0699, -0.0107, -0.0680,  0.1101],\n",
      "          [-0.0432, -0.0657, -0.1041,  0.0052,  0.0512],\n",
      "          [ 0.0256,  0.0228, -0.0876, -0.1078,  0.0020],\n",
      "          [ 0.1053,  0.0666, -0.0672, -0.0150, -0.0851]]],\n",
      "\n",
      "\n",
      "        [[[-0.0557,  0.0209,  0.0629,  0.0957, -0.1060],\n",
      "          [ 0.0772, -0.0814,  0.0432,  0.0977,  0.0016],\n",
      "          [ 0.1051, -0.0984, -0.0441,  0.0673, -0.0252],\n",
      "          [-0.0236, -0.0481,  0.0796,  0.0566,  0.0370],\n",
      "          [-0.0649, -0.0937,  0.0125,  0.0342, -0.0533]],\n",
      "\n",
      "         [[-0.0323,  0.0780,  0.0092,  0.0052, -0.0284],\n",
      "          [-0.1046, -0.1086, -0.0552, -0.0587,  0.0360],\n",
      "          [-0.0336, -0.0452,  0.1101,  0.0402,  0.0823],\n",
      "          [-0.0559, -0.0472,  0.0424, -0.0769, -0.0755],\n",
      "          [-0.0056, -0.0422, -0.0866,  0.0685,  0.0929]],\n",
      "\n",
      "         [[ 0.0187, -0.0201, -0.1070, -0.0421,  0.0294],\n",
      "          [ 0.0544, -0.0146, -0.0457,  0.0643, -0.0920],\n",
      "          [ 0.0730, -0.0448,  0.0018, -0.0228,  0.0140],\n",
      "          [-0.0349,  0.0840, -0.0030,  0.0901,  0.1110],\n",
      "          [-0.0563, -0.0842,  0.0926,  0.0905, -0.0882]]],\n",
      "\n",
      "\n",
      "        [[[-0.0089, -0.1139, -0.0945,  0.0223,  0.0307],\n",
      "          [ 0.0245, -0.0314,  0.1065,  0.0165, -0.0681],\n",
      "          [-0.0065,  0.0277,  0.0404, -0.0816,  0.0433],\n",
      "          [-0.0590, -0.0959, -0.0631,  0.1114,  0.0987],\n",
      "          [ 0.1034,  0.0678,  0.0872, -0.0155, -0.0635]],\n",
      "\n",
      "         [[ 0.0577, -0.0598, -0.0779, -0.0369,  0.0242],\n",
      "          [ 0.0594, -0.0448, -0.0680,  0.0156, -0.0681],\n",
      "          [-0.0752,  0.0602, -0.0194,  0.1055,  0.1123],\n",
      "          [ 0.0345,  0.0397,  0.0266,  0.0018, -0.0084],\n",
      "          [ 0.0016,  0.0431,  0.1074, -0.0299, -0.0488]],\n",
      "\n",
      "         [[-0.0280, -0.0558,  0.0196,  0.0862,  0.0903],\n",
      "          [ 0.0530, -0.0850, -0.0620, -0.0254, -0.0213],\n",
      "          [ 0.0095, -0.1060,  0.0359, -0.0881, -0.0731],\n",
      "          [-0.0960,  0.1006, -0.1093,  0.0871, -0.0039],\n",
      "          [-0.0134,  0.0722, -0.0107,  0.0724,  0.0835]]],\n",
      "\n",
      "\n",
      "        [[[-0.1003,  0.0444,  0.0218,  0.0248,  0.0169],\n",
      "          [ 0.0316, -0.0555, -0.0148,  0.1097,  0.0776],\n",
      "          [-0.0043, -0.1086,  0.0051, -0.0786,  0.0939],\n",
      "          [-0.0701, -0.0083, -0.0256,  0.0205,  0.1087],\n",
      "          [ 0.0110,  0.0669,  0.0896,  0.0932, -0.0399]],\n",
      "\n",
      "         [[-0.0258,  0.0556, -0.0315,  0.0541, -0.0252],\n",
      "          [-0.0783,  0.0470,  0.0177,  0.0515,  0.1147],\n",
      "          [ 0.0788,  0.1095,  0.0062, -0.0993, -0.0810],\n",
      "          [-0.0717, -0.1018, -0.0579, -0.1063, -0.1065],\n",
      "          [-0.0690, -0.1138, -0.0709,  0.0440,  0.0963]],\n",
      "\n",
      "         [[-0.0343, -0.0336,  0.0617, -0.0570, -0.0546],\n",
      "          [ 0.0711, -0.1006,  0.0141,  0.1020,  0.0198],\n",
      "          [ 0.0314, -0.0672, -0.0016,  0.0063,  0.0283],\n",
      "          [ 0.0449,  0.1003, -0.0881,  0.0035, -0.0577],\n",
      "          [-0.0913, -0.0092, -0.1016,  0.0806,  0.0134]]],\n",
      "\n",
      "\n",
      "        [[[-0.0622,  0.0603, -0.1093, -0.0447, -0.0225],\n",
      "          [-0.0981, -0.0734, -0.0188,  0.0876,  0.1115],\n",
      "          [ 0.0735, -0.0689, -0.0755,  0.1008,  0.0408],\n",
      "          [ 0.0031,  0.0156, -0.0928, -0.0386,  0.1112],\n",
      "          [-0.0285, -0.0058, -0.0959, -0.0646, -0.0024]],\n",
      "\n",
      "         [[-0.0717, -0.0143,  0.0470, -0.1130,  0.0343],\n",
      "          [-0.0763, -0.0564,  0.0443,  0.0918, -0.0316],\n",
      "          [-0.0474, -0.1044, -0.0595, -0.1011, -0.0264],\n",
      "          [ 0.0236, -0.1082,  0.1008,  0.0724, -0.1130],\n",
      "          [-0.0552,  0.0377, -0.0237, -0.0126, -0.0521]],\n",
      "\n",
      "         [[ 0.0927, -0.0645,  0.0958,  0.0075,  0.0232],\n",
      "          [ 0.0901, -0.0190, -0.0657, -0.0187,  0.0937],\n",
      "          [-0.0857,  0.0262, -0.1135,  0.0605,  0.0427],\n",
      "          [ 0.0049,  0.0496,  0.0001,  0.0639, -0.0914],\n",
      "          [-0.0170,  0.0512,  0.1150,  0.0588, -0.0840]]],\n",
      "\n",
      "\n",
      "        [[[ 0.0888, -0.0257, -0.0247, -0.1050, -0.0182],\n",
      "          [ 0.0817,  0.0161, -0.0673,  0.0355, -0.0370],\n",
      "          [ 0.1054, -0.1002, -0.0365, -0.1115, -0.0455],\n",
      "          [ 0.0364,  0.1112,  0.0194,  0.1132,  0.0226],\n",
      "          [ 0.0667,  0.0926,  0.0965, -0.0646,  0.1062]],\n",
      "\n",
      "         [[ 0.0699, -0.0540, -0.0551, -0.0969,  0.0290],\n",
      "          [-0.0936,  0.0488,  0.0365, -0.1003,  0.0315],\n",
      "          [-0.0094,  0.0527,  0.0663, -0.1148,  0.1059],\n",
      "          [ 0.0968,  0.0459, -0.1055, -0.0412, -0.0335],\n",
      "          [-0.0297,  0.0651,  0.0420,  0.0915, -0.0432]],\n",
      "\n",
      "         [[ 0.0389,  0.0411, -0.0961, -0.1120, -0.0599],\n",
      "          [ 0.0790, -0.1087, -0.1005,  0.0647,  0.0623],\n",
      "          [ 0.0950, -0.0872, -0.0845,  0.0592,  0.1004],\n",
      "          [ 0.0691,  0.0181,  0.0381,  0.1096, -0.0745],\n",
      "          [-0.0524,  0.0808, -0.0790, -0.0637,  0.0843]]]])), ('bias', tensor([ 0.0364,  0.0373, -0.0489, -0.0016,  0.1057, -0.0693,  0.0009,  0.0549,\n",
      "        -0.0797,  0.1121]))])\n"
     ]
    }
   ],
   "source": [
    "# Check out the conv_layer_2 internal parameters\n",
    "print(conv_layer_2.state_dict())"
   ]
  },
  {
   "cell_type": "markdown",
   "id": "8b708eb6-ae46-4d8c-a8a4-1392827d3e37",
   "metadata": {
    "id": "8b708eb6-ae46-4d8c-a8a4-1392827d3e37"
   },
   "source": [
    "Look at that! A bunch of random numbers for a weight and bias tensor.\n",
    "\n",
    "The shapes of these are manipulated by the inputs we passed to `nn.Conv2d()` when we set it up.\n",
    "\n",
    "Let's check them out."
   ]
  },
  {
   "cell_type": "code",
   "execution_count": 42,
   "id": "e5518d61-c0b7-4351-b5ea-4d6b6144291a",
   "metadata": {
    "colab": {
     "base_uri": "https://localhost:8080/"
    },
    "id": "e5518d61-c0b7-4351-b5ea-4d6b6144291a",
    "outputId": "14ef701e-c82d-4fae-9dd6-e18352817cf2"
   },
   "outputs": [
    {
     "name": "stdout",
     "output_type": "stream",
     "text": [
      "conv_layer_2 weight shape: \n",
      "torch.Size([10, 3, 5, 5]) -> [out_channels=10, in_channels=3, kernel_size=5, kernel_size=5]\n",
      "\n",
      "conv_layer_2 bias shape: \n",
      "torch.Size([10]) -> [out_channels=10]\n"
     ]
    }
   ],
   "source": [
    "# Get shapes of weight and bias tensors within conv_layer_2\n",
    "print(f\"conv_layer_2 weight shape: \\n{conv_layer_2.weight.shape} -> [out_channels=10, in_channels=3, kernel_size=5, kernel_size=5]\")\n",
    "print(f\"\\nconv_layer_2 bias shape: \\n{conv_layer_2.bias.shape} -> [out_channels=10]\")"
   ]
  },
  {
   "cell_type": "markdown",
   "id": "f0de23c7-4501-4156-80a4-ac889a636a42",
   "metadata": {
    "id": "f0de23c7-4501-4156-80a4-ac889a636a42"
   },
   "source": [
    "> **Question:** What should we set the parameters of our `nn.Conv2d()` layers?\n",
    ">\n",
    "> That's a good one. But similar to many other things in machine learning, the values of these aren't set in stone (and recall, because these values are ones we can set ourselves, they're referred to as \"**hyperparameters**\"). \n",
    ">\n",
    "> The best way to find out is to try out different values and see how they effect your model's performance.\n",
    ">\n",
    "> Or even better, find a working example on a problem similar to yours (like we've done with TinyVGG) and copy it. \n",
    "\n",
    "We're working with a different of layer here to what we've seen before.\n",
    "\n",
    "But the premise remains the same: start with random numbers and update them to better represent the data."
   ]
  },
  {
   "cell_type": "markdown",
   "id": "6370d45d-ca44-4fa0-a2d7-efaf0a207b91",
   "metadata": {
    "id": "6370d45d-ca44-4fa0-a2d7-efaf0a207b91"
   },
   "source": [
    "### 7.2 Stepping through `nn.MaxPool2d()`\n",
    "Now let's check out what happens when we move data through `nn.MaxPool2d()`."
   ]
  },
  {
   "cell_type": "code",
   "execution_count": 43,
   "id": "1164c753-19d9-43b7-a04f-017d0f7188c3",
   "metadata": {
    "colab": {
     "base_uri": "https://localhost:8080/"
    },
    "id": "1164c753-19d9-43b7-a04f-017d0f7188c3",
    "outputId": "9c46f08e-928d-4ee4-e43c-b402113fc2b4"
   },
   "outputs": [
    {
     "name": "stdout",
     "output_type": "stream",
     "text": [
      "Test image original shape: torch.Size([3, 64, 64])\n",
      "Test image with unsqueezed dimension: torch.Size([1, 3, 64, 64])\n",
      "Shape after going through conv_layer(): torch.Size([1, 10, 62, 62])\n",
      "Shape after going through conv_layer() and max_pool_layer(): torch.Size([1, 10, 31, 31])\n"
     ]
    }
   ],
   "source": [
    "# Print out original image shape without and with unsqueezed dimension\n",
    "print(f\"Test image original shape: {test_image.shape}\")\n",
    "print(f\"Test image with unsqueezed dimension: {test_image.unsqueeze(dim=0).shape}\")\n",
    "\n",
    "# Create a sample nn.MaxPoo2d() layer\n",
    "max_pool_layer = nn.MaxPool2d(kernel_size=2)\n",
    "\n",
    "# Pass data through just the conv_layer\n",
    "test_image_through_conv = conv_layer(test_image.unsqueeze(dim=0))\n",
    "print(f\"Shape after going through conv_layer(): {test_image_through_conv.shape}\")\n",
    "\n",
    "# Pass data through the max pool layer\n",
    "test_image_through_conv_and_max_pool = max_pool_layer(test_image_through_conv)\n",
    "print(f\"Shape after going through conv_layer() and max_pool_layer(): {test_image_through_conv_and_max_pool.shape}\")"
   ]
  },
  {
   "cell_type": "markdown",
   "id": "de029abd-6674-4bfa-99ab-322f339f89f4",
   "metadata": {
    "id": "de029abd-6674-4bfa-99ab-322f339f89f4"
   },
   "source": [
    "Notice the change in the shapes of what's happening in and out of a `nn.MaxPool2d()` layer.\n",
    "\n",
    "The `kernel_size` of the `nn.MaxPool2d()` layer will effects the size of the output shape.\n",
    "\n",
    "In our case, the shape halves from a `62x62` image to `31x31` image.\n",
    "\n",
    "Let's see this work with a smaller tensor."
   ]
  },
  {
   "cell_type": "code",
   "execution_count": 44,
   "id": "e6a2b196-4845-4b40-9212-e75406e88875",
   "metadata": {
    "colab": {
     "base_uri": "https://localhost:8080/"
    },
    "id": "e6a2b196-4845-4b40-9212-e75406e88875",
    "outputId": "5a5e5df1-8e25-4061-d223-398ecfc7ef4c"
   },
   "outputs": [
    {
     "name": "stdout",
     "output_type": "stream",
     "text": [
      "Random tensor:\n",
      "tensor([[[[0.3367, 0.1288],\n",
      "          [0.2345, 0.2303]]]])\n",
      "Random tensor shape: torch.Size([1, 1, 2, 2])\n",
      "\n",
      "Max pool tensor:\n",
      "tensor([[[[0.3367]]]]) <- this is the maximum value from random_tensor\n",
      "Max pool tensor shape: torch.Size([1, 1, 1, 1])\n"
     ]
    }
   ],
   "source": [
    "torch.manual_seed(42)\n",
    "# Create a random tensor with a similiar number of dimensions to our images\n",
    "random_tensor = torch.randn(size=(1, 1, 2, 2))\n",
    "print(f\"Random tensor:\\n{random_tensor}\")\n",
    "print(f\"Random tensor shape: {random_tensor.shape}\")\n",
    "\n",
    "# Create a max pool layer\n",
    "max_pool_layer = nn.MaxPool2d(kernel_size=2) # see what happens when you change the kernel_size value \n",
    "\n",
    "# Pass the random tensor through the max pool layer\n",
    "max_pool_tensor = max_pool_layer(random_tensor)\n",
    "print(f\"\\nMax pool tensor:\\n{max_pool_tensor} <- this is the maximum value from random_tensor\")\n",
    "print(f\"Max pool tensor shape: {max_pool_tensor.shape}\")"
   ]
  },
  {
   "cell_type": "markdown",
   "id": "002e586e-dcb3-40fe-a7dd-a1c18a3b8da0",
   "metadata": {
    "id": "002e586e-dcb3-40fe-a7dd-a1c18a3b8da0"
   },
   "source": [
    "Notice the final two dimensions between `random_tensor` and `max_pool_tensor`, they go from `[2, 2]` to `[1, 1]`.\n",
    "\n",
    "In essence, they get halved.\n",
    "\n",
    "And the change would be different for different values of `kernel_size` for `nn.MaxPool2d()`.\n",
    "\n",
    "Also notice the value leftover in `max_pool_tensor` is the **maximum** value from `random_tensor`.\n",
    "\n",
    "What's happening here?\n",
    "\n",
    "This is another important piece of the puzzle of neural networks.\n",
    "\n",
    "Essentially, **every layer in a neural network is trying to compress data from higher dimensional space to lower dimensional space**. \n",
    "\n",
    "In other words, take a lot of numbers (raw data) and learn patterns in those numbers, patterns that are predictive whilst also being *smaller* in size than the original values.\n",
    "\n",
    "From an artificial intelligence perspective, you could consider the whole goal of a neural network to *compress* information.\n",
    "\n",
    "![each layer of a neural network compresses the original input data into a smaller representation that is (hopefully) capable of making predictions on future input data](https://raw.githubusercontent.com/mrdbourke/pytorch-deep-learning/main/images/03-conv-net-as-compression.png)\n",
    "\n",
    "This means, that from the point of view of a neural network, intelligence is compression.\n",
    "\n",
    "This is the idea of the use of a `nn.MaxPool2d()` layer: take the maximum value from a portion of a tensor and disregard the rest.\n",
    "\n",
    "In essence, lowering the dimensionality of a tensor whilst still retaining a (hopefully) significant portion of the information.\n",
    "\n",
    "It is the same story for a `nn.Conv2d()` layer.\n",
    "\n",
    "Except instead of just taking the maximum, the `nn.Conv2d()` performs a convolutional operation on the data (see this in action on the [CNN Explainer webpage](https://poloclub.github.io/cnn-explainer/)).\n",
    "\n",
    "> **Exercise:** What do you think the [`nn.AvgPool2d()`](https://pytorch.org/docs/stable/generated/torch.nn.AvgPool2d.html) layer does? Try making a random tensor like we did above and passing it through. Check the input and output shapes as well as the input and output values.\n",
    "\n",
    "> **Extra-curriculum:** Lookup \"most common convolutional neural networks\", what architectures do you find? Are any of them contained within the [`torchvision.models`](https://pytorch.org/vision/stable/models.html) library? What do you think you could do with these?"
   ]
  },
  {
   "cell_type": "markdown",
   "id": "39a3c646-52f0-4f4b-8527-2fc33d0dfb13",
   "metadata": {
    "id": "39a3c646-52f0-4f4b-8527-2fc33d0dfb13"
   },
   "source": [
    "### 7.3 Setup a loss function and optimizer for `model_2`\n",
    "\n",
    "We've stepped through the layers in our first CNN enough.\n",
    "\n",
    "But remember, if something still isn't clear, try starting small.\n",
    "\n",
    "Pick a single layer of a model, pass some data through it and see what happens.\n",
    "\n",
    "Now it's time to move forward and get to training!\n",
    "\n",
    "Let's setup a loss function and an optimizer.\n",
    "\n",
    "We'll use the functions as before, `nn.CrossEntropyLoss()` as the loss function (since we're working with multi-class classification data).\n",
    "\n",
    "And `torch.optim.SGD()` as the optimizer to optimize `model_2.parameters()` with a learning rate of `0.1`."
   ]
  },
  {
   "cell_type": "code",
   "execution_count": 45,
   "id": "06a76a1b-5f6f-4018-bf7b-8388b385476f",
   "metadata": {
    "id": "06a76a1b-5f6f-4018-bf7b-8388b385476f"
   },
   "outputs": [],
   "source": [
    "# Setup loss and optimizer\n",
    "loss_fn = nn.CrossEntropyLoss()\n",
    "optimizer = torch.optim.SGD(params=model_2.parameters(), \n",
    "                             lr=0.1)"
   ]
  },
  {
   "cell_type": "markdown",
   "id": "758bc223-a244-4604-a07a-e2fc2f96c2f6",
   "metadata": {
    "id": "758bc223-a244-4604-a07a-e2fc2f96c2f6"
   },
   "source": [
    "### 7.4 Training and testing `model_2` using our training and test functions\n",
    "\n",
    "Loss and optimizer ready!\n",
    "\n",
    "Time to train and test.\n",
    "\n",
    "We'll use our `train_step()` and `test_step()` functions we created before.\n",
    "\n",
    "We'll also measure the time to compare it to our other models."
   ]
  },
  {
   "cell_type": "code",
   "execution_count": 46,
   "id": "861d126e-d876-40b3-9b7a-66cfc2f1bf05",
   "metadata": {
    "colab": {
     "base_uri": "https://localhost:8080/",
     "height": 327,
     "referenced_widgets": [
      "2b9c90ceb8554eaaaaf33acacecbcc11",
      "9051de473b1b456592576115260f0c48",
      "a315b7b535e4461ca11a6d96ca74411c",
      "4cd01ed6c2534d4e80a0af2e9da02052",
      "eb3ca30526e24fff9194d4e82436df99",
      "6117713ba6c9490fab837cfbad7d442b",
      "d426a4e9fff447ea95c7256372e272b7",
      "fdcf4db7208d42b5acb35bf56c72fd82",
      "606df8221adf48308f48c86ac54475e8",
      "ebc6218d07f54005b0e46553b83464e1",
      "03435ac81db84ae6bb6cb99bb78167c2"
     ]
    },
    "id": "861d126e-d876-40b3-9b7a-66cfc2f1bf05",
    "outputId": "77ae1601-bf72-4239-b3f6-9fb99a1c62c0"
   },
   "outputs": [
    {
     "name": "stderr",
     "output_type": "stream",
     "text": [
      "  0%|          | 0/3 [00:00<?, ?it/s]"
     ]
    },
    {
     "name": "stdout",
     "output_type": "stream",
     "text": [
      "Epoch: 0\n",
      "---------\n",
      "Train loss: 0.60532 | Train accuracy: 78.10%\n"
     ]
    },
    {
     "name": "stderr",
     "output_type": "stream",
     "text": [
      " 33%|███▎      | 1/3 [00:16<00:33, 16.59s/it]"
     ]
    },
    {
     "name": "stdout",
     "output_type": "stream",
     "text": [
      "Test loss: 0.41048 | Test accuracy: 85.06%\n",
      "\n",
      "Epoch: 1\n",
      "---------\n",
      "Train loss: 0.35986 | Train accuracy: 87.05%\n"
     ]
    },
    {
     "name": "stderr",
     "output_type": "stream",
     "text": [
      " 67%|██████▋   | 2/3 [00:33<00:16, 16.70s/it]"
     ]
    },
    {
     "name": "stdout",
     "output_type": "stream",
     "text": [
      "Test loss: 0.40129 | Test accuracy: 86.43%\n",
      "\n",
      "Epoch: 2\n",
      "---------\n",
      "Train loss: 0.32060 | Train accuracy: 88.55%\n"
     ]
    },
    {
     "name": "stderr",
     "output_type": "stream",
     "text": [
      "100%|██████████| 3/3 [00:49<00:00, 16.58s/it]"
     ]
    },
    {
     "name": "stdout",
     "output_type": "stream",
     "text": [
      "Test loss: 0.31755 | Test accuracy: 88.59%\n",
      "\n",
      "Train time on cuda: 49.745 seconds\n"
     ]
    },
    {
     "name": "stderr",
     "output_type": "stream",
     "text": [
      "\n"
     ]
    }
   ],
   "source": [
    "torch.manual_seed(42)\n",
    "\n",
    "# Measure time\n",
    "from timeit import default_timer as timer\n",
    "train_time_start_model_2 = timer()\n",
    "\n",
    "# Train and test model \n",
    "epochs = 3\n",
    "for epoch in tqdm(range(epochs)):\n",
    "    print(f\"Epoch: {epoch}\\n---------\")\n",
    "    train_step(data_loader=train_dataloader, \n",
    "        model=model_2, \n",
    "        loss_fn=loss_fn,\n",
    "        optimizer=optimizer,\n",
    "        accuracy_fn=accuracy_fn,\n",
    "        device=device\n",
    "    )\n",
    "    test_step(data_loader=test_dataloader,\n",
    "        model=model_2,\n",
    "        loss_fn=loss_fn,\n",
    "        accuracy_fn=accuracy_fn,\n",
    "        device=device\n",
    "    )\n",
    "\n",
    "train_time_end_model_2 = timer()\n",
    "total_train_time_model_2 = print_train_time(start=train_time_start_model_2,\n",
    "                                           end=train_time_end_model_2,\n",
    "                                           device=device)"
   ]
  },
  {
   "cell_type": "markdown",
   "id": "cfec7b7e-4dba-4016-957a-a29c6c10fde0",
   "metadata": {
    "id": "cfec7b7e-4dba-4016-957a-a29c6c10fde0"
   },
   "source": [
    "Woah! Looks like the convolutional and max pooling layers helped improve performance a little.\n",
    "\n",
    "Let's evaluate `model_2`'s results with our `eval_model()` function."
   ]
  },
  {
   "cell_type": "code",
   "execution_count": 47,
   "id": "c1bf8b89-1389-4395-a1c4-9c6e94d9e71c",
   "metadata": {
    "colab": {
     "base_uri": "https://localhost:8080/"
    },
    "id": "c1bf8b89-1389-4395-a1c4-9c6e94d9e71c",
    "outputId": "6ccddfc5-a86b-409d-d329-0d140f5b2f10"
   },
   "outputs": [
    {
     "data": {
      "text/plain": [
       "{'model_name': 'FashionMNISTModelV2',\n",
       " 'model_loss': 0.3175522983074188,\n",
       " 'model_acc': 88.58825878594249}"
      ]
     },
     "execution_count": 47,
     "metadata": {},
     "output_type": "execute_result"
    }
   ],
   "source": [
    "# Get model_2 results \n",
    "model_2_results = eval_model(\n",
    "    model=model_2,\n",
    "    data_loader=test_dataloader,\n",
    "    loss_fn=loss_fn,\n",
    "    accuracy_fn=accuracy_fn\n",
    ")\n",
    "model_2_results"
   ]
  },
  {
   "cell_type": "markdown",
   "id": "24c5ff68-b0bc-4b09-9da6-696736bc262d",
   "metadata": {
    "id": "24c5ff68-b0bc-4b09-9da6-696736bc262d"
   },
   "source": [
    "## 8. Compare model results and training time\n",
    "\n",
    "We've trained three different models.\n",
    "\n",
    "1. `model_0` - our baseline model with two `nn.Linear()` layers.\n",
    "2. `model_1` - the same setup as our baseline model except with `nn.ReLU()` layers in between the `nn.Linear()` layers.\n",
    "3. `model_2` - our first CNN model that mimics the TinyVGG architecture on the CNN Explainer website.\n",
    "\n",
    "This is a regular practice in machine learning.\n",
    "\n",
    "Building multiple models and performing multiple training experiments to see which performs best.\n",
    "\n",
    "Let's combine our model results dictionaries into a DataFrame and find out."
   ]
  },
  {
   "cell_type": "code",
   "execution_count": 48,
   "id": "52d84ee1-1ad4-4860-b147-f8912c1febc7",
   "metadata": {
    "colab": {
     "base_uri": "https://localhost:8080/",
     "height": 143
    },
    "id": "52d84ee1-1ad4-4860-b147-f8912c1febc7",
    "outputId": "6eebb1ea-293a-4ae1-c054-f6154868426c"
   },
   "outputs": [
    {
     "data": {
      "text/html": [
       "<div>\n",
       "<style scoped>\n",
       "    .dataframe tbody tr th:only-of-type {\n",
       "        vertical-align: middle;\n",
       "    }\n",
       "\n",
       "    .dataframe tbody tr th {\n",
       "        vertical-align: top;\n",
       "    }\n",
       "\n",
       "    .dataframe thead th {\n",
       "        text-align: right;\n",
       "    }\n",
       "</style>\n",
       "<table border=\"1\" class=\"dataframe\">\n",
       "  <thead>\n",
       "    <tr style=\"text-align: right;\">\n",
       "      <th></th>\n",
       "      <th>model_name</th>\n",
       "      <th>model_loss</th>\n",
       "      <th>model_acc</th>\n",
       "    </tr>\n",
       "  </thead>\n",
       "  <tbody>\n",
       "    <tr>\n",
       "      <th>0</th>\n",
       "      <td>FashionMNISTModelV0</td>\n",
       "      <td>0.476639</td>\n",
       "      <td>83.426518</td>\n",
       "    </tr>\n",
       "    <tr>\n",
       "      <th>1</th>\n",
       "      <td>FashionMNISTModelV1</td>\n",
       "      <td>0.685001</td>\n",
       "      <td>75.019968</td>\n",
       "    </tr>\n",
       "    <tr>\n",
       "      <th>2</th>\n",
       "      <td>FashionMNISTModelV2</td>\n",
       "      <td>0.317552</td>\n",
       "      <td>88.588259</td>\n",
       "    </tr>\n",
       "  </tbody>\n",
       "</table>\n",
       "</div>"
      ],
      "text/plain": [
       "            model_name  model_loss  model_acc\n",
       "0  FashionMNISTModelV0    0.476639  83.426518\n",
       "1  FashionMNISTModelV1    0.685001  75.019968\n",
       "2  FashionMNISTModelV2    0.317552  88.588259"
      ]
     },
     "execution_count": 48,
     "metadata": {},
     "output_type": "execute_result"
    }
   ],
   "source": [
    "import pandas as pd\n",
    "compare_results = pd.DataFrame([model_0_results, model_1_results, model_2_results])\n",
    "compare_results"
   ]
  },
  {
   "cell_type": "markdown",
   "id": "c67f3fb5-ce7b-40b8-86a0-2797492de0ef",
   "metadata": {
    "id": "c67f3fb5-ce7b-40b8-86a0-2797492de0ef"
   },
   "source": [
    "Nice!\n",
    "\n",
    "We can add the training time values too."
   ]
  },
  {
   "cell_type": "code",
   "execution_count": 49,
   "id": "297af38f-e69f-4c6f-9027-fcaf0482a55c",
   "metadata": {
    "colab": {
     "base_uri": "https://localhost:8080/",
     "height": 143
    },
    "id": "297af38f-e69f-4c6f-9027-fcaf0482a55c",
    "outputId": "67c01781-78c2-47e8-a1ee-452869bea5e2"
   },
   "outputs": [
    {
     "data": {
      "text/html": [
       "<div>\n",
       "<style scoped>\n",
       "    .dataframe tbody tr th:only-of-type {\n",
       "        vertical-align: middle;\n",
       "    }\n",
       "\n",
       "    .dataframe tbody tr th {\n",
       "        vertical-align: top;\n",
       "    }\n",
       "\n",
       "    .dataframe thead th {\n",
       "        text-align: right;\n",
       "    }\n",
       "</style>\n",
       "<table border=\"1\" class=\"dataframe\">\n",
       "  <thead>\n",
       "    <tr style=\"text-align: right;\">\n",
       "      <th></th>\n",
       "      <th>model_name</th>\n",
       "      <th>model_loss</th>\n",
       "      <th>model_acc</th>\n",
       "      <th>training_time</th>\n",
       "    </tr>\n",
       "  </thead>\n",
       "  <tbody>\n",
       "    <tr>\n",
       "      <th>0</th>\n",
       "      <td>FashionMNISTModelV0</td>\n",
       "      <td>0.476639</td>\n",
       "      <td>83.426518</td>\n",
       "      <td>29.342445</td>\n",
       "    </tr>\n",
       "    <tr>\n",
       "      <th>1</th>\n",
       "      <td>FashionMNISTModelV1</td>\n",
       "      <td>0.685001</td>\n",
       "      <td>75.019968</td>\n",
       "      <td>40.067468</td>\n",
       "    </tr>\n",
       "    <tr>\n",
       "      <th>2</th>\n",
       "      <td>FashionMNISTModelV2</td>\n",
       "      <td>0.317552</td>\n",
       "      <td>88.588259</td>\n",
       "      <td>49.745245</td>\n",
       "    </tr>\n",
       "  </tbody>\n",
       "</table>\n",
       "</div>"
      ],
      "text/plain": [
       "            model_name  model_loss  model_acc  training_time\n",
       "0  FashionMNISTModelV0    0.476639  83.426518      29.342445\n",
       "1  FashionMNISTModelV1    0.685001  75.019968      40.067468\n",
       "2  FashionMNISTModelV2    0.317552  88.588259      49.745245"
      ]
     },
     "execution_count": 49,
     "metadata": {},
     "output_type": "execute_result"
    }
   ],
   "source": [
    "# Add training times to results comparison\n",
    "compare_results[\"training_time\"] = [total_train_time_model_0,\n",
    "                                    total_train_time_model_1,\n",
    "                                    total_train_time_model_2]\n",
    "compare_results"
   ]
  },
  {
   "cell_type": "markdown",
   "id": "fbbe5832-1081-4c76-8d5b-06c7a06da7b9",
   "metadata": {
    "id": "fbbe5832-1081-4c76-8d5b-06c7a06da7b9"
   },
   "source": [
    "It looks like our CNN (`FashionMNISTModelV2`) model performed the best (lowest loss, highest accuracy) but had the longest training time.\n",
    "\n",
    "And our baseline model (`FashionMNISTModelV0`) performed better than `model_1` (`FashionMNISTModelV1`).\n",
    "\n",
    "### Performance-speed tradeoff\n",
    "\n",
    "Something to be aware of in machine learning is the **performance-speed** tradeoff.\n",
    "\n",
    "Generally, you get better performance out of a larger, more complex model (like we did with `model_2`).\n",
    "\n",
    "However, this performance increase often comes at a sacrifice of training speed and inference speed.\n",
    "\n",
    "> **Note:** The training times you get will be very dependant on the hardware you use. \n",
    ">\n",
    "> Generally, the more CPU cores you have, the faster your models will train on CPU. And similar for GPUs.\n",
    "> \n",
    "> Newer hardware (in terms of age) will also often train models faster due to incorporating technology advances.\n",
    "\n",
    "How about we get visual?"
   ]
  },
  {
   "cell_type": "code",
   "execution_count": 50,
   "id": "5eb0df60-9318-47d0-adce-f8788ed3999e",
   "metadata": {
    "colab": {
     "base_uri": "https://localhost:8080/",
     "height": 449
    },
    "id": "5eb0df60-9318-47d0-adce-f8788ed3999e",
    "outputId": "d904e039-1544-49f5-bed7-b17555d03b5a"
   },
   "outputs": [
    {
     "data": {
      "image/png": "[encoded data removed]",
      "text/plain": [
       "<Figure size 640x480 with 1 Axes>"
      ]
     },
     "metadata": {},
     "output_type": "display_data"
    }
   ],
   "source": [
    "# Visualize our model results\n",
    "compare_results.set_index(\"model_name\")[\"model_acc\"].plot(kind=\"barh\")\n",
    "plt.xlabel(\"accuracy (%)\")\n",
    "plt.ylabel(\"model\");"
   ]
  },
  {
   "cell_type": "markdown",
   "id": "0ba50d51-adb3-4e49-9b9a-85173e747352",
   "metadata": {
    "id": "0ba50d51-adb3-4e49-9b9a-85173e747352"
   },
   "source": [
    "## 9. Make and evaluate random predictions with best model\n",
    "\n",
    "Alright, we've compared our models to each other, let's further evaluate our best performing model, `model_2`.\n",
    "\n",
    "To do so, let's create a function `make_predictions()` where we can pass the model and some data for it to predict on."
   ]
  },
  {
   "cell_type": "code",
   "execution_count": 51,
   "id": "d1d5d3e7-9601-4141-8bd7-9abbd016bf6c",
   "metadata": {
    "id": "d1d5d3e7-9601-4141-8bd7-9abbd016bf6c"
   },
   "outputs": [],
   "source": [
    "def make_predictions(model: torch.nn.Module, data: list, device: torch.device = device):\n",
    "    pred_probs = []\n",
    "    model.eval()\n",
    "    with torch.inference_mode():\n",
    "        for sample in data:\n",
    "            # Prepare sample\n",
    "            sample = torch.unsqueeze(sample, dim=0).to(device) # Add an extra dimension and send sample to device\n",
    "\n",
    "            # Forward pass (model outputs raw logit)\n",
    "            pred_logit = model(sample)\n",
    "\n",
    "            # Get prediction probability (logit -> prediction probability)\n",
    "            pred_prob = torch.softmax(pred_logit.squeeze(), dim=0) # note: perform softmax on the \"logits\" dimension, not \"batch\" dimension (in this case we have a batch size of 1, so can perform on dim=0)\n",
    "\n",
    "            # Get pred_prob off GPU for further calculations\n",
    "            pred_probs.append(pred_prob.cpu())\n",
    "            \n",
    "    # Stack the pred_probs to turn list into a tensor\n",
    "    return torch.stack(pred_probs)"
   ]
  },
  {
   "cell_type": "code",
   "execution_count": 52,
   "id": "420c7461-eaa9-4459-9e68-53574c758765",
   "metadata": {
    "colab": {
     "base_uri": "https://localhost:8080/"
    },
    "id": "420c7461-eaa9-4459-9e68-53574c758765",
    "outputId": "f3dd6437-4f0f-4bc2-f9e6-d0969df63a52"
   },
   "outputs": [
    {
     "name": "stdout",
     "output_type": "stream",
     "text": [
      "Test sample image shape: torch.Size([1, 28, 28])\n",
      "Test sample label: 5 (Sandal)\n"
     ]
    }
   ],
   "source": [
    "import random\n",
    "random.seed(42)\n",
    "test_samples = []\n",
    "test_labels = []\n",
    "for sample, label in random.sample(list(test_data), k=9):\n",
    "    test_samples.append(sample)\n",
    "    test_labels.append(label)\n",
    "\n",
    "# View the first test sample shape and label\n",
    "print(f\"Test sample image shape: {test_samples[0].shape}\\nTest sample label: {test_labels[0]} ({class_names[test_labels[0]]})\")"
   ]
  },
  {
   "cell_type": "code",
   "execution_count": 53,
   "id": "1DYqA0r4SkrV",
   "metadata": {
    "colab": {
     "base_uri": "https://localhost:8080/"
    },
    "id": "1DYqA0r4SkrV",
    "outputId": "97bc573d-b39b-4eb2-caad-0379257b555e"
   },
   "outputs": [
    {
     "data": {
      "text/plain": [
       "tensor([[1.2358e-07, 2.3509e-09, 9.2667e-09, 8.6962e-09, 2.9164e-09, 9.9969e-01,\n",
       "         8.4259e-07, 9.9020e-07, 5.3950e-06, 3.0408e-04],\n",
       "        [6.5897e-02, 3.6190e-01, 2.9735e-04, 2.5761e-01, 1.7979e-01, 2.8884e-04,\n",
       "         1.3362e-01, 1.4772e-04, 4.2597e-04, 2.4280e-05]])"
      ]
     },
     "execution_count": 53,
     "metadata": {},
     "output_type": "execute_result"
    }
   ],
   "source": [
    "# Make predictions on test samples with model 2\n",
    "pred_probs= make_predictions(model=model_2, \n",
    "                             data=test_samples)\n",
    "\n",
    "# View first two prediction probabilities list\n",
    "pred_probs[:2]"
   ]
  },
  {
   "cell_type": "markdown",
   "id": "e9f40dd9-7987-42a9-84cc-65dc912a6345",
   "metadata": {
    "id": "e9f40dd9-7987-42a9-84cc-65dc912a6345"
   },
   "source": [
    "And now we can use our `make_predictions()` function to predict on `test_samples`."
   ]
  },
  {
   "cell_type": "code",
   "execution_count": 54,
   "id": "79de2ac1-7d4b-4f81-ae8a-90099bca2a3d",
   "metadata": {
    "colab": {
     "base_uri": "https://localhost:8080/"
    },
    "id": "79de2ac1-7d4b-4f81-ae8a-90099bca2a3d",
    "outputId": "918b07bc-4545-4401-84d5-8796ff5acf4c"
   },
   "outputs": [
    {
     "data": {
      "text/plain": [
       "tensor([[1.2358e-07, 2.3509e-09, 9.2667e-09, 8.6962e-09, 2.9164e-09, 9.9969e-01,\n",
       "         8.4259e-07, 9.9020e-07, 5.3950e-06, 3.0408e-04],\n",
       "        [6.5897e-02, 3.6190e-01, 2.9735e-04, 2.5761e-01, 1.7979e-01, 2.8884e-04,\n",
       "         1.3362e-01, 1.4772e-04, 4.2597e-04, 2.4280e-05]])"
      ]
     },
     "execution_count": 54,
     "metadata": {},
     "output_type": "execute_result"
    }
   ],
   "source": [
    "# Make predictions on test samples with model 2\n",
    "pred_probs= make_predictions(model=model_2, \n",
    "                             data=test_samples)\n",
    "\n",
    "# View first two prediction probabilities list\n",
    "pred_probs[:2]"
   ]
  },
  {
   "cell_type": "markdown",
   "id": "22d3c080-4eb6-4b5d-a5c4-2319e78228af",
   "metadata": {
    "id": "22d3c080-4eb6-4b5d-a5c4-2319e78228af"
   },
   "source": [
    "Excellent!\n",
    "\n",
    "And now we can go from prediction probabilities to prediction labels by taking the `torch.argmax()` of the output of the `torch.softmax()` activation function."
   ]
  },
  {
   "cell_type": "code",
   "execution_count": 55,
   "id": "f9d97bcc-4310-4851-a1f8-6bcd757e9b26",
   "metadata": {
    "colab": {
     "base_uri": "https://localhost:8080/"
    },
    "id": "f9d97bcc-4310-4851-a1f8-6bcd757e9b26",
    "outputId": "9d0f0bf9-a641-45e7-af77-6621fd1cfcc4"
   },
   "outputs": [
    {
     "data": {
      "text/plain": [
       "tensor([5, 1, 7, 4, 3, 0, 4, 7, 1])"
      ]
     },
     "execution_count": 55,
     "metadata": {},
     "output_type": "execute_result"
    }
   ],
   "source": [
    "# Turn the prediction probabilities into prediction labels by taking the argmax()\n",
    "pred_classes = pred_probs.argmax(dim=1)\n",
    "pred_classes"
   ]
  },
  {
   "cell_type": "code",
   "execution_count": 56,
   "id": "1141af97-0990-4920-83d4-c13cca3f9abc",
   "metadata": {
    "colab": {
     "base_uri": "https://localhost:8080/"
    },
    "id": "1141af97-0990-4920-83d4-c13cca3f9abc",
    "outputId": "c69cddd4-bbe9-495e-d477-6ea0a6c7d8de"
   },
   "outputs": [
    {
     "data": {
      "text/plain": [
       "([5, 1, 7, 4, 3, 0, 4, 7, 1], tensor([5, 1, 7, 4, 3, 0, 4, 7, 1]))"
      ]
     },
     "execution_count": 56,
     "metadata": {},
     "output_type": "execute_result"
    }
   ],
   "source": [
    "# Are our predictions in the same form as our test labels? \n",
    "test_labels, pred_classes"
   ]
  },
  {
   "cell_type": "markdown",
   "id": "4ea04387-c9ad-424f-8297-defd7b685683",
   "metadata": {
    "id": "4ea04387-c9ad-424f-8297-defd7b685683"
   },
   "source": [
    "Now our predicted classes are in the same format as our test labels, we can compare.\n",
    "\n",
    "Since we're dealing with image data, let's stay true to the data explorer's motto. \n",
    "\n",
    "\"Visualize, visualize, visualize!\""
   ]
  },
  {
   "cell_type": "code",
   "execution_count": 57,
   "id": "679cb5f7-bb66-42dd-a4d6-400b27b7c019",
   "metadata": {
    "colab": {
     "base_uri": "https://localhost:8080/",
     "height": 749
    },
    "id": "679cb5f7-bb66-42dd-a4d6-400b27b7c019",
    "outputId": "3aae0abe-9c19-4054-d8db-7e00403666aa"
   },
   "outputs": [
    {
     "data": {
      "image/png": "[encoded data removed]",
      "text/plain": [
       "<Figure size 900x900 with 9 Axes>"
      ]
     },
     "metadata": {},
     "output_type": "display_data"
    }
   ],
   "source": [
    "# Plot predictions\n",
    "plt.figure(figsize=(9, 9))\n",
    "nrows = 3\n",
    "ncols = 3\n",
    "for i, sample in enumerate(test_samples):\n",
    "  # Create a subplot\n",
    "  plt.subplot(nrows, ncols, i+1)\n",
    "\n",
    "  # Plot the target image\n",
    "  plt.imshow(sample.squeeze(), cmap=\"gray\")\n",
    "\n",
    "  # Find the prediction label (in text form, e.g. \"Sandal\")\n",
    "  pred_label = class_names[pred_classes[i]]\n",
    "\n",
    "  # Get the truth label (in text form, e.g. \"T-shirt\")\n",
    "  truth_label = class_names[test_labels[i]] \n",
    "\n",
    "  # Create the title text of the plot\n",
    "  title_text = f\"Pred: {pred_label} | Truth: {truth_label}\"\n",
    "  \n",
    "  # Check for equality and change title colour accordingly\n",
    "  if pred_label == truth_label:\n",
    "      plt.title(title_text, fontsize=10, c=\"g\") # green text if correct\n",
    "  else:\n",
    "      plt.title(title_text, fontsize=10, c=\"r\") # red text if wrong\n",
    "  plt.axis(False);"
   ]
  },
  {
   "cell_type": "markdown",
   "id": "5ce6dc44-90a5-48c3-91a5-810fa084d98b",
   "metadata": {
    "id": "5ce6dc44-90a5-48c3-91a5-810fa084d98b"
   },
   "source": [
    "Well, well, well, doesn't that look good!\n",
    "\n",
    "Not bad for a couple dozen lines of PyTorch code!"
   ]
  },
  {
   "cell_type": "markdown",
   "id": "ab108078-6770-4cb9-ac62-a761ff159aba",
   "metadata": {
    "id": "ab108078-6770-4cb9-ac62-a761ff159aba"
   },
   "source": [
    "## 10. Making a confusion matrix for further prediction evaluation\n",
    "\n",
    "There are many [different evaluation metrics](https://www.learnpytorch.io/02_pytorch_classification/#9-more-classification-evaluation-metrics) we can use for classification problems. \n",
    "\n",
    "One of the most visual is a [confusion matrix](https://www.dataschool.io/simple-guide-to-confusion-matrix-terminology/).\n",
    "\n",
    "A confusion matrix shows you where your classification model got confused between predicitons and true labels.\n",
    "\n",
    "To make a confusion matrix, we'll go through three steps:\n",
    "1. Make predictions with our trained model, `model_2` (a confusion matrix compares predictions to true labels).\n",
    "2. Make a confusion matrix using [`torchmetrics.ConfusionMatrix`](https://torchmetrics.readthedocs.io/en/latest/references/modules.html?highlight=confusion#confusionmatrix).\n",
    "3. Plot the confusion matrix using [`mlxtend.plotting.plot_confusion_matrix()`](http://rasbt.github.io/mlxtend/user_guide/plotting/plot_confusion_matrix/).\n",
    "\n",
    "Let's start by making predictions with our trained model."
   ]
  },
  {
   "cell_type": "code",
   "execution_count": 58,
   "id": "065b8090-c9c5-43df-b5c1-b45ba33af1be",
   "metadata": {
    "colab": {
     "base_uri": "https://localhost:8080/",
     "height": 49,
     "referenced_widgets": [
      "d3ab200da5f940d5b45396f83bd835e2",
      "f35a13b3e55342aeb24b188c1d81a9e5",
      "4a282c1974524bd3a7eba45fd3112129",
      "44d4196e99a4412f893ba8ac4672915d",
      "12d1a54d4107428eae2e64ff0a255c50",
      "4d6eb654b2794b0a95f31ac94b52a4ca",
      "fe5cff037f714657996f0541baee39f3",
      "0670e3e758e6486b9cf4e2797b4b619a",
      "3c590fc27b624584ba564e18bc42a2e4",
      "629ca5b704b84a958d4ee477907f64a1",
      "4d7c25dcdde8414382be4cf63a9cacf9"
     ]
    },
    "id": "065b8090-c9c5-43df-b5c1-b45ba33af1be",
    "outputId": "92a8bee2-71f5-4504-d534-cc63138c413d"
   },
   "outputs": [
    {
     "name": "stderr",
     "output_type": "stream",
     "text": [
      "Making predictions: 100%|██████████| 313/313 [00:01<00:00, 165.02it/s]\n"
     ]
    }
   ],
   "source": [
    "# Import tqdm for progress bar\n",
    "from tqdm.auto import tqdm\n",
    "\n",
    "# 1. Make predictions with trained model\n",
    "y_preds = []\n",
    "model_2.eval()\n",
    "with torch.inference_mode():\n",
    "  for X, y in tqdm(test_dataloader, desc=\"Making predictions\"):\n",
    "    # Send data and targets to target device\n",
    "    X, y = X.to(device), y.to(device)\n",
    "    # Do the forward pass\n",
    "    y_logit = model_2(X)\n",
    "    # Turn predictions from logits -> prediction probabilities -> predictions labels\n",
    "    y_pred = torch.softmax(y_logit, dim=1).argmax(dim=1) # note: perform softmax on the \"logits\" dimension, not \"batch\" dimension (in this case we have a batch size of 32, so can perform on dim=1)\n",
    "    # Put predictions on CPU for evaluation\n",
    "    y_preds.append(y_pred.cpu())\n",
    "# Concatenate list of predictions into a tensor\n",
    "y_pred_tensor = torch.cat(y_preds)"
   ]
  },
  {
   "cell_type": "markdown",
   "id": "362002d9-ec41-4c74-a210-b5d4f53410c4",
   "metadata": {
    "id": "362002d9-ec41-4c74-a210-b5d4f53410c4"
   },
   "source": [
    "Wonderful!\n",
    "\n",
    "Now we've got predictions, let's go through steps 2 & 3:\n",
    "2. Make a confusion matrix using [`torchmetrics.ConfusionMatrix`](https://torchmetrics.readthedocs.io/en/latest/references/modules.html?highlight=confusion#confusionmatrix).\n",
    "3. Plot the confusion matrix using [`mlxtend.plotting.plot_confusion_matrix()`](http://rasbt.github.io/mlxtend/user_guide/plotting/plot_confusion_matrix/).\n",
    "\n",
    "First we'll need to make sure we've got `torchmetrics` and `mlxtend` installed (these two libraries will help us make and visual a confusion matrix).\n",
    "\n",
    "> **Note:** If you're using Google Colab, the default version of `mlxtend` installed is 0.14.0 (as of March 2022), however, for the parameters of the `plot_confusion_matrix()` function we'd like use, we need 0.19.0 or higher. "
   ]
  },
  {
   "cell_type": "code",
   "execution_count": 59,
   "id": "e6c0a05d-d3e0-4b86-9ef7-ee6ea5629b07",
   "metadata": {
    "colab": {
     "base_uri": "https://localhost:8080/"
    },
    "id": "e6c0a05d-d3e0-4b86-9ef7-ee6ea5629b07",
    "outputId": "b37df16c-c292-4347-807c-91c97bf81f20"
   },
   "outputs": [
    {
     "ename": "SyntaxError",
     "evalue": "invalid syntax (332554280.py, line 3)",
     "output_type": "error",
     "traceback": [
      "\u001b[1;36m  Cell \u001b[1;32mIn[59], line 3\u001b[1;36m\u001b[0m\n\u001b[1;33m    import torchmetrics,\u001b[0m\n\u001b[1;37m                         ^\u001b[0m\n\u001b[1;31mSyntaxError\u001b[0m\u001b[1;31m:\u001b[0m invalid syntax\n"
     ]
    }
   ],
   "source": [
    "# See if torchmetrics exists, if not, install it\n",
    "try:\n",
    "    import torchmetrics, \n",
    "    print(f\"mlxtend version: {mlxtend.__version__}\")\n",
    "    assert int(mlxtend.__version__.split(\".\")[1]) >= 19, \"mlxtend verison should be 0.19.0 or higher\"\n",
    "except:\n",
    "    !pip install -q torchmetrics -U mlxtend # <- Note: If you're using Google Colab, this may require restarting the runtime\n",
    "    import torchmetrics, mlxtend\n",
    "    print(f\"mlxtend version: {mlxtend.__version__}\")"
   ]
  },
  {
   "cell_type": "markdown",
   "id": "5245ede6-fd7f-40ad-a0b3-ae678544b84a",
   "metadata": {
    "id": "5245ede6-fd7f-40ad-a0b3-ae678544b84a"
   },
   "source": [
    "To plot the confusion matrix, we need to make sure we've got and [`mlxtend`](http://rasbt.github.io/mlxtend/) version of 0.19.0 or higher."
   ]
  },
  {
   "cell_type": "code",
   "execution_count": 60,
   "id": "21383f88-a2dd-4678-94c6-479c592da0ab",
   "metadata": {
    "colab": {
     "base_uri": "https://localhost:8080/"
    },
    "id": "21383f88-a2dd-4678-94c6-479c592da0ab",
    "outputId": "faffbe4c-9c86-4a20-cbd6-c7e8e48e81a5"
   },
   "outputs": [
    {
     "name": "stdout",
     "output_type": "stream",
     "text": [
      "0.23.1\n"
     ]
    }
   ],
   "source": [
    "# Import mlxtend upgraded version\n",
    "import mlxtend \n",
    "print(mlxtend.__version__)\n",
    "assert int(mlxtend.__version__.split(\".\")[1]) >= 19 # should be version 0.19.0 or higher"
   ]
  },
  {
   "cell_type": "markdown",
   "id": "c91b9346-e25f-48ab-967e-425649331dc6",
   "metadata": {
    "id": "c91b9346-e25f-48ab-967e-425649331dc6"
   },
   "source": [
    "`torchmetrics` and `mlxtend` installed, let's make a confusion matrix!\n",
    "\n",
    "First we'll create a `torchmetrics.ConfusionMatrix` instance telling it how many classes we're dealing with by setting `num_classes=len(class_names)`.\n",
    "\n",
    "Then we'll create a confusion matrix (in tensor format) by passing our instance our model's predictions (`preds=y_pred_tensor`) and targets (`target=test_data.targets`).\n",
    "\n",
    "Finally we can plot our confision matrix using the `plot_confusion_matrix()` function from `mlxtend.plotting`."
   ]
  },
  {
   "cell_type": "code",
   "execution_count": 61,
   "id": "7aed6d76-ad1c-429e-b8e0-c80572e3ebf4",
   "metadata": {
    "colab": {
     "base_uri": "https://localhost:8080/",
     "height": 667
    },
    "id": "7aed6d76-ad1c-429e-b8e0-c80572e3ebf4",
    "outputId": "ae34ae74-2038-4037-f01d-77a807e4de9b"
   },
   "outputs": [
    {
     "data": {
      "image/png": "[encoded data removed]",
      "text/plain": [
       "<Figure size 1000x700 with 1 Axes>"
      ]
     },
     "metadata": {},
     "output_type": "display_data"
    }
   ],
   "source": [
    "from torchmetrics import ConfusionMatrix\n",
    "from mlxtend.plotting import plot_confusion_matrix\n",
    "\n",
    "# 2. Setup confusion matrix instance and compare predictions to targets\n",
    "confmat = ConfusionMatrix(num_classes=len(class_names), task='multiclass')\n",
    "confmat_tensor = confmat(preds=y_pred_tensor,\n",
    "                         target=test_data.targets)\n",
    "\n",
    "# 3. Plot the confusion matrix\n",
    "fig, ax = plot_confusion_matrix(\n",
    "    conf_mat=confmat_tensor.numpy(), # matplotlib likes working with NumPy \n",
    "    class_names=class_names, # turn the row and column labels into class names\n",
    "    figsize=(10, 7)\n",
    ");"
   ]
  },
  {
   "cell_type": "markdown",
   "id": "381c1c93-df30-451c-b65e-5d4c1680dc30",
   "metadata": {
    "id": "381c1c93-df30-451c-b65e-5d4c1680dc30"
   },
   "source": [
    "Woah! Doesn't that look good?\n",
    "\n",
    "We can see our model does fairly well since most of the dark squares are down the diagonal from top left to bottom right (and ideal model will have only values in these squares and 0 everywhere else).\n",
    "\n",
    "The model gets most \"confused\" on classes that are similar, for example predicting \"Pullover\" for images that are actually labelled \"Shirt\".\n",
    "\n",
    "And the same for predicting \"Shirt\" for classes that are actually labelled \"T-shirt/top\".\n",
    "\n",
    "This kind of information is often more helpful than a single accuracy metric because it tells use *where* a model is getting things wrong.\n",
    "\n",
    "It also hints at *why* the model may be getting certain things wrong.\n",
    "\n",
    "It's understandable the model sometimes predicts \"Shirt\" for images labelled \"T-shirt/top\".\n",
    "\n",
    "We can use this kind of information to further inspect our models and data to see how it could be improved.\n",
    "\n",
    "> **Exercise:** Use the trained `model_2` to make predictions on the test FashionMNIST dataset. Then plot some predictions where the model was wrong alongside what the label of the image should've been. After visualing these predictions do you think it's more of a modelling error or a data error? As in, could the model do better or are the labels of the data too close to each other (e.g. a \"Shirt\" label is too close to \"T-shirt/top\")?"
   ]
  },
  {
   "cell_type": "markdown",
   "id": "25818e83-89de-496d-8b56-af4fc9f2acc5",
   "metadata": {
    "id": "25818e83-89de-496d-8b56-af4fc9f2acc5"
   },
   "source": [
    "## 11. Save and load best performing model\n",
    "\n",
    "Let's finish this section off by saving and loading in our best performing model.\n",
    "\n",
    "Recall from [notebook 01](https://www.learnpytorch.io/01_pytorch_workflow/#5-saving-and-loading-a-pytorch-model) we can save and load a PyTorch model using a combination of:\n",
    "* `torch.save` - a function to save a whole PyTorch model or a model's `state_dict()`. \n",
    "* `torch.load` - a function to load in a saved PyTorch object.\n",
    "* `torch.nn.Module.load_state_dict()` - a function to load a saved `state_dict()` into an existing model instance.\n",
    "\n",
    "You can see more of these three in the [PyTorch saving and loading models documentation](https://pytorch.org/tutorials/beginner/saving_loading_models.html).\n",
    "\n",
    "For now, let's save our `model_2`'s `state_dict()` then load it back in and evaluate it to make sure the save and load went correctly. "
   ]
  },
  {
   "cell_type": "code",
   "execution_count": 62,
   "id": "d058e8fa-560f-4350-a154-49593ff403c9",
   "metadata": {
    "colab": {
     "base_uri": "https://localhost:8080/"
    },
    "id": "d058e8fa-560f-4350-a154-49593ff403c9",
    "outputId": "0156a518-dae2-4b25-999a-c0a77ef7ef7c"
   },
   "outputs": [
    {
     "name": "stdout",
     "output_type": "stream",
     "text": [
      "Saving model to: models\\03_pytorch_computer_vision_model_2_org.pth\n"
     ]
    }
   ],
   "source": [
    "from pathlib import Path\n",
    "\n",
    "# Create models directory (if it doesn't already exist), see: https://docs.python.org/3/library/pathlib.html#pathlib.Path.mkdir\n",
    "MODEL_PATH = Path(\"models\")\n",
    "MODEL_PATH.mkdir(parents=True, # create parent directories if needed\n",
    "                 exist_ok=True # if models directory already exists, don't error\n",
    ")\n",
    "\n",
    "# Create model save path\n",
    "MODEL_NAME = \"03_pytorch_computer_vision_model_2_org.pth\"\n",
    "MODEL_SAVE_PATH = MODEL_PATH / MODEL_NAME\n",
    "\n",
    "# Save the model state dict\n",
    "print(f\"Saving model to: {MODEL_SAVE_PATH}\")\n",
    "torch.save(obj=model_2.state_dict(), # only saving the state_dict() only saves the learned parameters\n",
    "           f=MODEL_SAVE_PATH)"
   ]
  },
  {
   "cell_type": "code",
   "execution_count": 68,
   "id": "48f0bb9b",
   "metadata": {},
   "outputs": [
    {
     "data": {
      "text/plain": [
       "OrderedDict([('block_1.0.weight',\n",
       "              tensor([[[[ 0.2850,  0.2830, -0.4310],\n",
       "                        [ 0.4249,  0.1386, -0.0660],\n",
       "                        [-0.3115,  0.1611,  0.3809]]],\n",
       "              \n",
       "              \n",
       "                      [[[-0.4680,  0.3467, -0.0356],\n",
       "                        [ 0.2879,  0.4164,  0.2063],\n",
       "                        [-0.2047,  0.3217,  0.1393]]],\n",
       "              \n",
       "              \n",
       "                      [[[-0.1853,  0.0180,  0.0363],\n",
       "                        [-0.6972, -0.5620,  0.3016],\n",
       "                        [-0.8247, -0.6299, -0.0656]]],\n",
       "              \n",
       "              \n",
       "                      [[[-0.7560, -1.0481, -0.5257],\n",
       "                        [ 0.2275, -0.8818,  0.1943],\n",
       "                        [ 0.2321, -0.1028,  0.3444]]],\n",
       "              \n",
       "              \n",
       "                      [[[-0.1156,  0.3036,  0.1733],\n",
       "                        [-0.4561,  0.0553,  0.1029],\n",
       "                        [-0.2419,  0.2186,  0.2994]]],\n",
       "              \n",
       "              \n",
       "                      [[[-0.1459,  0.1927,  0.0613],\n",
       "                        [ 0.1763, -0.2006, -0.3326],\n",
       "                        [-0.1275, -0.2540,  0.2676]]],\n",
       "              \n",
       "              \n",
       "                      [[[ 0.2037,  0.3097,  0.1494],\n",
       "                        [ 0.0907,  0.1816, -0.3245],\n",
       "                        [-0.1650, -0.5313,  0.0207]]],\n",
       "              \n",
       "              \n",
       "                      [[[-0.1572,  0.1355, -0.2279],\n",
       "                        [ 0.3147, -0.2048, -0.3648],\n",
       "                        [-0.1605,  0.4559,  0.1609]]],\n",
       "              \n",
       "              \n",
       "                      [[[ 0.7541, -0.2936, -0.6702],\n",
       "                        [-0.1327, -0.3795, -0.1948],\n",
       "                        [ 0.4746,  0.5395, -0.1121]]],\n",
       "              \n",
       "              \n",
       "                      [[[-0.2267,  0.1784, -0.1336],\n",
       "                        [ 0.2037, -0.0784,  0.1922],\n",
       "                        [-0.2589, -0.1683,  0.1029]]]], device='cuda:0')),\n",
       "             ('block_1.0.bias',\n",
       "              tensor([ 0.0101,  0.0595,  0.2138,  0.1563, -0.0783, -0.1802,  0.1030, -0.0587,\n",
       "                      -0.1748, -0.3206], device='cuda:0')),\n",
       "             ('block_1.2.weight',\n",
       "              tensor([[[[ 1.9963e-01,  7.4514e-02, -4.7510e-03],\n",
       "                        [-3.3308e-02, -1.4958e-01, -2.6176e-01],\n",
       "                        [-1.5412e-01, -2.4924e-01, -2.3494e-01]],\n",
       "              \n",
       "                       [[-1.4073e-02,  3.9248e-02, -1.2032e-01],\n",
       "                        [-1.2777e-01, -2.4263e-01, -2.8835e-01],\n",
       "                        [-5.7807e-02, -1.5060e-01, -2.8372e-01]],\n",
       "              \n",
       "                       [[-1.0781e-02, -3.3088e-03,  1.2735e-01],\n",
       "                        [ 7.0349e-02,  2.3364e-01,  1.7946e-01],\n",
       "                        [-1.5738e-03,  4.2445e-02,  1.6718e-01]],\n",
       "              \n",
       "                       [[-2.1986e-01, -4.1471e-02, -1.4455e-01],\n",
       "                        [-1.3373e-02, -2.8234e-02, -4.3500e-02],\n",
       "                        [ 1.2622e-01,  1.4148e-02,  1.2295e-01]],\n",
       "              \n",
       "                       [[-1.6805e-01, -1.1365e-01, -4.6757e-02],\n",
       "                        [-9.9213e-02,  1.5567e-02, -1.1535e-01],\n",
       "                        [ 3.3010e-02, -1.0895e-01, -4.6505e-02]],\n",
       "              \n",
       "                       [[ 2.3431e-02,  5.4462e-02,  8.4403e-02],\n",
       "                        [ 9.5996e-02, -8.3236e-02,  2.7040e-02],\n",
       "                        [-4.5142e-02, -1.2455e-02, -7.7714e-02]],\n",
       "              \n",
       "                       [[ 2.1357e-01,  2.5924e-02,  8.5798e-02],\n",
       "                        [ 7.3245e-02,  2.1145e-02, -5.3511e-02],\n",
       "                        [-2.8255e-03, -3.6535e-02, -1.0010e-02]],\n",
       "              \n",
       "                       [[-9.0842e-02,  4.3413e-02, -1.4163e-02],\n",
       "                        [-3.8270e-02,  8.8957e-02,  1.7754e-02],\n",
       "                        [-1.0328e-02, -5.9763e-02, -2.2168e-02]],\n",
       "              \n",
       "                       [[ 3.0541e-02, -3.2364e-02, -6.8221e-02],\n",
       "                        [-5.2213e-02, -6.0318e-02,  4.8076e-02],\n",
       "                        [ 1.5189e-01, -8.5778e-02,  2.2607e-03]],\n",
       "              \n",
       "                       [[ 5.4447e-02,  1.9096e-02, -3.7547e-02],\n",
       "                        [ 5.5017e-02,  5.5394e-02,  3.9415e-02],\n",
       "                        [-1.8523e-02, -2.7913e-02,  1.1270e-02]]],\n",
       "              \n",
       "              \n",
       "                      [[[ 1.0396e-01, -2.3961e-01, -2.0899e-01],\n",
       "                        [ 2.5188e-01, -5.1963e-02,  2.9062e-02],\n",
       "                        [ 9.4661e-03,  4.5672e-02,  2.0389e-01]],\n",
       "              \n",
       "                       [[ 2.3226e-02, -1.8305e-01, -4.5424e-02],\n",
       "                        [ 9.0662e-02,  7.0401e-02,  1.3037e-01],\n",
       "                        [-7.9578e-02, -1.2470e-01, -6.3099e-02]],\n",
       "              \n",
       "                       [[-1.8945e-02,  2.1547e-02,  9.8985e-02],\n",
       "                        [ 3.2480e-02, -1.1900e-01, -7.0069e-02],\n",
       "                        [ 7.2872e-03,  9.2601e-02,  6.7627e-03]],\n",
       "              \n",
       "                       [[ 3.1466e-01,  3.7203e-01,  1.9526e-01],\n",
       "                        [-5.1066e-02,  1.0239e-01,  9.9505e-02],\n",
       "                        [-5.0566e-02, -3.1011e-02,  2.0463e-01]],\n",
       "              \n",
       "                       [[-1.3025e-04, -1.6905e-02, -1.4045e-01],\n",
       "                        [-1.3168e-01, -1.3149e-01,  5.1934e-02],\n",
       "                        [ 1.0759e-01,  1.2700e-01,  1.3856e-01]],\n",
       "              \n",
       "                       [[ 2.6939e-02, -5.8042e-04, -8.0017e-02],\n",
       "                        [-8.9628e-02, -9.8393e-02,  4.4032e-02],\n",
       "                        [-5.1865e-02, -2.2048e-02, -5.9924e-02]],\n",
       "              \n",
       "                       [[-5.2759e-02, -1.0832e-01, -1.1776e-01],\n",
       "                        [ 1.7706e-02, -3.2351e-02,  6.3343e-02],\n",
       "                        [ 6.0732e-02, -1.8976e-02, -2.4006e-02]],\n",
       "              \n",
       "                       [[ 7.3159e-02,  1.6971e-02, -1.5700e-01],\n",
       "                        [-4.9158e-03, -1.1832e-01,  4.4851e-02],\n",
       "                        [ 4.4806e-02,  7.6706e-02, -9.3864e-02]],\n",
       "              \n",
       "                       [[ 2.3398e-01,  4.6839e-02,  8.4219e-03],\n",
       "                        [ 1.6896e-01, -7.3687e-02, -8.2841e-02],\n",
       "                        [ 2.9390e-02, -8.7628e-02,  7.6201e-02]],\n",
       "              \n",
       "                       [[-1.0467e-01,  6.5439e-02,  7.8847e-02],\n",
       "                        [ 9.9639e-02, -2.4964e-02, -8.6729e-02],\n",
       "                        [ 2.3728e-02,  5.8164e-02, -1.0499e-01]]],\n",
       "              \n",
       "              \n",
       "                      [[[-2.5916e-02, -6.5150e-02, -1.1004e-02],\n",
       "                        [-5.3223e-02, -4.5767e-02, -3.4702e-02],\n",
       "                        [-9.7543e-02,  9.1562e-02,  9.3080e-02]],\n",
       "              \n",
       "                       [[-1.7308e-02, -1.2943e-02, -4.4189e-02],\n",
       "                        [-9.5297e-02, -1.0238e-01,  3.6376e-02],\n",
       "                        [-5.4096e-02, -6.6570e-02, -7.6985e-03]],\n",
       "              \n",
       "                       [[-4.0071e-02, -4.0969e-02, -4.5859e-03],\n",
       "                        [-2.2352e-02, -3.5236e-02, -4.7421e-02],\n",
       "                        [-8.0793e-02,  8.9949e-02, -4.2032e-02]],\n",
       "              \n",
       "                       [[ 2.0914e-02, -4.2166e-02,  2.4189e-03],\n",
       "                        [ 1.0164e-01,  4.7294e-02, -9.0443e-02],\n",
       "                        [ 4.4346e-02,  9.9181e-02,  3.3581e-02]],\n",
       "              \n",
       "                       [[ 7.0735e-02,  1.0416e-01, -1.5870e-02],\n",
       "                        [ 2.3442e-02, -7.3434e-02, -2.3195e-02],\n",
       "                        [ 7.3409e-02,  5.3414e-02, -6.5147e-02]],\n",
       "              \n",
       "                       [[-8.4522e-02, -7.2032e-02, -1.0403e-01],\n",
       "                        [-8.1338e-02, -2.6166e-02,  7.1283e-02],\n",
       "                        [ 1.7687e-02, -7.9965e-02, -8.4565e-02]],\n",
       "              \n",
       "                       [[ 4.9358e-02, -8.2009e-02, -1.6378e-02],\n",
       "                        [ 5.0680e-02, -4.8288e-02, -9.1855e-03],\n",
       "                        [-7.2319e-03, -2.3449e-02, -5.3617e-02]],\n",
       "              \n",
       "                       [[-9.4016e-02, -8.5215e-02, -5.6410e-02],\n",
       "                        [ 1.0059e-01, -5.0804e-02, -7.3078e-02],\n",
       "                        [ 2.3534e-02,  2.9944e-02,  6.1649e-02]],\n",
       "              \n",
       "                       [[ 7.9266e-02,  5.8602e-02, -1.0455e-01],\n",
       "                        [ 1.3493e-02,  6.5948e-02, -1.0269e-02],\n",
       "                        [-6.9232e-02,  9.5865e-02, -3.8285e-02]],\n",
       "              \n",
       "                       [[-6.0014e-02, -9.5032e-02,  4.7085e-03],\n",
       "                        [ 4.6710e-02,  2.3334e-02,  2.0845e-02],\n",
       "                        [-7.9941e-02, -9.8433e-02,  1.8562e-03]]],\n",
       "              \n",
       "              \n",
       "                      [[[ 9.7098e-02, -8.8353e-03, -2.3786e-01],\n",
       "                        [ 1.5026e-02,  1.0702e-01,  6.4614e-02],\n",
       "                        [ 4.4704e-02,  1.2779e-01,  2.5159e-01]],\n",
       "              \n",
       "                       [[ 7.5827e-02, -1.2319e-01, -1.4332e-01],\n",
       "                        [ 1.9304e-01,  1.1428e-01,  1.4497e-01],\n",
       "                        [ 1.4412e-01, -3.0470e-02,  5.9598e-02]],\n",
       "              \n",
       "                       [[-1.0429e-02, -4.8039e-01, -2.2073e-01],\n",
       "                        [-1.1069e-01, -2.8151e-01, -1.0700e-01],\n",
       "                        [ 9.1953e-02, -1.8827e-01, -1.5022e-01]],\n",
       "              \n",
       "                       [[-1.4344e-01, -1.2751e-01,  1.2851e-02],\n",
       "                        [-3.3751e-01, -1.3519e-01, -5.6061e-02],\n",
       "                        [-2.6467e-01, -3.3260e-01, -3.9059e-01]],\n",
       "              \n",
       "                       [[-4.3761e-02, -2.5144e-01, -9.6031e-02],\n",
       "                        [ 1.1928e-01,  1.0016e-02, -8.3755e-02],\n",
       "                        [ 1.1562e-01,  9.1158e-03,  7.7292e-02]],\n",
       "              \n",
       "                       [[-5.1026e-02, -4.5642e-02,  3.6786e-02],\n",
       "                        [-6.7741e-02, -7.2766e-02, -5.2535e-04],\n",
       "                        [-3.9151e-02, -7.6318e-02,  5.7955e-02]],\n",
       "              \n",
       "                       [[ 1.0944e-01, -1.3185e-01, -7.6570e-03],\n",
       "                        [-2.8473e-01, -9.3456e-02, -3.5630e-02],\n",
       "                        [ 1.9816e-01,  1.1856e-01,  1.0013e-01]],\n",
       "              \n",
       "                       [[-5.9589e-02, -1.4497e-01,  1.6653e-02],\n",
       "                        [-1.8507e-01, -1.7101e-01, -7.2430e-02],\n",
       "                        [ 5.7604e-02, -5.4882e-02, -7.8155e-02]],\n",
       "              \n",
       "                       [[-1.6633e-02, -1.3587e-01, -7.0996e-02],\n",
       "                        [-1.7698e-01, -3.7998e-01, -2.9104e-01],\n",
       "                        [ 5.1432e-02,  6.5087e-03, -1.4454e-01]],\n",
       "              \n",
       "                       [[-1.0389e-01, -8.6288e-02,  2.0722e-02],\n",
       "                        [ 2.8089e-02,  2.2258e-02, -2.8642e-02],\n",
       "                        [ 9.7104e-02,  1.5470e-02, -6.2306e-02]]],\n",
       "              \n",
       "              \n",
       "                      [[[ 3.6281e-02,  1.1067e-01,  1.2521e-01],\n",
       "                        [-8.0741e-02,  5.6169e-02, -5.0915e-02],\n",
       "                        [-1.7745e-01, -2.0351e-01, -5.0621e-02]],\n",
       "              \n",
       "                       [[ 2.6011e-01,  2.6368e-01,  1.2893e-01],\n",
       "                        [ 8.4154e-02, -3.7193e-02, -1.9323e-01],\n",
       "                        [-1.1596e-01, -2.5283e-01, -2.5977e-01]],\n",
       "              \n",
       "                       [[-5.3162e-02,  1.0565e-02,  1.4141e-02],\n",
       "                        [-1.0729e-01, -8.8247e-02,  4.2796e-03],\n",
       "                        [-1.1161e-01, -7.2829e-02,  8.6081e-02]],\n",
       "              \n",
       "                       [[-2.8487e-02,  4.6408e-02,  3.6679e-02],\n",
       "                        [ 2.0031e-02,  1.6073e-02, -1.0431e-02],\n",
       "                        [-1.7848e-02, -1.5934e-02,  5.8265e-03]],\n",
       "              \n",
       "                       [[ 7.2148e-02,  1.1782e-01, -4.7453e-02],\n",
       "                        [-5.0208e-02, -2.4784e-02, -6.3854e-02],\n",
       "                        [-6.2884e-02,  1.5082e-02,  2.7860e-02]],\n",
       "              \n",
       "                       [[ 4.8677e-02, -7.7270e-02, -5.6204e-02],\n",
       "                        [-2.3002e-02, -1.8529e-02,  8.2918e-03],\n",
       "                        [-9.6400e-02,  3.3826e-02, -7.9979e-02]],\n",
       "              \n",
       "                       [[-1.3052e-01, -3.8827e-02,  1.6968e-01],\n",
       "                        [-4.9287e-02,  1.6580e-01,  8.9620e-02],\n",
       "                        [ 3.9480e-02,  9.7824e-02,  7.0330e-03]],\n",
       "              \n",
       "                       [[ 5.7640e-02,  8.0999e-02, -8.7984e-02],\n",
       "                        [ 1.7521e-02,  2.7458e-03,  2.3039e-02],\n",
       "                        [-1.1900e-02,  2.1958e-03, -6.9286e-02]],\n",
       "              \n",
       "                       [[-3.2133e-02,  6.6652e-02,  7.0756e-02],\n",
       "                        [-5.0773e-03, -1.0160e-01,  3.3462e-02],\n",
       "                        [-7.6752e-02,  9.0168e-02, -5.7997e-02]],\n",
       "              \n",
       "                       [[-7.6499e-03, -2.3444e-02,  1.8676e-02],\n",
       "                        [ 9.9211e-02,  9.9825e-03,  6.1070e-02],\n",
       "                        [ 8.1833e-02,  8.5118e-02, -3.6395e-02]]],\n",
       "              \n",
       "              \n",
       "                      [[[-2.0509e-01,  6.1228e-02,  1.8398e-01],\n",
       "                        [ 1.2822e-01,  1.4683e-01, -2.5382e-02],\n",
       "                        [-1.2416e-02, -2.2004e-02, -8.8161e-02]],\n",
       "              \n",
       "                       [[ 2.7184e-01,  2.9894e-01,  2.5968e-01],\n",
       "                        [ 1.3855e-01,  6.8519e-03, -3.9099e-02],\n",
       "                        [-1.7593e-01, -1.2255e-01, -4.0476e-02]],\n",
       "              \n",
       "                       [[-1.0212e-01, -1.3224e-01, -1.0322e-01],\n",
       "                        [-1.1050e-01, -1.1968e-01,  3.9783e-02],\n",
       "                        [ 3.2125e-02, -8.0650e-02, -3.3152e-02]],\n",
       "              \n",
       "                       [[ 6.3958e-02, -2.3210e-03,  2.0657e-01],\n",
       "                        [-1.5873e-01, -2.5465e-01, -8.1067e-02],\n",
       "                        [ 7.5702e-03, -9.1068e-02, -6.0699e-02]],\n",
       "              \n",
       "                       [[-1.1190e-01, -6.7781e-02,  1.5070e-02],\n",
       "                        [ 1.4624e-02,  2.8949e-02,  1.1080e-01],\n",
       "                        [-1.4800e-01, -7.9235e-02, -1.6603e-01]],\n",
       "              \n",
       "                       [[-8.4442e-02, -8.8856e-03, -9.2218e-02],\n",
       "                        [ 7.4482e-02,  1.3295e-02, -5.5016e-02],\n",
       "                        [ 5.7472e-02, -1.0157e-01, -4.0885e-02]],\n",
       "              \n",
       "                       [[-1.0408e-01, -9.9724e-02, -3.7772e-02],\n",
       "                        [-4.6997e-02,  8.4326e-02,  8.7123e-02],\n",
       "                        [ 6.9474e-02, -6.2015e-02, -1.5855e-01]],\n",
       "              \n",
       "                       [[ 4.1207e-02,  6.4784e-02,  6.7240e-02],\n",
       "                        [-2.0994e-03, -1.0311e-01, -1.1595e-01],\n",
       "                        [ 4.6793e-02, -3.2280e-02, -8.3234e-03]],\n",
       "              \n",
       "                       [[-1.1180e-01, -1.6492e-01, -4.6014e-02],\n",
       "                        [-1.3302e-01, -1.1643e-01, -2.0762e-02],\n",
       "                        [-1.4959e-01, -5.4584e-02, -1.1854e-01]],\n",
       "              \n",
       "                       [[-5.1506e-02,  4.0650e-02,  8.3925e-02],\n",
       "                        [-2.8940e-02, -4.3319e-02, -9.5476e-02],\n",
       "                        [-5.4340e-02, -9.2212e-02, -2.4101e-02]]],\n",
       "              \n",
       "              \n",
       "                      [[[ 1.3542e-01, -2.1563e-01, -6.6945e-03],\n",
       "                        [ 1.2726e-01, -2.6161e-02, -2.5297e-01],\n",
       "                        [ 3.6540e-01,  2.1045e-01, -2.3002e-01]],\n",
       "              \n",
       "                       [[ 3.5771e-02,  1.5066e-01, -2.2334e-01],\n",
       "                        [ 2.9824e-01,  3.8034e-02, -2.8395e-01],\n",
       "                        [ 3.1499e-01, -4.4671e-02, -4.0682e-01]],\n",
       "              \n",
       "                       [[-1.9322e-01, -1.5630e-01, -1.9578e-01],\n",
       "                        [-1.4732e-01, -2.9221e-01, -2.1014e-02],\n",
       "                        [-4.8360e-02, -1.0571e-01,  1.0888e-02]],\n",
       "              \n",
       "                       [[-2.3857e-01,  2.5044e-02,  2.0451e-02],\n",
       "                        [-1.4944e-01, -4.3137e-02,  1.7405e-01],\n",
       "                        [ 2.3484e-03, -2.1161e-01,  1.2164e-01]],\n",
       "              \n",
       "                       [[-2.5353e-02, -3.3881e-02, -2.3123e-01],\n",
       "                        [-1.0854e-02, -3.2342e-02, -1.7844e-01],\n",
       "                        [-1.5728e-01,  2.0458e-02, -1.4932e-01]],\n",
       "              \n",
       "                       [[ 9.5509e-02, -9.1419e-02, -3.1967e-02],\n",
       "                        [-1.0196e-01, -4.2117e-02,  3.4296e-02],\n",
       "                        [ 1.0378e-01,  1.6275e-02,  1.0181e-01]],\n",
       "              \n",
       "                       [[-6.9021e-02,  2.0161e-02,  1.5501e-01],\n",
       "                        [ 8.4261e-02,  2.5294e-02,  1.2113e-01],\n",
       "                        [ 1.7304e-01,  5.2579e-02, -9.0077e-02]],\n",
       "              \n",
       "                       [[-1.5419e-01, -1.4064e-03, -9.1302e-02],\n",
       "                        [-6.6158e-02,  5.1857e-02, -6.5941e-02],\n",
       "                        [ 3.5916e-02, -4.1019e-02,  3.0824e-02]],\n",
       "              \n",
       "                       [[-7.2865e-03, -2.5774e-01, -2.0453e-02],\n",
       "                        [ 3.0421e-02, -9.9525e-02, -1.7963e-01],\n",
       "                        [-4.9610e-02, -3.7691e-02, -1.3973e-01]],\n",
       "              \n",
       "                       [[ 5.9390e-02,  3.8298e-02,  8.3714e-02],\n",
       "                        [-3.9469e-02,  3.5487e-02,  3.7596e-02],\n",
       "                        [-8.7920e-02, -1.0223e-01, -5.4733e-02]]],\n",
       "              \n",
       "              \n",
       "                      [[[ 1.2293e-01, -1.2117e-01, -2.2952e-01],\n",
       "                        [ 2.0347e-01,  5.9285e-02, -1.1051e-01],\n",
       "                        [ 1.3000e-01,  1.3164e-01,  6.5076e-02]],\n",
       "              \n",
       "                       [[ 1.0552e-01,  4.7677e-02, -1.0701e-01],\n",
       "                        [ 4.3633e-02,  1.4494e-01, -2.3420e-01],\n",
       "                        [ 8.8536e-02,  2.9962e-01, -1.8398e-01]],\n",
       "              \n",
       "                       [[-1.3313e-01, -1.7226e-01, -9.8619e-02],\n",
       "                        [-4.5102e-02, -2.3484e-01, -1.0249e-01],\n",
       "                        [ 6.2289e-02, -2.3965e-01, -1.0302e-01]],\n",
       "              \n",
       "                       [[-7.9978e-02, -1.8856e-01,  2.9003e-01],\n",
       "                        [-1.8134e-01, -1.9650e-01,  1.3712e-01],\n",
       "                        [-4.7152e-03, -3.3067e-01,  1.1452e-01]],\n",
       "              \n",
       "                       [[-5.5855e-02, -7.6846e-02, -1.2997e-01],\n",
       "                        [ 5.1593e-02,  7.4234e-02, -1.1910e-01],\n",
       "                        [-1.4856e-01,  2.6937e-02, -9.4559e-02]],\n",
       "              \n",
       "                       [[-1.9816e-02, -7.3891e-02,  9.8810e-03],\n",
       "                        [ 1.3199e-02, -1.4911e-02,  1.6806e-02],\n",
       "                        [-4.2446e-02,  2.8181e-02,  3.7123e-02]],\n",
       "              \n",
       "                       [[-1.3773e-02, -1.0535e-01,  1.0265e-01],\n",
       "                        [-5.6411e-02, -1.0490e-01,  1.2285e-01],\n",
       "                        [ 1.7754e-02,  1.1993e-01,  3.0724e-02]],\n",
       "              \n",
       "                       [[-1.4805e-01,  4.9960e-02, -4.8697e-02],\n",
       "                        [-1.4210e-01, -3.4610e-02, -2.1699e-02],\n",
       "                        [ 1.0312e-01, -6.4413e-02,  4.5326e-02]],\n",
       "              \n",
       "                       [[-1.6220e-01, -9.5819e-02, -1.3913e-01],\n",
       "                        [-1.0269e-01, -5.6854e-02, -4.2306e-02],\n",
       "                        [ 1.0419e-01, -1.6056e-02, -1.4675e-01]],\n",
       "              \n",
       "                       [[ 2.0101e-02,  2.8574e-02,  4.0676e-02],\n",
       "                        [ 5.7804e-02, -2.3895e-02,  5.8708e-02],\n",
       "                        [ 7.7529e-02, -2.7408e-02,  7.4859e-02]]],\n",
       "              \n",
       "              \n",
       "                      [[[ 2.6107e-01,  3.9832e-03, -2.7530e-01],\n",
       "                        [ 1.1913e-01,  4.3648e-02, -1.2740e-01],\n",
       "                        [ 2.5456e-01,  9.3890e-02, -1.0402e-01]],\n",
       "              \n",
       "                       [[ 7.4146e-02,  2.0267e-01, -2.6986e-01],\n",
       "                        [-4.2849e-04,  5.0903e-02, -3.6144e-01],\n",
       "                        [ 1.8718e-01,  7.5680e-02, -3.4375e-01]],\n",
       "              \n",
       "                       [[-9.7468e-02, -2.2134e-01, -4.4557e-02],\n",
       "                        [-1.8340e-01, -1.8780e-01, -1.3352e-01],\n",
       "                        [-8.7459e-02, -1.4135e-01, -3.6721e-02]],\n",
       "              \n",
       "                       [[-5.7405e-02,  1.2593e-01,  2.7386e-01],\n",
       "                        [-9.1077e-02, -6.5695e-02,  9.5137e-02],\n",
       "                        [ 3.9434e-02, -1.2553e-01,  9.2285e-02]],\n",
       "              \n",
       "                       [[-3.8125e-03,  6.6840e-02, -3.9439e-03],\n",
       "                        [ 4.3027e-02, -2.5086e-02, -3.0715e-01],\n",
       "                        [ 2.0372e-02,  1.3680e-02, -1.6980e-01]],\n",
       "              \n",
       "                       [[ 8.7275e-02,  8.1992e-02,  3.2246e-02],\n",
       "                        [ 6.3211e-03, -8.8753e-02, -9.6168e-03],\n",
       "                        [ 1.0253e-01,  2.5851e-02,  8.3017e-03]],\n",
       "              \n",
       "                       [[ 3.4880e-02, -1.5620e-02,  1.9289e-01],\n",
       "                        [ 4.1021e-02,  9.2806e-02, -2.6784e-02],\n",
       "                        [ 9.6933e-02,  9.1115e-02, -3.3763e-02]],\n",
       "              \n",
       "                       [[ 8.0226e-02,  1.5279e-01,  1.6848e-01],\n",
       "                        [-3.1798e-02, -2.1292e-02, -5.8892e-02],\n",
       "                        [-1.4923e-02,  1.6644e-02, -4.8178e-02]],\n",
       "              \n",
       "                       [[-1.9265e-02, -4.7835e-02,  1.3558e-01],\n",
       "                        [ 3.4094e-02, -8.1800e-02, -8.0735e-03],\n",
       "                        [-4.9547e-02, -6.4909e-02,  1.8840e-01]],\n",
       "              \n",
       "                       [[ 5.5712e-02,  9.5199e-02,  3.4072e-04],\n",
       "                        [ 2.1251e-02,  3.6486e-02, -9.9648e-02],\n",
       "                        [ 9.4295e-03, -6.9961e-03, -5.9118e-02]]],\n",
       "              \n",
       "              \n",
       "                      [[[-3.0720e-01,  1.6798e-01,  2.6344e-01],\n",
       "                        [-1.6197e-01,  1.3505e-01,  2.9181e-01],\n",
       "                        [-2.4610e-01, -8.0421e-02,  1.1659e-01]],\n",
       "              \n",
       "                       [[-1.7588e-01,  1.9411e-01,  2.7556e-02],\n",
       "                        [-2.0834e-01,  1.5438e-01,  2.1744e-01],\n",
       "                        [-4.7492e-01, -5.8040e-02,  2.5185e-01]],\n",
       "              \n",
       "                       [[-1.3289e-02,  6.7722e-03,  5.0482e-02],\n",
       "                        [-2.8993e-02,  2.7852e-02, -7.9411e-02],\n",
       "                        [ 3.7385e-03,  1.1657e-01, -2.9646e-02]],\n",
       "              \n",
       "                       [[ 4.6932e-02, -1.7245e-01, -5.3869e-02],\n",
       "                        [-1.4213e-01, -1.2821e-01, -2.8752e-02],\n",
       "                        [-7.2343e-02, -8.5937e-02, -1.2738e-02]],\n",
       "              \n",
       "                       [[-1.0721e-01,  1.0943e-01, -1.1601e-01],\n",
       "                        [-9.8482e-02,  5.2775e-02,  1.3855e-02],\n",
       "                        [-9.1598e-02,  1.4399e-01,  1.6203e-01]],\n",
       "              \n",
       "                       [[-1.0031e-01, -7.5708e-02, -3.8846e-02],\n",
       "                        [ 8.7833e-02,  1.2529e-02, -7.6421e-02],\n",
       "                        [ 2.5979e-03, -8.1619e-02, -2.4285e-02]],\n",
       "              \n",
       "                       [[-6.5992e-02,  9.9274e-02,  6.3433e-02],\n",
       "                        [ 7.0969e-03,  4.2938e-02, -2.0179e-02],\n",
       "                        [ 9.3570e-02,  2.7700e-02,  2.3520e-02]],\n",
       "              \n",
       "                       [[-1.1173e-01,  9.0519e-02,  2.4616e-02],\n",
       "                        [-6.8051e-02,  7.3205e-02,  8.1442e-02],\n",
       "                        [ 8.9127e-02,  3.3741e-02, -5.6070e-02]],\n",
       "              \n",
       "                       [[ 8.3386e-02,  8.2503e-02, -1.1935e-01],\n",
       "                        [-4.2600e-02, -8.6690e-02,  3.6691e-02],\n",
       "                        [ 2.6496e-02, -4.8937e-02, -2.2960e-02]],\n",
       "              \n",
       "                       [[ 4.7525e-02, -1.7584e-02, -8.8573e-02],\n",
       "                        [ 8.4294e-02, -5.2914e-02, -1.1482e-02],\n",
       "                        [ 1.0002e-02, -6.3196e-03, -9.9056e-02]]]], device='cuda:0')),\n",
       "             ('block_1.2.bias',\n",
       "              tensor([ 0.4745,  0.0108, -0.0477,  0.4468, -0.0443,  0.1632,  0.1870,  0.2807,\n",
       "                       0.0942,  0.0762], device='cuda:0')),\n",
       "             ('block_2.0.weight',\n",
       "              tensor([[[[ 8.8132e-03, -9.6068e-02, -7.3684e-02],\n",
       "                        [ 7.1065e-03,  2.7947e-02,  8.0109e-02],\n",
       "                        [-6.2014e-02,  6.9053e-02,  8.8752e-02]],\n",
       "              \n",
       "                       [[ 4.8456e-02, -9.3767e-02, -4.7042e-02],\n",
       "                        [-1.0382e-01, -6.7831e-02,  4.7806e-02],\n",
       "                        [ 8.9230e-03,  2.9277e-02, -7.8543e-02]],\n",
       "              \n",
       "                       [[ 1.6234e-02, -6.3718e-02,  5.2730e-02],\n",
       "                        [-4.6480e-02, -2.6778e-02, -9.1779e-02],\n",
       "                        [ 4.7676e-04,  9.9952e-02,  5.1081e-02]],\n",
       "              \n",
       "                       [[-6.5048e-02, -9.6845e-03, -3.2501e-02],\n",
       "                        [-7.0766e-02,  6.9849e-02, -4.8507e-02],\n",
       "                        [ 7.5889e-02, -1.1538e-01, -1.1296e-01]],\n",
       "              \n",
       "                       [[ 2.4498e-02,  3.6803e-02,  1.7392e-02],\n",
       "                        [-4.0443e-02,  1.0376e-01, -2.5467e-02],\n",
       "                        [-5.1724e-02, -6.0408e-02,  8.8366e-02]],\n",
       "              \n",
       "                       [[-1.8926e-03, -2.5253e-02, -5.2144e-02],\n",
       "                        [-7.6865e-03, -8.6649e-02, -9.3976e-02],\n",
       "                        [ 5.3993e-02,  4.7386e-02,  5.9715e-02]],\n",
       "              \n",
       "                       [[-8.3533e-02,  6.0386e-02, -8.2709e-02],\n",
       "                        [ 9.8400e-02,  7.1721e-02,  6.0908e-02],\n",
       "                        [ 1.4806e-01,  5.0841e-02, -2.3728e-02]],\n",
       "              \n",
       "                       [[ 3.7976e-02, -2.9204e-02,  2.7761e-02],\n",
       "                        [-1.9588e-02,  4.7921e-03, -1.0921e-01],\n",
       "                        [ 1.1981e-02, -8.4666e-02, -6.4286e-02]],\n",
       "              \n",
       "                       [[-6.9985e-02, -8.7209e-02, -1.5176e-02],\n",
       "                        [ 1.0173e-01,  9.5352e-02,  3.7191e-02],\n",
       "                        [-1.1795e-02, -1.2805e-01,  1.7763e-02]],\n",
       "              \n",
       "                       [[ 3.1644e-02, -9.6353e-02,  3.8023e-02],\n",
       "                        [ 5.5531e-02, -4.5119e-03, -6.7857e-02],\n",
       "                        [ 5.0097e-02,  2.4904e-02,  5.5212e-02]]],\n",
       "              \n",
       "              \n",
       "                      [[[-8.7516e-02,  4.0026e-02, -8.3969e-02],\n",
       "                        [ 8.7057e-02, -6.8244e-02,  4.7342e-02],\n",
       "                        [ 1.5928e-02,  1.5770e-02, -1.7722e-02]],\n",
       "              \n",
       "                       [[ 4.2832e-02, -4.4025e-02, -1.0049e-01],\n",
       "                        [-4.2736e-02,  8.0423e-02, -3.1739e-02],\n",
       "                        [ 3.1466e-02, -4.2575e-02,  7.3601e-02]],\n",
       "              \n",
       "                       [[ 6.3092e-02,  3.7213e-02, -5.3880e-02],\n",
       "                        [-8.6139e-02,  3.9664e-03, -6.1931e-02],\n",
       "                        [ 8.6660e-02, -1.0130e-01,  4.7064e-02]],\n",
       "              \n",
       "                       [[ 5.4534e-02,  2.8782e-02, -1.4955e-03],\n",
       "                        [-1.5945e-01,  7.0158e-02, -6.0700e-02],\n",
       "                        [-1.8466e-01,  4.3759e-02, -1.1333e-01]],\n",
       "              \n",
       "                       [[ 1.2075e-03,  1.0936e-01, -7.9090e-02],\n",
       "                        [-6.6329e-02,  3.1217e-02, -1.9651e-02],\n",
       "                        [ 1.1489e-02, -9.4434e-02, -2.0784e-02]],\n",
       "              \n",
       "                       [[-5.7579e-02, -6.1631e-02, -1.0526e-01],\n",
       "                        [ 4.9964e-02,  1.4024e-02, -9.5115e-02],\n",
       "                        [ 7.8859e-02,  2.8353e-02,  1.5816e-02]],\n",
       "              \n",
       "                       [[-1.1631e-01, -1.3717e-02,  6.3647e-02],\n",
       "                        [ 2.1929e-02, -1.0837e-01,  6.2601e-02],\n",
       "                        [-5.9427e-02,  5.8863e-03,  3.0612e-02]],\n",
       "              \n",
       "                       [[ 6.7263e-02, -9.2116e-02,  6.6701e-02],\n",
       "                        [-8.9731e-02,  4.2936e-03, -9.1961e-02],\n",
       "                        [-5.9868e-02, -2.5396e-02, -4.5938e-02]],\n",
       "              \n",
       "                       [[-5.2753e-02,  4.0840e-03,  8.4273e-02],\n",
       "                        [ 3.3179e-02,  6.4032e-02,  3.2820e-02],\n",
       "                        [ 2.6528e-02, -3.0116e-02, -2.8236e-02]],\n",
       "              \n",
       "                       [[ 3.0950e-02, -8.1565e-02, -7.8482e-02],\n",
       "                        [ 2.1301e-02, -3.1900e-02,  1.8916e-03],\n",
       "                        [-1.9013e-02,  2.0346e-02,  6.3774e-02]]],\n",
       "              \n",
       "              \n",
       "                      [[[-7.3557e-02,  1.7040e-01,  2.3718e-01],\n",
       "                        [-9.0960e-02, -2.1142e-01, -7.6194e-02],\n",
       "                        [-1.1512e-01, -5.5701e-02,  6.4836e-02]],\n",
       "              \n",
       "                       [[-7.7767e-02,  3.4827e-02,  9.8773e-02],\n",
       "                        [-2.3919e-02,  1.4810e-01,  8.4483e-02],\n",
       "                        [-2.1640e-01, -1.0733e-01, -1.0776e-01]],\n",
       "              \n",
       "                       [[ 8.1177e-02,  6.5025e-02,  9.8291e-02],\n",
       "                        [-7.8061e-02,  6.8932e-02,  8.9396e-02],\n",
       "                        [-5.1645e-02,  9.7331e-02,  7.9400e-02]],\n",
       "              \n",
       "                       [[-3.0105e-02,  2.1947e-01,  4.9869e-02],\n",
       "                        [-1.3537e-01,  4.1332e-01,  3.4463e-01],\n",
       "                        [-3.8535e-01, -1.0534e-01, -3.0120e-02]],\n",
       "              \n",
       "                       [[ 9.9383e-02,  6.7642e-02,  1.0048e-01],\n",
       "                        [-1.4054e-01,  7.8634e-02,  8.0925e-02],\n",
       "                        [ 1.1551e-02,  3.7205e-02, -1.3490e-01]],\n",
       "              \n",
       "                       [[ 1.6930e-02, -5.5318e-02,  8.5393e-02],\n",
       "                        [ 4.7659e-02,  2.8965e-01,  1.8217e-01],\n",
       "                        [-1.4214e-01,  1.0555e-02, -1.3894e-03]],\n",
       "              \n",
       "                       [[-2.3356e-01,  5.0741e-02,  1.9893e-02],\n",
       "                        [-5.0960e-01,  4.3881e-02,  2.6617e-01],\n",
       "                        [-5.5611e-02, -1.0528e-01, -4.0419e-02]],\n",
       "              \n",
       "                       [[-2.5311e-01, -2.7717e-02,  1.8124e-01],\n",
       "                        [-3.6223e-01,  3.1974e-01,  1.8197e-01],\n",
       "                        [-2.5276e-01,  1.0204e-02,  8.2776e-02]],\n",
       "              \n",
       "                       [[-2.4226e-01, -7.9438e-02,  2.0908e-01],\n",
       "                        [-4.0902e-01, -4.8548e-02,  2.9745e-01],\n",
       "                        [-1.6083e-01, -1.1379e-01, -1.5211e-03]],\n",
       "              \n",
       "                       [[ 3.5357e-01, -1.9136e-01,  3.8315e-02],\n",
       "                        [ 1.3349e-02, -5.5879e-02,  1.9957e-01],\n",
       "                        [-2.5711e-01,  6.6141e-02,  2.1146e-01]]],\n",
       "              \n",
       "              \n",
       "                      [[[ 2.7555e-01,  7.0145e-02, -6.6682e-02],\n",
       "                        [ 2.1912e-02, -1.5696e-01,  8.5545e-02],\n",
       "                        [ 5.4014e-02, -1.3477e-01,  1.3910e-01]],\n",
       "              \n",
       "                       [[ 1.2435e-01,  7.8615e-02,  3.6845e-02],\n",
       "                        [ 2.1443e-01, -5.1625e-02, -4.8250e-02],\n",
       "                        [ 1.5429e-02, -3.2066e-01, -1.5817e-01]],\n",
       "              \n",
       "                       [[ 1.8499e-02,  5.3879e-02, -5.1410e-02],\n",
       "                        [ 1.0074e-02,  3.9085e-03,  3.2963e-02],\n",
       "                        [-5.5651e-02,  5.9709e-02,  7.0285e-02]],\n",
       "              \n",
       "                       [[-7.3542e-01, -4.7408e-01,  2.5922e-01],\n",
       "                        [ 4.1023e-02,  4.2370e-01,  2.7513e-01],\n",
       "                        [-9.5960e-02,  3.3688e-01,  1.5548e-01]],\n",
       "              \n",
       "                       [[ 1.4663e-02, -1.8428e-02, -3.0168e-02],\n",
       "                        [-4.2603e-03, -1.7540e-01, -1.2599e-02],\n",
       "                        [ 3.2021e-02,  6.8875e-02,  3.3157e-02]],\n",
       "              \n",
       "                       [[-5.9144e-01, -4.1195e-01,  1.8142e-01],\n",
       "                        [-1.3277e-01,  2.6092e-01,  2.4622e-01],\n",
       "                        [ 1.0098e-01,  2.6896e-01,  1.6978e-01]],\n",
       "              \n",
       "                       [[-1.3773e-01, -1.0781e-01, -3.1931e-02],\n",
       "                        [-2.3033e-01,  2.4104e-01,  7.2652e-02],\n",
       "                        [-3.4719e-01, -6.7992e-02,  2.9442e-01]],\n",
       "              \n",
       "                       [[-2.0706e-01, -2.9024e-01,  2.6091e-02],\n",
       "                        [-1.9930e-01,  3.4215e-01,  6.2931e-02],\n",
       "                        [-2.0242e-01,  1.3494e-01,  2.4461e-01]],\n",
       "              \n",
       "                       [[ 8.6670e-02, -9.7350e-02, -1.8061e-01],\n",
       "                        [-2.9279e-01, -4.1591e-02,  6.2324e-02],\n",
       "                        [-3.0850e-01, -2.4378e-02,  1.1874e-01]],\n",
       "              \n",
       "                       [[-5.7936e-02, -1.1071e-01,  2.7881e-01],\n",
       "                        [ 1.9046e-02, -8.8426e-02, -4.3278e-02],\n",
       "                        [-8.7511e-02,  9.6269e-02, -9.8031e-02]]],\n",
       "              \n",
       "              \n",
       "                      [[[-3.8228e-02,  1.1341e-01, -1.3417e-01],\n",
       "                        [-5.2600e-02,  1.7559e-01,  1.4566e-02],\n",
       "                        [ 1.8957e-01,  1.0275e-01,  9.9570e-02]],\n",
       "              \n",
       "                       [[ 9.6115e-02,  3.4059e-02, -1.4845e-01],\n",
       "                        [ 6.6929e-02, -1.1491e-01,  4.1515e-02],\n",
       "                        [-1.9486e-02, -9.0359e-02,  2.5329e-03]],\n",
       "              \n",
       "                       [[-2.1393e-02, -9.4611e-02, -3.8192e-02],\n",
       "                        [ 1.0778e-02,  8.2037e-02, -3.2770e-02],\n",
       "                        [ 6.2692e-02,  1.3314e-02,  3.3895e-03]],\n",
       "              \n",
       "                       [[ 1.7903e-01, -1.2416e-01, -2.7086e-01],\n",
       "                        [ 1.2772e-01, -1.7998e-01, -2.4063e-01],\n",
       "                        [ 7.1942e-02, -1.2560e-01, -2.1958e-01]],\n",
       "              \n",
       "                       [[-1.3052e-02, -3.0981e-02, -8.6241e-02],\n",
       "                        [ 5.5997e-02, -4.2441e-02,  1.0536e-02],\n",
       "                        [ 6.8017e-02, -9.2092e-02, -5.2984e-02]],\n",
       "              \n",
       "                       [[ 1.6569e-03, -1.0326e-01, -8.6334e-02],\n",
       "                        [ 6.9710e-02, -7.3523e-03, -6.4649e-02],\n",
       "                        [ 1.1338e-01, -5.9906e-02, -1.5715e-01]],\n",
       "              \n",
       "                       [[ 1.8449e-01, -6.3826e-02, -6.9749e-02],\n",
       "                        [ 6.6503e-02, -3.4204e-02, -1.1014e-01],\n",
       "                        [ 1.3710e-01,  4.6258e-02, -3.3881e-02]],\n",
       "              \n",
       "                       [[ 2.3825e-01, -1.3691e-01, -9.1527e-02],\n",
       "                        [ 1.5405e-01,  3.6230e-02, -1.8418e-01],\n",
       "                        [ 4.4784e-02, -5.3676e-02, -1.0146e-01]],\n",
       "              \n",
       "                       [[ 1.1693e-01, -1.2472e-01, -1.6443e-01],\n",
       "                        [ 3.6822e-02,  4.0999e-02, -3.5017e-03],\n",
       "                        [-7.6031e-02, -2.4569e-02, -4.3391e-02]],\n",
       "              \n",
       "                       [[-1.2080e-01,  3.3437e-03,  2.3740e-02],\n",
       "                        [ 5.5035e-02, -1.3772e-01, -5.8560e-02],\n",
       "                        [ 8.3398e-02,  2.8450e-02, -1.3569e-01]]],\n",
       "              \n",
       "              \n",
       "                      [[[-6.9221e-02,  8.1146e-02,  4.5595e-02],\n",
       "                        [-1.7090e-02, -2.8399e-02, -3.9191e-02],\n",
       "                        [ 1.0792e-01,  3.4933e-03,  1.0708e-01]],\n",
       "              \n",
       "                       [[ 9.5626e-02,  2.3028e-02,  3.5187e-02],\n",
       "                        [-2.8550e-03,  8.3587e-02, -7.1013e-02],\n",
       "                        [ 5.1826e-02, -8.1092e-03,  5.5236e-02]],\n",
       "              \n",
       "                       [[-4.9802e-04, -3.8982e-02, -1.1150e-02],\n",
       "                        [ 5.6940e-02, -7.3227e-02, -6.6492e-02],\n",
       "                        [-2.3440e-02, -3.8183e-02,  4.1282e-02]],\n",
       "              \n",
       "                       [[ 1.9783e-02, -8.5006e-02,  2.0752e-03],\n",
       "                        [-9.1979e-02, -1.1457e-01, -8.6252e-02],\n",
       "                        [-1.1507e-01, -1.0738e-01, -1.1285e-01]],\n",
       "              \n",
       "                       [[-1.1288e-01,  4.0784e-03,  3.4243e-02],\n",
       "                        [ 8.5729e-02,  7.7053e-02, -1.2171e-02],\n",
       "                        [ 1.7482e-02, -6.0868e-02,  6.0726e-02]],\n",
       "              \n",
       "                       [[-1.1867e-01,  4.5914e-03, -3.9265e-02],\n",
       "                        [ 1.2728e-02,  1.1964e-02, -7.1595e-02],\n",
       "                        [ 7.8882e-02,  4.3938e-02,  9.2106e-02]],\n",
       "              \n",
       "                       [[-2.7345e-02,  2.3447e-02,  2.5530e-02],\n",
       "                        [ 3.6353e-03,  4.0468e-02, -5.2493e-02],\n",
       "                        [ 2.6653e-02, -4.1397e-03,  4.3921e-02]],\n",
       "              \n",
       "                       [[ 7.7888e-02, -1.2573e-02, -8.6364e-02],\n",
       "                        [-3.2869e-02,  5.0090e-03, -4.5799e-03],\n",
       "                        [-4.3797e-02,  7.5644e-02,  5.9128e-02]],\n",
       "              \n",
       "                       [[-1.0748e-01, -4.9293e-02, -4.7745e-02],\n",
       "                        [-1.0454e-01, -1.1485e-02, -4.7054e-02],\n",
       "                        [-8.5277e-02, -4.5342e-02, -3.5982e-02]],\n",
       "              \n",
       "                       [[ 8.9411e-02,  2.1066e-02,  8.8027e-02],\n",
       "                        [ 2.3903e-02,  1.6298e-02,  4.8326e-02],\n",
       "                        [ 2.4679e-02, -7.4763e-02, -2.0826e-02]]],\n",
       "              \n",
       "              \n",
       "                      [[[-3.9936e-02, -1.6643e-02,  2.1509e-02],\n",
       "                        [ 2.2841e-02,  6.1294e-02, -1.7971e-05],\n",
       "                        [-5.4276e-02, -8.8065e-02, -8.1120e-02]],\n",
       "              \n",
       "                       [[-6.4727e-02,  3.1017e-02,  5.6003e-02],\n",
       "                        [ 8.8533e-02, -3.6002e-02, -1.1728e-02],\n",
       "                        [-3.7730e-02, -5.3826e-03,  2.9309e-02]],\n",
       "              \n",
       "                       [[-2.3087e-03,  4.8889e-03,  1.3351e-02],\n",
       "                        [ 3.9318e-02, -3.1964e-02, -6.2900e-02],\n",
       "                        [ 2.4824e-02, -1.2474e-02, -4.7766e-02]],\n",
       "              \n",
       "                       [[ 1.5674e-02, -2.1089e-02, -4.5193e-02],\n",
       "                        [-7.1245e-02, -2.9170e-02, -1.1656e-01],\n",
       "                        [-6.9891e-03, -2.6178e-02,  1.5312e-02]],\n",
       "              \n",
       "                       [[-3.9565e-03,  1.1707e-03,  1.8001e-02],\n",
       "                        [ 7.9598e-02, -4.6342e-02,  6.2830e-02],\n",
       "                        [ 2.7464e-02, -6.5658e-02,  3.6905e-02]],\n",
       "              \n",
       "                       [[-6.5788e-02, -3.5285e-02, -5.3245e-02],\n",
       "                        [-7.4931e-02,  8.0203e-02, -9.7042e-02],\n",
       "                        [ 4.9726e-02, -9.7734e-02, -1.6448e-02]],\n",
       "              \n",
       "                       [[-1.9665e-02,  5.6535e-02, -6.2938e-02],\n",
       "                        [ 8.8707e-03,  1.6652e-03,  4.1362e-02],\n",
       "                        [-1.6905e-02,  2.0307e-02, -8.9553e-02]],\n",
       "              \n",
       "                       [[-9.1568e-02,  8.0284e-02, -9.6566e-02],\n",
       "                        [-3.3399e-02, -2.2196e-02,  8.8612e-02],\n",
       "                        [-3.4271e-02, -8.9518e-02, -4.0957e-02]],\n",
       "              \n",
       "                       [[ 2.6585e-02,  2.2960e-02,  6.2716e-02],\n",
       "                        [-4.0847e-02,  4.0279e-02, -1.1352e-01],\n",
       "                        [ 2.3498e-02,  3.9159e-02,  5.3312e-02]],\n",
       "              \n",
       "                       [[-5.9061e-02, -2.6655e-02,  2.7396e-02],\n",
       "                        [-7.2639e-02, -8.1219e-02, -9.9702e-02],\n",
       "                        [ 7.7594e-03,  7.0179e-02,  2.7525e-02]]],\n",
       "              \n",
       "              \n",
       "                      [[[ 2.5274e-02,  1.8389e-01,  5.9966e-02],\n",
       "                        [-8.8211e-03, -4.3029e-01, -2.7463e-01],\n",
       "                        [ 1.8705e-01, -2.4171e-01, -4.5415e-02]],\n",
       "              \n",
       "                       [[-2.7491e-01,  1.0821e-02, -6.0429e-02],\n",
       "                        [-1.7830e-02,  2.5249e-02,  3.0054e-01],\n",
       "                        [-3.1603e-04, -2.9058e-01, -3.0131e-01]],\n",
       "              \n",
       "                       [[ 5.4639e-02, -5.0341e-02, -2.0159e-03],\n",
       "                        [-1.4679e-02,  7.5395e-02,  3.6855e-02],\n",
       "                        [-9.1690e-02,  1.0755e-02, -7.1246e-02]],\n",
       "              \n",
       "                       [[ 6.3015e-03, -2.0503e-01, -7.9023e-01],\n",
       "                        [ 9.4790e-03,  9.1079e-01, -2.1777e-01],\n",
       "                        [ 9.2843e-02,  5.9394e-01, -4.9114e-02]],\n",
       "              \n",
       "                       [[-1.5217e-01, -2.1706e-01,  1.0650e-01],\n",
       "                        [-1.4958e-01, -1.3037e-01, -5.1570e-02],\n",
       "                        [-5.5495e-02, -4.0830e-02, -1.2410e-01]],\n",
       "              \n",
       "                       [[-6.3024e-03, -2.8625e-01, -2.3385e-01],\n",
       "                        [-3.7637e-03,  3.8627e-01, -9.8717e-02],\n",
       "                        [ 6.9775e-02,  1.4446e-01,  1.0364e-01]],\n",
       "              \n",
       "                       [[ 1.0241e-01,  1.9530e-02, -2.4704e-01],\n",
       "                        [-1.9275e-01,  4.4422e-01, -1.6064e-01],\n",
       "                        [-1.0570e-01, -4.4821e-02,  7.0232e-03]],\n",
       "              \n",
       "                       [[ 3.4847e-02,  1.0161e-01, -3.0731e-01],\n",
       "                        [-1.0298e-01,  5.1774e-01, -1.0417e-01],\n",
       "                        [-4.8240e-02,  2.7547e-02,  4.4981e-02]],\n",
       "              \n",
       "                       [[ 1.5289e-02,  5.3962e-02, -3.2375e-02],\n",
       "                        [-2.5197e-01,  2.5560e-01, -1.1700e-01],\n",
       "                        [-6.1704e-02, -2.8597e-01, -2.4383e-02]],\n",
       "              \n",
       "                       [[ 2.3717e-01, -5.1261e-01, -1.3815e-01],\n",
       "                        [ 3.0137e-01, -1.3859e-01, -7.2434e-02],\n",
       "                        [ 2.1116e-01, -3.3474e-02, -2.5456e-01]]],\n",
       "              \n",
       "              \n",
       "                      [[[ 8.2941e-03, -2.0730e-03,  1.2875e-01],\n",
       "                        [ 1.9111e-01,  4.1963e-01,  2.6511e-01],\n",
       "                        [-7.4433e-02, -1.3054e-01, -6.4815e-02]],\n",
       "              \n",
       "                       [[-2.4856e-01, -1.5649e-01,  1.1107e-02],\n",
       "                        [-1.7955e-01, -7.0917e-02, -7.6718e-02],\n",
       "                        [ 7.2469e-02,  1.6260e-01,  3.5403e-02]],\n",
       "              \n",
       "                       [[-3.9121e-04,  2.2723e-02,  9.8450e-02],\n",
       "                        [ 1.0039e-01, -4.6212e-02,  9.4423e-02],\n",
       "                        [ 3.5228e-02, -1.4795e-02,  8.9613e-02]],\n",
       "              \n",
       "                       [[ 1.9650e-02,  2.2865e-01,  3.3951e-01],\n",
       "                        [ 1.4301e-01, -9.4066e-01, -2.2624e-01],\n",
       "                        [ 9.3321e-02, -3.8590e-01,  2.0513e-01]],\n",
       "              \n",
       "                       [[ 6.7630e-04,  1.4325e-01, -1.0065e-01],\n",
       "                        [ 1.5876e-01,  4.7673e-02, -2.9008e-01],\n",
       "                        [-1.2422e-01, -1.3243e-02,  1.3177e-01]],\n",
       "              \n",
       "                       [[ 7.3086e-02,  2.7136e-01,  7.1811e-02],\n",
       "                        [ 1.3739e-01, -3.1959e-01, -1.6281e-01],\n",
       "                        [-1.2073e-01, -3.4370e-01,  6.4216e-02]],\n",
       "              \n",
       "                       [[-1.9693e-03,  1.0694e-01,  2.4693e-01],\n",
       "                        [ 3.4236e-01, -3.0289e-01, -4.3676e-01],\n",
       "                        [ 5.6397e-02, -2.4069e-01, -2.5035e-01]],\n",
       "              \n",
       "                       [[ 2.7075e-02,  7.0388e-02,  1.9588e-01],\n",
       "                        [ 2.1750e-01, -5.1902e-01, -1.9660e-01],\n",
       "                        [ 1.6838e-01, -2.9824e-01, -1.6002e-01]],\n",
       "              \n",
       "                       [[-1.1876e-01,  5.0904e-03,  1.3744e-01],\n",
       "                        [ 6.1705e-02, -2.3638e-01, -1.4622e-01],\n",
       "                        [ 1.1653e-01, -2.4032e-01, -1.9692e-01]],\n",
       "              \n",
       "                       [[-2.3551e-01, -5.2175e-02,  2.9119e-01],\n",
       "                        [-1.4547e-01, -3.9689e-02,  1.1347e-01],\n",
       "                        [-1.1499e-01, -2.2983e-01,  1.5373e-01]]],\n",
       "              \n",
       "              \n",
       "                      [[[-1.0190e-01,  1.4046e-01,  1.5250e-01],\n",
       "                        [ 6.1261e-02,  1.4271e-01,  4.3497e-02],\n",
       "                        [ 1.2437e-01, -3.3821e-02, -3.2407e-02]],\n",
       "              \n",
       "                       [[ 7.8932e-02,  4.6819e-02,  1.2223e-02],\n",
       "                        [-5.5139e-02, -5.1733e-02,  1.4209e-01],\n",
       "                        [ 8.7730e-04,  3.1514e-02,  5.1086e-02]],\n",
       "              \n",
       "                       [[ 7.8007e-02, -5.4167e-02, -3.6111e-02],\n",
       "                        [ 7.3094e-02,  6.0123e-02, -5.1570e-02],\n",
       "                        [-1.0421e-01,  1.9347e-02,  5.5132e-02]],\n",
       "              \n",
       "                       [[-1.8677e-02,  1.3680e-02, -2.7282e-01],\n",
       "                        [-1.0534e-01, -1.7862e-01, -3.8811e-03],\n",
       "                        [-3.8786e-02, -4.0012e-02,  1.8902e-01]],\n",
       "              \n",
       "                       [[-8.5421e-02, -1.0960e-01, -1.1180e-01],\n",
       "                        [ 6.6956e-02,  3.3098e-02, -6.8074e-02],\n",
       "                        [ 4.0272e-02,  7.7492e-02, -1.1601e-01]],\n",
       "              \n",
       "                       [[ 4.3828e-02, -2.2364e-02, -7.8504e-02],\n",
       "                        [ 5.9423e-02,  5.1705e-02,  2.3416e-03],\n",
       "                        [ 2.8417e-02,  1.8337e-02,  6.8558e-02]],\n",
       "              \n",
       "                       [[-1.2958e-01, -7.1053e-03, -1.3506e-01],\n",
       "                        [-2.4553e-02, -4.4056e-02, -6.2869e-02],\n",
       "                        [-1.4008e-01, -1.5608e-01,  4.6405e-02]],\n",
       "              \n",
       "                       [[ 3.2818e-02,  2.8234e-02, -1.0914e-01],\n",
       "                        [-9.1935e-02, -8.5978e-02,  2.5270e-02],\n",
       "                        [-1.0789e-01,  7.4941e-03,  8.2345e-02]],\n",
       "              \n",
       "                       [[-1.3281e-01, -2.5332e-02, -5.0333e-02],\n",
       "                        [-1.0532e-01,  4.0589e-03, -5.9926e-02],\n",
       "                        [ 6.5542e-02, -1.2124e-01,  1.7121e-02]],\n",
       "              \n",
       "                       [[-1.1433e-01, -1.1264e-01, -7.5043e-02],\n",
       "                        [ 6.6837e-02,  6.2361e-02, -1.0580e-01],\n",
       "                        [ 9.9735e-04,  1.1108e-02,  4.2486e-02]]]], device='cuda:0')),\n",
       "             ('block_2.0.bias',\n",
       "              tensor([-0.0788, -0.1038,  0.1393, -0.0381, -0.1862,  0.0570, -0.0438,  0.2889,\n",
       "                       0.5513,  0.1719], device='cuda:0')),\n",
       "             ('block_2.2.weight',\n",
       "              tensor([[[[-7.6058e-02, -7.3233e-02, -2.3535e-02],\n",
       "                        [-6.0607e-02,  6.1486e-02,  9.1990e-03],\n",
       "                        [ 2.8064e-02, -4.0000e-02,  8.9166e-02]],\n",
       "              \n",
       "                       [[ 9.5213e-02, -9.1211e-02, -3.1244e-02],\n",
       "                        [-8.0058e-02,  4.8627e-02, -9.5169e-02],\n",
       "                        [-3.2521e-02,  1.1514e-01, -9.9645e-02]],\n",
       "              \n",
       "                       [[-3.3677e-01,  6.4644e-02, -3.0157e-02],\n",
       "                        [-5.3970e-01,  3.8081e-01, -5.2169e-02],\n",
       "                        [-3.6325e-01, -1.9499e-02, -2.3594e-01]],\n",
       "              \n",
       "                       [[-1.7046e-01,  1.9327e-01, -3.4595e-01],\n",
       "                        [-5.4751e-01,  2.3731e-01,  1.2330e-04],\n",
       "                        [-1.4393e-01,  3.5729e-01, -3.1982e-01]],\n",
       "              \n",
       "                       [[-1.3646e-01,  1.6510e-02,  1.1134e-01],\n",
       "                        [-1.5846e-01,  3.7672e-03, -2.1900e-03],\n",
       "                        [-2.4123e-01, -4.3693e-02, -1.1913e-01]],\n",
       "              \n",
       "                       [[-6.5887e-02, -4.4775e-02,  1.1026e-01],\n",
       "                        [-1.6418e-02,  3.9033e-02,  6.5282e-02],\n",
       "                        [-8.0848e-03, -6.0738e-02, -8.4379e-02]],\n",
       "              \n",
       "                       [[-3.6506e-02,  4.0112e-02, -8.8675e-02],\n",
       "                        [-9.6426e-03,  4.1202e-02,  8.5968e-02],\n",
       "                        [ 4.1614e-02,  2.9624e-02,  7.8783e-02]],\n",
       "              \n",
       "                       [[-2.7079e-01, -1.3327e-01, -4.8197e-01],\n",
       "                        [-5.0881e-01,  2.5003e-01,  3.9969e-01],\n",
       "                        [ 2.9206e-02,  2.1209e-01, -2.7513e-02]],\n",
       "              \n",
       "                       [[ 1.6833e-01, -2.7369e-01, -1.4712e-01],\n",
       "                        [ 4.1028e-01, -2.9624e-01,  3.6362e-02],\n",
       "                        [-2.2471e-01, -4.8414e-01,  1.0914e-01]],\n",
       "              \n",
       "                       [[-5.0757e-02,  6.1006e-02, -9.2199e-02],\n",
       "                        [ 3.9112e-02, -8.6699e-02, -8.0496e-02],\n",
       "                        [ 2.6806e-02, -3.6308e-02, -7.8567e-02]]],\n",
       "              \n",
       "              \n",
       "                      [[[ 4.8813e-02, -2.3681e-02, -3.7119e-02],\n",
       "                        [-6.8931e-02,  1.2194e-04, -8.9180e-02],\n",
       "                        [ 9.4331e-02, -3.0223e-02, -3.2591e-02]],\n",
       "              \n",
       "                       [[ 2.7159e-02,  4.8306e-02,  1.0199e-02],\n",
       "                        [ 8.0621e-02, -4.9896e-02,  4.9596e-02],\n",
       "                        [-6.6886e-03, -8.8886e-02, -4.4346e-02]],\n",
       "              \n",
       "                       [[-3.3156e-02,  1.8427e-01,  5.1543e-02],\n",
       "                        [ 1.3511e-01, -1.9407e-01, -5.6621e-02],\n",
       "                        [ 1.5574e-01, -4.7028e-01,  3.5338e-01]],\n",
       "              \n",
       "                       [[-2.3624e-02, -7.3416e-03, -6.6533e-03],\n",
       "                        [-1.2094e-01, -3.3031e-01,  2.6589e-02],\n",
       "                        [ 8.4069e-02, -2.2067e-01,  6.5325e-02]],\n",
       "              \n",
       "                       [[-1.8692e-02, -1.4912e-02, -3.3152e-02],\n",
       "                        [ 3.9063e-02, -1.6036e-01,  1.9084e-02],\n",
       "                        [ 7.0582e-02, -1.5718e-01, -1.0829e-01]],\n",
       "              \n",
       "                       [[-2.2180e-03,  3.4514e-02,  6.3731e-02],\n",
       "                        [-7.7253e-02, -1.1390e-01,  1.4616e-03],\n",
       "                        [-2.8310e-02,  3.7017e-03, -2.9575e-02]],\n",
       "              \n",
       "                       [[ 8.5302e-02,  1.3023e-02,  8.3302e-02],\n",
       "                        [-7.2733e-02,  4.3743e-02,  1.5193e-02],\n",
       "                        [-5.6654e-02,  4.8382e-02, -1.0576e-01]],\n",
       "              \n",
       "                       [[-7.9313e-02, -1.6488e-01,  2.2514e-01],\n",
       "                        [-1.5422e-01, -4.0219e-01,  4.8841e-01],\n",
       "                        [ 1.5039e-01, -6.7032e-01,  2.2519e-01]],\n",
       "              \n",
       "                       [[-7.0393e-03, -2.2312e-01, -2.7646e-01],\n",
       "                        [ 6.1799e-02,  1.5887e-01, -3.6550e-01],\n",
       "                        [-2.4226e-01,  2.8185e-01, -1.8376e-01]],\n",
       "              \n",
       "                       [[-4.0992e-02,  9.9235e-02,  2.5769e-01],\n",
       "                        [-1.5204e-01, -7.8483e-02,  5.8946e-02],\n",
       "                        [-9.7980e-02, -1.2373e-01, -1.2939e-01]]],\n",
       "              \n",
       "              \n",
       "                      [[[ 8.0472e-02, -7.1864e-03, -2.9329e-02],\n",
       "                        [-4.6740e-02, -3.2220e-02,  4.0000e-02],\n",
       "                        [-9.1017e-03,  8.5712e-02, -2.0066e-02]],\n",
       "              \n",
       "                       [[-7.5731e-02,  1.6358e-02, -5.7346e-02],\n",
       "                        [-5.5448e-02,  1.9569e-02,  5.3488e-02],\n",
       "                        [-1.0183e-02,  5.3106e-02,  3.3529e-02]],\n",
       "              \n",
       "                       [[-1.6823e-01, -2.9000e-02, -2.8233e-01],\n",
       "                        [ 3.4673e-01,  1.7278e-01, -1.3427e-01],\n",
       "                        [ 1.8506e-02, -5.0355e-03,  4.6462e-01]],\n",
       "              \n",
       "                       [[-2.3406e-01,  5.1030e-01, -5.6512e-02],\n",
       "                        [ 4.8401e-01,  1.6710e-01, -2.5888e-01],\n",
       "                        [-5.6135e-01, -5.0695e-01,  1.1584e-01]],\n",
       "              \n",
       "                       [[ 5.6955e-02, -9.2360e-02, -1.6541e-01],\n",
       "                        [-4.6041e-02,  8.7790e-02, -1.8152e-01],\n",
       "                        [ 3.8356e-02,  7.1108e-02,  1.4660e-02]],\n",
       "              \n",
       "                       [[ 8.3549e-02,  5.5324e-03, -1.1328e-01],\n",
       "                        [ 9.0611e-02,  2.0932e-02,  7.1029e-04],\n",
       "                        [-6.8677e-02,  1.6346e-03, -4.8740e-02]],\n",
       "              \n",
       "                       [[ 7.0477e-02,  4.8751e-02,  5.1769e-02],\n",
       "                        [ 4.5230e-02, -8.6679e-02, -6.8419e-02],\n",
       "                        [-7.3528e-02, -6.9129e-02,  5.3578e-02]],\n",
       "              \n",
       "                       [[-6.4177e-01,  3.7523e-01,  1.2818e-01],\n",
       "                        [-3.0627e-01, -9.8993e-02,  1.0824e-01],\n",
       "                        [-8.3464e-02, -3.1032e-01, -1.3572e-01]],\n",
       "              \n",
       "                       [[-2.2579e-01, -2.2370e-01, -1.9607e-01],\n",
       "                        [-3.1467e-01, -8.6090e-02, -3.2653e-01],\n",
       "                        [ 2.0521e-02,  4.8463e-02, -1.5026e-01]],\n",
       "              \n",
       "                       [[ 1.3089e-01,  3.3150e-02, -1.0008e-01],\n",
       "                        [-1.5828e-02, -7.4123e-03, -7.7367e-02],\n",
       "                        [ 3.9745e-02, -1.0965e-01, -1.4419e-01]]],\n",
       "              \n",
       "              \n",
       "                      [[[-6.2423e-02, -2.9467e-02, -9.9659e-03],\n",
       "                        [ 1.2493e-03,  5.1818e-02, -8.9095e-02],\n",
       "                        [ 1.8815e-02,  6.0797e-03,  3.8015e-02]],\n",
       "              \n",
       "                       [[ 1.1443e-01,  5.6578e-02, -7.6604e-02],\n",
       "                        [-8.1049e-02, -3.0137e-02, -6.4633e-02],\n",
       "                        [ 3.5588e-02, -2.5914e-03,  7.8552e-02]],\n",
       "              \n",
       "                       [[-2.3774e-01, -8.8909e-02, -7.9076e-03],\n",
       "                        [-4.7130e-01, -3.8707e-01,  6.1609e-01],\n",
       "                        [-4.6220e-01, -2.8478e-01,  7.3447e-02]],\n",
       "              \n",
       "                       [[-5.5210e-02, -2.6885e-01,  8.3306e-03],\n",
       "                        [ 1.9194e-01, -2.6345e-01,  1.8663e-02],\n",
       "                        [-2.7132e-02, -3.1895e-01, -5.3490e-02]],\n",
       "              \n",
       "                       [[ 1.3248e-02, -1.0075e-01,  8.9328e-02],\n",
       "                        [-2.8822e-02, -1.7618e-01, -6.3978e-02],\n",
       "                        [ 1.3278e-01, -2.0845e-01,  2.1876e-02]],\n",
       "              \n",
       "                       [[-9.1470e-02,  9.9569e-02,  8.0835e-02],\n",
       "                        [-8.1351e-02, -8.0307e-02,  1.7512e-03],\n",
       "                        [-3.5583e-02,  6.7539e-02, -5.2501e-02]],\n",
       "              \n",
       "                       [[ 4.7315e-02, -9.1415e-02, -6.0699e-02],\n",
       "                        [-5.4329e-02,  5.0469e-02, -4.6325e-03],\n",
       "                        [-1.0369e-01, -6.3929e-02, -5.0257e-02]],\n",
       "              \n",
       "                       [[-2.5151e-01,  1.3195e-01,  3.0566e-01],\n",
       "                        [ 2.1292e-02, -1.6757e-01,  1.6183e-02],\n",
       "                        [ 8.0509e-02, -1.3707e-01, -2.2864e-01]],\n",
       "              \n",
       "                       [[ 2.0289e-01, -1.6354e-01, -2.3477e-01],\n",
       "                        [ 6.0696e-01,  2.6839e-01, -5.2994e-01],\n",
       "                        [ 1.0029e-01,  9.1908e-03,  2.7837e-02]],\n",
       "              \n",
       "                       [[ 2.0459e-02,  1.0157e-01,  2.1264e-01],\n",
       "                        [ 1.5452e-02, -1.0317e-01, -3.9173e-02],\n",
       "                        [-6.1475e-02,  3.0875e-02, -9.9030e-02]]],\n",
       "              \n",
       "              \n",
       "                      [[[-7.5438e-02, -5.6594e-02, -9.7598e-02],\n",
       "                        [ 5.9015e-03,  8.0475e-03, -6.1755e-02],\n",
       "                        [ 7.5670e-02, -4.4195e-02, -3.0850e-02]],\n",
       "              \n",
       "                       [[ 7.9353e-02,  8.4627e-02, -2.2250e-02],\n",
       "                        [-7.9730e-02, -6.1845e-02,  1.4022e-03],\n",
       "                        [ 5.7103e-02,  4.3200e-02, -5.8334e-02]],\n",
       "              \n",
       "                       [[-9.7424e-02, -9.0944e-02, -4.9911e-02],\n",
       "                        [-6.8499e-03, -4.8305e-02, -7.7618e-02],\n",
       "                        [ 1.2216e-02, -8.6686e-02, -7.0682e-02]],\n",
       "              \n",
       "                       [[-8.4008e-02, -2.6346e-02,  1.0058e-01],\n",
       "                        [ 4.1540e-02, -1.0613e-02,  2.4349e-02],\n",
       "                        [ 4.1305e-02,  2.3780e-04, -8.6240e-02]],\n",
       "              \n",
       "                       [[-5.8548e-02,  5.5447e-02, -5.6198e-02],\n",
       "                        [-6.5727e-02,  7.8517e-02, -7.9555e-02],\n",
       "                        [ 2.0869e-01,  1.2637e-01,  3.3012e-02]],\n",
       "              \n",
       "                       [[ 6.9586e-03, -3.6285e-02,  2.3372e-02],\n",
       "                        [-7.2161e-02, -4.9406e-02, -2.2649e-02],\n",
       "                        [-2.5925e-02, -1.0550e-01,  4.2146e-02]],\n",
       "              \n",
       "                       [[ 8.5794e-02, -5.9837e-02,  2.5001e-02],\n",
       "                        [-1.3568e-02, -6.0635e-03,  2.1257e-03],\n",
       "                        [ 8.8944e-02,  1.0916e-02, -7.1571e-02]],\n",
       "              \n",
       "                       [[-2.7350e-02, -1.0509e-02,  5.6104e-02],\n",
       "                        [-1.1115e-01, -4.1433e-02, -4.6805e-02],\n",
       "                        [-3.1731e-01, -6.4622e-02,  1.4977e-02]],\n",
       "              \n",
       "                       [[-1.5885e-01,  2.1084e-01, -5.1787e-02],\n",
       "                        [-7.6505e-02,  1.0517e-01, -7.1674e-03],\n",
       "                        [ 4.2794e-02,  8.8539e-02, -3.2337e-02]],\n",
       "              \n",
       "                       [[-8.8891e-02, -1.6687e-02, -2.2828e-02],\n",
       "                        [ 9.5531e-02,  7.8368e-02,  2.5041e-02],\n",
       "                        [ 9.3692e-02, -7.0445e-02,  1.0463e-01]]],\n",
       "              \n",
       "              \n",
       "                      [[[ 8.9385e-02, -8.2023e-03, -1.1309e-01],\n",
       "                        [-3.2539e-02, -2.7389e-02,  5.8298e-03],\n",
       "                        [-9.6886e-02,  1.8720e-02, -4.6159e-02]],\n",
       "              \n",
       "                       [[-2.8975e-02, -5.4661e-02, -2.2566e-02],\n",
       "                        [-9.6363e-02, -5.4628e-02,  1.0016e-02],\n",
       "                        [ 7.4867e-02,  9.7879e-02, -8.1235e-02]],\n",
       "              \n",
       "                       [[ 1.2779e-01, -1.6161e-01, -1.9695e-01],\n",
       "                        [ 6.1428e-02, -5.8250e-02, -3.9563e-01],\n",
       "                        [-9.3286e-03,  1.4084e-01,  1.4994e-02]],\n",
       "              \n",
       "                       [[ 2.6553e-01, -2.5678e-01, -4.1887e-01],\n",
       "                        [-1.4714e-01, -1.3391e-01, -1.4691e-01],\n",
       "                        [-1.5752e-01,  2.8231e-04, -1.3262e-01]],\n",
       "              \n",
       "                       [[ 5.5882e-02, -1.3936e-01, -1.3315e-01],\n",
       "                        [ 1.2732e-02, -1.6278e-01, -4.4217e-02],\n",
       "                        [ 8.6819e-02, -7.8376e-02, -8.5554e-02]],\n",
       "              \n",
       "                       [[ 3.8963e-02, -9.5726e-02,  9.2353e-02],\n",
       "                        [-5.0617e-02,  5.0598e-02, -8.4399e-02],\n",
       "                        [-6.7968e-02,  1.2546e-02,  3.6055e-02]],\n",
       "              \n",
       "                       [[ 7.9953e-02,  8.7395e-02, -7.1855e-03],\n",
       "                        [-1.4187e-02,  1.7388e-02, -2.5570e-02],\n",
       "                        [ 4.3991e-03, -9.8793e-02, -8.7488e-02]],\n",
       "              \n",
       "                       [[ 4.6533e-01, -4.8925e-02,  4.5184e-02],\n",
       "                        [ 1.2744e-01,  2.5215e-01,  1.8948e-01],\n",
       "                        [-4.2755e-01, -2.3856e-01, -3.0190e-01]],\n",
       "              \n",
       "                       [[-1.1847e-01, -2.6814e-01, -2.6420e-01],\n",
       "                        [-1.5739e-01, -7.9765e-02, -1.9457e-01],\n",
       "                        [-2.0663e-01, -2.0928e-01, -2.5115e-01]],\n",
       "              \n",
       "                       [[ 1.0350e-01,  4.7546e-02,  1.8709e-02],\n",
       "                        [-5.6554e-02, -7.4553e-02,  7.9763e-02],\n",
       "                        [ 7.0636e-02,  4.7737e-02, -9.0769e-02]]],\n",
       "              \n",
       "              \n",
       "                      [[[ 9.8234e-02, -3.5076e-02,  8.2454e-02],\n",
       "                        [ 9.6626e-02, -4.1919e-02, -8.9645e-02],\n",
       "                        [ 1.0174e-01, -5.7496e-02,  6.8575e-02]],\n",
       "              \n",
       "                       [[-1.1794e-01, -4.8906e-02, -1.0284e-01],\n",
       "                        [-6.0812e-02,  3.2110e-02, -8.3092e-02],\n",
       "                        [-9.2906e-02,  7.4546e-02,  5.5390e-02]],\n",
       "              \n",
       "                       [[ 1.8429e-01,  1.0419e-01,  3.2061e-01],\n",
       "                        [-1.6545e-01, -1.4656e-01, -1.6720e-01],\n",
       "                        [ 4.9361e-02, -2.6394e-01, -1.3007e-01]],\n",
       "              \n",
       "                       [[ 6.1507e-02,  1.9336e-01, -1.3259e-01],\n",
       "                        [-2.0625e-01, -1.6376e-01, -3.3237e-01],\n",
       "                        [ 1.7830e-01, -3.6254e-01,  1.7044e-01]],\n",
       "              \n",
       "                       [[ 1.1889e-01,  3.3315e-01,  1.7636e-02],\n",
       "                        [ 2.7132e-03,  8.8704e-02, -1.8542e-01],\n",
       "                        [-1.0719e-01, -1.8547e-01, -9.6994e-02]],\n",
       "              \n",
       "                       [[-4.1762e-02, -8.3160e-02, -2.5518e-03],\n",
       "                        [ 3.7242e-03, -1.1489e-02, -6.5159e-02],\n",
       "                        [ 9.4895e-02, -2.6281e-02,  5.5125e-02]],\n",
       "              \n",
       "                       [[ 7.0265e-02, -7.3737e-02, -1.3037e-02],\n",
       "                        [ 6.0910e-02,  9.6419e-02, -1.5410e-02],\n",
       "                        [ 8.2388e-02, -8.1088e-02, -6.2757e-02]],\n",
       "              \n",
       "                       [[-2.0127e-01, -5.5108e-01,  5.4601e-02],\n",
       "                        [-1.6579e-01, -6.7813e-01, -3.8044e-01],\n",
       "                        [ 2.1789e-01,  1.0328e+00,  1.4130e-01]],\n",
       "              \n",
       "                       [[ 1.8785e-01,  1.9472e-01, -1.4786e-01],\n",
       "                        [-1.1900e-01,  3.1440e-01,  3.5687e-01],\n",
       "                        [-1.8657e-01, -7.3731e-01,  5.5375e-02]],\n",
       "              \n",
       "                       [[ 6.8029e-02, -1.7130e-01, -4.0792e-02],\n",
       "                        [ 5.9216e-02, -8.5520e-02, -3.8522e-02],\n",
       "                        [ 1.5819e-01, -1.1881e-01,  8.7947e-02]]],\n",
       "              \n",
       "              \n",
       "                      [[[ 7.7080e-02, -3.0469e-02,  9.4765e-02],\n",
       "                        [-4.1397e-02,  1.3784e-02, -7.7347e-02],\n",
       "                        [-5.1344e-03,  4.1360e-02,  4.2204e-02]],\n",
       "              \n",
       "                       [[-1.9880e-01, -2.2120e-01, -1.0046e-01],\n",
       "                        [-9.0568e-02, -1.1693e-01, -1.9379e-01],\n",
       "                        [-1.3488e-01, -1.3251e-01, -5.1451e-02]],\n",
       "              \n",
       "                       [[-6.4660e-02, -4.9220e-02, -8.9816e-02],\n",
       "                        [ 7.2031e-02,  4.2777e-02,  1.0309e-01],\n",
       "                        [ 1.7753e-02, -1.1066e-01,  1.3681e-02]],\n",
       "              \n",
       "                       [[-1.2021e-01, -8.9805e-02, -6.9670e-02],\n",
       "                        [ 1.0675e-01,  9.0866e-02,  2.4404e-01],\n",
       "                        [-3.1873e-01, -2.2975e-01, -1.4980e-01]],\n",
       "              \n",
       "                       [[ 7.0495e-04, -1.0871e-02,  7.7302e-02],\n",
       "                        [-4.5274e-02, -5.8315e-02, -8.6778e-03],\n",
       "                        [ 7.6846e-02,  1.9252e-02,  3.9870e-02]],\n",
       "              \n",
       "                       [[-3.5132e-02,  3.5201e-02,  2.8535e-03],\n",
       "                        [ 3.8511e-02, -5.0338e-02, -1.3160e-01],\n",
       "                        [-8.2183e-02,  7.3905e-03,  3.5762e-02]],\n",
       "              \n",
       "                       [[-1.1164e-01,  3.2711e-02, -3.4431e-02],\n",
       "                        [-6.5759e-02, -4.6578e-02, -6.5027e-02],\n",
       "                        [ 3.2674e-02, -4.7941e-02,  1.5882e-02]],\n",
       "              \n",
       "                       [[-2.0411e-01, -1.2576e-01, -1.0795e-01],\n",
       "                        [ 1.2022e-01,  1.0841e-01,  8.9779e-02],\n",
       "                        [-3.4910e-01, -3.2857e-01, -5.0297e-01]],\n",
       "              \n",
       "                       [[-1.4848e-01, -9.2124e-02, -1.2300e-01],\n",
       "                        [ 3.3005e-02, -1.1561e-01, -5.6388e-02],\n",
       "                        [ 2.4316e-02, -1.4455e-01,  2.6130e-02]],\n",
       "              \n",
       "                       [[-6.2821e-02, -1.4421e-03,  4.2162e-02],\n",
       "                        [-1.1321e-01, -1.0281e-01,  3.9144e-02],\n",
       "                        [-3.5918e-02, -5.6060e-02,  2.5108e-02]]],\n",
       "              \n",
       "              \n",
       "                      [[[-8.1359e-02, -1.5164e-03,  6.4377e-02],\n",
       "                        [ 2.7238e-02, -7.1960e-02, -6.3226e-03],\n",
       "                        [-1.0218e-01, -3.8879e-02,  6.9167e-02]],\n",
       "              \n",
       "                       [[-6.4815e-02, -1.1419e-01, -4.7412e-02],\n",
       "                        [-1.8077e-02, -1.3720e-01, -1.3984e-01],\n",
       "                        [-1.3274e-01, -3.3423e-02, -1.2800e-01]],\n",
       "              \n",
       "                       [[-2.6055e-01, -2.5500e-01, -8.1827e-02],\n",
       "                        [-8.1679e-02, -2.3208e-01, -1.2122e-01],\n",
       "                        [-8.4242e-02, -2.2654e-01, -2.5958e-01]],\n",
       "              \n",
       "                       [[ 1.2904e-02,  1.4138e-01, -4.3821e-01],\n",
       "                        [-2.2269e-01, -2.0332e-02, -4.1697e-01],\n",
       "                        [-8.3708e-02, -3.1391e-01, -1.0288e-01]],\n",
       "              \n",
       "                       [[ 1.5430e-01, -4.4541e-01,  3.5710e-02],\n",
       "                        [ 1.1321e-01,  8.3471e-02, -2.2477e-01],\n",
       "                        [-2.1317e-01, -1.3644e-01, -2.3062e-01]],\n",
       "              \n",
       "                       [[ 1.1604e-01, -4.6427e-02,  4.0472e-02],\n",
       "                        [-8.2025e-02,  2.4320e-02,  1.4352e-01],\n",
       "                        [ 1.1893e-01, -1.5884e-03, -2.6806e-02]],\n",
       "              \n",
       "                       [[ 1.0259e-01, -7.5014e-03,  5.6391e-02],\n",
       "                        [-6.4144e-02, -7.2452e-02, -1.1007e-01],\n",
       "                        [ 8.9888e-02, -1.1607e-03, -9.4995e-02]],\n",
       "              \n",
       "                       [[-4.3777e-01, -3.8212e-01,  6.1258e-02],\n",
       "                        [-4.7009e-03, -5.3731e-01, -1.9294e-01],\n",
       "                        [ 2.7965e-01, -3.9745e-01, -2.7504e-02]],\n",
       "              \n",
       "                       [[ 1.6835e-01,  2.8631e-01,  1.6708e-01],\n",
       "                        [-2.9373e-02,  1.9609e-01,  2.8697e-01],\n",
       "                        [-9.4466e-02, -4.7359e-02,  1.7518e-01]],\n",
       "              \n",
       "                       [[ 1.1879e-01,  1.2260e-01, -9.2909e-03],\n",
       "                        [-9.0919e-03, -4.0300e-02,  2.0693e-01],\n",
       "                        [-5.5552e-02,  6.4721e-02,  2.1044e-01]]],\n",
       "              \n",
       "              \n",
       "                      [[[ 3.8265e-02,  2.7442e-02, -5.6734e-02],\n",
       "                        [ 5.2936e-02,  5.1983e-02, -9.1733e-02],\n",
       "                        [ 1.0705e-01,  8.8771e-02,  6.0129e-02]],\n",
       "              \n",
       "                       [[-3.2357e-02,  1.6050e-02, -7.9143e-02],\n",
       "                        [-5.5769e-02,  3.0843e-02,  2.9087e-02],\n",
       "                        [ 2.2287e-02, -1.1931e-01,  6.9375e-02]],\n",
       "              \n",
       "                       [[-2.7014e-01, -7.4689e-02,  1.9072e-01],\n",
       "                        [ 1.7424e-01,  7.1980e-02,  3.7454e-01],\n",
       "                        [-6.1158e-02, -4.4154e-01, -2.7722e-01]],\n",
       "              \n",
       "                       [[-4.9346e-02,  2.4897e-01,  1.6543e-03],\n",
       "                        [ 5.4464e-01,  3.1927e-01, -3.4983e-01],\n",
       "                        [ 2.2629e-01, -2.4719e-01, -5.6133e-01]],\n",
       "              \n",
       "                       [[-7.3443e-02,  3.9225e-02, -6.7444e-02],\n",
       "                        [-3.6538e-02, -8.9918e-02,  7.5032e-02],\n",
       "                        [-9.8341e-02, -5.7741e-02,  3.8878e-02]],\n",
       "              \n",
       "                       [[ 3.3480e-02, -4.8592e-02,  3.5027e-02],\n",
       "                        [-5.8621e-02, -7.9639e-02, -1.5015e-02],\n",
       "                        [-5.4255e-02,  7.3913e-02, -7.1040e-02]],\n",
       "              \n",
       "                       [[-2.1044e-02,  3.2145e-02, -1.0449e-01],\n",
       "                        [ 6.9922e-02, -5.8596e-02, -4.0156e-02],\n",
       "                        [-7.6916e-02, -5.0909e-02, -5.3482e-02]],\n",
       "              \n",
       "                       [[-5.7369e-01, -3.6345e-01, -3.5283e-02],\n",
       "                        [ 3.0116e-02,  3.6308e-02,  4.3542e-02],\n",
       "                        [ 2.4758e-01, -1.2411e-01,  3.1141e-02]],\n",
       "              \n",
       "                       [[ 5.5511e-01, -1.1383e-01, -1.9381e-01],\n",
       "                        [-4.6624e-01, -2.1283e-01, -2.4801e-01],\n",
       "                        [-3.8013e-01, -4.2903e-02, -1.8052e-01]],\n",
       "              \n",
       "                       [[-7.8069e-02, -1.2325e-01, -5.4703e-02],\n",
       "                        [ 2.3780e-02, -5.4688e-02,  6.6265e-02],\n",
       "                        [-5.3203e-02, -5.1318e-02,  6.8448e-02]]]], device='cuda:0')),\n",
       "             ('block_2.2.bias',\n",
       "              tensor([ 0.5906,  0.1257, -0.1198, -0.2005, -0.1949,  0.1935,  0.0286, -0.0723,\n",
       "                       0.1223, -0.2519], device='cuda:0')),\n",
       "             ('classifier.1.weight',\n",
       "              tensor([[-0.0031,  0.0680, -0.1188,  ..., -0.0298, -0.0133, -0.0165],\n",
       "                      [-0.0578, -0.0082,  0.0301,  ...,  0.2806,  0.0339,  0.0287],\n",
       "                      [ 0.1002,  0.2105, -0.0168,  ...,  0.0381,  0.0548, -0.0198],\n",
       "                      ...,\n",
       "                      [-0.0178, -0.0827, -0.0904,  ..., -0.0014, -0.0348, -0.0319],\n",
       "                      [ 0.0832,  0.1102,  0.1540,  ...,  0.0325, -0.0461, -0.0513],\n",
       "                      [-0.0887, -0.1352, -0.0342,  ..., -0.0325, -0.0074,  0.0086]],\n",
       "                     device='cuda:0')),\n",
       "             ('classifier.1.bias',\n",
       "              tensor([ 0.1228, -0.2176,  0.3639, -0.0388, -0.4218, -0.0904,  0.0920, -0.0207,\n",
       "                       0.2736, -0.0998], device='cuda:0'))])"
      ]
     },
     "execution_count": 68,
     "metadata": {},
     "output_type": "execute_result"
    }
   ],
   "source": [
    "model_2.state_dict()"
   ]
  },
  {
   "cell_type": "markdown",
   "id": "a1542284-8132-42ba-b00d-57e9b9037e4e",
   "metadata": {
    "id": "a1542284-8132-42ba-b00d-57e9b9037e4e"
   },
   "source": [
    "Now we've got a saved model `state_dict()` we can load it back in using a combination of `load_state_dict()` and `torch.load()`.\n",
    "\n",
    "Since we're using `load_state_dict()`, we'll need to create a new instance of `FashionMNISTModelV2()` with the same input parameters as our saved model `state_dict()`."
   ]
  },
  {
   "cell_type": "code",
   "execution_count": 63,
   "id": "634a8f7a-3013-4b45-b365-49b286d3c478",
   "metadata": {
    "id": "634a8f7a-3013-4b45-b365-49b286d3c478"
   },
   "outputs": [],
   "source": [
    "# Create a new instance of FashionMNISTModelV2 (the same class as our saved state_dict())\n",
    "# Note: loading model will error if the shapes here aren't the same as the saved version\n",
    "loaded_model_2 = FashionMNISTModelV2(input_shape=1, \n",
    "                                    hidden_units=10, # try changing this to 128 and seeing what happens \n",
    "                                    output_shape=10) \n",
    "\n",
    "# Load in the saved state_dict()\n",
    "loaded_model_2.load_state_dict(torch.load(f=MODEL_SAVE_PATH))\n",
    "\n",
    "# Send model to GPU\n",
    "loaded_model_2 = loaded_model_2.to(device)"
   ]
  },
  {
   "cell_type": "code",
   "execution_count": 74,
   "id": "056b3ed8",
   "metadata": {},
   "outputs": [
    {
     "name": "stdout",
     "output_type": "stream",
     "text": [
      "odict_keys(['block_1.0.weight', 'block_1.0.bias', 'block_1.2.weight', 'block_1.2.bias', 'block_2.0.weight', 'block_2.0.bias', 'block_2.2.weight', 'block_2.2.bias', 'classifer.1.weight', 'classifer.1.bias'])\n",
      "odict_keys(['block_1.0.weight', 'block_1.0.bias', 'block_1.2.weight', 'block_1.2.bias', 'block_2.0.weight', 'block_2.0.bias', 'block_2.2.weight', 'block_2.2.bias', 'classifier.1.weight', 'classifier.1.bias'])\n"
     ]
    }
   ],
   "source": [
    "print(torch.load(f=MODEL_SAVE_PATH_HASSAN).keys())\n",
    "print (torch.load(f=MODEL_SAVE_PATH).keys())"
   ]
  },
  {
   "cell_type": "code",
   "execution_count": 75,
   "id": "57fbcd1f",
   "metadata": {},
   "outputs": [],
   "source": [
    "# from hassan Model\n",
    "MODEL_NAME_HASSAN = \"03_pytorrch_computer_vision_model_2.pth\"\n",
    "MODEL_SAVE_PATH_HASSAN = MODEL_PATH / MODEL_NAME_HASSAN\n",
    "# Create a new instance of FashionMNISTModelV2 (the same class as our saved state_dict())\n",
    "# Note: loading model will error if the shapes here aren't the same as the saved version\n",
    "loaded_model_2 = FashionMNISTModelV2(input_shape=1, \n",
    "                                    hidden_units=10, # try changing this to 128 and seeing what happens \n",
    "                                    output_shape=10) \n",
    "\n",
    "# Load in the saved state_dict()\n",
    "loaded_model_2.load_state_dict(torch.load(f=MODEL_SAVE_PATH_HASSAN))\n",
    "\n",
    "# Send model to GPU\n",
    "loaded_model_2 = loaded_model_2.to(device)"
   ]
  },
  {
   "cell_type": "markdown",
   "id": "feeaebf4-6040-4fa5-852d-5eb8d2bbb94c",
   "metadata": {
    "id": "feeaebf4-6040-4fa5-852d-5eb8d2bbb94c"
   },
   "source": [
    "And now we've got a loaded model we can evaluate it with `eval_model()` to make sure its parameters work similarly to `model_2` prior to saving. "
   ]
  },
  {
   "cell_type": "code",
   "execution_count": 76,
   "id": "3e3bcd06-d99b-47bc-8828-9e3903285599",
   "metadata": {
    "colab": {
     "base_uri": "https://localhost:8080/"
    },
    "id": "3e3bcd06-d99b-47bc-8828-9e3903285599",
    "outputId": "c0ee1d5f-9573-4e1a-8430-ee09fb4d72cd"
   },
   "outputs": [
    {
     "data": {
      "text/plain": [
       "{'model_name': 'FashionMNISTModelV2',\n",
       " 'model_loss': 0.3202410638332367,\n",
       " 'model_acc': 88.57827476038338}"
      ]
     },
     "execution_count": 76,
     "metadata": {},
     "output_type": "execute_result"
    }
   ],
   "source": [
    "# Evaluate loaded model\n",
    "torch.manual_seed(42)\n",
    "\n",
    "loaded_model_2_results = eval_model(\n",
    "    model=loaded_model_2,\n",
    "    data_loader=test_dataloader,\n",
    "    loss_fn=loss_fn, \n",
    "    accuracy_fn=accuracy_fn\n",
    ")\n",
    "\n",
    "loaded_model_2_results"
   ]
  },
  {
   "cell_type": "markdown",
   "id": "c2b37855-c0da-4834-a2d4-a0faa8410b65",
   "metadata": {
    "id": "c2b37855-c0da-4834-a2d4-a0faa8410b65"
   },
   "source": [
    "Do these results look the same as `model_2_results`?"
   ]
  },
  {
   "cell_type": "code",
   "execution_count": 65,
   "id": "68544254-c99a-47ec-a32f-9816c21a993e",
   "metadata": {
    "colab": {
     "base_uri": "https://localhost:8080/"
    },
    "id": "68544254-c99a-47ec-a32f-9816c21a993e",
    "outputId": "74b8d4ca-d35a-4f70-e8b9-ed54f034358e"
   },
   "outputs": [
    {
     "data": {
      "text/plain": [
       "{'model_name': 'FashionMNISTModelV2',\n",
       " 'model_loss': 0.3175522983074188,\n",
       " 'model_acc': 88.58825878594249}"
      ]
     },
     "execution_count": 65,
     "metadata": {},
     "output_type": "execute_result"
    }
   ],
   "source": [
    "model_2_results"
   ]
  },
  {
   "cell_type": "markdown",
   "id": "0ee07f93-4344-4c7a-8b1d-92a56034e7b2",
   "metadata": {
    "id": "0ee07f93-4344-4c7a-8b1d-92a56034e7b2"
   },
   "source": [
    "We can find out if two tensors are close to each other using `torch.isclose()` and passing in a tolerance level of closeness via the parameters `atol` (absolute tolerance) and `rtol` (relative tolerance).\n",
    "\n",
    "If our model's results are close, the output of `torch.isclose()` should be true."
   ]
  },
  {
   "cell_type": "code",
   "execution_count": 66,
   "id": "48dcf0ba-7e00-4406-8aaa-41918856361a",
   "metadata": {
    "colab": {
     "base_uri": "https://localhost:8080/"
    },
    "id": "48dcf0ba-7e00-4406-8aaa-41918856361a",
    "outputId": "47324300-0d00-46de-d130-1283ad044ef8"
   },
   "outputs": [
    {
     "data": {
      "text/plain": [
       "tensor(True)"
      ]
     },
     "execution_count": 66,
     "metadata": {},
     "output_type": "execute_result"
    }
   ],
   "source": [
    "# Check to see if results are close to each other (if they are very far away, there may be an error)\n",
    "torch.isclose(torch.tensor(model_2_results[\"model_loss\"]), \n",
    "              torch.tensor(loaded_model_2_results[\"model_loss\"]),\n",
    "              atol=1e-08, # absolute tolerance\n",
    "              rtol=0.0001) # relative tolerance"
   ]
  },
  {
   "cell_type": "markdown",
   "id": "c3969b7d-9955-4b6f-abf8-fe8eedf233a9",
   "metadata": {
    "id": "c3969b7d-9955-4b6f-abf8-fe8eedf233a9"
   },
   "source": [
    "## Exercises\n",
    "\n",
    "All of the exercises are focused on practicing the code in the sections above.\n",
    "\n",
    "You should be able to complete them by referencing each section or by following the resource(s) linked.\n",
    "\n",
    "All exercises should be completed using [device-agnostic code](https://pytorch.org/docs/stable/notes/cuda.html#device-agnostic-code).\n",
    "\n",
    "**Resources:**\n",
    "* [Exercise template notebook for 03](https://github.com/mrdbourke/pytorch-deep-learning/blob/main/extras/exercises/03_pytorch_computer_vision_exercises.ipynb)\n",
    "* [Example solutions notebook for 03](https://github.com/mrdbourke/pytorch-deep-learning/blob/main/extras/solutions/03_pytorch_computer_vision_exercise_solutions.ipynb) (try the exercises *before* looking at this)\n",
    "\n",
    "1. What are 3 areas in industry where computer vision is currently being used?\n",
    "2. Search \"what is overfitting in machine learning\" and write down a sentence about what you find. \n",
    "3. Search \"ways to prevent overfitting in machine learning\", write down 3 of the things you find and a sentence about each. **Note:** there are lots of these, so don't worry too much about all of them, just pick 3 and start with those.\n",
    "4. Spend 20-minutes reading and clicking through the [CNN Explainer website](https://poloclub.github.io/cnn-explainer/).\n",
    "    * Upload your own example image using the \"upload\" button and see what happens in each layer of a CNN as your image passes through it.\n",
    "5. Load the [`torchvision.datasets.MNIST()`](https://pytorch.org/vision/stable/generated/torchvision.datasets.MNIST.html#torchvision.datasets.MNIST) train and test datasets.\n",
    "6. Visualize at least 5 different samples of the MNIST training dataset.\n",
    "7. Turn the MNIST train and test datasets into dataloaders using `torch.utils.data.DataLoader`, set the `batch_size=32`.\n",
    "8. Recreate `model_2` used in this notebook (the same model from the [CNN Explainer website](https://poloclub.github.io/cnn-explainer/), also known as TinyVGG) capable of fitting on the MNIST dataset.\n",
    "9. Train the model you built in exercise 8. on CPU and GPU and see how long it takes on each.\n",
    "10. Make predictions using your trained model and visualize at least 5 of them comparing the prediciton to the target label.\n",
    "11. Plot a confusion matrix comparing your model's predictions to the truth labels.\n",
    "12. Create a random tensor of shape `[1, 3, 64, 64]` and pass it through a `nn.Conv2d()` layer with various hyperparameter settings (these can be any settings you choose), what do you notice if the `kernel_size` parameter goes up and down?\n",
    "13. Use a model similar to the trained `model_2` from this notebook to make predictions on the test [`torchvision.datasets.FashionMNIST`](https://pytorch.org/vision/main/generated/torchvision.datasets.FashionMNIST.html) dataset. \n",
    "    * Then plot some predictions where the model was wrong alongside what the label of the image should've been. \n",
    "    * After visualing these predictions do you think it's more of a modelling error or a data error? \n",
    "    * As in, could the model do better or are the labels of the data too close to each other (e.g. a \"Shirt\" label is too close to \"T-shirt/top\")?\n",
    "\n",
    "## Extra-curriculum\n",
    "* **Watch:** [MIT's Introduction to Deep Computer Vision](https://www.youtube.com/watch?v=iaSUYvmCekI&list=PLtBw6njQRU-rwp5__7C0oIVt26ZgjG9NI&index=3) lecture. This will give you a great intuition behind convolutional neural networks.\n",
    "* Spend 10-minutes clicking thorugh the different options of the [PyTorch vision library](https://pytorch.org/vision/stable/index.html), what different modules are available?\n",
    "* Lookup \"most common convolutional neural networks\", what architectures do you find? Are any of them contained within the [`torchvision.models`](https://pytorch.org/vision/stable/models.html) library? What do you think you could do with these?\n",
    "* For a large number of pretrained PyTorch computer vision models as well as many different extensions to PyTorch's computer vision functionalities check out the [PyTorch Image Models library `timm`](https://github.com/rwightman/pytorch-image-models/) (Torch Image Models) by Ross Wightman."
   ]
  }
 ],
 "metadata": {
  "accelerator": "GPU",
  "colab": {
   "gpuType": "A100",
   "machine_shape": "hm",
   "provenance": []
  },
  "gpuClass": "standard",
  "kernelspec": {
   "display_name": "Python 3 (ipykernel)",
   "language": "python",
   "name": "python3"
  },
  "language_info": {
   "codemirror_mode": {
    "name": "ipython",
    "version": 3
   },
   "file_extension": ".py",
   "mimetype": "text/x-python",
   "name": "python",
   "nbconvert_exporter": "python",
   "pygments_lexer": "ipython3",
   "version": "3.11.9"
  },
  "vscode": {
   "interpreter": {
    "hash": "3fbe1355223f7b2ffc113ba3ade6a2b520cadace5d5ec3e828c83ce02eb221bf"
   }
  }
 },
 "nbformat": 4,
 "nbformat_minor": 5
}
