{
 "cells": [
  {
   "cell_type": "markdown",
   "metadata": {},
   "source": [
    "# 03. Pytorch Machine Vision Class"
   ]
  },
  {
   "cell_type": "code",
   "execution_count": 1,
   "metadata": {},
   "outputs": [
    {
     "name": "stderr",
     "output_type": "stream",
     "text": [
      "c:\\Users\\Tiger\\anaconda3\\envs\\py311Udemy\\Lib\\site-packages\\tqdm\\auto.py:21: TqdmWarning: IProgress not found. Please update jupyter and ipywidgets. See https://ipywidgets.readthedocs.io/en/stable/user_install.html\n",
      "  from .autonotebook import tqdm as notebook_tqdm\n"
     ]
    }
   ],
   "source": [
    "import requests\n",
    "from pathlib import Path\n",
    "import sklearn\n",
    "import matplotlib.pyplot as plt\n",
    "import pandas as pd\n",
    "from sklearn.datasets import make_circles\n",
    "from sklearn.datasets import make_moons\n",
    "from sklearn.model_selection import train_test_split\n",
    "from sklearn.datasets import make_blobs\n",
    "import pandas as pd\n",
    "import torch\n",
    "from torch import nn\n",
    "from helper_functions import plot_predictions, plot_decision_boundary, accuracy_fn\n",
    "from torchmetrics import Accuracy\n",
    "import torchvision\n",
    "from torchvision import datasets\n",
    "from torchvision import transforms\n",
    "from torchvision.transforms import ToTensor\n",
    "from torch.utils.data import DataLoader\n",
    "from timeit import default_timer as timer\n",
    "from tqdm.auto import tqdm"
   ]
  },
  {
   "cell_type": "code",
   "execution_count": 2,
   "metadata": {},
   "outputs": [],
   "source": [
    "# Import torch\n",
    "# import torch\n",
    "\n",
    "# Setup device agnostic code\n",
    "device = 'cuda' if torch.cuda.is_available() else 'cpu'\n",
    "\n",
    "# Setup random seed\n",
    "RANDOM_SEED = 42"
   ]
  },
  {
   "cell_type": "markdown",
   "metadata": {},
   "source": [
    "## get data set"
   ]
  },
  {
   "cell_type": "code",
   "execution_count": 3,
   "metadata": {},
   "outputs": [],
   "source": [
    "# # set up trainng dta\n",
    "train_data = datasets.FashionMNIST(\n",
    "    root = \"data\",\n",
    "    train=True,\n",
    "    download=True,\n",
    "    transform=torchvision.transforms.ToTensor(),\n",
    "    target_transform=None\n",
    "\n",
    "    )\n",
    "# set up test dta\n",
    "test_data = datasets.FashionMNIST(\n",
    "    root = \"data\",\n",
    "    train=False,\n",
    "    download=True,\n",
    "    transform=torchvision.transforms.ToTensor(),\n",
    "    target_transform=None\n",
    "\n",
    "    )"
   ]
  },
  {
   "cell_type": "code",
   "execution_count": 4,
   "metadata": {},
   "outputs": [
    {
     "name": "stdout",
     "output_type": "stream",
     "text": [
      "60000 10000\n",
      "tensor([[[0.0000, 0.0000, 0.0000, 0.0000, 0.0000, 0.0000, 0.0000, 0.0000,\n",
      "          0.0000, 0.0000, 0.0000, 0.0000, 0.0000, 0.0000, 0.0000, 0.0000,\n",
      "          0.0000, 0.0000, 0.0000, 0.0000, 0.0000, 0.0000, 0.0000, 0.0000,\n",
      "          0.0000, 0.0000, 0.0000, 0.0000],\n",
      "         [0.0000, 0.0000, 0.0000, 0.0000, 0.0000, 0.0000, 0.0000, 0.0000,\n",
      "          0.0000, 0.0000, 0.0000, 0.0000, 0.0000, 0.0000, 0.0000, 0.0000,\n",
      "          0.0000, 0.0000, 0.0000, 0.0000, 0.0000, 0.0000, 0.0000, 0.0000,\n",
      "          0.0000, 0.0000, 0.0000, 0.0000],\n",
      "         [0.0000, 0.0000, 0.0000, 0.0000, 0.0000, 0.0000, 0.0000, 0.0000,\n",
      "          0.0000, 0.0000, 0.0000, 0.0000, 0.0000, 0.0000, 0.0000, 0.0000,\n",
      "          0.0000, 0.0000, 0.0000, 0.0000, 0.0000, 0.0000, 0.0000, 0.0000,\n",
      "          0.0000, 0.0000, 0.0000, 0.0000],\n",
      "         [0.0000, 0.0000, 0.0000, 0.0000, 0.0000, 0.0000, 0.0000, 0.0000,\n",
      "          0.0000, 0.0000, 0.0000, 0.0000, 0.0039, 0.0000, 0.0000, 0.0510,\n",
      "          0.2863, 0.0000, 0.0000, 0.0039, 0.0157, 0.0000, 0.0000, 0.0000,\n",
      "          0.0000, 0.0039, 0.0039, 0.0000],\n",
      "         [0.0000, 0.0000, 0.0000, 0.0000, 0.0000, 0.0000, 0.0000, 0.0000,\n",
      "          0.0000, 0.0000, 0.0000, 0.0000, 0.0118, 0.0000, 0.1412, 0.5333,\n",
      "          0.4980, 0.2431, 0.2118, 0.0000, 0.0000, 0.0000, 0.0039, 0.0118,\n",
      "          0.0157, 0.0000, 0.0000, 0.0118],\n",
      "         [0.0000, 0.0000, 0.0000, 0.0000, 0.0000, 0.0000, 0.0000, 0.0000,\n",
      "          0.0000, 0.0000, 0.0000, 0.0000, 0.0235, 0.0000, 0.4000, 0.8000,\n",
      "          0.6902, 0.5255, 0.5647, 0.4824, 0.0902, 0.0000, 0.0000, 0.0000,\n",
      "          0.0000, 0.0471, 0.0392, 0.0000],\n",
      "         [0.0000, 0.0000, 0.0000, 0.0000, 0.0000, 0.0000, 0.0000, 0.0000,\n",
      "          0.0000, 0.0000, 0.0000, 0.0000, 0.0000, 0.0000, 0.6078, 0.9255,\n",
      "          0.8118, 0.6980, 0.4196, 0.6118, 0.6314, 0.4275, 0.2510, 0.0902,\n",
      "          0.3020, 0.5098, 0.2824, 0.0588],\n",
      "         [0.0000, 0.0000, 0.0000, 0.0000, 0.0000, 0.0000, 0.0000, 0.0000,\n",
      "          0.0000, 0.0000, 0.0000, 0.0039, 0.0000, 0.2706, 0.8118, 0.8745,\n",
      "          0.8549, 0.8471, 0.8471, 0.6392, 0.4980, 0.4745, 0.4784, 0.5725,\n",
      "          0.5529, 0.3451, 0.6745, 0.2588],\n",
      "         [0.0000, 0.0000, 0.0000, 0.0000, 0.0000, 0.0000, 0.0000, 0.0000,\n",
      "          0.0000, 0.0039, 0.0039, 0.0039, 0.0000, 0.7843, 0.9098, 0.9098,\n",
      "          0.9137, 0.8980, 0.8745, 0.8745, 0.8431, 0.8353, 0.6431, 0.4980,\n",
      "          0.4824, 0.7686, 0.8980, 0.0000],\n",
      "         [0.0000, 0.0000, 0.0000, 0.0000, 0.0000, 0.0000, 0.0000, 0.0000,\n",
      "          0.0000, 0.0000, 0.0000, 0.0000, 0.0000, 0.7176, 0.8824, 0.8471,\n",
      "          0.8745, 0.8941, 0.9216, 0.8902, 0.8784, 0.8706, 0.8784, 0.8667,\n",
      "          0.8745, 0.9608, 0.6784, 0.0000],\n",
      "         [0.0000, 0.0000, 0.0000, 0.0000, 0.0000, 0.0000, 0.0000, 0.0000,\n",
      "          0.0000, 0.0000, 0.0000, 0.0000, 0.0000, 0.7569, 0.8941, 0.8549,\n",
      "          0.8353, 0.7765, 0.7059, 0.8314, 0.8235, 0.8275, 0.8353, 0.8745,\n",
      "          0.8627, 0.9529, 0.7922, 0.0000],\n",
      "         [0.0000, 0.0000, 0.0000, 0.0000, 0.0000, 0.0000, 0.0000, 0.0000,\n",
      "          0.0000, 0.0039, 0.0118, 0.0000, 0.0471, 0.8588, 0.8627, 0.8314,\n",
      "          0.8549, 0.7529, 0.6627, 0.8902, 0.8157, 0.8549, 0.8784, 0.8314,\n",
      "          0.8863, 0.7725, 0.8196, 0.2039],\n",
      "         [0.0000, 0.0000, 0.0000, 0.0000, 0.0000, 0.0000, 0.0000, 0.0000,\n",
      "          0.0000, 0.0000, 0.0235, 0.0000, 0.3882, 0.9569, 0.8706, 0.8627,\n",
      "          0.8549, 0.7961, 0.7765, 0.8667, 0.8431, 0.8353, 0.8706, 0.8627,\n",
      "          0.9608, 0.4667, 0.6549, 0.2196],\n",
      "         [0.0000, 0.0000, 0.0000, 0.0000, 0.0000, 0.0000, 0.0000, 0.0000,\n",
      "          0.0000, 0.0157, 0.0000, 0.0000, 0.2157, 0.9255, 0.8941, 0.9020,\n",
      "          0.8941, 0.9412, 0.9098, 0.8353, 0.8549, 0.8745, 0.9176, 0.8510,\n",
      "          0.8510, 0.8196, 0.3608, 0.0000],\n",
      "         [0.0000, 0.0000, 0.0039, 0.0157, 0.0235, 0.0275, 0.0078, 0.0000,\n",
      "          0.0000, 0.0000, 0.0000, 0.0000, 0.9294, 0.8863, 0.8510, 0.8745,\n",
      "          0.8706, 0.8588, 0.8706, 0.8667, 0.8471, 0.8745, 0.8980, 0.8431,\n",
      "          0.8549, 1.0000, 0.3020, 0.0000],\n",
      "         [0.0000, 0.0118, 0.0000, 0.0000, 0.0000, 0.0000, 0.0000, 0.0000,\n",
      "          0.0000, 0.2431, 0.5686, 0.8000, 0.8941, 0.8118, 0.8353, 0.8667,\n",
      "          0.8549, 0.8157, 0.8275, 0.8549, 0.8784, 0.8745, 0.8588, 0.8431,\n",
      "          0.8784, 0.9569, 0.6235, 0.0000],\n",
      "         [0.0000, 0.0000, 0.0000, 0.0000, 0.0706, 0.1725, 0.3216, 0.4196,\n",
      "          0.7412, 0.8941, 0.8627, 0.8706, 0.8510, 0.8863, 0.7843, 0.8039,\n",
      "          0.8275, 0.9020, 0.8784, 0.9176, 0.6902, 0.7373, 0.9804, 0.9725,\n",
      "          0.9137, 0.9333, 0.8431, 0.0000],\n",
      "         [0.0000, 0.2235, 0.7333, 0.8157, 0.8784, 0.8667, 0.8784, 0.8157,\n",
      "          0.8000, 0.8392, 0.8157, 0.8196, 0.7843, 0.6235, 0.9608, 0.7569,\n",
      "          0.8078, 0.8745, 1.0000, 1.0000, 0.8667, 0.9176, 0.8667, 0.8275,\n",
      "          0.8627, 0.9098, 0.9647, 0.0000],\n",
      "         [0.0118, 0.7922, 0.8941, 0.8784, 0.8667, 0.8275, 0.8275, 0.8392,\n",
      "          0.8039, 0.8039, 0.8039, 0.8627, 0.9412, 0.3137, 0.5882, 1.0000,\n",
      "          0.8980, 0.8667, 0.7373, 0.6039, 0.7490, 0.8235, 0.8000, 0.8196,\n",
      "          0.8706, 0.8941, 0.8824, 0.0000],\n",
      "         [0.3843, 0.9137, 0.7765, 0.8235, 0.8706, 0.8980, 0.8980, 0.9176,\n",
      "          0.9765, 0.8627, 0.7608, 0.8431, 0.8510, 0.9451, 0.2549, 0.2863,\n",
      "          0.4157, 0.4588, 0.6588, 0.8588, 0.8667, 0.8431, 0.8510, 0.8745,\n",
      "          0.8745, 0.8784, 0.8980, 0.1137],\n",
      "         [0.2941, 0.8000, 0.8314, 0.8000, 0.7569, 0.8039, 0.8275, 0.8824,\n",
      "          0.8471, 0.7255, 0.7725, 0.8078, 0.7765, 0.8353, 0.9412, 0.7647,\n",
      "          0.8902, 0.9608, 0.9373, 0.8745, 0.8549, 0.8314, 0.8196, 0.8706,\n",
      "          0.8627, 0.8667, 0.9020, 0.2627],\n",
      "         [0.1882, 0.7961, 0.7176, 0.7608, 0.8353, 0.7725, 0.7255, 0.7451,\n",
      "          0.7608, 0.7529, 0.7922, 0.8392, 0.8588, 0.8667, 0.8627, 0.9255,\n",
      "          0.8824, 0.8471, 0.7804, 0.8078, 0.7294, 0.7098, 0.6941, 0.6745,\n",
      "          0.7098, 0.8039, 0.8078, 0.4510],\n",
      "         [0.0000, 0.4784, 0.8588, 0.7569, 0.7020, 0.6706, 0.7176, 0.7686,\n",
      "          0.8000, 0.8235, 0.8353, 0.8118, 0.8275, 0.8235, 0.7843, 0.7686,\n",
      "          0.7608, 0.7490, 0.7647, 0.7490, 0.7765, 0.7529, 0.6902, 0.6118,\n",
      "          0.6549, 0.6941, 0.8235, 0.3608],\n",
      "         [0.0000, 0.0000, 0.2902, 0.7412, 0.8314, 0.7490, 0.6863, 0.6745,\n",
      "          0.6863, 0.7098, 0.7255, 0.7373, 0.7412, 0.7373, 0.7569, 0.7765,\n",
      "          0.8000, 0.8196, 0.8235, 0.8235, 0.8275, 0.7373, 0.7373, 0.7608,\n",
      "          0.7529, 0.8471, 0.6667, 0.0000],\n",
      "         [0.0078, 0.0000, 0.0000, 0.0000, 0.2588, 0.7843, 0.8706, 0.9294,\n",
      "          0.9373, 0.9490, 0.9647, 0.9529, 0.9569, 0.8667, 0.8627, 0.7569,\n",
      "          0.7490, 0.7020, 0.7137, 0.7137, 0.7098, 0.6902, 0.6510, 0.6588,\n",
      "          0.3882, 0.2275, 0.0000, 0.0000],\n",
      "         [0.0000, 0.0000, 0.0000, 0.0000, 0.0000, 0.0000, 0.0000, 0.1569,\n",
      "          0.2392, 0.1725, 0.2824, 0.1608, 0.1373, 0.0000, 0.0000, 0.0000,\n",
      "          0.0000, 0.0000, 0.0000, 0.0000, 0.0000, 0.0000, 0.0000, 0.0000,\n",
      "          0.0000, 0.0000, 0.0000, 0.0000],\n",
      "         [0.0000, 0.0000, 0.0000, 0.0000, 0.0000, 0.0000, 0.0000, 0.0000,\n",
      "          0.0000, 0.0000, 0.0000, 0.0000, 0.0000, 0.0000, 0.0000, 0.0000,\n",
      "          0.0000, 0.0000, 0.0000, 0.0000, 0.0000, 0.0000, 0.0000, 0.0000,\n",
      "          0.0000, 0.0000, 0.0000, 0.0000],\n",
      "         [0.0000, 0.0000, 0.0000, 0.0000, 0.0000, 0.0000, 0.0000, 0.0000,\n",
      "          0.0000, 0.0000, 0.0000, 0.0000, 0.0000, 0.0000, 0.0000, 0.0000,\n",
      "          0.0000, 0.0000, 0.0000, 0.0000, 0.0000, 0.0000, 0.0000, 0.0000,\n",
      "          0.0000, 0.0000, 0.0000, 0.0000]]]) 9\n",
      "['T-shirt/top', 'Trouser', 'Pullover', 'Dress', 'Coat', 'Sandal', 'Shirt', 'Sneaker', 'Bag', 'Ankle boot']\n",
      "{'T-shirt/top': 0, 'Trouser': 1, 'Pullover': 2, 'Dress': 3, 'Coat': 4, 'Sandal': 5, 'Shirt': 6, 'Sneaker': 7, 'Bag': 8, 'Ankle boot': 9}\n"
     ]
    }
   ],
   "source": [
    "print(len (train_data), len(test_data))\n",
    "image, label = train_data[0]\n",
    "print (image, label)\n",
    "print (train_data.classes)\n",
    "print (train_data.class_to_idx)"
   ]
  },
  {
   "cell_type": "code",
   "execution_count": 5,
   "metadata": {},
   "outputs": [
    {
     "name": "stdout",
     "output_type": "stream",
     "text": [
      "torch.Size([1, 28, 28])\n",
      "Ankle boot\n"
     ]
    }
   ],
   "source": [
    "print(image.shape)\n",
    "print (train_data.classes[label])"
   ]
  },
  {
   "cell_type": "markdown",
   "metadata": {},
   "source": [
    "## visualize"
   ]
  },
  {
   "cell_type": "code",
   "execution_count": 6,
   "metadata": {},
   "outputs": [
    {
     "data": {
      "text/plain": [
       "Text(0.5, 1.0, '9')"
      ]
     },
     "execution_count": 6,
     "metadata": {},
     "output_type": "execute_result"
    },
    {
     "data": {
      "image/png": "[encoded data removed]",
      "text/plain": [
       "<Figure size 640x480 with 1 Axes>"
      ]
     },
     "metadata": {},
     "output_type": "display_data"
    }
   ],
   "source": [
    "plt.imshow(image.squeeze(), cmap=\"grey\")\n",
    "plt.title(label)"
   ]
  },
  {
   "cell_type": "code",
   "execution_count": 7,
   "metadata": {},
   "outputs": [
    {
     "data": {
      "image/png": "[encoded data removed]",
      "text/plain": [
       "<Figure size 900x900 with 16 Axes>"
      ]
     },
     "metadata": {},
     "output_type": "display_data"
    }
   ],
   "source": [
    "# Show 16 pictures\n",
    "fig = plt.figure (figsize=(9,9))\n",
    "rows, cols = 4, 4\n",
    "for i in range (1, rows*cols + 1):\n",
    "    img_index = torch.randint(0, len(train_data), size = [1]).item()\n",
    "    fig.add_subplot (rows, cols, i)\n",
    "    img, lbl = train_data[img_index]\n",
    "    plt.imshow(img.squeeze(), cmap = 'grey')\n",
    "    plt.title(train_data.classes[lbl])\n",
    "    plt.axis(False)\n"
   ]
  },
  {
   "cell_type": "code",
   "execution_count": 8,
   "metadata": {},
   "outputs": [],
   "source": [
    "# turn data into iterable "
   ]
  },
  {
   "cell_type": "code",
   "execution_count": 9,
   "metadata": {},
   "outputs": [
    {
     "name": "stdout",
     "output_type": "stream",
     "text": [
      "<torch.utils.data.dataloader.DataLoader object at 0x0000026D998F3690> <torch.utils.data.dataloader.DataLoader object at 0x0000026DE03285D0>\n",
      "1875 32\n",
      "313 32\n"
     ]
    }
   ],
   "source": [
    "BATCH_SIZE = 32\n",
    "train_dataloader = DataLoader(dataset= train_data,\n",
    "                              batch_size= BATCH_SIZE,\n",
    "                              shuffle = True)\n",
    "test_dataloader = DataLoader(dataset = test_data,\n",
    "                             batch_size = BATCH_SIZE,\n",
    "                             shuffle = False)\n",
    "print(train_dataloader, test_dataloader)\n",
    "print (len(train_dataloader), BATCH_SIZE)\n",
    "print (len (test_dataloader), BATCH_SIZE)\n"
   ]
  },
  {
   "cell_type": "code",
   "execution_count": 10,
   "metadata": {},
   "outputs": [
    {
     "data": {
      "text/plain": [
       "(torch.Size([32, 1, 28, 28]), torch.Size([32]))"
      ]
     },
     "execution_count": 10,
     "metadata": {},
     "output_type": "execute_result"
    }
   ],
   "source": [
    "# show each batch\n",
    "train_features_batch, train_labels_batch = next(iter(train_dataloader))\n",
    "train_features_batch.shape, train_labels_batch.shape"
   ]
  },
  {
   "cell_type": "code",
   "execution_count": 11,
   "metadata": {},
   "outputs": [
    {
     "name": "stdout",
     "output_type": "stream",
     "text": [
      "torch.Size([1, 28, 28])\n",
      "tensor(8) torch.Size([])\n"
     ]
    },
    {
     "data": {
      "image/png": "[encoded data removed]",
      "text/plain": [
       "<Figure size 640x480 with 1 Axes>"
      ]
     },
     "metadata": {},
     "output_type": "display_data"
    }
   ],
   "source": [
    "# show sample of \n",
    "# torch.manual_seed(42)\n",
    "random_idx = torch.randint(0, len(train_features_batch), size=[1]).item()\n",
    "img, label = train_features_batch[random_idx], train_labels_batch[random_idx]\n",
    "plt.imshow(img.squeeze(), cmap = 'grey')\n",
    "plt.title (train_data.classes[label])\n",
    "plt.axis(False)\n",
    "print (img.shape)\n",
    "print (label, label.shape)"
   ]
  },
  {
   "cell_type": "markdown",
   "metadata": {},
   "source": [
    "## Baseline Model"
   ]
  },
  {
   "cell_type": "code",
   "execution_count": 12,
   "metadata": {},
   "outputs": [
    {
     "data": {
      "text/plain": [
       "(torch.Size([1, 28, 28]), torch.Size([1, 784]))"
      ]
     },
     "execution_count": 12,
     "metadata": {},
     "output_type": "execute_result"
    }
   ],
   "source": [
    "# flatten data\n",
    "flatten_data = nn.Flatten()\n",
    "x_0 = train_features_batch[0]\n",
    "x_0_flatten = flatten_data(x_0)\n",
    "x_0.shape, x_0_flatten.shape"
   ]
  },
  {
   "cell_type": "code",
   "execution_count": 13,
   "metadata": {},
   "outputs": [],
   "source": [
    "# first model\n",
    "class FashionMNISTModelV0(nn.Module):\n",
    "    def __init__(self,\n",
    "                 input_shape: int = 784,\n",
    "                 hidden_units: int = 256,\n",
    "                 output_shape: int =10):\n",
    "        super().__init__()\n",
    "        self.layer_stack = nn.Sequential(\n",
    "            nn.Flatten(),\n",
    "            nn.Linear(in_features = input_shape,\n",
    "                      out_features=hidden_units),\n",
    "            nn.Linear(in_features=hidden_units,\n",
    "                      out_features=output_shape)\n",
    "        )\n",
    "\n",
    "    def forward(self, x):\n",
    "        return self.layer_stack(x)"
   ]
  },
  {
   "cell_type": "code",
   "execution_count": 14,
   "metadata": {},
   "outputs": [
    {
     "data": {
      "text/plain": [
       "FashionMNISTModelV0(\n",
       "  (layer_stack): Sequential(\n",
       "    (0): Flatten(start_dim=1, end_dim=-1)\n",
       "    (1): Linear(in_features=784, out_features=256, bias=True)\n",
       "    (2): Linear(in_features=256, out_features=10, bias=True)\n",
       "  )\n",
       ")"
      ]
     },
     "execution_count": 14,
     "metadata": {},
     "output_type": "execute_result"
    }
   ],
   "source": [
    "# set model\n",
    "torch.manual_seed(42)\n",
    "model_0 = FashionMNISTModelV0()\n",
    "model_0"
   ]
  },
  {
   "cell_type": "code",
   "execution_count": 15,
   "metadata": {},
   "outputs": [
    {
     "data": {
      "text/plain": [
       "tensor([[-0.1632,  0.1134, -0.0667,  0.3176,  0.0384, -0.0599,  0.1459, -0.1255,\n",
       "          0.1022,  0.2317]], grad_fn=<AddmmBackward0>)"
      ]
     },
     "execution_count": 15,
     "metadata": {},
     "output_type": "execute_result"
    }
   ],
   "source": [
    "dummy_x = torch.rand([1,1, 28, 28])\n",
    "model_0(dummy_x)\n"
   ]
  },
  {
   "cell_type": "code",
   "execution_count": 16,
   "metadata": {},
   "outputs": [
    {
     "data": {
      "text/plain": [
       "OrderedDict([('layer_stack.1.weight',\n",
       "              tensor([[ 0.0273,  0.0296, -0.0084,  ..., -0.0142,  0.0093,  0.0135],\n",
       "                      [-0.0188, -0.0354,  0.0187,  ..., -0.0106, -0.0001,  0.0115],\n",
       "                      [-0.0008,  0.0017,  0.0045,  ..., -0.0127, -0.0188,  0.0059],\n",
       "                      ...,\n",
       "                      [ 0.0307,  0.0202,  0.0212,  ...,  0.0272,  0.0314,  0.0152],\n",
       "                      [-0.0355,  0.0334, -0.0232,  ...,  0.0185, -0.0292, -0.0017],\n",
       "                      [-0.0068, -0.0321,  0.0248,  ..., -0.0255, -0.0138, -0.0288]])),\n",
       "             ('layer_stack.1.bias',\n",
       "              tensor([ 0.0214, -0.0092,  0.0252,  0.0054, -0.0258, -0.0166, -0.0220, -0.0342,\n",
       "                      -0.0085,  0.0256, -0.0313, -0.0035,  0.0126,  0.0164,  0.0323, -0.0243,\n",
       "                       0.0015,  0.0066,  0.0342, -0.0187,  0.0285,  0.0317,  0.0150,  0.0209,\n",
       "                      -0.0146,  0.0140,  0.0086,  0.0305, -0.0045,  0.0026,  0.0236, -0.0042,\n",
       "                      -0.0229,  0.0194, -0.0331,  0.0304, -0.0212,  0.0333, -0.0287,  0.0210,\n",
       "                       0.0166,  0.0281,  0.0161,  0.0301,  0.0113, -0.0220,  0.0346,  0.0303,\n",
       "                      -0.0307,  0.0046, -0.0006,  0.0303,  0.0257,  0.0259, -0.0135,  0.0305,\n",
       "                      -0.0002,  0.0227,  0.0155, -0.0320,  0.0140,  0.0089, -0.0101, -0.0295,\n",
       "                      -0.0044,  0.0036, -0.0183,  0.0012,  0.0055, -0.0030,  0.0078, -0.0228,\n",
       "                       0.0309,  0.0275, -0.0249,  0.0034,  0.0067, -0.0108, -0.0239, -0.0230,\n",
       "                      -0.0296,  0.0070,  0.0075,  0.0286, -0.0290,  0.0152, -0.0192, -0.0340,\n",
       "                       0.0138,  0.0192,  0.0256, -0.0190,  0.0138, -0.0186,  0.0160, -0.0218,\n",
       "                      -0.0356,  0.0350, -0.0205,  0.0027,  0.0296, -0.0229, -0.0248,  0.0190,\n",
       "                      -0.0102, -0.0203, -0.0118, -0.0298, -0.0080, -0.0045, -0.0301, -0.0131,\n",
       "                       0.0216, -0.0231, -0.0166,  0.0142, -0.0174, -0.0335, -0.0166, -0.0023,\n",
       "                       0.0219,  0.0150,  0.0357, -0.0165, -0.0098,  0.0300, -0.0166,  0.0223,\n",
       "                       0.0241, -0.0349, -0.0024,  0.0292,  0.0319, -0.0270,  0.0338,  0.0269,\n",
       "                       0.0256,  0.0057,  0.0025, -0.0031, -0.0185,  0.0355, -0.0114, -0.0292,\n",
       "                      -0.0169, -0.0193,  0.0251, -0.0351, -0.0145, -0.0044, -0.0158,  0.0029,\n",
       "                       0.0128,  0.0125, -0.0279,  0.0070,  0.0090,  0.0115,  0.0020, -0.0023,\n",
       "                      -0.0178, -0.0123, -0.0031, -0.0146,  0.0244, -0.0333, -0.0025,  0.0186,\n",
       "                      -0.0186,  0.0029, -0.0137, -0.0225, -0.0338,  0.0124,  0.0305,  0.0085,\n",
       "                      -0.0336, -0.0202,  0.0297, -0.0185, -0.0033,  0.0206, -0.0086,  0.0113,\n",
       "                      -0.0130, -0.0299,  0.0179, -0.0173,  0.0329,  0.0296,  0.0275, -0.0334,\n",
       "                       0.0327, -0.0030, -0.0039, -0.0343, -0.0267,  0.0160,  0.0348, -0.0156,\n",
       "                       0.0164, -0.0296, -0.0266,  0.0295, -0.0166,  0.0321,  0.0249,  0.0082,\n",
       "                      -0.0096,  0.0340, -0.0279,  0.0353, -0.0010,  0.0054, -0.0005, -0.0099,\n",
       "                       0.0047,  0.0106, -0.0141,  0.0302, -0.0143,  0.0004,  0.0236, -0.0152,\n",
       "                      -0.0306, -0.0117,  0.0209,  0.0307, -0.0289,  0.0137, -0.0033,  0.0296,\n",
       "                       0.0292, -0.0014,  0.0348,  0.0150,  0.0040, -0.0179, -0.0353, -0.0163,\n",
       "                      -0.0160,  0.0108, -0.0261,  0.0201, -0.0202, -0.0156, -0.0196, -0.0046,\n",
       "                      -0.0242,  0.0263, -0.0147,  0.0245,  0.0276,  0.0352,  0.0175, -0.0024])),\n",
       "             ('layer_stack.2.weight',\n",
       "              tensor([[-3.6616e-03, -1.1677e-02, -3.3071e-02,  ..., -5.9729e-02,\n",
       "                       -3.8072e-02, -4.4816e-02],\n",
       "                      [ 4.0268e-03, -2.8274e-02,  3.3403e-02,  ...,  2.1485e-02,\n",
       "                        5.3204e-02, -2.5810e-02],\n",
       "                      [ 1.4107e-03,  2.2229e-02, -4.1241e-02,  ..., -5.5513e-02,\n",
       "                       -5.8852e-02, -5.5883e-02],\n",
       "                      ...,\n",
       "                      [ 2.1601e-02, -6.1022e-02, -4.0514e-02,  ...,  2.3108e-02,\n",
       "                       -5.1559e-03, -1.6034e-02],\n",
       "                      [ 5.3908e-02,  1.3699e-02, -3.1612e-02,  ..., -4.4322e-02,\n",
       "                       -4.8109e-03,  3.7705e-02],\n",
       "                      [-1.9170e-05, -1.9746e-03, -1.6838e-02,  ..., -4.4691e-02,\n",
       "                       -1.9483e-02,  2.3676e-02]])),\n",
       "             ('layer_stack.2.bias',\n",
       "              tensor([-0.0091,  0.0061,  0.0428,  0.0236,  0.0555,  0.0016, -0.0426, -0.0128,\n",
       "                      -0.0497,  0.0495]))])"
      ]
     },
     "execution_count": 16,
     "metadata": {},
     "output_type": "execute_result"
    }
   ],
   "source": [
    "model_0.state_dict()"
   ]
  },
  {
   "cell_type": "code",
   "execution_count": 17,
   "metadata": {},
   "outputs": [],
   "source": [
    "# loss functions\n",
    "loss_fn = nn.CrossEntropyLoss()\n",
    "optimizer = torch.optim.SGD(params=model_0.parameters(),\n",
    "                                                      lr = 0.1)\n"
   ]
  },
  {
   "cell_type": "code",
   "execution_count": 18,
   "metadata": {},
   "outputs": [],
   "source": [
    "# time functions\n",
    "def print_train_time(start: float,\n",
    "                     end: float,\n",
    "                     device: torch.device = None):\n",
    "    total_time = end - start\n",
    "    print (f'Train time on {device}: {total_time:.3f} seconds')\n",
    "    return total_time"
   ]
  },
  {
   "cell_type": "code",
   "execution_count": 19,
   "metadata": {},
   "outputs": [
    {
     "name": "stdout",
     "output_type": "stream",
     "text": [
      "Train time on cpu: 0.000 seconds\n"
     ]
    },
    {
     "data": {
      "text/plain": [
       "6.390002090483904e-05"
      ]
     },
     "execution_count": 19,
     "metadata": {},
     "output_type": "execute_result"
    }
   ],
   "source": [
    "start_time = timer() \n",
    "end_time = timer ()\n",
    "\n",
    "print_train_time(start_time, end_time, device = 'cpu')"
   ]
  },
  {
   "cell_type": "markdown",
   "metadata": {},
   "source": [
    "## use data loader for training\n"
   ]
  },
  {
   "cell_type": "code",
   "execution_count": 20,
   "metadata": {},
   "outputs": [
    {
     "name": "stderr",
     "output_type": "stream",
     "text": [
      "  0%|          | 0/3 [00:00<?, ?it/s]"
     ]
    },
    {
     "name": "stdout",
     "output_type": "stream",
     "text": [
      "Epoch 0\n",
      "\n",
      "Batch Number  0/60000 samples\n",
      "Batch Number  12800/60000 samples\n",
      "Batch Number  25600/60000 samples\n",
      "Batch Number  38400/60000 samples\n",
      "Batch Number  51200/60000 samples\n"
     ]
    },
    {
     "name": "stderr",
     "output_type": "stream",
     "text": [
      " 33%|███▎      | 1/3 [00:12<00:24, 12.40s/it]"
     ]
    },
    {
     "name": "stdout",
     "output_type": "stream",
     "text": [
      "\n",
      "Train loss: 0.5748| test loss: 0.5027 , Test acc 82.517971\n",
      "Epoch 1\n",
      "\n",
      "Batch Number  0/60000 samples\n",
      "Batch Number  12800/60000 samples\n",
      "Batch Number  25600/60000 samples\n",
      "Batch Number  38400/60000 samples\n",
      "Batch Number  51200/60000 samples\n"
     ]
    },
    {
     "name": "stderr",
     "output_type": "stream",
     "text": [
      " 67%|██████▋   | 2/3 [00:22<00:11, 11.11s/it]"
     ]
    },
    {
     "name": "stdout",
     "output_type": "stream",
     "text": [
      "\n",
      "Train loss: 0.4739| test loss: 0.4838 , Test acc 82.857428\n",
      "Epoch 2\n",
      "\n",
      "Batch Number  0/60000 samples\n",
      "Batch Number  12800/60000 samples\n",
      "Batch Number  25600/60000 samples\n",
      "Batch Number  38400/60000 samples\n",
      "Batch Number  51200/60000 samples\n"
     ]
    },
    {
     "name": "stderr",
     "output_type": "stream",
     "text": [
      "100%|██████████| 3/3 [00:33<00:00, 11.04s/it]"
     ]
    },
    {
     "name": "stdout",
     "output_type": "stream",
     "text": [
      "\n",
      "Train loss: 0.4539| test loss: 0.4763 , Test acc 83.506390\n",
      "Train time on cpu: 33.119 seconds\n"
     ]
    },
    {
     "name": "stderr",
     "output_type": "stream",
     "text": [
      "\n"
     ]
    }
   ],
   "source": [
    "# loop for batch\n",
    "torch.manual_seed(42)\n",
    "train_time_start_on_cpu = timer()\n",
    "epochs = 3\n",
    "for epoch in tqdm(range(epochs)):\n",
    "    print (f\"Epoch {epoch}\\n\")\n",
    "    train_loss = 0\n",
    "    for batch, (X, y) in enumerate (train_dataloader):\n",
    "        model_0.train()\n",
    "        y_pred = model_0(X)\n",
    "\n",
    "        loss = loss_fn (y_pred, y)\n",
    "        train_loss += loss\n",
    "\n",
    "        optimizer.zero_grad()\n",
    "\n",
    "        loss.backward()\n",
    "\n",
    "        optimizer.step()\n",
    "\n",
    "        if batch % 400 ==0:\n",
    "            print (f'Batch Number  {batch * len(X)}/{len(train_dataloader.dataset)} samples')\n",
    "\n",
    "    train_loss /= len(train_dataloader)\n",
    "\n",
    "    test_loss, test_acc = 0, 0\n",
    "    model_0.eval()\n",
    "    with torch.inference_mode():\n",
    "        for X_test, y_test in test_dataloader:\n",
    "            test_pred = model_0 (X_test)\n",
    "            test_loss  += loss_fn(test_pred, y_test)\n",
    "            test_acc += accuracy_fn(y_true = y_test, y_pred=test_pred.argmax(dim = 1)) \n",
    "\n",
    "        test_loss /= len(test_dataloader)\n",
    "        test_acc /= len (test_dataloader)\n",
    "\n",
    "    print (f\"\\nTrain loss: {train_loss:.4f}| test loss: {test_loss:.4f} , Test acc {test_acc:4f}\")\n",
    "\n",
    "train_time_end_on_cpu = timer()\n",
    "total_train_time_model_0 = print_train_time(start= train_time_start_on_cpu, \n",
    "                                            end = train_time_end_on_cpu,\n",
    "                                            device = str(next (model_0.parameters()).device))\n",
    "\n",
    "\n",
    "\n",
    "\n",
    "\n",
    "\n"
   ]
  },
  {
   "cell_type": "code",
   "execution_count": 21,
   "metadata": {},
   "outputs": [],
   "source": [
    "# import torch.utils\n",
    "# import torch.utils.data\n",
    "\n",
    "\n",
    "torch.manual_seed(42)\n",
    "def eval_model (model: torch.nn.Module,\n",
    "                data_loader: torch.utils.data.DataLoader,\n",
    "                loss_fn: torch.nn.Module,\n",
    "                accuracy_fn):\n",
    "    loss, acc = 0,0\n",
    "    model.eval()\n",
    "\n",
    "    with torch.inference_mode():\n",
    "        for X, y in data_loader:\n",
    "            X, y = X.to(device), y.to(device)\n",
    "            y_pred = model (X)\n",
    "\n",
    "            loss += loss_fn (y_pred, y)\n",
    "            acc += accuracy_fn(y_true = y,\n",
    "                                y_pred = y_pred.argmax(dim= 1))\n",
    "        loss /= len (data_loader)\n",
    "        acc /= len(data_loader)\n",
    "\n",
    "    return {\"mode_name\": model.__class__.__name__,\n",
    "            \"model_loss\": loss.item(),\n",
    "            'model_acc': acc}\n",
    "\n",
    "# model_0_results = eval_model(model = model_0, \n",
    "#                              data_loader = test_dataloader,\n",
    "#                              loss_fn = loss_fn,\n",
    "#                              accuracy_fn=accuracy_fn)\n",
    "\n",
    "# model_0_results\n",
    "\n",
    "\n",
    "    \n",
    "    "
   ]
  },
  {
   "cell_type": "code",
   "execution_count": 22,
   "metadata": {},
   "outputs": [],
   "source": [
    "device = 'cuda' if torch.cuda.is_available() else 'cpu'\n"
   ]
  },
  {
   "cell_type": "markdown",
   "metadata": {},
   "source": [
    "## Non Linear model with GPU"
   ]
  },
  {
   "cell_type": "code",
   "execution_count": 23,
   "metadata": {},
   "outputs": [
    {
     "data": {
      "text/plain": [
       "FashionMNISTModelV1(\n",
       "  (layer_stack): Sequential(\n",
       "    (0): Flatten(start_dim=1, end_dim=-1)\n",
       "    (1): Linear(in_features=784, out_features=256, bias=True)\n",
       "    (2): ReLU()\n",
       "    (3): Linear(in_features=256, out_features=10, bias=True)\n",
       "  )\n",
       ")"
      ]
     },
     "execution_count": 23,
     "metadata": {},
     "output_type": "execute_result"
    }
   ],
   "source": [
    "# first model\n",
    "class FashionMNISTModelV1(nn.Module):\n",
    "    def __init__(self,\n",
    "                 input_shape: int = 784,\n",
    "                 hidden_units: int = 256,\n",
    "                 output_shape: int =10):\n",
    "        super().__init__()\n",
    "        self.layer_stack = nn.Sequential(\n",
    "            nn.Flatten(),\n",
    "            nn.Linear(in_features = input_shape,\n",
    "                      out_features=hidden_units),\n",
    "            nn.ReLU(),\n",
    "            nn.Linear(in_features=hidden_units,\n",
    "                      out_features=output_shape)\n",
    "        )\n",
    "\n",
    "    def forward(self, x):\n",
    "        return self.layer_stack(x)\n",
    "    \n",
    "model_1 = FashionMNISTModelV1().to(device)\n",
    "model_1"
   ]
  },
  {
   "cell_type": "code",
   "execution_count": 24,
   "metadata": {},
   "outputs": [],
   "source": [
    "# loss functions\n",
    "loss_fn = nn.CrossEntropyLoss()\n",
    "optimizer = torch.optim.SGD(params=model_1.parameters(),\n",
    "                                                      lr = 0.1)\n"
   ]
  },
  {
   "cell_type": "code",
   "execution_count": 25,
   "metadata": {},
   "outputs": [
    {
     "name": "stderr",
     "output_type": "stream",
     "text": [
      "  0%|          | 0/3 [00:00<?, ?it/s]"
     ]
    },
    {
     "name": "stdout",
     "output_type": "stream",
     "text": [
      "Epoch 0\n",
      "\n",
      "Batch Number  0/60000 samples\n",
      "Batch Number  12800/60000 samples\n",
      "Batch Number  25600/60000 samples\n",
      "Batch Number  38400/60000 samples\n",
      "Batch Number  51200/60000 samples\n"
     ]
    },
    {
     "name": "stderr",
     "output_type": "stream",
     "text": [
      " 33%|███▎      | 1/3 [00:10<00:21, 10.78s/it]"
     ]
    },
    {
     "name": "stdout",
     "output_type": "stream",
     "text": [
      "\n",
      "Train loss: 0.5567| test loss: 0.4444 , Test acc 83.955671\n",
      "Epoch 1\n",
      "\n",
      "Batch Number  0/60000 samples\n",
      "Batch Number  12800/60000 samples\n",
      "Batch Number  25600/60000 samples\n",
      "Batch Number  38400/60000 samples\n",
      "Batch Number  51200/60000 samples\n"
     ]
    },
    {
     "name": "stderr",
     "output_type": "stream",
     "text": [
      " 67%|██████▋   | 2/3 [00:22<00:11, 11.26s/it]"
     ]
    },
    {
     "name": "stdout",
     "output_type": "stream",
     "text": [
      "\n",
      "Train loss: 0.4021| test loss: 0.4044 , Test acc 85.293530\n",
      "Epoch 2\n",
      "\n",
      "Batch Number  0/60000 samples\n",
      "Batch Number  12800/60000 samples\n",
      "Batch Number  25600/60000 samples\n",
      "Batch Number  38400/60000 samples\n",
      "Batch Number  51200/60000 samples\n"
     ]
    },
    {
     "name": "stderr",
     "output_type": "stream",
     "text": [
      "100%|██████████| 3/3 [00:34<00:00, 11.36s/it]"
     ]
    },
    {
     "name": "stdout",
     "output_type": "stream",
     "text": [
      "\n",
      "Train loss: 0.3620| test loss: 0.3783 , Test acc 86.261981\n",
      "Train time on cuda:0: 34.089 seconds\n"
     ]
    },
    {
     "name": "stderr",
     "output_type": "stream",
     "text": [
      "\n"
     ]
    }
   ],
   "source": [
    "# loop for batch\n",
    "torch.manual_seed(42)\n",
    "train_time_start_on_cpu = timer()\n",
    "\n",
    "epochs = 3\n",
    "for epoch in tqdm(range(epochs)):\n",
    "    print (f\"Epoch {epoch}\\n\")\n",
    "    train_loss = 0\n",
    "    for batch, (X, y) in enumerate (train_dataloader):\n",
    "        model_1.train()\n",
    "        X, y = X.to(device), y.to(device)\n",
    "        y_pred = model_1(X)\n",
    "\n",
    "        loss = loss_fn (y_pred, y)\n",
    "        train_loss += loss\n",
    "\n",
    "        optimizer.zero_grad()\n",
    "\n",
    "        loss.backward()\n",
    "\n",
    "        optimizer.step()\n",
    "\n",
    "        if batch % 400 ==0:\n",
    "            print (f'Batch Number  {batch * len(X)}/{len(train_dataloader.dataset)} samples')\n",
    "\n",
    "    train_loss /= len(train_dataloader)\n",
    "\n",
    "    test_loss, test_acc = 0, 0\n",
    "    model_1.eval()\n",
    "    with torch.inference_mode():\n",
    "        for X_test, y_test in test_dataloader:\n",
    "            X_test, y_test = X_test.to(device), y_test.to(device)\n",
    "            test_pred = model_1 (X_test)\n",
    "            test_loss  += loss_fn(test_pred, y_test)\n",
    "            test_acc += accuracy_fn(y_true = y_test, y_pred=test_pred.argmax(dim = 1)) \n",
    "\n",
    "        test_loss /= len(test_dataloader)\n",
    "        test_acc /= len (test_dataloader)\n",
    "\n",
    "    print (f\"\\nTrain loss: {train_loss:.4f}| test loss: {test_loss:.4f} , Test acc {test_acc:4f}\")\n",
    "\n",
    "train_time_end_on_cpu = timer()\n",
    "total_train_time_model_1 = print_train_time(start= train_time_start_on_cpu, \n",
    "                                            end = train_time_end_on_cpu,\n",
    "                                            device = str(next (model_1.parameters()).device))\n"
   ]
  },
  {
   "cell_type": "code",
   "execution_count": 26,
   "metadata": {},
   "outputs": [
    {
     "data": {
      "text/plain": [
       "{'mode_name': 'FashionMNISTModelV1',\n",
       " 'model_loss': 0.37831225991249084,\n",
       " 'model_acc': 86.26198083067092}"
      ]
     },
     "execution_count": 26,
     "metadata": {},
     "output_type": "execute_result"
    }
   ],
   "source": [
    "# evaluate model 1\n",
    "model_1_results = eval_model(model = model_1, \n",
    "                             data_loader = test_dataloader,\n",
    "                             loss_fn = loss_fn,\n",
    "                             accuracy_fn=accuracy_fn)\n",
    "\n",
    "model_1_results"
   ]
  },
  {
   "cell_type": "markdown",
   "metadata": {},
   "source": [
    "## Functionalze train and test loop\n"
   ]
  },
  {
   "cell_type": "code",
   "execution_count": 27,
   "metadata": {},
   "outputs": [],
   "source": [
    "import torch.utils\n",
    "\n",
    "\n",
    "def train_loop(model: nn.Module,\n",
    "              dataloader:torch.utils.data.DataLoader,\n",
    "              loss_fn:torch.nn.Module,\n",
    "              optimizer:torch.optim.Optimizer,\n",
    "              accuracy_fn,\n",
    "              device:torch.device= device\n",
    "              ):\n",
    "    train_loss = 0\n",
    "    train_acc = 0\n",
    "    model.train()\n",
    "    for batch, (X, y) in enumerate(dataloader):\n",
    "        X, y = X.to(device), y.to(device)\n",
    "        y_train_pred = model(X)\n",
    "        loss = loss_fn(y_train_pred, y)\n",
    "        train_loss += loss\n",
    "        train_acc  += accuracy_fn(y_true = y, \n",
    "                                  y_pred = y_train_pred.argmax (dim = 1))\n",
    "        optimizer.zero_grad()\n",
    "        loss.backward()\n",
    "        optimizer.step()\n",
    "\n",
    "    train_loss /= len(dataloader)\n",
    "    train_acc /= len(dataloader)\n",
    "    print (f'Train loss: {train_loss:.4f}| Train accuracy: {train_acc:.2f}%')\n",
    "    \n",
    "\n",
    "def test_loop (model: nn.Module,\n",
    "               dataloader:torch.utils.data.DataLoader,\n",
    "               loss_fn: torch.nn.Module,\n",
    "               accuracy_fn,\n",
    "               device:torch.device = device):\n",
    "    test_loss = 0\n",
    "    test_acc = 0\n",
    "    model.eval ()\n",
    "    for batch, (X, y) in enumerate(dataloader):\n",
    "        X, y = X.to(device), y.to(device)\n",
    "        y_test_pred = model(X)\n",
    "        test_loss += loss_fn(y_test_pred, y)\n",
    "        test_acc += accuracy_fn(y_true = y,\n",
    "                                y_pred = y_test_pred.argmax(dim = 1))\n",
    "\n",
    "    test_loss /= len(dataloader)\n",
    "    test_acc /= len(dataloader)\n",
    "\n",
    "    print (f'Train loss: {test_loss:.5f}| Train Acc {test_acc:.2f}%')    "
   ]
  },
  {
   "cell_type": "markdown",
   "metadata": {},
   "source": [
    "## call functions to do model 1"
   ]
  },
  {
   "cell_type": "code",
   "execution_count": 28,
   "metadata": {},
   "outputs": [
    {
     "name": "stderr",
     "output_type": "stream",
     "text": [
      "  0%|          | 0/3 [00:00<?, ?it/s]"
     ]
    },
    {
     "name": "stdout",
     "output_type": "stream",
     "text": [
      "Epoch 0\n",
      "\n",
      "Train loss: 0.3362| Train accuracy: 87.79%\n"
     ]
    },
    {
     "name": "stderr",
     "output_type": "stream",
     "text": [
      " 33%|███▎      | 1/3 [00:12<00:24, 12.33s/it]"
     ]
    },
    {
     "name": "stdout",
     "output_type": "stream",
     "text": [
      "Train loss: 0.36559| Train Acc 86.72%\n",
      "Epoch 1\n",
      "\n",
      "Train loss: 0.3183| Train accuracy: 88.37%\n"
     ]
    },
    {
     "name": "stderr",
     "output_type": "stream",
     "text": [
      " 67%|██████▋   | 2/3 [00:24<00:12, 12.43s/it]"
     ]
    },
    {
     "name": "stdout",
     "output_type": "stream",
     "text": [
      "Train loss: 0.35530| Train Acc 87.20%\n",
      "Epoch 2\n",
      "\n",
      "Train loss: 0.3032| Train accuracy: 88.81%\n"
     ]
    },
    {
     "name": "stderr",
     "output_type": "stream",
     "text": [
      "100%|██████████| 3/3 [00:37<00:00, 12.39s/it]"
     ]
    },
    {
     "name": "stdout",
     "output_type": "stream",
     "text": [
      "Train loss: 0.34618| Train Acc 87.43%\n",
      "Train time on cuda: 37.160 seconds\n"
     ]
    },
    {
     "name": "stderr",
     "output_type": "stream",
     "text": [
      "\n"
     ]
    }
   ],
   "source": [
    "torch.manual_seed(42)\n",
    "train_time_start_on_cpu = timer()\n",
    "\n",
    "from timeit import default_timer as timer\n",
    "train_time_start_on_gpu = timer()\n",
    "\n",
    "epochs = 3\n",
    "for epoch in tqdm(range(epochs)):\n",
    "    print (f\"Epoch {epoch}\\n\")\n",
    "    train_loop(model=model_1,\n",
    "               dataloader=train_dataloader,\n",
    "               loss_fn =loss_fn,\n",
    "               optimizer = optimizer,\n",
    "               accuracy_fn=accuracy_fn)\n",
    "    \n",
    "    test_loop (model=model_1,\n",
    "               dataloader= test_dataloader,\n",
    "               loss_fn = loss_fn,\n",
    "               accuracy_fn = accuracy_fn)\n",
    "\n",
    "train_time_end_on_gpu = timer()\n",
    "total_train_time_model_1 = print_train_time(start=train_time_start_on_gpu,\n",
    "                                            end=train_time_end_on_gpu,\n",
    "                                            device=device)"
   ]
  },
  {
   "cell_type": "markdown",
   "metadata": {},
   "source": [
    "## test the manual"
   ]
  },
  {
   "cell_type": "code",
   "execution_count": 29,
   "metadata": {},
   "outputs": [
    {
     "data": {
      "text/plain": [
       "{'mode_name': 'FashionMNISTModelV1',\n",
       " 'model_loss': 0.34618425369262695,\n",
       " 'model_acc': 87.43011182108626}"
      ]
     },
     "execution_count": 29,
     "metadata": {},
     "output_type": "execute_result"
    }
   ],
   "source": [
    "# evaluate model 1\n",
    "model_1_results = eval_model(model = model_1, \n",
    "                             data_loader = test_dataloader,\n",
    "                             loss_fn = loss_fn,\n",
    "                             accuracy_fn=accuracy_fn)\n",
    "\n",
    "model_1_results"
   ]
  },
  {
   "cell_type": "markdown",
   "metadata": {},
   "source": [
    "## Conv Neural Networks"
   ]
  },
  {
   "cell_type": "code",
   "execution_count": 30,
   "metadata": {},
   "outputs": [],
   "source": [
    "# create CNN with Tiny VGG\n",
    "class FashionMNISTModelV2(nn.Module):\n",
    "\n",
    "    def __init__(self, \n",
    "                input_shape: int, \n",
    "                hidden_units:int, \n",
    "                output_shape: int):\n",
    "        super().__init__()\n",
    "        self.conv_block_1= nn.Sequential(\n",
    "            nn.Conv2d(in_channels = input_shape,\n",
    "                      out_channels = hidden_units,\n",
    "                      kernel_size = 3,\n",
    "                      stride = 1,\n",
    "                      padding = 1),\n",
    "            nn.ReLU(),\n",
    "            nn.Conv2d(in_channels=hidden_units,\n",
    "                      out_channels=hidden_units,\n",
    "                      kernel_size=3,\n",
    "                      stride=1,\n",
    "                      padding=1),\n",
    "            nn.ReLU(),\n",
    "            nn.MaxPool2d(kernel_size=2)\n",
    "        )\n",
    "        self.conv_block_2 = nn.Sequential(\n",
    "            nn.Conv2d(in_channels=hidden_units,\n",
    "                      out_channels=hidden_units,\n",
    "                      kernel_size=3,\n",
    "                      stride=1,\n",
    "                      padding=1),\n",
    "            nn.ReLU(),\n",
    "            nn.Conv2d(in_channels=hidden_units,\n",
    "                      out_channels=hidden_units,\n",
    "                      kernel_size=3,\n",
    "                      stride=1,\n",
    "                      padding=1),\n",
    "            nn.ReLU(),\n",
    "            nn.MaxPool2d(kernel_size=2)            \n",
    "        )\n",
    "        self.classifer = nn.Sequential(\n",
    "          nn.Flatten(),\n",
    "          nn.Linear(in_features = hidden_units*7*7,\n",
    "                    out_features=output_shape)\n",
    "\n",
    "        )\n",
    "\n",
    "    def forward(self, x):\n",
    "        x = self.conv_block_1(x)\n",
    "        print (x.shape)\n",
    "        x=self.conv_block_2(x)\n",
    "        # flat_x = x.view (x.size(0), -1)\n",
    "        # self._flat_size = flat_x.size(1)\n",
    "        print (x.shape)\n",
    "        return x\n",
    "\n",
    "\n",
    "        \n",
    "\n"
   ]
  },
  {
   "cell_type": "code",
   "execution_count": 31,
   "metadata": {},
   "outputs": [],
   "source": [
    "torch.manual_seed(42)\n",
    "model_2 = FashionMNISTModelV2(input_shape = 1,\n",
    "                              hidden_units = 10,\n",
    "                              output_shape = len (train_data.classes)).to(device)"
   ]
  },
  {
   "cell_type": "markdown",
   "metadata": {},
   "source": [
    "### Conv 2d test code"
   ]
  },
  {
   "cell_type": "code",
   "execution_count": 32,
   "metadata": {},
   "outputs": [
    {
     "name": "stdout",
     "output_type": "stream",
     "text": [
      "torch.Size([32, 3, 64, 64])\n",
      "torch.Size([3, 64, 64])\n"
     ]
    }
   ],
   "source": [
    "torch.manual_seed(42)\n",
    "\n",
    "images = torch.randn(size = (32, 3, 64, 64))\n",
    "test_image = images [0]\n",
    "print (images.shape)\n",
    "print(test_image.shape)"
   ]
  },
  {
   "cell_type": "code",
   "execution_count": 33,
   "metadata": {},
   "outputs": [
    {
     "data": {
      "text/plain": [
       "torch.Size([1, 10, 62, 62])"
      ]
     },
     "execution_count": 33,
     "metadata": {},
     "output_type": "execute_result"
    }
   ],
   "source": [
    "# creates single conv2d\n",
    "conv_layer = nn.Conv2d(in_channels=3,\n",
    "                       out_channels=10,\n",
    "                       kernel_size = 3,\n",
    "                       stride=1,\n",
    "                       padding=0)\n",
    "\n",
    "conv_output = conv_layer (test_image.unsqueeze(0))\n",
    "conv_output.shape"
   ]
  },
  {
   "cell_type": "code",
   "execution_count": 34,
   "metadata": {},
   "outputs": [
    {
     "name": "stdout",
     "output_type": "stream",
     "text": [
      "torch.Size([3, 64, 64])\n",
      "torch.Size([1, 3, 64, 64])\n",
      "torch.Size([1, 10, 62, 62])\n",
      "torch.Size([1, 10, 31, 31])\n"
     ]
    }
   ],
   "source": [
    "# test max pool\n",
    "print(test_image.shape)\n",
    "print (test_image.unsqueeze(0).shape)\n",
    "\n",
    "max_pool_layer = nn.MaxPool2d(kernel_size=2)\n",
    "\n",
    "# go through conv layer\n",
    "test_image_through_conv = conv_layer(test_image.unsqueeze(dim = 0))\n",
    "print (test_image_through_conv.shape)\n",
    "\n",
    "# go through maxpool layer\n",
    "test_image_throught_conv_and_max_pool = max_pool_layer(test_image_through_conv)\n",
    "print(test_image_throught_conv_and_max_pool.shape)\n",
    "\n"
   ]
  },
  {
   "cell_type": "code",
   "execution_count": 35,
   "metadata": {},
   "outputs": [
    {
     "name": "stdout",
     "output_type": "stream",
     "text": [
      "torch.Size([1, 1, 2, 2])\n",
      "torch.Size([1, 1, 1, 1])\n"
     ]
    }
   ],
   "source": [
    "# try with smaller tesnon\n",
    "torch.manual_seed(42)\n",
    "random_tensor = torch.randn(size = (1, 1, 2, 2))\n",
    "max_pool_layer = nn.MaxPool2d(kernel_size=2)\n",
    "max_pool_tensor = max_pool_layer (random_tensor)\n",
    "print (random_tensor.shape)\n",
    "print (max_pool_tensor.shape)"
   ]
  },
  {
   "cell_type": "markdown",
   "metadata": {},
   "source": [
    "## set up loss function and eval and otimzie"
   ]
  },
  {
   "cell_type": "code",
   "execution_count": 36,
   "metadata": {},
   "outputs": [],
   "source": [
    "#  code for above\n",
    "loss_fn = nn.CrossEntropyLoss()\n",
    "optimizer= torch.optim.SGD(params=model_2.parameters(), lr = 0.1)"
   ]
  },
  {
   "cell_type": "code",
   "execution_count": 37,
   "metadata": {},
   "outputs": [
    {
     "name": "stderr",
     "output_type": "stream",
     "text": [
      "  0%|          | 0/3 [00:00<?, ?it/s]"
     ]
    },
    {
     "name": "stdout",
     "output_type": "stream",
     "text": [
      "Epoch 0\n",
      "\n",
      "torch.Size([32, 10, 14, 14])\n",
      "torch.Size([32, 10, 7, 7])\n"
     ]
    },
    {
     "name": "stderr",
     "output_type": "stream",
     "text": [
      "  0%|          | 0/3 [00:00<?, ?it/s]\n"
     ]
    },
    {
     "ename": "RuntimeError",
     "evalue": "only batches of spatial targets supported (3D tensors) but got targets of size: : [32]",
     "output_type": "error",
     "traceback": [
      "\u001b[1;31m---------------------------------------------------------------------------\u001b[0m",
      "\u001b[1;31mRuntimeError\u001b[0m                              Traceback (most recent call last)",
      "Cell \u001b[1;32mIn[37], line 10\u001b[0m\n\u001b[0;32m      8\u001b[0m \u001b[38;5;28;01mfor\u001b[39;00m epoch \u001b[38;5;129;01min\u001b[39;00m tqdm(\u001b[38;5;28mrange\u001b[39m(epochs)):\n\u001b[0;32m      9\u001b[0m     \u001b[38;5;28mprint\u001b[39m (\u001b[38;5;124mf\u001b[39m\u001b[38;5;124m\"\u001b[39m\u001b[38;5;124mEpoch \u001b[39m\u001b[38;5;132;01m{\u001b[39;00mepoch\u001b[38;5;132;01m}\u001b[39;00m\u001b[38;5;130;01m\\n\u001b[39;00m\u001b[38;5;124m\"\u001b[39m)\n\u001b[1;32m---> 10\u001b[0m     train_loop(model\u001b[38;5;241m=\u001b[39mmodel_2,\n\u001b[0;32m     11\u001b[0m                dataloader\u001b[38;5;241m=\u001b[39mtrain_dataloader,\n\u001b[0;32m     12\u001b[0m                loss_fn \u001b[38;5;241m=\u001b[39mloss_fn,\n\u001b[0;32m     13\u001b[0m                optimizer \u001b[38;5;241m=\u001b[39m optimizer,\n\u001b[0;32m     14\u001b[0m                accuracy_fn\u001b[38;5;241m=\u001b[39maccuracy_fn)\n\u001b[0;32m     16\u001b[0m     test_loop (model\u001b[38;5;241m=\u001b[39mmodel_2,\n\u001b[0;32m     17\u001b[0m                dataloader\u001b[38;5;241m=\u001b[39m test_dataloader,\n\u001b[0;32m     18\u001b[0m                loss_fn \u001b[38;5;241m=\u001b[39m loss_fn,\n\u001b[0;32m     19\u001b[0m                accuracy_fn \u001b[38;5;241m=\u001b[39m accuracy_fn)\n\u001b[0;32m     21\u001b[0m train_time_end_on_gpu \u001b[38;5;241m=\u001b[39m timer()\n",
      "Cell \u001b[1;32mIn[27], line 17\u001b[0m, in \u001b[0;36mtrain_loop\u001b[1;34m(model, dataloader, loss_fn, optimizer, accuracy_fn, device)\u001b[0m\n\u001b[0;32m     15\u001b[0m X, y \u001b[38;5;241m=\u001b[39m X\u001b[38;5;241m.\u001b[39mto(device), y\u001b[38;5;241m.\u001b[39mto(device)\n\u001b[0;32m     16\u001b[0m y_train_pred \u001b[38;5;241m=\u001b[39m model(X)\n\u001b[1;32m---> 17\u001b[0m loss \u001b[38;5;241m=\u001b[39m loss_fn(y_train_pred, y)\n\u001b[0;32m     18\u001b[0m train_loss \u001b[38;5;241m+\u001b[39m\u001b[38;5;241m=\u001b[39m loss\n\u001b[0;32m     19\u001b[0m train_acc  \u001b[38;5;241m+\u001b[39m\u001b[38;5;241m=\u001b[39m accuracy_fn(y_true \u001b[38;5;241m=\u001b[39m y, \n\u001b[0;32m     20\u001b[0m                           y_pred \u001b[38;5;241m=\u001b[39m y_train_pred\u001b[38;5;241m.\u001b[39margmax (dim \u001b[38;5;241m=\u001b[39m \u001b[38;5;241m1\u001b[39m))\n",
      "File \u001b[1;32mc:\\Users\\Tiger\\anaconda3\\envs\\py311Udemy\\Lib\\site-packages\\torch\\nn\\modules\\module.py:1532\u001b[0m, in \u001b[0;36mModule._wrapped_call_impl\u001b[1;34m(self, *args, **kwargs)\u001b[0m\n\u001b[0;32m   1530\u001b[0m     \u001b[38;5;28;01mreturn\u001b[39;00m \u001b[38;5;28mself\u001b[39m\u001b[38;5;241m.\u001b[39m_compiled_call_impl(\u001b[38;5;241m*\u001b[39margs, \u001b[38;5;241m*\u001b[39m\u001b[38;5;241m*\u001b[39mkwargs)  \u001b[38;5;66;03m# type: ignore[misc]\u001b[39;00m\n\u001b[0;32m   1531\u001b[0m \u001b[38;5;28;01melse\u001b[39;00m:\n\u001b[1;32m-> 1532\u001b[0m     \u001b[38;5;28;01mreturn\u001b[39;00m \u001b[38;5;28mself\u001b[39m\u001b[38;5;241m.\u001b[39m_call_impl(\u001b[38;5;241m*\u001b[39margs, \u001b[38;5;241m*\u001b[39m\u001b[38;5;241m*\u001b[39mkwargs)\n",
      "File \u001b[1;32mc:\\Users\\Tiger\\anaconda3\\envs\\py311Udemy\\Lib\\site-packages\\torch\\nn\\modules\\module.py:1541\u001b[0m, in \u001b[0;36mModule._call_impl\u001b[1;34m(self, *args, **kwargs)\u001b[0m\n\u001b[0;32m   1536\u001b[0m \u001b[38;5;66;03m# If we don't have any hooks, we want to skip the rest of the logic in\u001b[39;00m\n\u001b[0;32m   1537\u001b[0m \u001b[38;5;66;03m# this function, and just call forward.\u001b[39;00m\n\u001b[0;32m   1538\u001b[0m \u001b[38;5;28;01mif\u001b[39;00m \u001b[38;5;129;01mnot\u001b[39;00m (\u001b[38;5;28mself\u001b[39m\u001b[38;5;241m.\u001b[39m_backward_hooks \u001b[38;5;129;01mor\u001b[39;00m \u001b[38;5;28mself\u001b[39m\u001b[38;5;241m.\u001b[39m_backward_pre_hooks \u001b[38;5;129;01mor\u001b[39;00m \u001b[38;5;28mself\u001b[39m\u001b[38;5;241m.\u001b[39m_forward_hooks \u001b[38;5;129;01mor\u001b[39;00m \u001b[38;5;28mself\u001b[39m\u001b[38;5;241m.\u001b[39m_forward_pre_hooks\n\u001b[0;32m   1539\u001b[0m         \u001b[38;5;129;01mor\u001b[39;00m _global_backward_pre_hooks \u001b[38;5;129;01mor\u001b[39;00m _global_backward_hooks\n\u001b[0;32m   1540\u001b[0m         \u001b[38;5;129;01mor\u001b[39;00m _global_forward_hooks \u001b[38;5;129;01mor\u001b[39;00m _global_forward_pre_hooks):\n\u001b[1;32m-> 1541\u001b[0m     \u001b[38;5;28;01mreturn\u001b[39;00m forward_call(\u001b[38;5;241m*\u001b[39margs, \u001b[38;5;241m*\u001b[39m\u001b[38;5;241m*\u001b[39mkwargs)\n\u001b[0;32m   1543\u001b[0m \u001b[38;5;28;01mtry\u001b[39;00m:\n\u001b[0;32m   1544\u001b[0m     result \u001b[38;5;241m=\u001b[39m \u001b[38;5;28;01mNone\u001b[39;00m\n",
      "File \u001b[1;32mc:\\Users\\Tiger\\anaconda3\\envs\\py311Udemy\\Lib\\site-packages\\torch\\nn\\modules\\loss.py:1185\u001b[0m, in \u001b[0;36mCrossEntropyLoss.forward\u001b[1;34m(self, input, target)\u001b[0m\n\u001b[0;32m   1184\u001b[0m \u001b[38;5;28;01mdef\u001b[39;00m \u001b[38;5;21mforward\u001b[39m(\u001b[38;5;28mself\u001b[39m, \u001b[38;5;28minput\u001b[39m: Tensor, target: Tensor) \u001b[38;5;241m-\u001b[39m\u001b[38;5;241m>\u001b[39m Tensor:\n\u001b[1;32m-> 1185\u001b[0m     \u001b[38;5;28;01mreturn\u001b[39;00m F\u001b[38;5;241m.\u001b[39mcross_entropy(\u001b[38;5;28minput\u001b[39m, target, weight\u001b[38;5;241m=\u001b[39m\u001b[38;5;28mself\u001b[39m\u001b[38;5;241m.\u001b[39mweight,\n\u001b[0;32m   1186\u001b[0m                            ignore_index\u001b[38;5;241m=\u001b[39m\u001b[38;5;28mself\u001b[39m\u001b[38;5;241m.\u001b[39mignore_index, reduction\u001b[38;5;241m=\u001b[39m\u001b[38;5;28mself\u001b[39m\u001b[38;5;241m.\u001b[39mreduction,\n\u001b[0;32m   1187\u001b[0m                            label_smoothing\u001b[38;5;241m=\u001b[39m\u001b[38;5;28mself\u001b[39m\u001b[38;5;241m.\u001b[39mlabel_smoothing)\n",
      "File \u001b[1;32mc:\\Users\\Tiger\\anaconda3\\envs\\py311Udemy\\Lib\\site-packages\\torch\\nn\\functional.py:3086\u001b[0m, in \u001b[0;36mcross_entropy\u001b[1;34m(input, target, weight, size_average, ignore_index, reduce, reduction, label_smoothing)\u001b[0m\n\u001b[0;32m   3084\u001b[0m \u001b[38;5;28;01mif\u001b[39;00m size_average \u001b[38;5;129;01mis\u001b[39;00m \u001b[38;5;129;01mnot\u001b[39;00m \u001b[38;5;28;01mNone\u001b[39;00m \u001b[38;5;129;01mor\u001b[39;00m reduce \u001b[38;5;129;01mis\u001b[39;00m \u001b[38;5;129;01mnot\u001b[39;00m \u001b[38;5;28;01mNone\u001b[39;00m:\n\u001b[0;32m   3085\u001b[0m     reduction \u001b[38;5;241m=\u001b[39m _Reduction\u001b[38;5;241m.\u001b[39mlegacy_get_string(size_average, reduce)\n\u001b[1;32m-> 3086\u001b[0m \u001b[38;5;28;01mreturn\u001b[39;00m torch\u001b[38;5;241m.\u001b[39m_C\u001b[38;5;241m.\u001b[39m_nn\u001b[38;5;241m.\u001b[39mcross_entropy_loss(\u001b[38;5;28minput\u001b[39m, target, weight, _Reduction\u001b[38;5;241m.\u001b[39mget_enum(reduction), ignore_index, label_smoothing)\n",
      "\u001b[1;31mRuntimeError\u001b[0m: only batches of spatial targets supported (3D tensors) but got targets of size: : [32]"
     ]
    }
   ],
   "source": [
    "torch.manual_seed(42)\n",
    "train_time_start_on_cpu = timer()\n",
    "\n",
    "from timeit import default_timer as timer\n",
    "train_time_start_on_gpu = timer()\n",
    "\n",
    "epochs = 3\n",
    "for epoch in tqdm(range(epochs)):\n",
    "    print (f\"Epoch {epoch}\\n\")\n",
    "    train_loop(model=model_2,\n",
    "               dataloader=train_dataloader,\n",
    "               loss_fn =loss_fn,\n",
    "               optimizer = optimizer,\n",
    "               accuracy_fn=accuracy_fn)\n",
    "    \n",
    "    test_loop (model=model_2,\n",
    "               dataloader= test_dataloader,\n",
    "               loss_fn = loss_fn,\n",
    "               accuracy_fn = accuracy_fn)\n",
    "\n",
    "train_time_end_on_gpu = timer()\n",
    "total_train_time_model_2 = print_train_time(start=train_time_start_on_gpu,\n",
    "                                            end=train_time_end_on_gpu,\n",
    "                                            device=device)"
   ]
  }
 ],
 "metadata": {
  "kernelspec": {
   "display_name": "py311Udemy",
   "language": "python",
   "name": "python3"
  },
  "language_info": {
   "codemirror_mode": {
    "name": "ipython",
    "version": 3
   },
   "file_extension": ".py",
   "mimetype": "text/x-python",
   "name": "python",
   "nbconvert_exporter": "python",
   "pygments_lexer": "ipython3",
   "version": "3.11.9"
  }
 },
 "nbformat": 4,
 "nbformat_minor": 2
}
