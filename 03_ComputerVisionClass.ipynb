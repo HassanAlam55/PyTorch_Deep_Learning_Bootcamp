{
 "cells": [
  {
   "cell_type": "markdown",
   "metadata": {},
   "source": [
    "# 03. Pytorch Machine Vision Class"
   ]
  },
  {
   "cell_type": "code",
   "execution_count": 2,
   "metadata": {},
   "outputs": [
    {
     "name": "stderr",
     "output_type": "stream",
     "text": [
      "c:\\Users\\Tiger\\anaconda3\\envs\\py311Udemy\\Lib\\site-packages\\tqdm\\auto.py:21: TqdmWarning: IProgress not found. Please update jupyter and ipywidgets. See https://ipywidgets.readthedocs.io/en/stable/user_install.html\n",
      "  from .autonotebook import tqdm as notebook_tqdm\n"
     ]
    }
   ],
   "source": [
    "import requests\n",
    "from pathlib import Path\n",
    "import sklearn\n",
    "import matplotlib.pyplot as plt\n",
    "import pandas as pd\n",
    "from sklearn.datasets import make_circles\n",
    "from sklearn.datasets import make_moons\n",
    "from sklearn.model_selection import train_test_split\n",
    "from sklearn.datasets import make_blobs\n",
    "import pandas as pd\n",
    "import torch\n",
    "from torch import nn\n",
    "from helper_functions import plot_predictions, plot_decision_boundary, accuracy_fn\n",
    "from torchmetrics import Accuracy, ConfusionMatrix\n",
    "import mlxtend\n",
    "from torchvision import datasets\n",
    "from torchvision import transforms\n",
    "from torchvision.transforms import ToTensor\n",
    "from torch.utils.data import DataLoader\n",
    "from timeit import default_timer as timer\n",
    "from tqdm.auto import tqdm\n",
    "from mlxtend.plotting import plot_confusion_matrix\n",
    "import random\n",
    "from pathlib import Path"
   ]
  },
  {
   "cell_type": "code",
   "execution_count": 137,
   "metadata": {},
   "outputs": [],
   "source": [
    "# Import torch\n",
    "# import torch\n",
    "\n",
    "# Setup device agnostic code\n",
    "device = 'cuda' if torch.cuda.is_available() else 'cpu'\n",
    "\n",
    "# Setup random seed\n",
    "RANDOM_SEED = 42"
   ]
  },
  {
   "cell_type": "markdown",
   "metadata": {},
   "source": [
    "## get data set"
   ]
  },
  {
   "cell_type": "code",
   "execution_count": null,
   "metadata": {},
   "outputs": [],
   "source": [
    "# # set up trainng dta\n",
    "train_data = datasets.FashionMNIST(\n",
    "    root = \"data\",\n",
    "    train=True,\n",
    "    download=True,\n",
    "    transform=torchvision.transforms.ToTensor(),\n",
    "    target_transform=None\n",
    "\n",
    "    )\n",
    "# set up test dta\n",
    "test_data = datasets.FashionMNIST(\n",
    "    root = \"data\",\n",
    "    train=False,\n",
    "    download=True,\n",
    "    transform=torchvision.transforms.ToTensor(),\n",
    "    target_transform=None\n",
    "\n",
    "    )"
   ]
  },
  {
   "cell_type": "code",
   "execution_count": 139,
   "metadata": {},
   "outputs": [
    {
     "name": "stdout",
     "output_type": "stream",
     "text": [
      "60000 10000\n",
      "tensor([[[0.0000, 0.0000, 0.0000, 0.0000, 0.0000, 0.0000, 0.0000, 0.0000,\n",
      "          0.0000, 0.0000, 0.0000, 0.0000, 0.0000, 0.0000, 0.0000, 0.0000,\n",
      "          0.0000, 0.0000, 0.0000, 0.0000, 0.0000, 0.0000, 0.0000, 0.0000,\n",
      "          0.0000, 0.0000, 0.0000, 0.0000],\n",
      "         [0.0000, 0.0000, 0.0000, 0.0000, 0.0000, 0.0000, 0.0000, 0.0000,\n",
      "          0.0000, 0.0000, 0.0000, 0.0000, 0.0000, 0.0000, 0.0000, 0.0000,\n",
      "          0.0000, 0.0000, 0.0000, 0.0000, 0.0000, 0.0000, 0.0000, 0.0000,\n",
      "          0.0000, 0.0000, 0.0000, 0.0000],\n",
      "         [0.0000, 0.0000, 0.0000, 0.0000, 0.0000, 0.0000, 0.0000, 0.0000,\n",
      "          0.0000, 0.0000, 0.0000, 0.0000, 0.0000, 0.0000, 0.0000, 0.0000,\n",
      "          0.0000, 0.0000, 0.0000, 0.0000, 0.0000, 0.0000, 0.0000, 0.0000,\n",
      "          0.0000, 0.0000, 0.0000, 0.0000],\n",
      "         [0.0000, 0.0000, 0.0000, 0.0000, 0.0000, 0.0000, 0.0000, 0.0000,\n",
      "          0.0000, 0.0000, 0.0000, 0.0000, 0.0039, 0.0000, 0.0000, 0.0510,\n",
      "          0.2863, 0.0000, 0.0000, 0.0039, 0.0157, 0.0000, 0.0000, 0.0000,\n",
      "          0.0000, 0.0039, 0.0039, 0.0000],\n",
      "         [0.0000, 0.0000, 0.0000, 0.0000, 0.0000, 0.0000, 0.0000, 0.0000,\n",
      "          0.0000, 0.0000, 0.0000, 0.0000, 0.0118, 0.0000, 0.1412, 0.5333,\n",
      "          0.4980, 0.2431, 0.2118, 0.0000, 0.0000, 0.0000, 0.0039, 0.0118,\n",
      "          0.0157, 0.0000, 0.0000, 0.0118],\n",
      "         [0.0000, 0.0000, 0.0000, 0.0000, 0.0000, 0.0000, 0.0000, 0.0000,\n",
      "          0.0000, 0.0000, 0.0000, 0.0000, 0.0235, 0.0000, 0.4000, 0.8000,\n",
      "          0.6902, 0.5255, 0.5647, 0.4824, 0.0902, 0.0000, 0.0000, 0.0000,\n",
      "          0.0000, 0.0471, 0.0392, 0.0000],\n",
      "         [0.0000, 0.0000, 0.0000, 0.0000, 0.0000, 0.0000, 0.0000, 0.0000,\n",
      "          0.0000, 0.0000, 0.0000, 0.0000, 0.0000, 0.0000, 0.6078, 0.9255,\n",
      "          0.8118, 0.6980, 0.4196, 0.6118, 0.6314, 0.4275, 0.2510, 0.0902,\n",
      "          0.3020, 0.5098, 0.2824, 0.0588],\n",
      "         [0.0000, 0.0000, 0.0000, 0.0000, 0.0000, 0.0000, 0.0000, 0.0000,\n",
      "          0.0000, 0.0000, 0.0000, 0.0039, 0.0000, 0.2706, 0.8118, 0.8745,\n",
      "          0.8549, 0.8471, 0.8471, 0.6392, 0.4980, 0.4745, 0.4784, 0.5725,\n",
      "          0.5529, 0.3451, 0.6745, 0.2588],\n",
      "         [0.0000, 0.0000, 0.0000, 0.0000, 0.0000, 0.0000, 0.0000, 0.0000,\n",
      "          0.0000, 0.0039, 0.0039, 0.0039, 0.0000, 0.7843, 0.9098, 0.9098,\n",
      "          0.9137, 0.8980, 0.8745, 0.8745, 0.8431, 0.8353, 0.6431, 0.4980,\n",
      "          0.4824, 0.7686, 0.8980, 0.0000],\n",
      "         [0.0000, 0.0000, 0.0000, 0.0000, 0.0000, 0.0000, 0.0000, 0.0000,\n",
      "          0.0000, 0.0000, 0.0000, 0.0000, 0.0000, 0.7176, 0.8824, 0.8471,\n",
      "          0.8745, 0.8941, 0.9216, 0.8902, 0.8784, 0.8706, 0.8784, 0.8667,\n",
      "          0.8745, 0.9608, 0.6784, 0.0000],\n",
      "         [0.0000, 0.0000, 0.0000, 0.0000, 0.0000, 0.0000, 0.0000, 0.0000,\n",
      "          0.0000, 0.0000, 0.0000, 0.0000, 0.0000, 0.7569, 0.8941, 0.8549,\n",
      "          0.8353, 0.7765, 0.7059, 0.8314, 0.8235, 0.8275, 0.8353, 0.8745,\n",
      "          0.8627, 0.9529, 0.7922, 0.0000],\n",
      "         [0.0000, 0.0000, 0.0000, 0.0000, 0.0000, 0.0000, 0.0000, 0.0000,\n",
      "          0.0000, 0.0039, 0.0118, 0.0000, 0.0471, 0.8588, 0.8627, 0.8314,\n",
      "          0.8549, 0.7529, 0.6627, 0.8902, 0.8157, 0.8549, 0.8784, 0.8314,\n",
      "          0.8863, 0.7725, 0.8196, 0.2039],\n",
      "         [0.0000, 0.0000, 0.0000, 0.0000, 0.0000, 0.0000, 0.0000, 0.0000,\n",
      "          0.0000, 0.0000, 0.0235, 0.0000, 0.3882, 0.9569, 0.8706, 0.8627,\n",
      "          0.8549, 0.7961, 0.7765, 0.8667, 0.8431, 0.8353, 0.8706, 0.8627,\n",
      "          0.9608, 0.4667, 0.6549, 0.2196],\n",
      "         [0.0000, 0.0000, 0.0000, 0.0000, 0.0000, 0.0000, 0.0000, 0.0000,\n",
      "          0.0000, 0.0157, 0.0000, 0.0000, 0.2157, 0.9255, 0.8941, 0.9020,\n",
      "          0.8941, 0.9412, 0.9098, 0.8353, 0.8549, 0.8745, 0.9176, 0.8510,\n",
      "          0.8510, 0.8196, 0.3608, 0.0000],\n",
      "         [0.0000, 0.0000, 0.0039, 0.0157, 0.0235, 0.0275, 0.0078, 0.0000,\n",
      "          0.0000, 0.0000, 0.0000, 0.0000, 0.9294, 0.8863, 0.8510, 0.8745,\n",
      "          0.8706, 0.8588, 0.8706, 0.8667, 0.8471, 0.8745, 0.8980, 0.8431,\n",
      "          0.8549, 1.0000, 0.3020, 0.0000],\n",
      "         [0.0000, 0.0118, 0.0000, 0.0000, 0.0000, 0.0000, 0.0000, 0.0000,\n",
      "          0.0000, 0.2431, 0.5686, 0.8000, 0.8941, 0.8118, 0.8353, 0.8667,\n",
      "          0.8549, 0.8157, 0.8275, 0.8549, 0.8784, 0.8745, 0.8588, 0.8431,\n",
      "          0.8784, 0.9569, 0.6235, 0.0000],\n",
      "         [0.0000, 0.0000, 0.0000, 0.0000, 0.0706, 0.1725, 0.3216, 0.4196,\n",
      "          0.7412, 0.8941, 0.8627, 0.8706, 0.8510, 0.8863, 0.7843, 0.8039,\n",
      "          0.8275, 0.9020, 0.8784, 0.9176, 0.6902, 0.7373, 0.9804, 0.9725,\n",
      "          0.9137, 0.9333, 0.8431, 0.0000],\n",
      "         [0.0000, 0.2235, 0.7333, 0.8157, 0.8784, 0.8667, 0.8784, 0.8157,\n",
      "          0.8000, 0.8392, 0.8157, 0.8196, 0.7843, 0.6235, 0.9608, 0.7569,\n",
      "          0.8078, 0.8745, 1.0000, 1.0000, 0.8667, 0.9176, 0.8667, 0.8275,\n",
      "          0.8627, 0.9098, 0.9647, 0.0000],\n",
      "         [0.0118, 0.7922, 0.8941, 0.8784, 0.8667, 0.8275, 0.8275, 0.8392,\n",
      "          0.8039, 0.8039, 0.8039, 0.8627, 0.9412, 0.3137, 0.5882, 1.0000,\n",
      "          0.8980, 0.8667, 0.7373, 0.6039, 0.7490, 0.8235, 0.8000, 0.8196,\n",
      "          0.8706, 0.8941, 0.8824, 0.0000],\n",
      "         [0.3843, 0.9137, 0.7765, 0.8235, 0.8706, 0.8980, 0.8980, 0.9176,\n",
      "          0.9765, 0.8627, 0.7608, 0.8431, 0.8510, 0.9451, 0.2549, 0.2863,\n",
      "          0.4157, 0.4588, 0.6588, 0.8588, 0.8667, 0.8431, 0.8510, 0.8745,\n",
      "          0.8745, 0.8784, 0.8980, 0.1137],\n",
      "         [0.2941, 0.8000, 0.8314, 0.8000, 0.7569, 0.8039, 0.8275, 0.8824,\n",
      "          0.8471, 0.7255, 0.7725, 0.8078, 0.7765, 0.8353, 0.9412, 0.7647,\n",
      "          0.8902, 0.9608, 0.9373, 0.8745, 0.8549, 0.8314, 0.8196, 0.8706,\n",
      "          0.8627, 0.8667, 0.9020, 0.2627],\n",
      "         [0.1882, 0.7961, 0.7176, 0.7608, 0.8353, 0.7725, 0.7255, 0.7451,\n",
      "          0.7608, 0.7529, 0.7922, 0.8392, 0.8588, 0.8667, 0.8627, 0.9255,\n",
      "          0.8824, 0.8471, 0.7804, 0.8078, 0.7294, 0.7098, 0.6941, 0.6745,\n",
      "          0.7098, 0.8039, 0.8078, 0.4510],\n",
      "         [0.0000, 0.4784, 0.8588, 0.7569, 0.7020, 0.6706, 0.7176, 0.7686,\n",
      "          0.8000, 0.8235, 0.8353, 0.8118, 0.8275, 0.8235, 0.7843, 0.7686,\n",
      "          0.7608, 0.7490, 0.7647, 0.7490, 0.7765, 0.7529, 0.6902, 0.6118,\n",
      "          0.6549, 0.6941, 0.8235, 0.3608],\n",
      "         [0.0000, 0.0000, 0.2902, 0.7412, 0.8314, 0.7490, 0.6863, 0.6745,\n",
      "          0.6863, 0.7098, 0.7255, 0.7373, 0.7412, 0.7373, 0.7569, 0.7765,\n",
      "          0.8000, 0.8196, 0.8235, 0.8235, 0.8275, 0.7373, 0.7373, 0.7608,\n",
      "          0.7529, 0.8471, 0.6667, 0.0000],\n",
      "         [0.0078, 0.0000, 0.0000, 0.0000, 0.2588, 0.7843, 0.8706, 0.9294,\n",
      "          0.9373, 0.9490, 0.9647, 0.9529, 0.9569, 0.8667, 0.8627, 0.7569,\n",
      "          0.7490, 0.7020, 0.7137, 0.7137, 0.7098, 0.6902, 0.6510, 0.6588,\n",
      "          0.3882, 0.2275, 0.0000, 0.0000],\n",
      "         [0.0000, 0.0000, 0.0000, 0.0000, 0.0000, 0.0000, 0.0000, 0.1569,\n",
      "          0.2392, 0.1725, 0.2824, 0.1608, 0.1373, 0.0000, 0.0000, 0.0000,\n",
      "          0.0000, 0.0000, 0.0000, 0.0000, 0.0000, 0.0000, 0.0000, 0.0000,\n",
      "          0.0000, 0.0000, 0.0000, 0.0000],\n",
      "         [0.0000, 0.0000, 0.0000, 0.0000, 0.0000, 0.0000, 0.0000, 0.0000,\n",
      "          0.0000, 0.0000, 0.0000, 0.0000, 0.0000, 0.0000, 0.0000, 0.0000,\n",
      "          0.0000, 0.0000, 0.0000, 0.0000, 0.0000, 0.0000, 0.0000, 0.0000,\n",
      "          0.0000, 0.0000, 0.0000, 0.0000],\n",
      "         [0.0000, 0.0000, 0.0000, 0.0000, 0.0000, 0.0000, 0.0000, 0.0000,\n",
      "          0.0000, 0.0000, 0.0000, 0.0000, 0.0000, 0.0000, 0.0000, 0.0000,\n",
      "          0.0000, 0.0000, 0.0000, 0.0000, 0.0000, 0.0000, 0.0000, 0.0000,\n",
      "          0.0000, 0.0000, 0.0000, 0.0000]]]) 9\n",
      "['T-shirt/top', 'Trouser', 'Pullover', 'Dress', 'Coat', 'Sandal', 'Shirt', 'Sneaker', 'Bag', 'Ankle boot']\n",
      "{'T-shirt/top': 0, 'Trouser': 1, 'Pullover': 2, 'Dress': 3, 'Coat': 4, 'Sandal': 5, 'Shirt': 6, 'Sneaker': 7, 'Bag': 8, 'Ankle boot': 9}\n"
     ]
    }
   ],
   "source": [
    "print(len (train_data), len(test_data))\n",
    "image, label = train_data[0]\n",
    "print (image, label)\n",
    "print (train_data.classes)\n",
    "print (train_data.class_to_idx)"
   ]
  },
  {
   "cell_type": "code",
   "execution_count": 140,
   "metadata": {},
   "outputs": [
    {
     "name": "stdout",
     "output_type": "stream",
     "text": [
      "torch.Size([1, 28, 28])\n",
      "Ankle boot\n"
     ]
    }
   ],
   "source": [
    "print(image.shape)\n",
    "print (train_data.classes[label])"
   ]
  },
  {
   "cell_type": "markdown",
   "metadata": {},
   "source": [
    "## visualize"
   ]
  },
  {
   "cell_type": "code",
   "execution_count": 141,
   "metadata": {},
   "outputs": [
    {
     "data": {
      "text/plain": [
       "Text(0.5, 1.0, '9')"
      ]
     },
     "execution_count": 141,
     "metadata": {},
     "output_type": "execute_result"
    },
    {
     "data": {
      "image/png": "[encoded data removed]",
      "text/plain": [
       "<Figure size 640x480 with 1 Axes>"
      ]
     },
     "metadata": {},
     "output_type": "display_data"
    }
   ],
   "source": [
    "plt.imshow(image.squeeze(), cmap=\"grey\")\n",
    "plt.title(label)"
   ]
  },
  {
   "cell_type": "code",
   "execution_count": 142,
   "metadata": {},
   "outputs": [
    {
     "data": {
      "image/png": "[encoded data removed]",
      "text/plain": [
       "<Figure size 900x900 with 16 Axes>"
      ]
     },
     "metadata": {},
     "output_type": "display_data"
    }
   ],
   "source": [
    "# Show 16 pictures\n",
    "fig = plt.figure (figsize=(9,9))\n",
    "rows, cols = 4, 4\n",
    "for i in range (1, rows*cols + 1):\n",
    "    img_index = torch.randint(0, len(train_data), size = [1]).item()\n",
    "    fig.add_subplot (rows, cols, i)\n",
    "    img, lbl = train_data[img_index]\n",
    "    plt.imshow(img.squeeze(), cmap = 'grey')\n",
    "    plt.title(train_data.classes[lbl])\n",
    "    plt.axis(False)\n"
   ]
  },
  {
   "cell_type": "code",
   "execution_count": 143,
   "metadata": {},
   "outputs": [],
   "source": [
    "# turn data into iterable "
   ]
  },
  {
   "cell_type": "code",
   "execution_count": 144,
   "metadata": {},
   "outputs": [
    {
     "name": "stdout",
     "output_type": "stream",
     "text": [
      "<torch.utils.data.dataloader.DataLoader object at 0x00000273CE5B9D50> <torch.utils.data.dataloader.DataLoader object at 0x0000027452829B50>\n",
      "1875 32\n",
      "313 32\n"
     ]
    }
   ],
   "source": [
    "BATCH_SIZE = 32\n",
    "train_dataloader = DataLoader(dataset= train_data,\n",
    "                              batch_size= BATCH_SIZE,\n",
    "                              shuffle = True)\n",
    "test_dataloader = DataLoader(dataset = test_data,\n",
    "                             batch_size = BATCH_SIZE,\n",
    "                             shuffle = False)\n",
    "print(train_dataloader, test_dataloader)\n",
    "print (len(train_dataloader), BATCH_SIZE)\n",
    "print (len (test_dataloader), BATCH_SIZE)\n"
   ]
  },
  {
   "cell_type": "code",
   "execution_count": 145,
   "metadata": {},
   "outputs": [
    {
     "data": {
      "text/plain": [
       "(torch.Size([32, 1, 28, 28]), torch.Size([32]))"
      ]
     },
     "execution_count": 145,
     "metadata": {},
     "output_type": "execute_result"
    }
   ],
   "source": [
    "# show each batch\n",
    "train_features_batch, train_labels_batch = next(iter(train_dataloader))\n",
    "train_features_batch.shape, train_labels_batch.shape"
   ]
  },
  {
   "cell_type": "code",
   "execution_count": 146,
   "metadata": {},
   "outputs": [
    {
     "name": "stdout",
     "output_type": "stream",
     "text": [
      "torch.Size([1, 28, 28])\n",
      "tensor(1) torch.Size([])\n"
     ]
    },
    {
     "data": {
      "image/png": "[encoded data removed]",
      "text/plain": [
       "<Figure size 640x480 with 1 Axes>"
      ]
     },
     "metadata": {},
     "output_type": "display_data"
    }
   ],
   "source": [
    "# show sample of \n",
    "# torch.manual_seed(42)\n",
    "random_idx = torch.randint(0, len(train_features_batch), size=[1]).item()\n",
    "img, label = train_features_batch[random_idx], train_labels_batch[random_idx]\n",
    "plt.imshow(img.squeeze(), cmap = 'grey')\n",
    "plt.title (train_data.classes[label])\n",
    "plt.axis(False)\n",
    "print (img.shape)\n",
    "print (label, label.shape)"
   ]
  },
  {
   "cell_type": "markdown",
   "metadata": {},
   "source": [
    "## Baseline Model"
   ]
  },
  {
   "cell_type": "code",
   "execution_count": 147,
   "metadata": {},
   "outputs": [
    {
     "data": {
      "text/plain": [
       "(torch.Size([1, 28, 28]), torch.Size([1, 784]))"
      ]
     },
     "execution_count": 147,
     "metadata": {},
     "output_type": "execute_result"
    }
   ],
   "source": [
    "# flatten data\n",
    "flatten_data = nn.Flatten()\n",
    "x_0 = train_features_batch[0]\n",
    "x_0_flatten = flatten_data(x_0)\n",
    "x_0.shape, x_0_flatten.shape"
   ]
  },
  {
   "cell_type": "code",
   "execution_count": 148,
   "metadata": {},
   "outputs": [],
   "source": [
    "# first model\n",
    "class FashionMNISTModelV0(nn.Module):\n",
    "    def __init__(self,\n",
    "                 input_shape: int = 784,\n",
    "                 hidden_units: int = 256,\n",
    "                 output_shape: int =10):\n",
    "        super().__init__()\n",
    "        self.layer_stack = nn.Sequential(\n",
    "            nn.Flatten(),\n",
    "            nn.Linear(in_features = input_shape,\n",
    "                      out_features=hidden_units),\n",
    "            nn.Linear(in_features=hidden_units,\n",
    "                      out_features=output_shape)\n",
    "        )\n",
    "\n",
    "    def forward(self, x):\n",
    "        return self.layer_stack(x)"
   ]
  },
  {
   "cell_type": "code",
   "execution_count": 149,
   "metadata": {},
   "outputs": [
    {
     "data": {
      "text/plain": [
       "FashionMNISTModelV0(\n",
       "  (layer_stack): Sequential(\n",
       "    (0): Flatten(start_dim=1, end_dim=-1)\n",
       "    (1): Linear(in_features=784, out_features=256, bias=True)\n",
       "    (2): Linear(in_features=256, out_features=10, bias=True)\n",
       "  )\n",
       ")"
      ]
     },
     "execution_count": 149,
     "metadata": {},
     "output_type": "execute_result"
    }
   ],
   "source": [
    "# set model\n",
    "torch.manual_seed(42)\n",
    "model_0 = FashionMNISTModelV0()\n",
    "model_0"
   ]
  },
  {
   "cell_type": "code",
   "execution_count": 150,
   "metadata": {},
   "outputs": [
    {
     "data": {
      "text/plain": [
       "tensor([[-0.1632,  0.1134, -0.0667,  0.3176,  0.0384, -0.0599,  0.1459, -0.1255,\n",
       "          0.1022,  0.2317]], grad_fn=<AddmmBackward0>)"
      ]
     },
     "execution_count": 150,
     "metadata": {},
     "output_type": "execute_result"
    }
   ],
   "source": [
    "dummy_x = torch.rand([1,1, 28, 28])\n",
    "model_0(dummy_x)\n"
   ]
  },
  {
   "cell_type": "code",
   "execution_count": 151,
   "metadata": {},
   "outputs": [
    {
     "data": {
      "text/plain": [
       "OrderedDict([('layer_stack.1.weight',\n",
       "              tensor([[ 0.0273,  0.0296, -0.0084,  ..., -0.0142,  0.0093,  0.0135],\n",
       "                      [-0.0188, -0.0354,  0.0187,  ..., -0.0106, -0.0001,  0.0115],\n",
       "                      [-0.0008,  0.0017,  0.0045,  ..., -0.0127, -0.0188,  0.0059],\n",
       "                      ...,\n",
       "                      [ 0.0307,  0.0202,  0.0212,  ...,  0.0272,  0.0314,  0.0152],\n",
       "                      [-0.0355,  0.0334, -0.0232,  ...,  0.0185, -0.0292, -0.0017],\n",
       "                      [-0.0068, -0.0321,  0.0248,  ..., -0.0255, -0.0138, -0.0288]])),\n",
       "             ('layer_stack.1.bias',\n",
       "              tensor([ 0.0214, -0.0092,  0.0252,  0.0054, -0.0258, -0.0166, -0.0220, -0.0342,\n",
       "                      -0.0085,  0.0256, -0.0313, -0.0035,  0.0126,  0.0164,  0.0323, -0.0243,\n",
       "                       0.0015,  0.0066,  0.0342, -0.0187,  0.0285,  0.0317,  0.0150,  0.0209,\n",
       "                      -0.0146,  0.0140,  0.0086,  0.0305, -0.0045,  0.0026,  0.0236, -0.0042,\n",
       "                      -0.0229,  0.0194, -0.0331,  0.0304, -0.0212,  0.0333, -0.0287,  0.0210,\n",
       "                       0.0166,  0.0281,  0.0161,  0.0301,  0.0113, -0.0220,  0.0346,  0.0303,\n",
       "                      -0.0307,  0.0046, -0.0006,  0.0303,  0.0257,  0.0259, -0.0135,  0.0305,\n",
       "                      -0.0002,  0.0227,  0.0155, -0.0320,  0.0140,  0.0089, -0.0101, -0.0295,\n",
       "                      -0.0044,  0.0036, -0.0183,  0.0012,  0.0055, -0.0030,  0.0078, -0.0228,\n",
       "                       0.0309,  0.0275, -0.0249,  0.0034,  0.0067, -0.0108, -0.0239, -0.0230,\n",
       "                      -0.0296,  0.0070,  0.0075,  0.0286, -0.0290,  0.0152, -0.0192, -0.0340,\n",
       "                       0.0138,  0.0192,  0.0256, -0.0190,  0.0138, -0.0186,  0.0160, -0.0218,\n",
       "                      -0.0356,  0.0350, -0.0205,  0.0027,  0.0296, -0.0229, -0.0248,  0.0190,\n",
       "                      -0.0102, -0.0203, -0.0118, -0.0298, -0.0080, -0.0045, -0.0301, -0.0131,\n",
       "                       0.0216, -0.0231, -0.0166,  0.0142, -0.0174, -0.0335, -0.0166, -0.0023,\n",
       "                       0.0219,  0.0150,  0.0357, -0.0165, -0.0098,  0.0300, -0.0166,  0.0223,\n",
       "                       0.0241, -0.0349, -0.0024,  0.0292,  0.0319, -0.0270,  0.0338,  0.0269,\n",
       "                       0.0256,  0.0057,  0.0025, -0.0031, -0.0185,  0.0355, -0.0114, -0.0292,\n",
       "                      -0.0169, -0.0193,  0.0251, -0.0351, -0.0145, -0.0044, -0.0158,  0.0029,\n",
       "                       0.0128,  0.0125, -0.0279,  0.0070,  0.0090,  0.0115,  0.0020, -0.0023,\n",
       "                      -0.0178, -0.0123, -0.0031, -0.0146,  0.0244, -0.0333, -0.0025,  0.0186,\n",
       "                      -0.0186,  0.0029, -0.0137, -0.0225, -0.0338,  0.0124,  0.0305,  0.0085,\n",
       "                      -0.0336, -0.0202,  0.0297, -0.0185, -0.0033,  0.0206, -0.0086,  0.0113,\n",
       "                      -0.0130, -0.0299,  0.0179, -0.0173,  0.0329,  0.0296,  0.0275, -0.0334,\n",
       "                       0.0327, -0.0030, -0.0039, -0.0343, -0.0267,  0.0160,  0.0348, -0.0156,\n",
       "                       0.0164, -0.0296, -0.0266,  0.0295, -0.0166,  0.0321,  0.0249,  0.0082,\n",
       "                      -0.0096,  0.0340, -0.0279,  0.0353, -0.0010,  0.0054, -0.0005, -0.0099,\n",
       "                       0.0047,  0.0106, -0.0141,  0.0302, -0.0143,  0.0004,  0.0236, -0.0152,\n",
       "                      -0.0306, -0.0117,  0.0209,  0.0307, -0.0289,  0.0137, -0.0033,  0.0296,\n",
       "                       0.0292, -0.0014,  0.0348,  0.0150,  0.0040, -0.0179, -0.0353, -0.0163,\n",
       "                      -0.0160,  0.0108, -0.0261,  0.0201, -0.0202, -0.0156, -0.0196, -0.0046,\n",
       "                      -0.0242,  0.0263, -0.0147,  0.0245,  0.0276,  0.0352,  0.0175, -0.0024])),\n",
       "             ('layer_stack.2.weight',\n",
       "              tensor([[-3.6616e-03, -1.1677e-02, -3.3071e-02,  ..., -5.9729e-02,\n",
       "                       -3.8072e-02, -4.4816e-02],\n",
       "                      [ 4.0268e-03, -2.8274e-02,  3.3403e-02,  ...,  2.1485e-02,\n",
       "                        5.3204e-02, -2.5810e-02],\n",
       "                      [ 1.4107e-03,  2.2229e-02, -4.1241e-02,  ..., -5.5513e-02,\n",
       "                       -5.8852e-02, -5.5883e-02],\n",
       "                      ...,\n",
       "                      [ 2.1601e-02, -6.1022e-02, -4.0514e-02,  ...,  2.3108e-02,\n",
       "                       -5.1559e-03, -1.6034e-02],\n",
       "                      [ 5.3908e-02,  1.3699e-02, -3.1612e-02,  ..., -4.4322e-02,\n",
       "                       -4.8109e-03,  3.7705e-02],\n",
       "                      [-1.9170e-05, -1.9746e-03, -1.6838e-02,  ..., -4.4691e-02,\n",
       "                       -1.9483e-02,  2.3676e-02]])),\n",
       "             ('layer_stack.2.bias',\n",
       "              tensor([-0.0091,  0.0061,  0.0428,  0.0236,  0.0555,  0.0016, -0.0426, -0.0128,\n",
       "                      -0.0497,  0.0495]))])"
      ]
     },
     "execution_count": 151,
     "metadata": {},
     "output_type": "execute_result"
    }
   ],
   "source": [
    "model_0.state_dict()"
   ]
  },
  {
   "cell_type": "code",
   "execution_count": 152,
   "metadata": {},
   "outputs": [],
   "source": [
    "# loss functions\n",
    "loss_fn = nn.CrossEntropyLoss()\n",
    "optimizer = torch.optim.SGD(params=model_0.parameters(),\n",
    "                                                      lr = 0.1)\n"
   ]
  },
  {
   "cell_type": "code",
   "execution_count": 153,
   "metadata": {},
   "outputs": [],
   "source": [
    "# time functions\n",
    "def print_train_time(start: float,\n",
    "                     end: float,\n",
    "                     device: torch.device = None):\n",
    "    total_time = end - start\n",
    "    print (f'Train time on {device}: {total_time:.3f} seconds')\n",
    "    return total_time"
   ]
  },
  {
   "cell_type": "code",
   "execution_count": 154,
   "metadata": {},
   "outputs": [
    {
     "name": "stdout",
     "output_type": "stream",
     "text": [
      "Train time on cpu: 0.000 seconds\n"
     ]
    },
    {
     "data": {
      "text/plain": [
       "3.139988984912634e-05"
      ]
     },
     "execution_count": 154,
     "metadata": {},
     "output_type": "execute_result"
    }
   ],
   "source": [
    "start_time = timer() \n",
    "end_time = timer ()\n",
    "\n",
    "print_train_time(start_time, end_time, device = 'cpu')"
   ]
  },
  {
   "cell_type": "markdown",
   "metadata": {},
   "source": [
    "## use data loader for training\n"
   ]
  },
  {
   "cell_type": "code",
   "execution_count": 155,
   "metadata": {},
   "outputs": [
    {
     "name": "stderr",
     "output_type": "stream",
     "text": []
    },
    {
     "name": "stdout",
     "output_type": "stream",
     "text": [
      "Epoch 0\n",
      "\n",
      "Batch Number  0/60000 samples\n",
      "Batch Number  12800/60000 samples\n",
      "Batch Number  25600/60000 samples\n",
      "Batch Number  38400/60000 samples\n",
      "Batch Number  51200/60000 samples\n"
     ]
    },
    {
     "name": "stderr",
     "output_type": "stream",
     "text": []
    },
    {
     "name": "stdout",
     "output_type": "stream",
     "text": [
      "\n",
      "Train loss: 0.5748| test loss: 0.5027 , Test acc 82.517971\n",
      "Epoch 1\n",
      "\n",
      "Batch Number  0/60000 samples\n",
      "Batch Number  12800/60000 samples\n",
      "Batch Number  25600/60000 samples\n",
      "Batch Number  38400/60000 samples\n",
      "Batch Number  51200/60000 samples\n"
     ]
    },
    {
     "name": "stderr",
     "output_type": "stream",
     "text": []
    },
    {
     "name": "stdout",
     "output_type": "stream",
     "text": [
      "\n",
      "Train loss: 0.4739| test loss: 0.4838 , Test acc 82.857428\n",
      "Epoch 2\n",
      "\n",
      "Batch Number  0/60000 samples\n",
      "Batch Number  12800/60000 samples\n",
      "Batch Number  25600/60000 samples\n",
      "Batch Number  38400/60000 samples\n",
      "Batch Number  51200/60000 samples\n"
     ]
    },
    {
     "name": "stderr",
     "output_type": "stream",
     "text": [
      "100%|██████████| 3/3 [00:29<00:00,  9.96s/it]"
     ]
    },
    {
     "name": "stdout",
     "output_type": "stream",
     "text": [
      "\n",
      "Train loss: 0.4539| test loss: 0.4763 , Test acc 83.506390\n",
      "Train time on cpu: 29.879 seconds\n"
     ]
    },
    {
     "name": "stderr",
     "output_type": "stream",
     "text": [
      "\n"
     ]
    }
   ],
   "source": [
    "# loop for batch\n",
    "torch.manual_seed(42)\n",
    "train_time_start_on_cpu = timer()\n",
    "epochs = 3\n",
    "for epoch in tqdm(range(epochs)):\n",
    "    print (f\"Epoch {epoch}\\n\")\n",
    "    train_loss = 0\n",
    "    for batch, (X, y) in enumerate (train_dataloader):\n",
    "        model_0.train()\n",
    "        y_pred = model_0(X)\n",
    "\n",
    "        loss = loss_fn (y_pred, y)\n",
    "        train_loss += loss\n",
    "\n",
    "        optimizer.zero_grad()\n",
    "\n",
    "        loss.backward()\n",
    "\n",
    "        optimizer.step()\n",
    "\n",
    "        if batch % 400 ==0:\n",
    "            print (f'Batch Number  {batch * len(X)}/{len(train_dataloader.dataset)} samples')\n",
    "\n",
    "    train_loss /= len(train_dataloader)\n",
    "\n",
    "    test_loss, test_acc = 0, 0\n",
    "    model_0.eval()\n",
    "    with torch.inference_mode():\n",
    "        for X_test, y_test in test_dataloader:\n",
    "            test_pred = model_0 (X_test)\n",
    "            test_loss  += loss_fn(test_pred, y_test)\n",
    "            test_acc += accuracy_fn(y_true = y_test, y_pred=test_pred.argmax(dim = 1)) \n",
    "\n",
    "        test_loss /= len(test_dataloader)\n",
    "        test_acc /= len (test_dataloader)\n",
    "\n",
    "    print (f\"\\nTrain loss: {train_loss:.4f}| test loss: {test_loss:.4f} , Test acc {test_acc:4f}\")\n",
    "\n",
    "train_time_end_on_cpu = timer()\n",
    "total_train_time_model_0 = print_train_time(start= train_time_start_on_cpu, \n",
    "                                            end = train_time_end_on_cpu,\n",
    "                                            device = str(next (model_0.parameters()).device))\n",
    "\n",
    "\n",
    "\n",
    "\n",
    "\n",
    "\n"
   ]
  },
  {
   "cell_type": "code",
   "execution_count": 156,
   "metadata": {},
   "outputs": [
    {
     "ename": "RuntimeError",
     "evalue": "Expected all tensors to be on the same device, but found at least two devices, cpu and cuda:0! (when checking argument for argument mat1 in method wrapper_CUDA_addmm)",
     "output_type": "error",
     "traceback": [
      "\u001b[1;31m---------------------------------------------------------------------------\u001b[0m",
      "\u001b[1;31mRuntimeError\u001b[0m                              Traceback (most recent call last)",
      "Cell \u001b[1;32mIn[156], line 28\u001b[0m\n\u001b[0;32m     22\u001b[0m         acc \u001b[38;5;241m/\u001b[39m\u001b[38;5;241m=\u001b[39m \u001b[38;5;28mlen\u001b[39m(data_loader)\n\u001b[0;32m     24\u001b[0m     \u001b[38;5;28;01mreturn\u001b[39;00m {\u001b[38;5;124m\"\u001b[39m\u001b[38;5;124mmode_name\u001b[39m\u001b[38;5;124m\"\u001b[39m: model\u001b[38;5;241m.\u001b[39m\u001b[38;5;18m__class__\u001b[39m\u001b[38;5;241m.\u001b[39m\u001b[38;5;18m__name__\u001b[39m,\n\u001b[0;32m     25\u001b[0m             \u001b[38;5;124m\"\u001b[39m\u001b[38;5;124mmodel_loss\u001b[39m\u001b[38;5;124m\"\u001b[39m: loss\u001b[38;5;241m.\u001b[39mitem(),\n\u001b[0;32m     26\u001b[0m             \u001b[38;5;124m'\u001b[39m\u001b[38;5;124mmodel_acc\u001b[39m\u001b[38;5;124m'\u001b[39m: acc}\n\u001b[1;32m---> 28\u001b[0m model_0_results \u001b[38;5;241m=\u001b[39m eval_model(model \u001b[38;5;241m=\u001b[39m model_0, \n\u001b[0;32m     29\u001b[0m                              data_loader \u001b[38;5;241m=\u001b[39m test_dataloader,\n\u001b[0;32m     30\u001b[0m                              loss_fn \u001b[38;5;241m=\u001b[39m loss_fn,\n\u001b[0;32m     31\u001b[0m                              accuracy_fn\u001b[38;5;241m=\u001b[39maccuracy_fn)\n\u001b[0;32m     33\u001b[0m model_0_results\n",
      "Cell \u001b[1;32mIn[156], line 16\u001b[0m, in \u001b[0;36meval_model\u001b[1;34m(model, data_loader, loss_fn, accuracy_fn)\u001b[0m\n\u001b[0;32m     14\u001b[0m \u001b[38;5;28;01mfor\u001b[39;00m X, y \u001b[38;5;129;01min\u001b[39;00m data_loader:\n\u001b[0;32m     15\u001b[0m     X, y \u001b[38;5;241m=\u001b[39m X\u001b[38;5;241m.\u001b[39mto(device), y\u001b[38;5;241m.\u001b[39mto(device)\n\u001b[1;32m---> 16\u001b[0m     y_pred \u001b[38;5;241m=\u001b[39m model (X)\n\u001b[0;32m     18\u001b[0m     loss \u001b[38;5;241m+\u001b[39m\u001b[38;5;241m=\u001b[39m loss_fn (y_pred, y)\n\u001b[0;32m     19\u001b[0m     acc \u001b[38;5;241m+\u001b[39m\u001b[38;5;241m=\u001b[39m accuracy_fn(y_true \u001b[38;5;241m=\u001b[39m y,\n\u001b[0;32m     20\u001b[0m                         y_pred \u001b[38;5;241m=\u001b[39m y_pred\u001b[38;5;241m.\u001b[39margmax(dim\u001b[38;5;241m=\u001b[39m \u001b[38;5;241m1\u001b[39m))\n",
      "File \u001b[1;32mc:\\Users\\Tiger\\anaconda3\\envs\\py311Udemy\\Lib\\site-packages\\torch\\nn\\modules\\module.py:1532\u001b[0m, in \u001b[0;36mModule._wrapped_call_impl\u001b[1;34m(self, *args, **kwargs)\u001b[0m\n\u001b[0;32m   1530\u001b[0m     \u001b[38;5;28;01mreturn\u001b[39;00m \u001b[38;5;28mself\u001b[39m\u001b[38;5;241m.\u001b[39m_compiled_call_impl(\u001b[38;5;241m*\u001b[39margs, \u001b[38;5;241m*\u001b[39m\u001b[38;5;241m*\u001b[39mkwargs)  \u001b[38;5;66;03m# type: ignore[misc]\u001b[39;00m\n\u001b[0;32m   1531\u001b[0m \u001b[38;5;28;01melse\u001b[39;00m:\n\u001b[1;32m-> 1532\u001b[0m     \u001b[38;5;28;01mreturn\u001b[39;00m \u001b[38;5;28mself\u001b[39m\u001b[38;5;241m.\u001b[39m_call_impl(\u001b[38;5;241m*\u001b[39margs, \u001b[38;5;241m*\u001b[39m\u001b[38;5;241m*\u001b[39mkwargs)\n",
      "File \u001b[1;32mc:\\Users\\Tiger\\anaconda3\\envs\\py311Udemy\\Lib\\site-packages\\torch\\nn\\modules\\module.py:1541\u001b[0m, in \u001b[0;36mModule._call_impl\u001b[1;34m(self, *args, **kwargs)\u001b[0m\n\u001b[0;32m   1536\u001b[0m \u001b[38;5;66;03m# If we don't have any hooks, we want to skip the rest of the logic in\u001b[39;00m\n\u001b[0;32m   1537\u001b[0m \u001b[38;5;66;03m# this function, and just call forward.\u001b[39;00m\n\u001b[0;32m   1538\u001b[0m \u001b[38;5;28;01mif\u001b[39;00m \u001b[38;5;129;01mnot\u001b[39;00m (\u001b[38;5;28mself\u001b[39m\u001b[38;5;241m.\u001b[39m_backward_hooks \u001b[38;5;129;01mor\u001b[39;00m \u001b[38;5;28mself\u001b[39m\u001b[38;5;241m.\u001b[39m_backward_pre_hooks \u001b[38;5;129;01mor\u001b[39;00m \u001b[38;5;28mself\u001b[39m\u001b[38;5;241m.\u001b[39m_forward_hooks \u001b[38;5;129;01mor\u001b[39;00m \u001b[38;5;28mself\u001b[39m\u001b[38;5;241m.\u001b[39m_forward_pre_hooks\n\u001b[0;32m   1539\u001b[0m         \u001b[38;5;129;01mor\u001b[39;00m _global_backward_pre_hooks \u001b[38;5;129;01mor\u001b[39;00m _global_backward_hooks\n\u001b[0;32m   1540\u001b[0m         \u001b[38;5;129;01mor\u001b[39;00m _global_forward_hooks \u001b[38;5;129;01mor\u001b[39;00m _global_forward_pre_hooks):\n\u001b[1;32m-> 1541\u001b[0m     \u001b[38;5;28;01mreturn\u001b[39;00m forward_call(\u001b[38;5;241m*\u001b[39margs, \u001b[38;5;241m*\u001b[39m\u001b[38;5;241m*\u001b[39mkwargs)\n\u001b[0;32m   1543\u001b[0m \u001b[38;5;28;01mtry\u001b[39;00m:\n\u001b[0;32m   1544\u001b[0m     result \u001b[38;5;241m=\u001b[39m \u001b[38;5;28;01mNone\u001b[39;00m\n",
      "Cell \u001b[1;32mIn[148], line 17\u001b[0m, in \u001b[0;36mFashionMNISTModelV0.forward\u001b[1;34m(self, x)\u001b[0m\n\u001b[0;32m     16\u001b[0m \u001b[38;5;28;01mdef\u001b[39;00m \u001b[38;5;21mforward\u001b[39m(\u001b[38;5;28mself\u001b[39m, x):\n\u001b[1;32m---> 17\u001b[0m     \u001b[38;5;28;01mreturn\u001b[39;00m \u001b[38;5;28mself\u001b[39m\u001b[38;5;241m.\u001b[39mlayer_stack(x)\n",
      "File \u001b[1;32mc:\\Users\\Tiger\\anaconda3\\envs\\py311Udemy\\Lib\\site-packages\\torch\\nn\\modules\\module.py:1532\u001b[0m, in \u001b[0;36mModule._wrapped_call_impl\u001b[1;34m(self, *args, **kwargs)\u001b[0m\n\u001b[0;32m   1530\u001b[0m     \u001b[38;5;28;01mreturn\u001b[39;00m \u001b[38;5;28mself\u001b[39m\u001b[38;5;241m.\u001b[39m_compiled_call_impl(\u001b[38;5;241m*\u001b[39margs, \u001b[38;5;241m*\u001b[39m\u001b[38;5;241m*\u001b[39mkwargs)  \u001b[38;5;66;03m# type: ignore[misc]\u001b[39;00m\n\u001b[0;32m   1531\u001b[0m \u001b[38;5;28;01melse\u001b[39;00m:\n\u001b[1;32m-> 1532\u001b[0m     \u001b[38;5;28;01mreturn\u001b[39;00m \u001b[38;5;28mself\u001b[39m\u001b[38;5;241m.\u001b[39m_call_impl(\u001b[38;5;241m*\u001b[39margs, \u001b[38;5;241m*\u001b[39m\u001b[38;5;241m*\u001b[39mkwargs)\n",
      "File \u001b[1;32mc:\\Users\\Tiger\\anaconda3\\envs\\py311Udemy\\Lib\\site-packages\\torch\\nn\\modules\\module.py:1541\u001b[0m, in \u001b[0;36mModule._call_impl\u001b[1;34m(self, *args, **kwargs)\u001b[0m\n\u001b[0;32m   1536\u001b[0m \u001b[38;5;66;03m# If we don't have any hooks, we want to skip the rest of the logic in\u001b[39;00m\n\u001b[0;32m   1537\u001b[0m \u001b[38;5;66;03m# this function, and just call forward.\u001b[39;00m\n\u001b[0;32m   1538\u001b[0m \u001b[38;5;28;01mif\u001b[39;00m \u001b[38;5;129;01mnot\u001b[39;00m (\u001b[38;5;28mself\u001b[39m\u001b[38;5;241m.\u001b[39m_backward_hooks \u001b[38;5;129;01mor\u001b[39;00m \u001b[38;5;28mself\u001b[39m\u001b[38;5;241m.\u001b[39m_backward_pre_hooks \u001b[38;5;129;01mor\u001b[39;00m \u001b[38;5;28mself\u001b[39m\u001b[38;5;241m.\u001b[39m_forward_hooks \u001b[38;5;129;01mor\u001b[39;00m \u001b[38;5;28mself\u001b[39m\u001b[38;5;241m.\u001b[39m_forward_pre_hooks\n\u001b[0;32m   1539\u001b[0m         \u001b[38;5;129;01mor\u001b[39;00m _global_backward_pre_hooks \u001b[38;5;129;01mor\u001b[39;00m _global_backward_hooks\n\u001b[0;32m   1540\u001b[0m         \u001b[38;5;129;01mor\u001b[39;00m _global_forward_hooks \u001b[38;5;129;01mor\u001b[39;00m _global_forward_pre_hooks):\n\u001b[1;32m-> 1541\u001b[0m     \u001b[38;5;28;01mreturn\u001b[39;00m forward_call(\u001b[38;5;241m*\u001b[39margs, \u001b[38;5;241m*\u001b[39m\u001b[38;5;241m*\u001b[39mkwargs)\n\u001b[0;32m   1543\u001b[0m \u001b[38;5;28;01mtry\u001b[39;00m:\n\u001b[0;32m   1544\u001b[0m     result \u001b[38;5;241m=\u001b[39m \u001b[38;5;28;01mNone\u001b[39;00m\n",
      "File \u001b[1;32mc:\\Users\\Tiger\\anaconda3\\envs\\py311Udemy\\Lib\\site-packages\\torch\\nn\\modules\\container.py:217\u001b[0m, in \u001b[0;36mSequential.forward\u001b[1;34m(self, input)\u001b[0m\n\u001b[0;32m    215\u001b[0m \u001b[38;5;28;01mdef\u001b[39;00m \u001b[38;5;21mforward\u001b[39m(\u001b[38;5;28mself\u001b[39m, \u001b[38;5;28minput\u001b[39m):\n\u001b[0;32m    216\u001b[0m     \u001b[38;5;28;01mfor\u001b[39;00m module \u001b[38;5;129;01min\u001b[39;00m \u001b[38;5;28mself\u001b[39m:\n\u001b[1;32m--> 217\u001b[0m         \u001b[38;5;28minput\u001b[39m \u001b[38;5;241m=\u001b[39m module(\u001b[38;5;28minput\u001b[39m)\n\u001b[0;32m    218\u001b[0m     \u001b[38;5;28;01mreturn\u001b[39;00m \u001b[38;5;28minput\u001b[39m\n",
      "File \u001b[1;32mc:\\Users\\Tiger\\anaconda3\\envs\\py311Udemy\\Lib\\site-packages\\torch\\nn\\modules\\module.py:1532\u001b[0m, in \u001b[0;36mModule._wrapped_call_impl\u001b[1;34m(self, *args, **kwargs)\u001b[0m\n\u001b[0;32m   1530\u001b[0m     \u001b[38;5;28;01mreturn\u001b[39;00m \u001b[38;5;28mself\u001b[39m\u001b[38;5;241m.\u001b[39m_compiled_call_impl(\u001b[38;5;241m*\u001b[39margs, \u001b[38;5;241m*\u001b[39m\u001b[38;5;241m*\u001b[39mkwargs)  \u001b[38;5;66;03m# type: ignore[misc]\u001b[39;00m\n\u001b[0;32m   1531\u001b[0m \u001b[38;5;28;01melse\u001b[39;00m:\n\u001b[1;32m-> 1532\u001b[0m     \u001b[38;5;28;01mreturn\u001b[39;00m \u001b[38;5;28mself\u001b[39m\u001b[38;5;241m.\u001b[39m_call_impl(\u001b[38;5;241m*\u001b[39margs, \u001b[38;5;241m*\u001b[39m\u001b[38;5;241m*\u001b[39mkwargs)\n",
      "File \u001b[1;32mc:\\Users\\Tiger\\anaconda3\\envs\\py311Udemy\\Lib\\site-packages\\torch\\nn\\modules\\module.py:1541\u001b[0m, in \u001b[0;36mModule._call_impl\u001b[1;34m(self, *args, **kwargs)\u001b[0m\n\u001b[0;32m   1536\u001b[0m \u001b[38;5;66;03m# If we don't have any hooks, we want to skip the rest of the logic in\u001b[39;00m\n\u001b[0;32m   1537\u001b[0m \u001b[38;5;66;03m# this function, and just call forward.\u001b[39;00m\n\u001b[0;32m   1538\u001b[0m \u001b[38;5;28;01mif\u001b[39;00m \u001b[38;5;129;01mnot\u001b[39;00m (\u001b[38;5;28mself\u001b[39m\u001b[38;5;241m.\u001b[39m_backward_hooks \u001b[38;5;129;01mor\u001b[39;00m \u001b[38;5;28mself\u001b[39m\u001b[38;5;241m.\u001b[39m_backward_pre_hooks \u001b[38;5;129;01mor\u001b[39;00m \u001b[38;5;28mself\u001b[39m\u001b[38;5;241m.\u001b[39m_forward_hooks \u001b[38;5;129;01mor\u001b[39;00m \u001b[38;5;28mself\u001b[39m\u001b[38;5;241m.\u001b[39m_forward_pre_hooks\n\u001b[0;32m   1539\u001b[0m         \u001b[38;5;129;01mor\u001b[39;00m _global_backward_pre_hooks \u001b[38;5;129;01mor\u001b[39;00m _global_backward_hooks\n\u001b[0;32m   1540\u001b[0m         \u001b[38;5;129;01mor\u001b[39;00m _global_forward_hooks \u001b[38;5;129;01mor\u001b[39;00m _global_forward_pre_hooks):\n\u001b[1;32m-> 1541\u001b[0m     \u001b[38;5;28;01mreturn\u001b[39;00m forward_call(\u001b[38;5;241m*\u001b[39margs, \u001b[38;5;241m*\u001b[39m\u001b[38;5;241m*\u001b[39mkwargs)\n\u001b[0;32m   1543\u001b[0m \u001b[38;5;28;01mtry\u001b[39;00m:\n\u001b[0;32m   1544\u001b[0m     result \u001b[38;5;241m=\u001b[39m \u001b[38;5;28;01mNone\u001b[39;00m\n",
      "File \u001b[1;32mc:\\Users\\Tiger\\anaconda3\\envs\\py311Udemy\\Lib\\site-packages\\torch\\nn\\modules\\linear.py:116\u001b[0m, in \u001b[0;36mLinear.forward\u001b[1;34m(self, input)\u001b[0m\n\u001b[0;32m    115\u001b[0m \u001b[38;5;28;01mdef\u001b[39;00m \u001b[38;5;21mforward\u001b[39m(\u001b[38;5;28mself\u001b[39m, \u001b[38;5;28minput\u001b[39m: Tensor) \u001b[38;5;241m-\u001b[39m\u001b[38;5;241m>\u001b[39m Tensor:\n\u001b[1;32m--> 116\u001b[0m     \u001b[38;5;28;01mreturn\u001b[39;00m F\u001b[38;5;241m.\u001b[39mlinear(\u001b[38;5;28minput\u001b[39m, \u001b[38;5;28mself\u001b[39m\u001b[38;5;241m.\u001b[39mweight, \u001b[38;5;28mself\u001b[39m\u001b[38;5;241m.\u001b[39mbias)\n",
      "\u001b[1;31mRuntimeError\u001b[0m: Expected all tensors to be on the same device, but found at least two devices, cpu and cuda:0! (when checking argument for argument mat1 in method wrapper_CUDA_addmm)"
     ]
    }
   ],
   "source": [
    "# import torch.utils\n",
    "# import torch.utils.data\n",
    "\n",
    "\n",
    "torch.manual_seed(42)\n",
    "def eval_model (model: torch.nn.Module,\n",
    "                data_loader: torch.utils.data.DataLoader,\n",
    "                loss_fn: torch.nn.Module,\n",
    "                accuracy_fn):\n",
    "    loss, acc = 0,0\n",
    "    model.eval()\n",
    "\n",
    "    with torch.inference_mode():\n",
    "        for X, y in data_loader:\n",
    "            X, y = X.to(device), y.to(device)\n",
    "            y_pred = model (X)\n",
    "\n",
    "            loss += loss_fn (y_pred, y)\n",
    "            acc += accuracy_fn(y_true = y,\n",
    "                                y_pred = y_pred.argmax(dim= 1))\n",
    "        loss /= len (data_loader)\n",
    "        acc /= len(data_loader)\n",
    "\n",
    "    return {\"mode_name\": model.__class__.__name__,\n",
    "            \"model_loss\": loss.item(),\n",
    "            'model_acc': acc}\n",
    "\n",
    "model_0_results = eval_model(model = model_0, \n",
    "                             data_loader = test_dataloader,\n",
    "                             loss_fn = loss_fn,\n",
    "                             accuracy_fn=accuracy_fn)\n",
    "\n",
    "model_0_results\n",
    "\n",
    "\n",
    "    \n",
    "    "
   ]
  },
  {
   "cell_type": "code",
   "execution_count": null,
   "metadata": {},
   "outputs": [],
   "source": [
    "device = 'cuda' if torch.cuda.is_available() else 'cpu'\n"
   ]
  },
  {
   "cell_type": "markdown",
   "metadata": {},
   "source": [
    "## Non Linear model with GPU"
   ]
  },
  {
   "cell_type": "code",
   "execution_count": null,
   "metadata": {},
   "outputs": [
    {
     "data": {
      "text/plain": [
       "FashionMNISTModelV1(\n",
       "  (layer_stack): Sequential(\n",
       "    (0): Flatten(start_dim=1, end_dim=-1)\n",
       "    (1): Linear(in_features=784, out_features=256, bias=True)\n",
       "    (2): ReLU()\n",
       "    (3): Linear(in_features=256, out_features=10, bias=True)\n",
       "  )\n",
       ")"
      ]
     },
     "execution_count": 23,
     "metadata": {},
     "output_type": "execute_result"
    }
   ],
   "source": [
    "# first model\n",
    "class FashionMNISTModelV1(nn.Module):\n",
    "    def __init__(self,\n",
    "                 input_shape: int = 784,\n",
    "                 hidden_units: int = 256,\n",
    "                 output_shape: int =10):\n",
    "        super().__init__()\n",
    "        self.layer_stack = nn.Sequential(\n",
    "            nn.Flatten(),\n",
    "            nn.Linear(in_features = input_shape,\n",
    "                      out_features=hidden_units),\n",
    "            nn.ReLU(),\n",
    "            nn.Linear(in_features=hidden_units,\n",
    "                      out_features=output_shape)\n",
    "        )\n",
    "\n",
    "    def forward(self, x):\n",
    "        return self.layer_stack(x)\n",
    "    \n",
    "model_1 = FashionMNISTModelV1().to(device)\n",
    "model_1"
   ]
  },
  {
   "cell_type": "code",
   "execution_count": null,
   "metadata": {},
   "outputs": [],
   "source": [
    "# loss functions\n",
    "loss_fn = nn.CrossEntropyLoss()\n",
    "optimizer = torch.optim.SGD(params=model_1.parameters(),\n",
    "                                                      lr = 0.1)\n"
   ]
  },
  {
   "cell_type": "code",
   "execution_count": null,
   "metadata": {},
   "outputs": [
    {
     "name": "stderr",
     "output_type": "stream",
     "text": [
      "  0%|          | 0/3 [00:00<?, ?it/s]"
     ]
    },
    {
     "name": "stdout",
     "output_type": "stream",
     "text": [
      "Epoch 0\n",
      "\n",
      "Batch Number  0/60000 samples\n",
      "Batch Number  12800/60000 samples\n",
      "Batch Number  25600/60000 samples\n",
      "Batch Number  38400/60000 samples\n",
      "Batch Number  51200/60000 samples\n"
     ]
    },
    {
     "name": "stderr",
     "output_type": "stream",
     "text": [
      " 33%|███▎      | 1/3 [00:10<00:20, 10.44s/it]"
     ]
    },
    {
     "name": "stdout",
     "output_type": "stream",
     "text": [
      "\n",
      "Train loss: 0.5567| test loss: 0.4444 , Test acc 83.955671\n",
      "Epoch 1\n",
      "\n",
      "Batch Number  0/60000 samples\n",
      "Batch Number  12800/60000 samples\n",
      "Batch Number  25600/60000 samples\n",
      "Batch Number  38400/60000 samples\n",
      "Batch Number  51200/60000 samples\n"
     ]
    },
    {
     "name": "stderr",
     "output_type": "stream",
     "text": [
      " 67%|██████▋   | 2/3 [00:22<00:11, 11.23s/it]"
     ]
    },
    {
     "name": "stdout",
     "output_type": "stream",
     "text": [
      "\n",
      "Train loss: 0.4021| test loss: 0.4044 , Test acc 85.293530\n",
      "Epoch 2\n",
      "\n",
      "Batch Number  0/60000 samples\n",
      "Batch Number  12800/60000 samples\n",
      "Batch Number  25600/60000 samples\n",
      "Batch Number  38400/60000 samples\n",
      "Batch Number  51200/60000 samples\n"
     ]
    },
    {
     "name": "stderr",
     "output_type": "stream",
     "text": [
      "100%|██████████| 3/3 [00:33<00:00, 11.19s/it]"
     ]
    },
    {
     "name": "stdout",
     "output_type": "stream",
     "text": [
      "\n",
      "Train loss: 0.3620| test loss: 0.3783 , Test acc 86.261981\n",
      "Train time on cuda:0: 33.572 seconds\n"
     ]
    },
    {
     "name": "stderr",
     "output_type": "stream",
     "text": [
      "\n"
     ]
    }
   ],
   "source": [
    "# loop for batch\n",
    "torch.manual_seed(42)\n",
    "train_time_start_on_cpu = timer()\n",
    "\n",
    "epochs = 3\n",
    "for epoch in tqdm(range(epochs)):\n",
    "    print (f\"Epoch {epoch}\\n\")\n",
    "    train_loss = 0\n",
    "    for batch, (X, y) in enumerate (train_dataloader):\n",
    "        model_1.train()\n",
    "        X, y = X.to(device), y.to(device)\n",
    "        y_pred = model_1(X)\n",
    "\n",
    "        loss = loss_fn (y_pred, y)\n",
    "        train_loss += loss\n",
    "\n",
    "        optimizer.zero_grad()\n",
    "\n",
    "        loss.backward()\n",
    "\n",
    "        optimizer.step()\n",
    "\n",
    "        if batch % 400 ==0:\n",
    "            print (f'Batch Number  {batch * len(X)}/{len(train_dataloader.dataset)} samples')\n",
    "\n",
    "    train_loss /= len(train_dataloader)\n",
    "\n",
    "    test_loss, test_acc = 0, 0\n",
    "    model_1.eval()\n",
    "    with torch.inference_mode():\n",
    "        for X_test, y_test in test_dataloader:\n",
    "            X_test, y_test = X_test.to(device), y_test.to(device)\n",
    "            test_pred = model_1 (X_test)\n",
    "            test_loss  += loss_fn(test_pred, y_test)\n",
    "            test_acc += accuracy_fn(y_true = y_test, y_pred=test_pred.argmax(dim = 1)) \n",
    "\n",
    "        test_loss /= len(test_dataloader)\n",
    "        test_acc /= len (test_dataloader)\n",
    "\n",
    "    print (f\"\\nTrain loss: {train_loss:.4f}| test loss: {test_loss:.4f} , Test acc {test_acc:4f}\")\n",
    "\n",
    "train_time_end_on_cpu = timer()\n",
    "total_train_time_model_1 = print_train_time(start= train_time_start_on_cpu, \n",
    "                                            end = train_time_end_on_cpu,\n",
    "                                            device = str(next (model_1.parameters()).device))\n"
   ]
  },
  {
   "cell_type": "code",
   "execution_count": null,
   "metadata": {},
   "outputs": [
    {
     "data": {
      "text/plain": [
       "{'mode_name': 'FashionMNISTModelV1',\n",
       " 'model_loss': 0.37831225991249084,\n",
       " 'model_acc': 86.26198083067092}"
      ]
     },
     "execution_count": 26,
     "metadata": {},
     "output_type": "execute_result"
    }
   ],
   "source": [
    "# evaluate model 1\n",
    "model_1_results = eval_model(model = model_1, \n",
    "                             data_loader = test_dataloader,\n",
    "                             loss_fn = loss_fn,\n",
    "                             accuracy_fn=accuracy_fn)\n",
    "\n",
    "model_1_results"
   ]
  },
  {
   "cell_type": "markdown",
   "metadata": {},
   "source": [
    "## Functionalze train and test loop\n"
   ]
  },
  {
   "cell_type": "code",
   "execution_count": null,
   "metadata": {},
   "outputs": [],
   "source": [
    "import torch.utils\n",
    "\n",
    "\n",
    "def train_loop(model: nn.Module,\n",
    "              dataloader:torch.utils.data.DataLoader,\n",
    "              loss_fn:torch.nn.Module,\n",
    "              optimizer:torch.optim.Optimizer,\n",
    "              accuracy_fn,\n",
    "              device:torch.device= device\n",
    "              ):\n",
    "    train_loss = 0\n",
    "    train_acc = 0\n",
    "    model.train()\n",
    "    for batch, (X, y) in enumerate(dataloader):\n",
    "        X, y = X.to(device), y.to(device)\n",
    "        y_train_pred = model(X)\n",
    "        loss = loss_fn(y_train_pred, y)\n",
    "        train_loss += loss\n",
    "        train_acc  += accuracy_fn(y_true = y, \n",
    "                                  y_pred = y_train_pred.argmax (dim = 1))\n",
    "        optimizer.zero_grad()\n",
    "        loss.backward()\n",
    "        optimizer.step()\n",
    "\n",
    "    train_loss /= len(dataloader)\n",
    "    train_acc /= len(dataloader)\n",
    "    print (f'Train loss: {train_loss:.4f}| Train accuracy: {train_acc:.2f}%')\n",
    "    \n",
    "\n",
    "def test_loop (model: nn.Module,\n",
    "               dataloader:torch.utils.data.DataLoader,\n",
    "               loss_fn: torch.nn.Module,\n",
    "               accuracy_fn,\n",
    "               device:torch.device = device):\n",
    "    test_loss = 0\n",
    "    test_acc = 0\n",
    "    model.eval ()\n",
    "    for batch, (X, y) in enumerate(dataloader):\n",
    "        X, y = X.to(device), y.to(device)\n",
    "        y_test_pred = model(X)\n",
    "        test_loss += loss_fn(y_test_pred, y)\n",
    "        test_acc += accuracy_fn(y_true = y,\n",
    "                                y_pred = y_test_pred.argmax(dim = 1))\n",
    "\n",
    "    test_loss /= len(dataloader)\n",
    "    test_acc /= len(dataloader)\n",
    "\n",
    "    print (f'Train loss: {test_loss:.5f}| Train Acc {test_acc:.2f}%')    "
   ]
  },
  {
   "cell_type": "markdown",
   "metadata": {},
   "source": [
    "## call functions to do model 1"
   ]
  },
  {
   "cell_type": "code",
   "execution_count": null,
   "metadata": {},
   "outputs": [
    {
     "name": "stderr",
     "output_type": "stream",
     "text": [
      "  0%|          | 0/3 [00:00<?, ?it/s]"
     ]
    },
    {
     "name": "stdout",
     "output_type": "stream",
     "text": [
      "Epoch 0\n",
      "\n",
      "Train loss: 0.3362| Train accuracy: 87.79%\n"
     ]
    },
    {
     "name": "stderr",
     "output_type": "stream",
     "text": [
      " 33%|███▎      | 1/3 [00:12<00:24, 12.23s/it]"
     ]
    },
    {
     "name": "stdout",
     "output_type": "stream",
     "text": [
      "Train loss: 0.36559| Train Acc 86.72%\n",
      "Epoch 1\n",
      "\n",
      "Train loss: 0.3183| Train accuracy: 88.37%\n"
     ]
    },
    {
     "name": "stderr",
     "output_type": "stream",
     "text": [
      " 67%|██████▋   | 2/3 [00:24<00:12, 12.08s/it]"
     ]
    },
    {
     "name": "stdout",
     "output_type": "stream",
     "text": [
      "Train loss: 0.35530| Train Acc 87.20%\n",
      "Epoch 2\n",
      "\n",
      "Train loss: 0.3032| Train accuracy: 88.81%\n"
     ]
    },
    {
     "name": "stderr",
     "output_type": "stream",
     "text": [
      "100%|██████████| 3/3 [00:36<00:00, 12.26s/it]"
     ]
    },
    {
     "name": "stdout",
     "output_type": "stream",
     "text": [
      "Train loss: 0.34618| Train Acc 87.43%\n",
      "Train time on cuda: 36.785 seconds\n"
     ]
    },
    {
     "name": "stderr",
     "output_type": "stream",
     "text": [
      "\n"
     ]
    }
   ],
   "source": [
    "torch.manual_seed(42)\n",
    "train_time_start_on_cpu = timer()\n",
    "\n",
    "from timeit import default_timer as timer\n",
    "train_time_start_on_gpu = timer()\n",
    "\n",
    "epochs = 3\n",
    "for epoch in tqdm(range(epochs)):\n",
    "    print (f\"Epoch {epoch}\\n\")\n",
    "    train_loop(model=model_1,\n",
    "               dataloader=train_dataloader,\n",
    "               loss_fn =loss_fn,\n",
    "               optimizer = optimizer,\n",
    "               accuracy_fn=accuracy_fn,\n",
    "               device = device)\n",
    "    \n",
    "    test_loop (model=model_1,\n",
    "               dataloader= test_dataloader,\n",
    "               loss_fn = loss_fn,\n",
    "               accuracy_fn = accuracy_fn,\n",
    "               device = device)\n",
    "\n",
    "train_time_end_on_gpu = timer()\n",
    "total_train_time_model_1 = print_train_time(start=train_time_start_on_gpu,\n",
    "                                            end=train_time_end_on_gpu,\n",
    "                                            device=device)"
   ]
  },
  {
   "cell_type": "markdown",
   "metadata": {},
   "source": [
    "## test the manual"
   ]
  },
  {
   "cell_type": "code",
   "execution_count": null,
   "metadata": {},
   "outputs": [
    {
     "data": {
      "text/plain": [
       "{'mode_name': 'FashionMNISTModelV1',\n",
       " 'model_loss': 0.34618425369262695,\n",
       " 'model_acc': 87.43011182108626}"
      ]
     },
     "execution_count": 33,
     "metadata": {},
     "output_type": "execute_result"
    }
   ],
   "source": [
    "# evaluate model 1\n",
    "model_1_results = eval_model(model = model_1, \n",
    "                             data_loader = test_dataloader,\n",
    "                             loss_fn = loss_fn,\n",
    "                             accuracy_fn=accuracy_fn)\n",
    "\n",
    "model_1_results"
   ]
  },
  {
   "cell_type": "markdown",
   "metadata": {},
   "source": [
    "## Conv Neural Networks"
   ]
  },
  {
   "cell_type": "code",
   "execution_count": 229,
   "metadata": {},
   "outputs": [],
   "source": [
    "# create CNN with Tiny VGG\n",
    "class FashionMNISTModelV2(nn.Module):\n",
    "\n",
    "    def __init__(self, \n",
    "                input_shape: int, \n",
    "                hidden_units:int, \n",
    "                output_shape: int):\n",
    "        super().__init__()\n",
    "        self.block_1= nn.Sequential(\n",
    "            nn.Conv2d(in_channels = input_shape,\n",
    "                      out_channels = hidden_units,\n",
    "                      kernel_size = 3,\n",
    "                      stride = 1,\n",
    "                      padding = 1),\n",
    "            nn.ReLU(),\n",
    "            nn.Conv2d(in_channels=hidden_units,\n",
    "                      out_channels=hidden_units,\n",
    "                      kernel_size=3,\n",
    "                      stride=1,\n",
    "                      padding=1),\n",
    "            nn.ReLU(),\n",
    "            nn.MaxPool2d(kernel_size=2)\n",
    "        )\n",
    "        self.block_2 = nn.Sequential(\n",
    "            nn.Conv2d(in_channels=hidden_units,\n",
    "                      out_channels=hidden_units,\n",
    "                      kernel_size=3,\n",
    "                      stride=1,\n",
    "                      padding=1),\n",
    "            nn.ReLU(),\n",
    "            nn.Conv2d(in_channels=hidden_units,\n",
    "                      out_channels=hidden_units,\n",
    "                      kernel_size=3,\n",
    "                      stride=1,\n",
    "                      padding=1),\n",
    "            nn.ReLU(),\n",
    "            nn.MaxPool2d(kernel_size=2)            \n",
    "        )\n",
    "        self.classifier = nn.Sequential(\n",
    "          nn.Flatten(),\n",
    "          nn.Linear(in_features = hidden_units*7*7,\n",
    "                    out_features=output_shape)\n",
    "\n",
    "        )\n",
    "\n",
    "    def forward(self, x):\n",
    "        x = self.block_1(x)\n",
    "        # print (x.shape)\n",
    "        x=self.block_2(x)\n",
    "        # flat_x = x.view (x.size(0), -1)\n",
    "        # self._flat_size = flat_x.size(1)\n",
    "        x = self.classifier(x)\n",
    "        # print (x.shape)\n",
    "        return x\n",
    "\n",
    "\n",
    "        \n",
    "\n"
   ]
  },
  {
   "cell_type": "code",
   "execution_count": 230,
   "metadata": {},
   "outputs": [],
   "source": [
    "torch.manual_seed(42)\n",
    "model_2 = FashionMNISTModelV2(input_shape = 1,\n",
    "                              hidden_units = 10,\n",
    "                              output_shape = len (train_data.classes)).to(device)"
   ]
  },
  {
   "cell_type": "markdown",
   "metadata": {},
   "source": [
    "### Conv 2d test code"
   ]
  },
  {
   "cell_type": "code",
   "execution_count": 231,
   "metadata": {},
   "outputs": [
    {
     "name": "stdout",
     "output_type": "stream",
     "text": [
      "torch.Size([32, 3, 64, 64])\n",
      "torch.Size([3, 64, 64])\n"
     ]
    }
   ],
   "source": [
    "torch.manual_seed(42)\n",
    "\n",
    "images = torch.randn(size = (32, 3, 64, 64))\n",
    "test_image = images [0]\n",
    "print (images.shape)\n",
    "print(test_image.shape)"
   ]
  },
  {
   "cell_type": "code",
   "execution_count": 232,
   "metadata": {},
   "outputs": [
    {
     "data": {
      "text/plain": [
       "torch.Size([1, 10, 62, 62])"
      ]
     },
     "execution_count": 232,
     "metadata": {},
     "output_type": "execute_result"
    }
   ],
   "source": [
    "# creates single conv2d\n",
    "conv_layer = nn.Conv2d(in_channels=3,\n",
    "                       out_channels=10,\n",
    "                       kernel_size = 3,\n",
    "                       stride=1,\n",
    "                       padding=0)\n",
    "\n",
    "conv_output = conv_layer (test_image.unsqueeze(0))\n",
    "conv_output.shape"
   ]
  },
  {
   "cell_type": "code",
   "execution_count": 233,
   "metadata": {},
   "outputs": [
    {
     "name": "stdout",
     "output_type": "stream",
     "text": [
      "torch.Size([3, 64, 64])\n",
      "torch.Size([1, 3, 64, 64])\n",
      "torch.Size([1, 10, 62, 62])\n",
      "torch.Size([1, 10, 31, 31])\n"
     ]
    }
   ],
   "source": [
    "# test max pool\n",
    "print(test_image.shape)\n",
    "print (test_image.unsqueeze(0).shape)\n",
    "\n",
    "max_pool_layer = nn.MaxPool2d(kernel_size=2)\n",
    "\n",
    "# go through conv layer\n",
    "test_image_through_conv = conv_layer(test_image.unsqueeze(dim = 0))\n",
    "print (test_image_through_conv.shape)\n",
    "\n",
    "# go through maxpool layer\n",
    "test_image_throught_conv_and_max_pool = max_pool_layer(test_image_through_conv)\n",
    "print(test_image_throught_conv_and_max_pool.shape)\n",
    "\n"
   ]
  },
  {
   "cell_type": "code",
   "execution_count": 234,
   "metadata": {},
   "outputs": [
    {
     "name": "stdout",
     "output_type": "stream",
     "text": [
      "torch.Size([1, 1, 2, 2])\n",
      "torch.Size([1, 1, 1, 1])\n"
     ]
    }
   ],
   "source": [
    "# try with smaller tesnon\n",
    "torch.manual_seed(42)\n",
    "random_tensor = torch.randn(size = (1, 1, 2, 2))\n",
    "max_pool_layer = nn.MaxPool2d(kernel_size=2)\n",
    "max_pool_tensor = max_pool_layer (random_tensor)\n",
    "print (random_tensor.shape)\n",
    "print (max_pool_tensor.shape)"
   ]
  },
  {
   "cell_type": "markdown",
   "metadata": {},
   "source": [
    "## set up loss function and eval and optimzie"
   ]
  },
  {
   "cell_type": "markdown",
   "metadata": {},
   "source": []
  },
  {
   "cell_type": "code",
   "execution_count": 235,
   "metadata": {},
   "outputs": [],
   "source": [
    "#  code for above\n",
    "loss_fn = nn.CrossEntropyLoss()\n",
    "optimizer= torch.optim.SGD(params=model_2.parameters(), lr = 0.1)"
   ]
  },
  {
   "cell_type": "code",
   "execution_count": 236,
   "metadata": {},
   "outputs": [
    {
     "name": "stderr",
     "output_type": "stream",
     "text": [
      "  0%|          | 0/3 [00:00<?, ?it/s]"
     ]
    },
    {
     "name": "stdout",
     "output_type": "stream",
     "text": [
      "Epoch 0\n",
      "\n",
      "Train loss: 0.5926| Train accuracy: 78.44%\n"
     ]
    },
    {
     "name": "stderr",
     "output_type": "stream",
     "text": [
      " 33%|███▎      | 1/3 [00:16<00:33, 16.97s/it]"
     ]
    },
    {
     "name": "stdout",
     "output_type": "stream",
     "text": [
      "Train loss: 0.40225| Train Acc 85.63%\n",
      "Epoch 1\n",
      "\n",
      "Train loss: 0.3603| Train accuracy: 86.98%\n"
     ]
    },
    {
     "name": "stderr",
     "output_type": "stream",
     "text": [
      " 67%|██████▋   | 2/3 [00:33<00:16, 16.65s/it]"
     ]
    },
    {
     "name": "stdout",
     "output_type": "stream",
     "text": [
      "Train loss: 0.35899| Train Acc 87.32%\n",
      "Epoch 2\n",
      "\n",
      "Train loss: 0.3224| Train accuracy: 88.25%\n"
     ]
    },
    {
     "name": "stderr",
     "output_type": "stream",
     "text": [
      "100%|██████████| 3/3 [00:49<00:00, 16.57s/it]"
     ]
    },
    {
     "name": "stdout",
     "output_type": "stream",
     "text": [
      "Train loss: 0.32024| Train Acc 88.58%\n",
      "Train time on cuda: 49.707 seconds\n"
     ]
    },
    {
     "name": "stderr",
     "output_type": "stream",
     "text": [
      "\n"
     ]
    }
   ],
   "source": [
    "torch.manual_seed(42)\n",
    "train_time_start_on_cpu = timer()\n",
    "\n",
    "from timeit import default_timer as timer\n",
    "train_time_start_on_model_2 = timer()\n",
    "\n",
    "epochs = 3\n",
    "for epoch in tqdm(range(epochs)):\n",
    "    print (f\"Epoch {epoch}\\n\")\n",
    "    train_loop(model=model_2,\n",
    "               dataloader=train_dataloader,\n",
    "               loss_fn =loss_fn,\n",
    "               optimizer = optimizer,\n",
    "               accuracy_fn=accuracy_fn)\n",
    "    \n",
    "    test_loop (model=model_2,\n",
    "               dataloader= test_dataloader,\n",
    "               loss_fn = loss_fn,\n",
    "               accuracy_fn = accuracy_fn)\n",
    "\n",
    "train_time_end_on_model_2 = timer()\n",
    "total_train_time_model_2 = print_train_time(start=train_time_start_on_model_2,\n",
    "                                            end=train_time_end_on_model_2,\n",
    "                                            device=device)\n"
   ]
  },
  {
   "cell_type": "code",
   "execution_count": 237,
   "metadata": {},
   "outputs": [
    {
     "data": {
      "text/plain": [
       "{'mode_name': 'FashionMNISTModelV2',\n",
       " 'model_loss': 0.3202410638332367,\n",
       " 'model_acc': 88.57827476038338}"
      ]
     },
     "execution_count": 237,
     "metadata": {},
     "output_type": "execute_result"
    }
   ],
   "source": [
    "# evaluate model 2\n",
    "# evaluate model 1\n",
    "model_2_results = eval_model(model = model_2, \n",
    "                             data_loader = test_dataloader,\n",
    "                             loss_fn = loss_fn,\n",
    "                             accuracy_fn=accuracy_fn)\n",
    "\n",
    "model_2_results"
   ]
  },
  {
   "cell_type": "code",
   "execution_count": 238,
   "metadata": {},
   "outputs": [
    {
     "data": {
      "text/html": [
       "<div>\n",
       "<style scoped>\n",
       "    .dataframe tbody tr th:only-of-type {\n",
       "        vertical-align: middle;\n",
       "    }\n",
       "\n",
       "    .dataframe tbody tr th {\n",
       "        vertical-align: top;\n",
       "    }\n",
       "\n",
       "    .dataframe thead th {\n",
       "        text-align: right;\n",
       "    }\n",
       "</style>\n",
       "<table border=\"1\" class=\"dataframe\">\n",
       "  <thead>\n",
       "    <tr style=\"text-align: right;\">\n",
       "      <th></th>\n",
       "      <th>mode_name</th>\n",
       "      <th>model_loss</th>\n",
       "      <th>model_acc</th>\n",
       "      <th>training_time</th>\n",
       "    </tr>\n",
       "  </thead>\n",
       "  <tbody>\n",
       "    <tr>\n",
       "      <th>0</th>\n",
       "      <td>FashionMNISTModelV1</td>\n",
       "      <td>0.346184</td>\n",
       "      <td>87.430112</td>\n",
       "      <td>36.784527</td>\n",
       "    </tr>\n",
       "    <tr>\n",
       "      <th>1</th>\n",
       "      <td>FashionMNISTModelV2</td>\n",
       "      <td>0.320241</td>\n",
       "      <td>88.578275</td>\n",
       "      <td>49.707001</td>\n",
       "    </tr>\n",
       "  </tbody>\n",
       "</table>\n",
       "</div>"
      ],
      "text/plain": [
       "             mode_name  model_loss  model_acc  training_time\n",
       "0  FashionMNISTModelV1    0.346184  87.430112      36.784527\n",
       "1  FashionMNISTModelV2    0.320241  88.578275      49.707001"
      ]
     },
     "execution_count": 238,
     "metadata": {},
     "output_type": "execute_result"
    }
   ],
   "source": [
    "# compare results.\n",
    "# model_0_results = eval_model(model = model_0, \n",
    "#                              data_loader = test_dataloader,\n",
    "#                              loss_fn = loss_fn,\n",
    "#                              accuracy_fn=accuracy_fn)\n",
    "# model_0_results\n",
    "df_compare = pd.DataFrame([model_1_results, model_2_results])\n",
    "df_compare['training_time'] = [total_train_time_model_1, total_train_time_model_2]\n",
    "df_compare\n"
   ]
  },
  {
   "cell_type": "code",
   "execution_count": 239,
   "metadata": {},
   "outputs": [
    {
     "data": {
      "text/plain": [
       "Text(0, 0.5, 'model')"
      ]
     },
     "execution_count": 239,
     "metadata": {},
     "output_type": "execute_result"
    },
    {
     "data": {
      "image/png": "[encoded data removed]",
      "text/plain": [
       "<Figure size 640x480 with 1 Axes>"
      ]
     },
     "metadata": {},
     "output_type": "display_data"
    }
   ],
   "source": [
    "# visual\n",
    "df_compare.set_index('model_loss')['model_acc'].plot(kind='barh')\n",
    "plt.xlabel('accuracy')\n",
    "plt.ylabel('model')"
   ]
  },
  {
   "cell_type": "code",
   "execution_count": 240,
   "metadata": {},
   "outputs": [
    {
     "data": {
      "text/plain": [
       "tensor([[[0.0000, 0.0000, 0.0000, 0.0000, 0.0000, 0.0000, 0.0000, 0.0000,\n",
       "          0.0000, 0.0000, 0.0510, 0.2627, 0.0000, 0.0000, 0.0000, 0.0000,\n",
       "          0.1961, 0.1490, 0.0000, 0.0000, 0.0000, 0.0000, 0.0000, 0.0000,\n",
       "          0.0000, 0.0000, 0.0000, 0.0000],\n",
       "         [0.0000, 0.0000, 0.0000, 0.0000, 0.0000, 0.0000, 0.0000, 0.0314,\n",
       "          0.4706, 0.8196, 0.8863, 0.9686, 0.9294, 1.0000, 1.0000, 1.0000,\n",
       "          0.9686, 0.9333, 0.9216, 0.6745, 0.2824, 0.0000, 0.0000, 0.0000,\n",
       "          0.0000, 0.0000, 0.0000, 0.0000],\n",
       "         [0.0000, 0.0000, 0.0000, 0.0000, 0.0000, 0.0000, 0.5373, 0.9373,\n",
       "          0.9882, 0.9529, 0.9176, 0.8980, 0.9333, 0.9569, 0.9647, 0.9412,\n",
       "          0.9020, 0.9098, 0.9373, 0.9725, 0.9843, 0.7608, 0.0000, 0.0000,\n",
       "          0.0000, 0.0000, 0.0000, 0.0000],\n",
       "         [0.0000, 0.0000, 0.0000, 0.0000, 0.0000, 0.4000, 1.0000, 0.9059,\n",
       "          0.8941, 0.8902, 0.8941, 0.9137, 0.9020, 0.9020, 0.8980, 0.8941,\n",
       "          0.9098, 0.9098, 0.9059, 0.8902, 0.8784, 0.9882, 0.7020, 0.0000,\n",
       "          0.0000, 0.0000, 0.0000, 0.0000],\n",
       "         [0.0000, 0.0000, 0.0000, 0.0000, 0.0000, 0.9137, 0.9451, 0.8980,\n",
       "          0.9059, 1.0000, 1.0000, 0.9333, 0.9059, 0.8902, 0.9333, 0.9647,\n",
       "          0.8941, 0.9020, 0.8902, 0.9176, 0.9216, 0.8980, 0.9451, 0.0784,\n",
       "          0.0000, 0.0000, 0.0000, 0.0000],\n",
       "         [0.0000, 0.0000, 0.0000, 0.0000, 0.0000, 0.9725, 0.9451, 0.9059,\n",
       "          1.0000, 0.5843, 0.1843, 0.9882, 0.8941, 1.0000, 0.9490, 0.8471,\n",
       "          0.9333, 0.9098, 1.0000, 0.8941, 0.8627, 0.9176, 0.9804, 0.2118,\n",
       "          0.0000, 0.0000, 0.0000, 0.0000],\n",
       "         [0.0000, 0.0000, 0.0000, 0.0000, 0.0000, 1.0000, 0.9412, 0.9098,\n",
       "          1.0000, 0.0588, 0.0000, 1.0000, 0.9294, 0.7490, 0.0000, 0.0000,\n",
       "          0.8392, 1.0000, 0.0510, 0.4824, 1.0000, 0.9176, 0.9882, 0.4471,\n",
       "          0.0000, 0.0000, 0.0000, 0.0000],\n",
       "         [0.0000, 0.0000, 0.0000, 0.0000, 0.0235, 1.0000, 0.9333, 0.9373,\n",
       "          1.0000, 0.6941, 0.0000, 1.0000, 1.0000, 0.0000, 0.5098, 0.4549,\n",
       "          0.1843, 0.2549, 0.1686, 0.1451, 1.0000, 0.9255, 0.9765, 0.6353,\n",
       "          0.0000, 0.0000, 0.0000, 0.0000],\n",
       "         [0.0000, 0.0000, 0.0000, 0.0000, 0.1255, 1.0000, 0.9255, 0.9608,\n",
       "          1.0000, 0.8000, 0.0000, 1.0000, 0.3294, 0.0000, 0.1451, 0.1098,\n",
       "          0.1216, 0.0000, 0.0980, 0.0510, 1.0000, 0.9255, 0.9765, 0.7804,\n",
       "          0.0000, 0.0000, 0.0000, 0.0000],\n",
       "         [0.0000, 0.0000, 0.0000, 0.0000, 0.2078, 1.0000, 0.9255, 0.9804,\n",
       "          0.9804, 0.9059, 0.0078, 1.0000, 0.0824, 0.0000, 0.8667, 1.0000,\n",
       "          0.9255, 0.2118, 0.9608, 0.7765, 0.9529, 0.9333, 0.9608, 0.8745,\n",
       "          0.0000, 0.0000, 0.0000, 0.0000],\n",
       "         [0.0000, 0.0000, 0.0000, 0.0000, 0.3137, 1.0000, 0.9294, 0.9804,\n",
       "          0.9412, 1.0000, 0.0000, 0.0000, 0.1529, 0.6157, 0.0000, 0.0000,\n",
       "          0.8431, 0.3686, 0.0784, 0.4941, 1.0000, 0.9294, 0.9373, 0.9804,\n",
       "          0.0000, 0.0000, 0.0000, 0.0000],\n",
       "         [0.0000, 0.0000, 0.0000, 0.0000, 0.3961, 1.0000, 0.9216, 0.9922,\n",
       "          0.9569, 0.9529, 0.5216, 0.5412, 0.8157, 1.0000, 0.7882, 0.8392,\n",
       "          1.0000, 0.9020, 0.0275, 0.6824, 1.0000, 0.9412, 0.9333, 1.0000,\n",
       "          0.0000, 0.0000, 0.0000, 0.0000],\n",
       "         [0.0000, 0.0000, 0.0000, 0.0000, 0.4941, 1.0000, 0.9137, 1.0000,\n",
       "          0.9725, 0.9137, 1.0000, 1.0000, 0.9412, 0.9098, 0.9529, 0.9529,\n",
       "          0.9059, 0.9843, 1.0000, 1.0000, 0.9961, 0.9529, 0.9333, 1.0000,\n",
       "          0.0118, 0.0000, 0.0000, 0.0000],\n",
       "         [0.0000, 0.0000, 0.0000, 0.0000, 0.5765, 1.0000, 0.9137, 0.9765,\n",
       "          0.7098, 0.9529, 0.8902, 0.8784, 0.9020, 0.9176, 0.9020, 0.9020,\n",
       "          0.9216, 0.8941, 0.9216, 0.8706, 0.8118, 1.0000, 0.9255, 1.0000,\n",
       "          0.1373, 0.0000, 0.0000, 0.0000],\n",
       "         [0.0000, 0.0000, 0.0000, 0.0000, 0.6392, 1.0000, 0.9608, 0.8667,\n",
       "          0.3373, 1.0000, 0.9137, 0.9137, 0.9216, 0.9255, 0.9176, 0.9176,\n",
       "          0.9176, 0.9098, 0.9490, 0.9059, 0.4902, 1.0000, 0.9255, 1.0000,\n",
       "          0.2157, 0.0000, 0.0000, 0.0000],\n",
       "         [0.0000, 0.0000, 0.0000, 0.0000, 0.7098, 0.9961, 1.0000, 0.7843,\n",
       "          0.2706, 1.0000, 0.8941, 0.9098, 0.9176, 0.9216, 0.9176, 0.9176,\n",
       "          0.9137, 0.9216, 0.9451, 0.9294, 0.2745, 1.0000, 0.9216, 0.9647,\n",
       "          0.2235, 0.0000, 0.0000, 0.0000],\n",
       "         [0.0000, 0.0000, 0.0000, 0.0000, 0.7725, 0.9686, 1.0000, 0.7373,\n",
       "          0.4314, 1.0000, 0.8784, 0.9137, 0.9176, 0.9176, 0.9176, 0.9176,\n",
       "          0.9176, 0.9176, 0.9412, 0.9922, 0.2706, 1.0000, 0.9255, 0.9725,\n",
       "          0.3020, 0.0000, 0.0000, 0.0000],\n",
       "         [0.0000, 0.0000, 0.0000, 0.0000, 0.7843, 0.9647, 1.0000, 0.5843,\n",
       "          0.5686, 1.0000, 0.8745, 0.9216, 0.9176, 0.9216, 0.9216, 0.9216,\n",
       "          0.9176, 0.9294, 0.9137, 1.0000, 0.1843, 1.0000, 0.9373, 0.9765,\n",
       "          0.3843, 0.0000, 0.0000, 0.0000],\n",
       "         [0.0000, 0.0000, 0.0000, 0.0000, 0.8000, 0.9529, 1.0000, 0.4353,\n",
       "          0.6784, 1.0000, 0.8902, 0.9216, 0.9216, 0.9255, 0.9216, 0.9216,\n",
       "          0.9216, 0.9373, 0.8980, 1.0000, 0.0745, 0.8902, 0.9647, 0.9765,\n",
       "          0.4314, 0.0000, 0.0000, 0.0000],\n",
       "         [0.0000, 0.0000, 0.0000, 0.0000, 0.7686, 0.9412, 1.0000, 0.4275,\n",
       "          0.8353, 0.9804, 0.8980, 0.9216, 0.9216, 0.9255, 0.9216, 0.9294,\n",
       "          0.9255, 0.9294, 0.8863, 1.0000, 0.2157, 0.7961, 0.9843, 0.9608,\n",
       "          0.4706, 0.0000, 0.0000, 0.0000],\n",
       "         [0.0000, 0.0000, 0.0000, 0.0000, 0.7529, 0.9529, 1.0000, 0.4471,\n",
       "          0.9098, 0.9412, 0.9098, 0.9216, 0.9216, 0.9255, 0.9176, 0.9294,\n",
       "          0.9255, 0.9216, 0.8980, 1.0000, 0.5255, 0.6706, 0.9882, 0.9569,\n",
       "          0.5373, 0.0000, 0.0000, 0.0000],\n",
       "         [0.0000, 0.0000, 0.0000, 0.0000, 0.7412, 0.9843, 1.0000, 0.6039,\n",
       "          0.9333, 0.9137, 0.9255, 0.9176, 0.9216, 0.9255, 0.9216, 0.9333,\n",
       "          0.9255, 0.9216, 0.9098, 1.0000, 0.6510, 0.4902, 1.0000, 0.9529,\n",
       "          0.5569, 0.0000, 0.0000, 0.0000],\n",
       "         [0.0000, 0.0000, 0.0000, 0.0000, 0.7176, 0.9882, 1.0000, 0.6706,\n",
       "          0.9686, 0.9098, 0.9176, 0.9176, 0.9137, 0.9137, 0.9098, 0.9176,\n",
       "          0.9137, 0.9176, 0.9137, 0.9412, 0.8745, 0.5020, 1.0000, 0.9490,\n",
       "          0.5922, 0.0000, 0.0000, 0.0000],\n",
       "         [0.0000, 0.0000, 0.0000, 0.0000, 0.6980, 0.9529, 1.0000, 0.2235,\n",
       "          0.9333, 0.9451, 0.9333, 0.9333, 0.9333, 0.9294, 0.9255, 0.9294,\n",
       "          0.9294, 0.9412, 0.9294, 0.9961, 0.6902, 0.2039, 1.0000, 0.9373,\n",
       "          0.6157, 0.0000, 0.0000, 0.0000],\n",
       "         [0.0000, 0.0000, 0.0000, 0.0000, 0.7373, 0.9412, 0.9804, 0.2431,\n",
       "          0.8549, 1.0000, 0.8627, 0.8706, 0.8706, 0.8706, 0.8745, 0.8745,\n",
       "          0.8784, 0.8706, 0.8549, 1.0000, 0.6039, 0.1255, 1.0000, 0.9255,\n",
       "          0.7373, 0.0000, 0.0000, 0.0000],\n",
       "         [0.0000, 0.0000, 0.0000, 0.0000, 0.5098, 0.9608, 0.9490, 0.0941,\n",
       "          0.0000, 0.0000, 0.0000, 0.0000, 0.0000, 0.0000, 0.0000, 0.0000,\n",
       "          0.0000, 0.0000, 0.0000, 0.0000, 0.0000, 0.1333, 0.9490, 0.9569,\n",
       "          0.5294, 0.0000, 0.0000, 0.0000],\n",
       "         [0.0000, 0.0000, 0.0000, 0.0000, 0.2980, 1.0000, 0.9765, 0.0863,\n",
       "          0.0000, 0.0000, 0.0000, 0.0000, 0.0000, 0.0000, 0.0000, 0.0000,\n",
       "          0.0000, 0.0000, 0.0000, 0.0000, 0.0000, 0.1529, 0.9765, 1.0000,\n",
       "          0.4824, 0.0000, 0.0000, 0.0000],\n",
       "         [0.0000, 0.0000, 0.0000, 0.0000, 0.1922, 0.8039, 0.7725, 0.0431,\n",
       "          0.0000, 0.0157, 0.0039, 0.0078, 0.0078, 0.0078, 0.0078, 0.0078,\n",
       "          0.0078, 0.0078, 0.0078, 0.0118, 0.0000, 0.0118, 0.6824, 0.7412,\n",
       "          0.2627, 0.0000, 0.0000, 0.0000]]])"
      ]
     },
     "execution_count": 240,
     "metadata": {},
     "output_type": "execute_result"
    }
   ],
   "source": [
    "img, label = test_data[1]\n",
    "img"
   ]
  },
  {
   "cell_type": "code",
   "execution_count": 241,
   "metadata": {},
   "outputs": [
    {
     "data": {
      "image/png": "[encoded data removed]",
      "text/plain": [
       "<Figure size 900x900 with 16 Axes>"
      ]
     },
     "metadata": {},
     "output_type": "display_data"
    }
   ],
   "source": [
    "# select random samples and see prediction\n",
    "torch.manual_seed(42)\n",
    "fig = plt.figure(figsize=(9, 9))\n",
    "class_names = train_data.classes\n",
    "model_2.eval()\n",
    "rows, cols = 4, 4\n",
    "with torch.inference_mode():\n",
    "    for i in range(1, rows * cols + 1):\n",
    "        random_idx = torch.randint(0, len(test_data), size=[1]).item()\n",
    "        img, label = test_data[random_idx]\n",
    "        unsqz_img = torch.unsqueeze(img, dim = 0).to(device)\n",
    "        pred_label = model_2(unsqz_img).argmax(dim=1)\n",
    "        fig.add_subplot(rows, cols, i)\n",
    "        plt.imshow(img.squeeze(), cmap=\"gray\")\n",
    "        plt.title(class_names[label] + '/' +  class_names[pred_label] )\n",
    "        plt.axis(False);"
   ]
  },
  {
   "cell_type": "code",
   "execution_count": 242,
   "metadata": {},
   "outputs": [
    {
     "data": {
      "text/plain": [
       "int"
      ]
     },
     "execution_count": 242,
     "metadata": {},
     "output_type": "execute_result"
    }
   ],
   "source": [
    "type(test_data[random_idx][1])"
   ]
  },
  {
   "cell_type": "markdown",
   "metadata": {},
   "source": [
    "## code for prediction"
   ]
  },
  {
   "cell_type": "code",
   "execution_count": 243,
   "metadata": {},
   "outputs": [],
   "source": [
    "# function\n",
    "def make_predictions (model: torch.nn.Module,\n",
    "                        data: list, \n",
    "                        device: torch.device = device):\n",
    "    pred_probs = []\n",
    "    model.eval()\n",
    "    with torch.inference_mode():\n",
    "        for sample in data:\n",
    "            sample = torch.unsqueeze(sample, dim = 0).to(device)\n",
    "            pred_logit = model(sample)\n",
    "            pred_prob = torch.softmax(pred_logit.squeeze(), dim=0)\n",
    "            pred_probs.append(pred_prob.cpu())\n",
    "    return torch.stack(pred_probs)\n"
   ]
  },
  {
   "cell_type": "code",
   "execution_count": 244,
   "metadata": {},
   "outputs": [
    {
     "name": "stdout",
     "output_type": "stream",
     "text": [
      "torch.Size([1, 28, 28])\n",
      "5\n",
      "Sandal\n"
     ]
    }
   ],
   "source": [
    "random.seed(42)\n",
    "test_samples = []\n",
    "test_labels = []\n",
    "for sample, label in random.sample (list(test_data), k = 9):\n",
    "    test_samples.append(sample)\n",
    "    test_labels.append(label)\n",
    "\n",
    "print (test_samples[0].shape)\n",
    "print (test_labels[0])\n",
    "print (class_names[test_labels[0]])"
   ]
  },
  {
   "cell_type": "code",
   "execution_count": 245,
   "metadata": {},
   "outputs": [
    {
     "data": {
      "text/plain": [
       "([5, 1, 7, 4, 3, 0, 4, 7, 1], tensor([5, 1, 7, 4, 3, 0, 4, 7, 1]))"
      ]
     },
     "execution_count": 245,
     "metadata": {},
     "output_type": "execute_result"
    }
   ],
   "source": [
    "# get probabilities and classes\n",
    "pred_probs = make_predictions(model = model_2,\n",
    "                            data=test_samples)\n",
    "pred_classes = pred_probs.argmax(dim = 1)\n",
    "test_labels, pred_classes"
   ]
  },
  {
   "cell_type": "code",
   "execution_count": 246,
   "metadata": {},
   "outputs": [
    {
     "data": {
      "image/png": "[encoded data removed]",
      "text/plain": [
       "<Figure size 1200x1200 with 9 Axes>"
      ]
     },
     "metadata": {},
     "output_type": "display_data"
    }
   ],
   "source": [
    "# plot predictions following tutorial code\n",
    "nrows = 3\n",
    "ncols =  3\n",
    "plt.figure (figsize = (12, 12))\n",
    "for i, sample in enumerate(test_samples):\n",
    "    plt.subplot (nrows, ncols, i + 1)\n",
    "    plt.imshow(sample.squeeze(), cmap = 'gray')\n",
    "    pred_label = class_names[pred_classes[i]]\n",
    "    truth_label = class_names[test_labels[i]]\n",
    "    title_text = f'Pred: {pred_label}-Truth:{truth_label}'\n",
    "\n",
    "    if pred_label == truth_label:\n",
    "        plt.title (title_text, fontsize = 10, c = 'g')\n",
    "    else:\n",
    "        plt.title(title_test, fontsize = 10, c= 'r')\n",
    "\n",
    "    plt.axis(False)\n",
    "\n"
   ]
  },
  {
   "cell_type": "markdown",
   "metadata": {},
   "source": [
    "## Make Confusion Matrix\n"
   ]
  },
  {
   "cell_type": "code",
   "execution_count": 247,
   "metadata": {},
   "outputs": [
    {
     "name": "stderr",
     "output_type": "stream",
     "text": [
      "Making preditions: 100%|██████████| 313/313 [00:01<00:00, 173.77it/s]\n"
     ]
    }
   ],
   "source": [
    "y_preds = []\n",
    "model_2.eval()\n",
    "with torch.inference_mode():\n",
    "    for X, y in tqdm (test_dataloader, desc = 'Making preditions'):\n",
    "        X, y = X.to(device), y.to(device)\n",
    "        y_logit = model_2(X)\n",
    "        y_pred = torch.softmax(y_logit, dim = 1).argmax(dim = 1)\n",
    "        y_preds.append(y_pred.cpu())\n",
    "\n",
    "y_pred_tensor = torch.cat(y_preds)"
   ]
  },
  {
   "cell_type": "code",
   "execution_count": 248,
   "metadata": {},
   "outputs": [
    {
     "data": {
      "text/plain": [
       "tensor([9, 2, 1])"
      ]
     },
     "execution_count": 248,
     "metadata": {},
     "output_type": "execute_result"
    }
   ],
   "source": [
    "y_pred_tensor[:3]"
   ]
  },
  {
   "cell_type": "code",
   "execution_count": 249,
   "metadata": {},
   "outputs": [
    {
     "data": {
      "image/png": "[encoded data removed]",
      "text/plain": [
       "<Figure size 1200x900 with 1 Axes>"
      ]
     },
     "metadata": {},
     "output_type": "display_data"
    }
   ],
   "source": [
    "# set up confusion matrix\n",
    "confmat = ConfusionMatrix(num_classes=len(class_names), task = 'multiclass')\n",
    "confmat_tensor = confmat(preds=y_pred_tensor, \n",
    "                        target=test_data.targets)\n",
    "\n",
    "fig, ax = plot_confusion_matrix(\n",
    "    conf_mat = confmat_tensor.numpy(),\n",
    "    class_names = class_names,\n",
    "    figsize = (12, 9)\n",
    ")"
   ]
  },
  {
   "cell_type": "markdown",
   "metadata": {},
   "source": [
    "## Save and load data"
   ]
  },
  {
   "cell_type": "code",
   "execution_count": 250,
   "metadata": {},
   "outputs": [
    {
     "name": "stdout",
     "output_type": "stream",
     "text": [
      "saving model to: models\\03_pytorrch_computer_vision_model_2.pth\n"
     ]
    }
   ],
   "source": [
    "# save model\n",
    "MODEL_PATH  = Path('models')\n",
    "MODEL_PATH.mkdir (parents =True,\n",
    "                    exist_ok=True)\n",
    "\n",
    "MODEL_NAME = '03_pytorrch_computer_vision_model_2.pth'\n",
    "MODEL_SAVE_PATH = MODEL_PATH/MODEL_NAME\n",
    "\n",
    "print (f'saving model to: {MODEL_SAVE_PATH}')\n",
    "torch.save(obj=model_2.state_dict(),\n",
    "            f = MODEL_SAVE_PATH)\n"
   ]
  },
  {
   "cell_type": "code",
   "execution_count": 251,
   "metadata": {},
   "outputs": [
    {
     "data": {
      "text/plain": [
       "OrderedDict([('block_1.0.weight',\n",
       "              tensor([[[[ 0.3313,  0.2924, -0.4610],\n",
       "                        [ 0.1384,  0.1256,  0.0572],\n",
       "                        [-0.3786,  0.1096,  0.4139]]],\n",
       "              \n",
       "              \n",
       "                      [[[-0.3512,  0.3985, -0.0925],\n",
       "                        [ 0.2118,  0.3576,  0.1516],\n",
       "                        [-0.1486,  0.3453,  0.0892]]],\n",
       "              \n",
       "              \n",
       "                      [[[-0.3147, -0.1259,  0.0432],\n",
       "                        [-0.6458, -0.6685,  0.2032],\n",
       "                        [-0.7452, -0.6224, -0.1054]]],\n",
       "              \n",
       "              \n",
       "                      [[[-0.7776, -1.0449, -0.8014],\n",
       "                        [ 0.2617, -0.6242,  0.0849],\n",
       "                        [ 0.2201, -0.0075,  0.4020]]],\n",
       "              \n",
       "              \n",
       "                      [[[ 0.1492,  0.2721, -0.2228],\n",
       "                        [-0.1243,  0.2283, -0.2492],\n",
       "                        [ 0.0064,  0.2973,  0.1902]]],\n",
       "              \n",
       "              \n",
       "                      [[[-0.1401,  0.1959,  0.0619],\n",
       "                        [ 0.1758, -0.2014, -0.3307],\n",
       "                        [-0.1237, -0.2544,  0.2684]]],\n",
       "              \n",
       "              \n",
       "                      [[[ 0.0340,  0.0598, -0.0063],\n",
       "                        [ 0.0972,  0.3045, -0.2157],\n",
       "                        [-0.0846, -0.4677, -0.0574]]],\n",
       "              \n",
       "              \n",
       "                      [[[-0.0453,  0.0941, -0.2618],\n",
       "                        [ 0.3407, -0.2823, -0.4141],\n",
       "                        [-0.1879,  0.4610,  0.1816]]],\n",
       "              \n",
       "              \n",
       "                      [[[ 0.4893, -0.3011, -0.4301],\n",
       "                        [-0.2353, -0.3318,  0.0794],\n",
       "                        [ 0.3266,  0.4211, -0.1452]]],\n",
       "              \n",
       "              \n",
       "                      [[[-0.2271,  0.1756, -0.1350],\n",
       "                        [ 0.2015, -0.0805,  0.1890],\n",
       "                        [-0.2589, -0.1682,  0.1009]]]], device='cuda:0')),\n",
       "             ('block_1.0.bias',\n",
       "              tensor([ 0.0868,  0.1111,  0.1708,  0.2046,  0.0444, -0.1860,  0.1645, -0.0098,\n",
       "                      -0.0694, -0.3244], device='cuda:0')),\n",
       "             ('block_1.2.weight',\n",
       "              tensor([[[[ 2.6092e-02, -8.6009e-03, -9.5875e-02],\n",
       "                        [-8.6593e-02, -1.4373e-01, -2.1807e-01],\n",
       "                        [-2.4433e-02, -1.4783e-01, -2.0963e-01]],\n",
       "              \n",
       "                       [[-1.0955e-01, -3.4734e-02, -1.2020e-01],\n",
       "                        [-1.1668e-01, -2.9000e-01, -2.5980e-01],\n",
       "                        [-9.5708e-02, -1.7341e-01, -2.5641e-01]],\n",
       "              \n",
       "                       [[ 5.4098e-02,  4.8115e-02,  1.6277e-01],\n",
       "                        [ 1.4040e-01,  2.5397e-01,  2.2434e-01],\n",
       "                        [-4.7554e-02,  2.2386e-02,  1.1467e-01]],\n",
       "              \n",
       "                       [[-1.1440e-01,  1.4578e-02, -1.5670e-01],\n",
       "                        [ 8.5505e-02,  3.9420e-02, -1.1557e-01],\n",
       "                        [ 1.3323e-01,  3.9255e-02,  4.0784e-02]],\n",
       "              \n",
       "                       [[-1.3591e-01, -1.7483e-01, -6.6032e-02],\n",
       "                        [-6.7963e-02, -5.4385e-02, -2.0260e-01],\n",
       "                        [ 1.2142e-01, -1.1542e-01, -5.5057e-02]],\n",
       "              \n",
       "                       [[ 2.2275e-02,  5.4614e-02,  8.4752e-02],\n",
       "                        [ 9.6094e-02, -8.3666e-02,  2.7132e-02],\n",
       "                        [-4.5246e-02, -1.2771e-02, -7.7471e-02]],\n",
       "              \n",
       "                       [[ 1.2174e-01, -6.9443e-02,  4.3407e-03],\n",
       "                        [ 1.1323e-01,  8.2145e-02, -1.5930e-02],\n",
       "                        [ 9.1207e-02, -1.0761e-02, -1.7851e-02]],\n",
       "              \n",
       "                       [[-7.5948e-02,  5.2310e-02, -8.4664e-03],\n",
       "                        [-4.6542e-02,  8.7020e-02,  1.3026e-02],\n",
       "                        [-2.4817e-02, -2.3819e-02, -1.1131e-02]],\n",
       "              \n",
       "                       [[ 7.3271e-02, -3.8755e-02, -5.1282e-02],\n",
       "                        [-2.9308e-02, -7.9881e-02,  4.9381e-02],\n",
       "                        [ 1.0255e-01, -9.5942e-02,  2.3094e-02]],\n",
       "              \n",
       "                       [[ 5.4452e-02,  1.9086e-02, -3.7515e-02],\n",
       "                        [ 5.5018e-02,  5.5394e-02,  3.9416e-02],\n",
       "                        [-1.8523e-02, -2.7913e-02,  1.1273e-02]]],\n",
       "              \n",
       "              \n",
       "                      [[[-1.9759e-02, -1.0190e-01,  4.0827e-02],\n",
       "                        [ 1.2580e-01, -3.9476e-02, -5.3364e-02],\n",
       "                        [ 6.3833e-02,  1.9016e-02,  1.8685e-04]],\n",
       "              \n",
       "                       [[ 1.9575e-02, -1.3742e-01, -4.0468e-02],\n",
       "                        [ 1.0836e-01,  2.1223e-02, -1.5329e-02],\n",
       "                        [-5.6772e-02, -9.9221e-02, -1.0845e-01]],\n",
       "              \n",
       "                       [[-3.9361e-02,  2.9727e-02,  7.1665e-02],\n",
       "                        [ 4.4516e-02, -9.5632e-02, -6.2463e-02],\n",
       "                        [-1.9144e-02,  1.0382e-01,  6.9488e-03]],\n",
       "              \n",
       "                       [[ 2.7105e-02,  1.0114e-01, -1.3472e-02],\n",
       "                        [-8.1305e-02,  1.1423e-01, -3.5130e-02],\n",
       "                        [-2.6477e-02, -8.6922e-02,  1.0498e-01]],\n",
       "              \n",
       "                       [[ 8.5422e-02,  6.2936e-03, -9.5957e-02],\n",
       "                        [-1.1130e-01, -1.3172e-01,  4.6181e-02],\n",
       "                        [ 8.8608e-02,  8.7282e-02,  4.7203e-02]],\n",
       "              \n",
       "                       [[ 2.6739e-02, -9.4865e-04, -8.0107e-02],\n",
       "                        [-9.0311e-02, -9.8367e-02,  4.3358e-02],\n",
       "                        [-5.1967e-02, -2.1278e-02, -6.0677e-02]],\n",
       "              \n",
       "                       [[-3.1346e-02, -8.7873e-02, -7.2051e-02],\n",
       "                        [ 4.5573e-02, -3.2885e-02,  5.5631e-02],\n",
       "                        [-1.7280e-02, -8.2671e-02, -2.5743e-02]],\n",
       "              \n",
       "                       [[-2.6932e-02, -3.5691e-02, -1.0270e-01],\n",
       "                        [ 6.8059e-02, -5.8139e-02,  5.6473e-02],\n",
       "                        [ 5.6723e-02,  9.2552e-02, -7.4426e-02]],\n",
       "              \n",
       "                       [[ 9.8548e-02, -4.8958e-02,  3.8688e-02],\n",
       "                        [ 1.0094e-01, -2.3186e-02, -2.8719e-03],\n",
       "                        [-1.9645e-02, -6.7790e-02,  6.2393e-02]],\n",
       "              \n",
       "                       [[-1.0464e-01,  6.5420e-02,  7.8873e-02],\n",
       "                        [ 9.9683e-02, -2.4878e-02, -8.6609e-02],\n",
       "                        [ 2.3708e-02,  5.8231e-02, -1.0491e-01]]],\n",
       "              \n",
       "              \n",
       "                      [[[-2.5121e-02, -6.4785e-02, -1.0551e-02],\n",
       "                        [-5.2501e-02, -4.5101e-02, -3.6327e-02],\n",
       "                        [-1.0498e-01,  8.1875e-02,  8.2796e-02]],\n",
       "              \n",
       "                       [[-1.6889e-02, -1.2400e-02, -4.3290e-02],\n",
       "                        [-9.5959e-02, -1.0285e-01,  3.7551e-02],\n",
       "                        [-6.3209e-02, -7.2566e-02, -1.3849e-02]],\n",
       "              \n",
       "                       [[-3.7442e-02, -3.7676e-02, -1.4915e-04],\n",
       "                        [-2.2961e-02, -3.7864e-02, -5.3060e-02],\n",
       "                        [-8.5920e-02,  8.8336e-02, -4.2126e-02]],\n",
       "              \n",
       "                       [[ 2.4525e-02, -3.9320e-02,  5.7281e-03],\n",
       "                        [ 9.3441e-02,  4.4894e-02, -9.4876e-02],\n",
       "                        [ 3.2945e-02,  8.9033e-02,  1.8383e-02]],\n",
       "              \n",
       "                       [[ 7.0219e-02,  1.0361e-01, -1.6493e-02],\n",
       "                        [ 2.1189e-02, -7.3863e-02, -2.3184e-02],\n",
       "                        [ 7.2279e-02,  4.9059e-02, -7.2769e-02]],\n",
       "              \n",
       "                       [[-8.4526e-02, -7.2033e-02, -1.0403e-01],\n",
       "                        [-8.1338e-02, -2.6102e-02,  7.1225e-02],\n",
       "                        [ 1.7636e-02, -8.0096e-02, -8.4567e-02]],\n",
       "              \n",
       "                       [[ 4.9512e-02, -8.1635e-02, -1.6350e-02],\n",
       "                        [ 4.8728e-02, -5.1435e-02, -1.3128e-02],\n",
       "                        [-9.8606e-03, -2.4723e-02, -5.3868e-02]],\n",
       "              \n",
       "                       [[-9.3927e-02, -8.5208e-02, -5.6442e-02],\n",
       "                        [ 1.0146e-01, -5.1008e-02, -7.1334e-02],\n",
       "                        [ 2.2812e-02,  2.6930e-02,  5.5567e-02]],\n",
       "              \n",
       "                       [[ 7.9723e-02,  5.8664e-02, -1.0451e-01],\n",
       "                        [ 8.6144e-03,  6.4008e-02, -9.8046e-03],\n",
       "                        [-6.4687e-02,  9.7792e-02, -4.1749e-02]],\n",
       "              \n",
       "                       [[-6.0014e-02, -9.5032e-02,  4.7085e-03],\n",
       "                        [ 4.6710e-02,  2.3334e-02,  2.0845e-02],\n",
       "                        [-7.9941e-02, -9.8440e-02,  1.8562e-03]]],\n",
       "              \n",
       "              \n",
       "                      [[[-3.3190e-02, -3.2970e-02, -1.1160e-01],\n",
       "                        [ 2.0831e-01,  2.0550e-01, -7.3823e-02],\n",
       "                        [ 7.6413e-02,  8.5564e-02,  1.0028e-01]],\n",
       "              \n",
       "                       [[ 1.8406e-01,  4.1676e-02, -3.5091e-02],\n",
       "                        [ 2.8123e-01,  7.9015e-02,  3.5962e-02],\n",
       "                        [-1.7606e-01, -2.4003e-02,  9.3481e-02]],\n",
       "              \n",
       "                       [[-1.9011e-01, -3.9203e-01, -3.0929e-01],\n",
       "                        [-1.0282e-01, -1.1947e-01, -1.4041e-01],\n",
       "                        [ 8.9636e-02, -1.1794e-01, -1.6100e-01]],\n",
       "              \n",
       "                       [[-3.4465e-02, -2.6930e-02,  1.8143e-01],\n",
       "                        [-5.3923e-01, -3.1522e-01, -3.2977e-02],\n",
       "                        [-2.0083e-01, -3.5325e-01, -3.6743e-01]],\n",
       "              \n",
       "                       [[ 3.3487e-02, -1.4573e-01, -7.8782e-02],\n",
       "                        [ 5.3001e-02,  1.3255e-01,  8.9296e-02],\n",
       "                        [-8.1918e-02,  1.3804e-01,  1.1693e-01]],\n",
       "              \n",
       "                       [[-5.2186e-02, -4.8518e-02,  3.4543e-02],\n",
       "                        [-6.6077e-02, -7.1622e-02, -5.9941e-03],\n",
       "                        [-4.3198e-02, -7.5408e-02,  5.8276e-02]],\n",
       "              \n",
       "                       [[ 1.2376e-01, -7.1185e-02, -2.5117e-02],\n",
       "                        [-8.2663e-02, -1.2346e-01, -4.9935e-02],\n",
       "                        [ 2.3262e-01,  4.2194e-02,  1.3515e-01]],\n",
       "              \n",
       "                       [[-1.2207e-01, -2.2635e-01, -1.1660e-02],\n",
       "                        [-1.7447e-01, -1.4597e-01, -1.5691e-01],\n",
       "                        [-1.3839e-02, -4.9410e-02, -2.9372e-02]],\n",
       "              \n",
       "                       [[-3.0127e-02, -8.3364e-02, -5.4992e-02],\n",
       "                        [-8.9335e-02, -2.2088e-01, -1.0511e-01],\n",
       "                        [ 1.2889e-02, -1.6196e-01, -1.1361e-01]],\n",
       "              \n",
       "                       [[-1.0386e-01, -8.5965e-02,  2.0370e-02],\n",
       "                        [ 2.8174e-02,  2.2115e-02, -2.8579e-02],\n",
       "                        [ 9.7312e-02,  1.5256e-02, -6.2097e-02]]],\n",
       "              \n",
       "              \n",
       "                      [[[-3.7752e-02, -5.9066e-03, -3.8792e-03],\n",
       "                        [-7.5734e-02,  2.4992e-02, -8.8685e-02],\n",
       "                        [-9.3502e-02, -7.3819e-02,  8.5778e-02]],\n",
       "              \n",
       "                       [[ 6.7856e-02,  6.5598e-02,  2.7829e-02],\n",
       "                        [ 7.4642e-02, -2.5977e-02, -7.2991e-02],\n",
       "                        [ 4.0367e-02, -6.7125e-02, -9.2052e-02]],\n",
       "              \n",
       "                       [[-4.8547e-02,  6.6935e-03,  3.8309e-02],\n",
       "                        [-5.5675e-02, -7.7050e-02, -1.6426e-03],\n",
       "                        [-7.7243e-02, -8.3765e-02,  3.8537e-02]],\n",
       "              \n",
       "                       [[-1.0544e-02,  1.0238e-01,  9.5708e-02],\n",
       "                        [ 2.3418e-02,  2.6524e-02,  1.1533e-02],\n",
       "                        [-1.6053e-02, -2.5751e-02, -1.4968e-02]],\n",
       "              \n",
       "                       [[ 3.0357e-02,  8.2128e-02, -4.7211e-02],\n",
       "                        [-5.6104e-02, -4.0273e-02, -7.3740e-02],\n",
       "                        [ 1.2992e-02,  7.2341e-02,  7.1382e-02]],\n",
       "              \n",
       "                       [[ 4.8380e-02, -7.7557e-02, -5.6603e-02],\n",
       "                        [-2.3177e-02, -1.9431e-02,  8.7062e-03],\n",
       "                        [-9.6877e-02,  3.2855e-02, -8.0346e-02]],\n",
       "              \n",
       "                       [[-9.2979e-02, -1.1290e-01,  7.2471e-02],\n",
       "                        [-1.1904e-01,  6.1692e-02, -1.7406e-02],\n",
       "                        [-3.6127e-02,  4.3763e-02, -2.3444e-02]],\n",
       "              \n",
       "                       [[ 7.1353e-02,  8.3217e-02, -9.1139e-02],\n",
       "                        [ 4.0765e-02,  2.2358e-02,  2.1498e-02],\n",
       "                        [ 1.5393e-02,  2.7960e-02, -5.1846e-02]],\n",
       "              \n",
       "                       [[-1.4653e-02,  1.0403e-01,  7.7651e-02],\n",
       "                        [-8.5604e-03, -9.8016e-02,  3.2115e-03],\n",
       "                        [-7.2399e-02,  8.9168e-02, -6.2828e-02]],\n",
       "              \n",
       "                       [[-7.6275e-03, -2.3395e-02,  1.8750e-02],\n",
       "                        [ 9.9192e-02,  1.0028e-02,  6.1059e-02],\n",
       "                        [ 8.1828e-02,  8.5100e-02, -3.6401e-02]]],\n",
       "              \n",
       "              \n",
       "                      [[[ 1.0499e-01,  2.3923e-01,  1.6089e-01],\n",
       "                        [ 7.3236e-02, -8.7640e-02, -1.1716e-01],\n",
       "                        [-6.0160e-02, -1.6968e-01, -6.3736e-02]],\n",
       "              \n",
       "                       [[ 2.5961e-01,  1.9744e-01,  2.3235e-01],\n",
       "                        [ 6.1381e-02, -7.8851e-02, -6.1661e-02],\n",
       "                        [-1.0463e-01, -3.5863e-01, -3.0553e-01]],\n",
       "              \n",
       "                       [[-7.4758e-03, -2.7774e-02, -5.9252e-02],\n",
       "                        [-6.7492e-02, -2.1444e-02,  7.2880e-02],\n",
       "                        [ 1.4509e-01,  3.5689e-02,  6.8392e-02]],\n",
       "              \n",
       "                       [[ 2.5510e-02, -7.5297e-02, -1.0165e-01],\n",
       "                        [ 2.8294e-02, -1.2821e-01, -7.1277e-02],\n",
       "                        [ 6.9898e-02,  1.3909e-02, -4.0613e-02]],\n",
       "              \n",
       "                       [[ 4.3522e-02,  1.0614e-01,  4.7092e-02],\n",
       "                        [ 7.1483e-02, -6.0190e-03,  2.5170e-03],\n",
       "                        [-1.5278e-01, -2.2371e-01, -2.7434e-01]],\n",
       "              \n",
       "                       [[-8.3260e-02, -8.1721e-03, -9.1910e-02],\n",
       "                        [ 7.3572e-02,  1.2652e-02, -5.6589e-02],\n",
       "                        [ 5.6500e-02, -9.9152e-02, -4.1976e-02]],\n",
       "              \n",
       "                       [[ 4.0736e-02, -6.6568e-02, -5.1818e-02],\n",
       "                        [-6.8750e-03,  7.3208e-02,  1.3906e-01],\n",
       "                        [ 1.9194e-01,  1.2411e-01,  8.9474e-02]],\n",
       "              \n",
       "                       [[ 7.5056e-02,  4.7775e-02, -8.1636e-03],\n",
       "                        [ 3.6141e-03, -8.3803e-02, -2.5628e-02],\n",
       "                        [ 9.9905e-02, -3.0439e-02,  2.5256e-03]],\n",
       "              \n",
       "                       [[-1.2219e-01, -4.7406e-02,  3.6979e-02],\n",
       "                        [-4.1743e-02, -7.8646e-03,  5.0180e-02],\n",
       "                        [-6.8318e-02,  3.7338e-02, -7.5450e-02]],\n",
       "              \n",
       "                       [[-5.1588e-02,  4.0272e-02,  8.3783e-02],\n",
       "                        [-2.8822e-02, -4.3249e-02, -9.5240e-02],\n",
       "                        [-5.4377e-02, -9.2315e-02, -2.4100e-02]]],\n",
       "              \n",
       "              \n",
       "                      [[[ 2.3959e-01, -2.1698e-01, -7.3446e-02],\n",
       "                        [ 1.8653e-01, -1.0575e-01, -3.2583e-01],\n",
       "                        [ 1.6222e-01,  3.4290e-01, -1.6003e-01]],\n",
       "              \n",
       "                       [[-7.5086e-03,  8.5035e-02, -3.1571e-01],\n",
       "                        [ 3.0375e-01,  2.8626e-01, -2.7036e-01],\n",
       "                        [ 2.4143e-01,  1.4614e-01, -5.4640e-01]],\n",
       "              \n",
       "                       [[-1.8542e-01, -1.6390e-01, -8.1359e-02],\n",
       "                        [-1.3366e-01, -3.1594e-01,  2.8010e-02],\n",
       "                        [ 8.9284e-04, -1.4327e-01,  1.2836e-02]],\n",
       "              \n",
       "                       [[-4.7544e-01, -1.5809e-01,  8.7848e-02],\n",
       "                        [-1.3587e-01, -1.7917e-01,  2.4125e-01],\n",
       "                        [ 3.6013e-02, -2.3483e-01,  2.8523e-01]],\n",
       "              \n",
       "                       [[ 4.4098e-02,  6.1908e-02, -1.5941e-01],\n",
       "                        [ 4.4282e-02,  2.2695e-01, -2.6959e-01],\n",
       "                        [-1.1051e-01,  3.1155e-01, -1.6501e-01]],\n",
       "              \n",
       "                       [[ 9.5872e-02, -9.2541e-02, -3.4124e-02],\n",
       "                        [-9.9856e-02, -4.2986e-02,  3.3118e-02],\n",
       "                        [ 1.0308e-01,  1.7404e-02,  1.0295e-01]],\n",
       "              \n",
       "                       [[ 1.8433e-02,  1.1710e-02,  1.3412e-01],\n",
       "                        [-4.0420e-02, -9.6226e-02,  1.4347e-01],\n",
       "                        [ 1.5391e-01,  1.3159e-01,  6.2830e-02]],\n",
       "              \n",
       "                       [[-1.7367e-01, -1.0441e-01, -6.9243e-02],\n",
       "                        [-1.1983e-01, -5.7445e-02, -6.6602e-02],\n",
       "                        [ 1.9589e-02, -1.2829e-02,  1.2614e-01]],\n",
       "              \n",
       "                       [[ 6.8347e-02, -2.1185e-01, -1.8984e-02],\n",
       "                        [ 5.4392e-02, -1.1412e-01, -1.9670e-01],\n",
       "                        [ 1.5564e-02, -1.0651e-01, -8.0269e-02]],\n",
       "              \n",
       "                       [[ 5.9443e-02,  3.8348e-02,  8.3601e-02],\n",
       "                        [-3.9290e-02,  3.5458e-02,  3.7642e-02],\n",
       "                        [-8.7960e-02, -1.0202e-01, -5.4690e-02]]],\n",
       "              \n",
       "              \n",
       "                      [[[ 1.1948e-01, -2.4572e-01, -3.7162e-01],\n",
       "                        [ 1.6687e-01,  6.7082e-02, -1.1536e-01],\n",
       "                        [ 2.9742e-02,  7.7503e-02,  6.6303e-02]],\n",
       "              \n",
       "                       [[ 1.0058e-01, -1.5413e-02, -2.7528e-01],\n",
       "                        [ 1.2211e-01,  1.9214e-01, -2.9053e-01],\n",
       "                        [ 8.6224e-02,  1.6975e-01, -2.8229e-01]],\n",
       "              \n",
       "                       [[-1.0805e-01, -2.1239e-02,  1.3957e-02],\n",
       "                        [-4.0563e-02, -1.4305e-01, -5.0860e-02],\n",
       "                        [ 5.5472e-02, -1.4119e-01, -6.2637e-02]],\n",
       "              \n",
       "                       [[ 6.3032e-02, -3.3773e-02,  2.4768e-01],\n",
       "                        [-1.1423e-01, -7.2822e-02,  1.8680e-01],\n",
       "                        [-1.2184e-01, -2.1079e-01,  1.0708e-01]],\n",
       "              \n",
       "                       [[ 5.5650e-02, -8.9705e-02, -2.4045e-01],\n",
       "                        [ 9.8040e-02,  1.1826e-01, -1.0822e-01],\n",
       "                        [-3.1181e-02,  1.0203e-01, -1.1498e-01]],\n",
       "              \n",
       "                       [[-1.9114e-02, -7.2352e-02,  8.8520e-03],\n",
       "                        [ 1.1165e-02, -1.3652e-02,  1.4786e-02],\n",
       "                        [-4.1894e-02,  2.7377e-02,  3.9203e-02]],\n",
       "              \n",
       "                       [[-5.4295e-02, -1.1610e-01,  5.8218e-02],\n",
       "                        [-1.2975e-02, -6.7145e-02,  8.6087e-02],\n",
       "                        [-7.2562e-02,  1.2452e-01,  6.8380e-02]],\n",
       "              \n",
       "                       [[-6.1646e-02,  5.7021e-02, -1.1728e-01],\n",
       "                        [-1.3882e-01, -1.2633e-02,  1.7957e-02],\n",
       "                        [ 1.0071e-01, -5.8061e-02,  4.2309e-02]],\n",
       "              \n",
       "                       [[-6.8913e-02,  1.0514e-01, -7.6107e-02],\n",
       "                        [-1.0332e-01, -4.6572e-02,  1.1914e-02],\n",
       "                        [ 1.0534e-01, -7.7532e-02, -5.9696e-02]],\n",
       "              \n",
       "                       [[ 2.0231e-02,  2.8598e-02,  4.0521e-02],\n",
       "                        [ 5.7770e-02, -2.3904e-02,  5.8596e-02],\n",
       "                        [ 7.7719e-02, -2.7450e-02,  7.4938e-02]]],\n",
       "              \n",
       "              \n",
       "                      [[[ 8.5694e-02,  7.7280e-02,  8.8538e-02],\n",
       "                        [ 8.5341e-02, -6.4569e-02,  1.7207e-02],\n",
       "                        [ 1.5656e-01,  2.7205e-02, -1.4532e-01]],\n",
       "              \n",
       "                       [[ 1.0832e-01,  5.7856e-02,  6.6922e-03],\n",
       "                        [-8.8504e-03, -1.2796e-01, -1.3229e-01],\n",
       "                        [ 1.7237e-01, -3.4473e-02,  4.7096e-04]],\n",
       "              \n",
       "                       [[-2.1565e-01, -3.5477e-01, -3.7657e-02],\n",
       "                        [-1.9539e-01, -2.9515e-01, -1.5446e-01],\n",
       "                        [-1.3311e-01, -2.1907e-01, -7.1206e-02]],\n",
       "              \n",
       "                       [[-2.2860e-01, -3.8886e-02,  2.2723e-01],\n",
       "                        [-3.5263e-01, -3.1215e-01, -2.0151e-02],\n",
       "                        [-2.5848e-02, -1.0103e-01, -5.6105e-03]],\n",
       "              \n",
       "                       [[ 5.6578e-02, -1.3248e-02,  5.2505e-02],\n",
       "                        [ 2.5606e-01,  3.6520e-02, -6.4757e-02],\n",
       "                        [ 1.5492e-01, -7.5475e-02, -1.4004e-01]],\n",
       "              \n",
       "                       [[ 8.7379e-02,  8.0360e-02,  3.2773e-02],\n",
       "                        [ 7.0734e-03, -9.0158e-02, -1.3255e-02],\n",
       "                        [ 1.0316e-01,  2.6201e-02,  9.3784e-03]],\n",
       "              \n",
       "                       [[-4.9632e-02, -6.9591e-02,  1.7144e-02],\n",
       "                        [ 3.5552e-04,  1.9929e-02, -4.3434e-02],\n",
       "                        [ 1.1140e-01,  1.2964e-01,  4.9822e-02]],\n",
       "              \n",
       "                       [[-5.3609e-02, -7.4081e-02,  1.5381e-01],\n",
       "                        [ 1.4466e-02, -1.6750e-01, -1.6270e-01],\n",
       "                        [-1.9474e-03, -1.0464e-02, -8.3968e-02]],\n",
       "              \n",
       "                       [[-9.7811e-02, -1.4888e-01, -1.0961e-01],\n",
       "                        [ 4.3834e-02, -1.0732e-01, -2.0036e-01],\n",
       "                        [-6.2715e-03, -1.1552e-01,  1.8633e-02]],\n",
       "              \n",
       "                       [[ 5.5955e-02,  9.4937e-02,  2.5921e-04],\n",
       "                        [ 2.1245e-02,  3.6888e-02, -9.9785e-02],\n",
       "                        [ 9.5829e-03, -7.0172e-03, -5.9187e-02]]],\n",
       "              \n",
       "              \n",
       "                      [[[-1.6545e-01,  3.0674e-01,  4.0888e-01],\n",
       "                        [-2.3612e-01, -3.9539e-02,  1.3446e-01],\n",
       "                        [-3.8296e-01, -6.4879e-02,  8.4587e-02]],\n",
       "              \n",
       "                       [[-2.1677e-01,  2.2733e-02,  2.5448e-01],\n",
       "                        [-3.1859e-01, -3.4815e-02,  3.8414e-01],\n",
       "                        [-3.5347e-01, -6.2877e-02,  2.8567e-01]],\n",
       "              \n",
       "                       [[ 5.1187e-03,  7.0201e-02,  7.4157e-02],\n",
       "                        [-2.8652e-02,  7.3975e-02, -3.6496e-02],\n",
       "                        [-4.1879e-02,  9.7487e-02,  1.2950e-02]],\n",
       "              \n",
       "                       [[-1.0980e-01, -3.8205e-02, -6.9856e-02],\n",
       "                        [ 6.8278e-02, -3.4689e-02, -1.7330e-01],\n",
       "                        [ 1.2565e-01, -1.1537e-01, -1.8231e-01]],\n",
       "              \n",
       "                       [[-1.4847e-01, -2.1726e-02,  1.3866e-01],\n",
       "                        [-1.3124e-01, -1.5456e-01,  1.2711e-01],\n",
       "                        [-1.3230e-01,  1.1580e-02,  1.9307e-01]],\n",
       "              \n",
       "                       [[-1.0141e-01, -7.2212e-02, -3.8354e-02],\n",
       "                        [ 8.9337e-02,  1.2643e-02, -7.8528e-02],\n",
       "                        [ 2.9508e-03, -8.3439e-02, -2.1846e-02]],\n",
       "              \n",
       "                       [[-2.0203e-02,  6.7576e-02, -8.2449e-03],\n",
       "                        [ 2.3233e-03,  2.6380e-02, -4.0342e-02],\n",
       "                        [ 4.7070e-02,  2.3599e-02, -1.6571e-02]],\n",
       "              \n",
       "                       [[-4.5928e-02,  9.0790e-02, -4.8949e-02],\n",
       "                        [-7.7438e-03,  6.3115e-02,  8.2745e-02],\n",
       "                        [ 1.0833e-01,  2.9011e-02, -6.0927e-02]],\n",
       "              \n",
       "                       [[ 4.7075e-02,  1.2631e-01, -6.3435e-02],\n",
       "                        [ 3.2008e-02, -6.7170e-02, -1.1292e-02],\n",
       "                        [ 1.0746e-01, -3.8845e-02, -1.3501e-02]],\n",
       "              \n",
       "                       [[ 4.7455e-02, -1.7701e-02, -8.8357e-02],\n",
       "                        [ 8.4331e-02, -5.2864e-02, -1.1543e-02],\n",
       "                        [ 9.9580e-03, -6.3446e-03, -9.8917e-02]]]], device='cuda:0')),\n",
       "             ('block_1.2.bias',\n",
       "              tensor([ 0.4534, -0.0730, -0.0690,  0.4084, -0.1217,  0.0632,  0.1323,  0.0800,\n",
       "                       0.2664,  0.1013], device='cuda:0')),\n",
       "             ('block_2.0.weight',\n",
       "              tensor([[[[-4.5580e-03, -1.1710e-01, -8.5288e-02],\n",
       "                        [-4.2060e-02, -6.3982e-03,  5.5867e-02],\n",
       "                        [-8.6558e-02,  4.2295e-02,  7.0971e-02]],\n",
       "              \n",
       "                       [[ 5.5906e-02, -9.5274e-02, -3.8265e-02],\n",
       "                        [-8.2166e-02, -6.1255e-02,  6.1180e-02],\n",
       "                        [-1.0085e-02,  4.6116e-02, -6.0191e-02]],\n",
       "              \n",
       "                       [[ 1.6086e-02, -6.3726e-02,  5.2622e-02],\n",
       "                        [-4.6041e-02, -2.6309e-02, -9.1412e-02],\n",
       "                        [ 3.6018e-04,  1.0004e-01,  5.1119e-02]],\n",
       "              \n",
       "                       [[-1.4712e-01, -2.8795e-02, -3.3252e-02],\n",
       "                        [-1.3141e-01,  5.6579e-02, -2.1344e-02],\n",
       "                        [ 6.5346e-02, -8.7624e-02, -2.8342e-02]],\n",
       "              \n",
       "                       [[ 1.6066e-02,  3.8666e-02,  2.4195e-02],\n",
       "                        [-5.0050e-02,  1.0618e-01, -1.5334e-02],\n",
       "                        [-6.5189e-02, -4.5923e-02,  1.0475e-01]],\n",
       "              \n",
       "                       [[ 2.1896e-03, -3.4528e-02, -3.1300e-02],\n",
       "                        [-2.5093e-03, -6.6187e-02, -5.4828e-02],\n",
       "                        [ 6.2983e-02,  8.5214e-02,  7.4777e-02]],\n",
       "              \n",
       "                       [[-9.0974e-02,  8.4686e-02, -9.5417e-02],\n",
       "                        [ 1.3146e-01,  1.0730e-01,  8.6328e-02],\n",
       "                        [ 2.5020e-01,  8.5824e-02, -5.6786e-03]],\n",
       "              \n",
       "                       [[ 6.4781e-02, -1.4640e-02,  1.8144e-02],\n",
       "                        [ 1.6085e-02,  2.8835e-02, -1.1079e-01],\n",
       "                        [ 6.9305e-02, -6.1881e-02, -4.9813e-02]],\n",
       "              \n",
       "                       [[-1.1919e-01, -1.2164e-01, -1.0793e-02],\n",
       "                        [ 7.2469e-02,  7.9591e-02,  5.6642e-02],\n",
       "                        [-3.4986e-02, -1.0396e-01,  4.5022e-02]],\n",
       "              \n",
       "                       [[ 6.7773e-02, -3.0667e-02,  3.7514e-02],\n",
       "                        [ 1.1834e-01,  9.2416e-02, -4.9959e-02],\n",
       "                        [ 1.0449e-01,  1.0571e-01,  9.6431e-02]]],\n",
       "              \n",
       "              \n",
       "                      [[[-1.4351e-01, -2.7878e-01, -3.2004e-01],\n",
       "                        [ 2.8478e-01, -2.3534e-01, -6.5781e-02],\n",
       "                        [ 1.8758e-01,  1.9961e-01,  5.9036e-02]],\n",
       "              \n",
       "                       [[ 1.2435e-02, -9.5171e-02, -1.2996e-01],\n",
       "                        [-7.2380e-02,  5.0748e-02, -1.0717e-01],\n",
       "                        [ 3.0548e-02, -5.1817e-02,  2.2973e-02]],\n",
       "              \n",
       "                       [[ 6.2006e-02,  3.6905e-02, -5.3370e-02],\n",
       "                        [-8.6100e-02,  4.0831e-03, -6.1910e-02],\n",
       "                        [ 8.6703e-02, -1.0124e-01,  4.7044e-02]],\n",
       "              \n",
       "                       [[ 2.2259e-01,  4.5291e-01,  3.3117e-01],\n",
       "                        [-3.7541e-01,  5.8203e-01,  2.7629e-01],\n",
       "                        [-9.6387e-01, -2.6287e-01, -4.9927e-02]],\n",
       "              \n",
       "                       [[ 8.5671e-03,  1.0907e-01, -7.0364e-02],\n",
       "                        [-6.5456e-02,  2.5806e-02, -2.1379e-02],\n",
       "                        [ 1.1276e-02, -9.3545e-02, -2.2686e-02]],\n",
       "              \n",
       "                       [[ 3.2691e-03, -1.8745e-01, -3.7273e-02],\n",
       "                        [ 2.4726e-01,  1.3540e-01, -5.8419e-02],\n",
       "                        [-3.6282e-02,  1.1955e-01,  6.8142e-02]],\n",
       "              \n",
       "                       [[-4.6325e-01, -2.0755e-02,  6.8440e-02],\n",
       "                        [-5.4384e-01,  9.3208e-02,  3.6917e-01],\n",
       "                        [-2.1391e-01,  5.7170e-02, -8.0833e-02]],\n",
       "              \n",
       "                       [[-1.2717e-01, -3.3455e-01,  2.8925e-02],\n",
       "                        [-3.1706e-01,  4.0951e-02, -4.1234e-02],\n",
       "                        [-1.5894e-01, -1.1796e-02, -5.7577e-02]],\n",
       "              \n",
       "                       [[-3.5007e-01,  1.8360e-01,  3.1334e-01],\n",
       "                        [-2.1441e-01,  2.4554e-01,  2.6520e-01],\n",
       "                        [-2.5750e-01, -1.0707e-01, -8.5206e-02]],\n",
       "              \n",
       "                       [[ 2.3253e-01, -2.7862e-01, -3.9581e-01],\n",
       "                        [ 1.1928e-01,  2.1728e-01, -1.2616e-01],\n",
       "                        [-1.6203e-01,  2.1048e-01,  2.2423e-01]]],\n",
       "              \n",
       "              \n",
       "                      [[[-3.8922e-02,  7.8270e-02,  7.0490e-02],\n",
       "                        [-6.6723e-02, -9.0752e-02, -8.7591e-02],\n",
       "                        [-8.5505e-02, -4.7928e-02, -1.3226e-02]],\n",
       "              \n",
       "                       [[-2.4916e-02, -5.3055e-02, -3.2939e-02],\n",
       "                        [-3.6232e-02,  1.0410e-01, -3.6467e-02],\n",
       "                        [-7.5420e-02,  4.3776e-02, -6.5033e-03]],\n",
       "              \n",
       "                       [[ 8.0701e-02,  6.5874e-02,  9.6921e-02],\n",
       "                        [-7.7228e-02,  6.7744e-02,  8.8453e-02],\n",
       "                        [-5.2053e-02,  9.6874e-02,  7.9007e-02]],\n",
       "              \n",
       "                       [[-6.3562e-02,  4.3418e-02, -2.1328e-02],\n",
       "                        [-1.4415e-01,  2.6547e-02,  5.1456e-02],\n",
       "                        [-1.0114e-01,  1.2586e-02, -1.4158e-01]],\n",
       "              \n",
       "                       [[ 8.4275e-02,  1.0080e-01,  1.5756e-02],\n",
       "                        [-6.4909e-02,  6.0536e-02,  1.1962e-02],\n",
       "                        [ 1.5479e-02,  2.8754e-02,  6.1117e-02]],\n",
       "              \n",
       "                       [[-5.6441e-02, -3.8728e-02,  2.4596e-02],\n",
       "                        [-1.9470e-02,  8.5004e-02, -2.2807e-02],\n",
       "                        [-1.6877e-02,  1.9763e-02, -1.6303e-02]],\n",
       "              \n",
       "                       [[ 6.9290e-02, -2.9870e-03, -8.8417e-02],\n",
       "                        [-1.8778e-02, -4.2603e-02,  9.2092e-03],\n",
       "                        [-3.7513e-02, -1.0936e-01, -5.3640e-02]],\n",
       "              \n",
       "                       [[-8.9670e-03, -3.2476e-02,  9.9998e-02],\n",
       "                        [-2.0068e-02,  7.9885e-02,  3.4433e-02],\n",
       "                        [-9.8536e-02,  2.1782e-02,  6.9116e-02]],\n",
       "              \n",
       "                       [[-1.1044e-01, -7.6324e-02,  9.6178e-02],\n",
       "                        [ 5.3132e-02, -5.5828e-02,  8.2845e-02],\n",
       "                        [-4.1203e-02, -1.1635e-01, -1.8333e-02]],\n",
       "              \n",
       "                       [[ 6.9855e-02,  3.4689e-02,  9.9087e-02],\n",
       "                        [-6.1768e-02,  1.4373e-01,  1.2490e-01],\n",
       "                        [ 6.3552e-02,  4.0657e-02,  4.0416e-02]]],\n",
       "              \n",
       "              \n",
       "                      [[[ 1.7876e-01, -2.0447e-02, -5.1803e-02],\n",
       "                        [ 5.2994e-02, -6.6670e-02, -1.9451e-02],\n",
       "                        [ 3.2189e-02, -1.0272e-01,  7.7903e-02]],\n",
       "              \n",
       "                       [[ 4.8951e-02,  9.4298e-02,  5.1000e-02],\n",
       "                        [ 9.0845e-02, -4.0145e-02,  8.1777e-02],\n",
       "                        [ 7.7523e-02, -1.0619e-01, -6.7630e-02]],\n",
       "              \n",
       "                       [[ 2.1776e-02,  5.7052e-02, -5.1763e-02],\n",
       "                        [ 1.1641e-02, -5.6116e-04,  2.8073e-02],\n",
       "                        [-5.6564e-02,  5.9357e-02,  6.9921e-02]],\n",
       "              \n",
       "                       [[-7.7496e-01, -2.5042e-01,  2.5430e-01],\n",
       "                        [-1.9598e-02,  3.6470e-01,  3.8465e-01],\n",
       "                        [-1.2390e-01,  2.8910e-01,  6.6546e-02]],\n",
       "              \n",
       "                       [[-1.9894e-02,  1.2981e-02, -7.9681e-02],\n",
       "                        [ 2.0141e-02, -7.3031e-02,  3.3099e-03],\n",
       "                        [ 6.1704e-03,  1.5665e-02, -9.4164e-02]],\n",
       "              \n",
       "                       [[-1.6370e-01, -6.6866e-02,  1.5097e-02],\n",
       "                        [-1.1369e-01,  5.8647e-02, -6.1539e-04],\n",
       "                        [ 3.1132e-02,  7.6522e-02,  1.2621e-01]],\n",
       "              \n",
       "                       [[-2.7741e-01, -2.0569e-01,  2.3131e-01],\n",
       "                        [-3.1837e-01,  8.3546e-02,  1.1252e-01],\n",
       "                        [-3.8799e-01, -1.1872e-01,  1.1541e-01]],\n",
       "              \n",
       "                       [[-6.0873e-02, -1.3171e-01,  9.9905e-03],\n",
       "                        [-1.9574e-01, -5.4405e-03, -6.3020e-02],\n",
       "                        [-1.8812e-01, -3.3866e-02, -7.6694e-02]],\n",
       "              \n",
       "                       [[-2.9745e-01, -2.4895e-01,  1.0319e-01],\n",
       "                        [-1.5021e-01,  3.0811e-02,  4.0773e-01],\n",
       "                        [-1.0504e-01, -1.3346e-02,  3.7624e-02]],\n",
       "              \n",
       "                       [[ 5.7451e-02,  5.4857e-02,  5.2015e-02],\n",
       "                        [ 3.1507e-02, -7.0720e-02,  4.1871e-02],\n",
       "                        [-1.1116e-01,  8.1390e-03, -9.8757e-02]]],\n",
       "              \n",
       "              \n",
       "                      [[[-3.5068e-02,  5.9081e-02, -1.1268e-01],\n",
       "                        [-1.2110e-01,  1.0077e-01,  4.1963e-02],\n",
       "                        [ 1.6320e-01,  9.1681e-02,  1.1459e-01]],\n",
       "              \n",
       "                       [[ 7.2187e-02,  6.8257e-02, -1.0629e-01],\n",
       "                        [ 1.0836e-01, -7.4078e-02,  9.9094e-02],\n",
       "                        [-8.7760e-03, -7.7044e-02,  4.8761e-02]],\n",
       "              \n",
       "                       [[-2.1504e-02, -9.4913e-02, -3.8262e-02],\n",
       "                        [ 1.1089e-02,  8.2035e-02, -3.2458e-02],\n",
       "                        [ 6.2372e-02,  1.3415e-02,  3.4212e-03]],\n",
       "              \n",
       "                       [[ 1.1138e-01, -9.4205e-02, -1.8237e-01],\n",
       "                        [ 1.8354e-01, -1.1929e-01, -1.9091e-01],\n",
       "                        [ 9.1367e-02, -2.4801e-02, -1.2229e-01]],\n",
       "              \n",
       "                       [[-1.8061e-02, -1.2664e-02, -5.8338e-02],\n",
       "                        [ 1.5232e-02, -1.1680e-02,  3.0277e-02],\n",
       "                        [ 1.0135e-02, -4.7264e-02, -3.5226e-02]],\n",
       "              \n",
       "                       [[-2.5957e-02, -7.3841e-02, -2.6948e-02],\n",
       "                        [ 3.1798e-03,  4.1304e-02, -3.6784e-03],\n",
       "                        [ 1.1954e-01, -3.1840e-02, -1.2371e-01]],\n",
       "              \n",
       "                       [[ 9.4915e-02, -1.4143e-01, -9.0589e-02],\n",
       "                        [ 1.3802e-01,  2.1295e-03, -1.1918e-01],\n",
       "                        [ 1.5376e-01,  1.7325e-01,  1.9724e-02]],\n",
       "              \n",
       "                       [[ 1.0824e-01, -1.6081e-01, -2.1073e-02],\n",
       "                        [ 1.4898e-01,  5.8613e-02, -1.3982e-01],\n",
       "                        [ 4.2080e-02, -1.3581e-02,  1.2076e-02]],\n",
       "              \n",
       "                       [[ 1.2195e-02, -1.0253e-01, -1.5479e-01],\n",
       "                        [ 5.5426e-02,  4.0234e-02, -2.7367e-02],\n",
       "                        [-3.4618e-02,  7.3633e-03, -6.9064e-02]],\n",
       "              \n",
       "                       [[-3.8755e-02, -2.5340e-03,  2.9705e-02],\n",
       "                        [ 1.3609e-01, -1.2568e-01, -4.8254e-02],\n",
       "                        [ 1.8147e-01,  7.5903e-02, -1.2728e-01]]],\n",
       "              \n",
       "              \n",
       "                      [[[-9.5425e-02,  5.1204e-02,  1.5565e-02],\n",
       "                        [-3.0552e-02, -4.5668e-02, -5.6589e-02],\n",
       "                        [ 8.9076e-02, -1.2449e-02,  8.2175e-02]],\n",
       "              \n",
       "                       [[ 9.4186e-02,  1.3745e-02,  2.2402e-02],\n",
       "                        [-7.1945e-03,  7.2845e-02, -9.4361e-02],\n",
       "                        [ 4.2014e-02, -1.7043e-02,  4.8882e-02]],\n",
       "              \n",
       "                       [[-4.7558e-04, -3.9020e-02, -1.1388e-02],\n",
       "                        [ 5.6920e-02, -7.3206e-02, -6.6637e-02],\n",
       "                        [-2.3550e-02, -3.8196e-02,  4.1420e-02]],\n",
       "              \n",
       "                       [[ 3.0936e-02, -7.4108e-02,  1.7491e-03],\n",
       "                        [-7.5928e-02, -8.1788e-02, -7.8561e-02],\n",
       "                        [-1.0387e-01, -9.1501e-02, -1.0865e-01]],\n",
       "              \n",
       "                       [[-1.0226e-01,  2.3199e-02,  6.4966e-02],\n",
       "                        [ 9.6695e-02,  9.3238e-02,  2.8125e-03],\n",
       "                        [ 2.2421e-02, -5.5706e-02,  5.3744e-02]],\n",
       "              \n",
       "                       [[-1.1432e-01,  8.6776e-03, -3.1370e-02],\n",
       "                        [ 2.6792e-02,  2.2875e-02, -6.1634e-02],\n",
       "                        [ 9.0992e-02,  4.9955e-02,  8.1829e-02]],\n",
       "              \n",
       "                       [[-1.7732e-02,  3.9284e-02,  2.7735e-02],\n",
       "                        [ 1.3034e-02,  5.8770e-02, -4.1531e-02],\n",
       "                        [ 3.8363e-02,  1.1625e-02,  4.9674e-02]],\n",
       "              \n",
       "                       [[ 8.0797e-02,  3.3926e-03, -6.1929e-02],\n",
       "                        [-2.8647e-02,  1.8741e-02,  1.0881e-02],\n",
       "                        [-4.2784e-02,  7.5649e-02,  6.1389e-02]],\n",
       "              \n",
       "                       [[-1.0158e-01, -4.9837e-02, -6.7968e-02],\n",
       "                        [-9.2763e-02, -4.3549e-03, -4.6945e-02],\n",
       "                        [-7.6237e-02, -4.3379e-02, -3.5653e-02]],\n",
       "              \n",
       "                       [[ 8.6091e-02, -8.7027e-04,  1.3438e-01],\n",
       "                        [ 2.3856e-02,  2.3584e-02,  7.3719e-02],\n",
       "                        [ 1.9617e-02, -7.4191e-02, -2.0464e-02]]],\n",
       "              \n",
       "              \n",
       "                      [[[-1.7200e-01,  1.6055e-01,  2.3066e-01],\n",
       "                        [-3.1458e-01,  5.0419e-02,  9.3079e-02],\n",
       "                        [-1.7536e-01, -3.1214e-01, -3.5747e-01]],\n",
       "              \n",
       "                       [[-8.4971e-02,  4.0547e-02,  1.0164e-02],\n",
       "                        [ 9.7895e-02, -2.9261e-02, -4.4450e-02],\n",
       "                        [-7.0496e-02, -6.0264e-02,  1.5358e-02]],\n",
       "              \n",
       "                       [[-2.4386e-03,  5.1274e-03,  1.2558e-02],\n",
       "                        [ 4.0273e-02, -3.1138e-02, -6.3993e-02],\n",
       "                        [ 2.5040e-02, -1.2350e-02, -4.7144e-02]],\n",
       "              \n",
       "                       [[ 3.4123e-02, -2.9716e-01, -6.7508e-01],\n",
       "                        [ 4.2679e-01,  3.6630e-01, -2.9599e-01],\n",
       "                        [-6.5965e-02,  3.0495e-01,  1.6255e-01]],\n",
       "              \n",
       "                       [[-7.3258e-03,  1.8567e-03,  2.4182e-02],\n",
       "                        [ 7.6677e-02, -4.4925e-02,  7.1903e-02],\n",
       "                        [ 1.4833e-02, -6.9255e-02,  4.4745e-02]],\n",
       "              \n",
       "                       [[-1.9233e-01, -8.6240e-02,  7.3136e-02],\n",
       "                        [-9.7731e-02,  1.0478e-02, -9.8698e-02],\n",
       "                        [ 3.7220e-01,  9.8507e-02,  3.2874e-02]],\n",
       "              \n",
       "                       [[-1.0772e-01,  3.0827e-01, -5.0272e-01],\n",
       "                        [ 1.5920e-01,  3.2711e-01, -2.4931e-01],\n",
       "                        [-2.0404e-01,  2.2523e-02, -1.9584e-01]],\n",
       "              \n",
       "                       [[-1.3412e-02,  1.1637e-01, -4.1129e-01],\n",
       "                        [ 3.3561e-02,  1.6071e-01, -9.2177e-02],\n",
       "                        [-2.0865e-01, -1.7084e-01, -5.0272e-02]],\n",
       "              \n",
       "                       [[ 3.8329e-02,  1.6576e-02, -3.2073e-01],\n",
       "                        [ 2.7051e-01,  3.3847e-01, -4.4019e-01],\n",
       "                        [-2.6393e-02,  2.7370e-01,  5.8600e-02]],\n",
       "              \n",
       "                       [[-8.3445e-02, -2.1028e-01,  6.7348e-02],\n",
       "                        [-4.2391e-02, -3.0716e-01, -1.8221e-01],\n",
       "                        [ 1.4342e-01, -1.8760e-01, -6.9884e-02]]],\n",
       "              \n",
       "              \n",
       "                      [[[-5.6857e-03,  2.4932e-01,  2.2347e-01],\n",
       "                        [-1.8189e-02, -8.6047e-02, -9.1247e-02],\n",
       "                        [ 9.2592e-02,  9.5187e-04,  9.7000e-03]],\n",
       "              \n",
       "                       [[-9.5642e-02, -4.5387e-02, -9.4092e-02],\n",
       "                        [ 2.2558e-02, -5.4851e-02,  3.2924e-03],\n",
       "                        [-8.2762e-02,  4.2978e-02, -1.5213e-01]],\n",
       "              \n",
       "                       [[ 5.6525e-02, -4.5634e-02, -9.6888e-04],\n",
       "                        [-2.0141e-02,  6.7831e-02,  3.5073e-02],\n",
       "                        [-9.1834e-02,  1.0009e-02, -7.2163e-02]],\n",
       "              \n",
       "                       [[-6.0572e-02, -1.1448e-01, -4.9659e-01],\n",
       "                        [-1.2500e-01,  4.7331e-01,  4.7576e-03],\n",
       "                        [ 5.2450e-02,  3.1116e-01,  3.0227e-02]],\n",
       "              \n",
       "                       [[ 1.9817e-02, -1.0206e-01,  5.4849e-02],\n",
       "                        [-4.1535e-02, -4.6333e-02, -2.4333e-02],\n",
       "                        [ 6.9006e-02,  7.7720e-02,  4.8397e-03]],\n",
       "              \n",
       "                       [[ 7.5971e-02, -2.4253e-01, -5.8101e-02],\n",
       "                        [-1.1395e-01, -2.0339e-01, -1.4306e-01],\n",
       "                        [-7.5036e-02, -1.2829e-02,  1.3913e-01]],\n",
       "              \n",
       "                       [[-6.2126e-02, -4.5351e-02, -1.0809e-01],\n",
       "                        [-2.6998e-01,  6.4390e-02, -1.6981e-01],\n",
       "                        [-1.7142e-01, -2.5007e-02,  1.9316e-01]],\n",
       "              \n",
       "                       [[-1.4252e-01, -4.0342e-02, -2.6959e-02],\n",
       "                        [-1.5607e-01, -8.2588e-02, -4.4552e-02],\n",
       "                        [-2.3410e-02, -1.1204e-01, -1.1249e-01]],\n",
       "              \n",
       "                       [[-4.0765e-02, -5.4550e-03, -2.3680e-01],\n",
       "                        [-1.6311e-01,  3.7482e-01,  2.0049e-02],\n",
       "                        [-4.5012e-03,  4.2152e-02,  1.1337e-01]],\n",
       "              \n",
       "                       [[ 3.5070e-01, -4.8799e-01,  5.6520e-02],\n",
       "                        [ 2.7009e-01, -2.6884e-01, -1.8142e-02],\n",
       "                        [ 1.0747e-01, -2.8869e-02, -1.3222e-01]]],\n",
       "              \n",
       "              \n",
       "                      [[[-7.5200e-02, -5.1493e-02,  1.5751e-01],\n",
       "                        [ 8.2252e-02,  2.5241e-01,  2.7423e-01],\n",
       "                        [ 2.6731e-02, -1.5012e-02,  8.7645e-04]],\n",
       "              \n",
       "                       [[-2.5957e-02,  1.3378e-02,  7.2464e-02],\n",
       "                        [-1.0760e-01,  6.1515e-03,  7.3471e-02],\n",
       "                        [ 2.9402e-02, -8.9130e-03,  8.5266e-02]],\n",
       "              \n",
       "                       [[-2.3687e-04,  2.2435e-02,  1.0003e-01],\n",
       "                        [ 1.0195e-01, -4.4294e-02,  9.5109e-02],\n",
       "                        [ 3.8230e-02, -1.2507e-02,  9.1500e-02]],\n",
       "              \n",
       "                       [[ 1.6953e-01,  3.6804e-01,  2.4119e-01],\n",
       "                        [-1.2121e-01, -6.3584e-01, -3.2703e-01],\n",
       "                        [ 1.2221e-01, -2.4781e-01, -2.1005e-02]],\n",
       "              \n",
       "                       [[ 3.3706e-02,  7.4831e-02,  5.0710e-02],\n",
       "                        [ 5.0062e-02,  3.5237e-02, -7.8945e-02],\n",
       "                        [-8.7161e-02, -1.1037e-02,  8.2646e-02]],\n",
       "              \n",
       "                       [[ 1.4131e-01,  2.6934e-01, -2.9238e-02],\n",
       "                        [ 1.2199e-01,  8.3787e-02,  5.3481e-02],\n",
       "                        [-7.5370e-02, -2.5604e-01, -1.0557e-01]],\n",
       "              \n",
       "                       [[-1.0634e-01,  7.6993e-02,  1.8928e-01],\n",
       "                        [-1.6243e-02, -4.6281e-01, -5.3335e-01],\n",
       "                        [ 1.2924e-01, -3.3654e-01, -2.8647e-01]],\n",
       "              \n",
       "                       [[-9.3715e-02,  1.0543e-02,  6.6516e-02],\n",
       "                        [-1.9994e-01, -3.4088e-01, -9.2004e-02],\n",
       "                        [ 1.9065e-02, -2.1811e-01, -2.3738e-01]],\n",
       "              \n",
       "                       [[ 1.8423e-01,  1.3379e-01, -4.0798e-02],\n",
       "                        [ 4.6894e-02, -3.2860e-01, -3.1440e-01],\n",
       "                        [ 1.5524e-01, -3.3685e-01, -2.3314e-01]],\n",
       "              \n",
       "                       [[-1.6206e-01, -3.0451e-01,  1.5578e-01],\n",
       "                        [-1.8265e-01, -1.1235e-01,  1.7404e-01],\n",
       "                        [-2.2520e-01, -2.2669e-01,  1.0791e-01]]],\n",
       "              \n",
       "              \n",
       "                      [[[-1.2123e-01,  7.7356e-02,  3.0514e-02],\n",
       "                        [ 5.8229e-02,  1.4117e-01,  2.2224e-02],\n",
       "                        [ 1.0603e-01, -2.6519e-02, -6.3383e-02]],\n",
       "              \n",
       "                       [[ 7.7096e-02,  3.0503e-02, -1.5375e-02],\n",
       "                        [-2.4693e-02, -6.6122e-02,  5.9932e-02],\n",
       "                        [-3.0967e-03, -4.0003e-03,  2.1238e-02]],\n",
       "              \n",
       "                       [[ 7.7768e-02, -5.3777e-02, -3.6183e-02],\n",
       "                        [ 7.1816e-02,  5.9805e-02, -5.1715e-02],\n",
       "                        [-1.0420e-01,  1.9554e-02,  5.5468e-02]],\n",
       "              \n",
       "                       [[-2.8947e-02,  1.5755e-02, -1.3346e-01],\n",
       "                        [-1.4049e-02, -1.3662e-01,  5.4659e-02],\n",
       "                        [-5.3546e-03, -2.6517e-02,  1.9826e-01]],\n",
       "              \n",
       "                       [[-7.0001e-02, -9.4348e-02, -1.0078e-01],\n",
       "                        [ 6.0535e-02,  3.3683e-02, -7.7910e-02],\n",
       "                        [ 4.8283e-02,  9.4059e-02, -1.0575e-01]],\n",
       "              \n",
       "                       [[ 4.3926e-02, -2.3719e-04, -2.1380e-03],\n",
       "                        [ 8.9610e-02,  1.0025e-01,  5.6401e-02],\n",
       "                        [ 8.8664e-02,  5.9140e-02,  2.6533e-02]],\n",
       "              \n",
       "                       [[-1.2742e-01, -2.9409e-02, -1.1198e-01],\n",
       "                        [ 5.4739e-03, -3.5590e-02, -1.6339e-02],\n",
       "                        [-1.2570e-01, -1.2710e-01,  6.5855e-02]],\n",
       "              \n",
       "                       [[ 4.0003e-02,  3.1663e-02, -4.6955e-02],\n",
       "                        [-3.9967e-02, -6.4083e-02,  4.8056e-02],\n",
       "                        [-7.1654e-02,  2.9917e-02,  5.6141e-02]],\n",
       "              \n",
       "                       [[-1.3145e-01, -3.0605e-02, -4.8299e-02],\n",
       "                        [-8.6236e-02,  9.1012e-03, -4.4870e-02],\n",
       "                        [ 5.1091e-02, -1.0662e-01,  4.9366e-02]],\n",
       "              \n",
       "                       [[-1.1317e-01, -4.6344e-02,  5.3841e-03],\n",
       "                        [ 6.1221e-02,  5.7883e-02, -4.0470e-02],\n",
       "                        [-1.5950e-02, -2.6161e-02,  1.3011e-01]]]], device='cuda:0')),\n",
       "             ('block_2.0.bias',\n",
       "              tensor([-0.1053,  0.1196, -0.0202, -0.0849, -0.2296,  0.0078,  0.3138,  0.6004,\n",
       "                       0.6997, -0.0008], device='cuda:0')),\n",
       "             ('block_2.2.weight',\n",
       "              tensor([[[[-1.4550e-01, -1.5686e-01, -1.1049e-02],\n",
       "                        [-1.0132e-01,  3.9308e-02,  6.5274e-02],\n",
       "                        [-3.5128e-02, -9.0034e-02,  9.9325e-02]],\n",
       "              \n",
       "                       [[ 9.2200e-03, -3.8689e-01, -1.4448e-01],\n",
       "                        [-1.3672e-01,  1.6467e-01, -2.7280e-01],\n",
       "                        [ 2.6778e-01,  2.6943e-02, -8.3382e-01]],\n",
       "              \n",
       "                       [[ 2.8144e-02, -7.0929e-03,  8.4033e-02],\n",
       "                        [-9.6264e-02,  6.0000e-02,  1.9853e-02],\n",
       "                        [ 7.8872e-03,  7.0790e-02, -1.0466e-01]],\n",
       "              \n",
       "                       [[-1.0424e-01,  8.2015e-04, -3.7531e-02],\n",
       "                        [ 3.9831e-02, -5.3447e-02, -2.8541e-01],\n",
       "                        [ 6.3399e-02,  4.2046e-02, -3.8947e-01]],\n",
       "              \n",
       "                       [[-1.6153e-01, -1.2284e-01, -1.6979e-02],\n",
       "                        [ 8.3670e-03, -1.2127e-01, -1.5451e-01],\n",
       "                        [-2.3460e-02, -1.0758e-01, -2.0818e-01]],\n",
       "              \n",
       "                       [[-7.0247e-02, -4.9768e-02,  1.1604e-01],\n",
       "                        [-1.9020e-02,  3.4364e-02,  7.3786e-02],\n",
       "                        [-1.1307e-02, -6.0940e-02, -7.3944e-02]],\n",
       "              \n",
       "                       [[-5.3374e-01,  3.3645e-02, -8.0055e-01],\n",
       "                        [-1.7886e-01,  6.0616e-02,  2.4159e-01],\n",
       "                        [-2.6269e-01,  2.6348e-01,  5.8419e-01]],\n",
       "              \n",
       "                       [[ 2.6624e-01,  6.6206e-02, -1.0008e-01],\n",
       "                        [ 2.1807e-01, -7.8331e-02, -4.3780e-02],\n",
       "                        [-1.4176e-01, -8.5365e-02, -5.1908e-02]],\n",
       "              \n",
       "                       [[ 3.6881e-01, -7.4501e-02,  5.9334e-02],\n",
       "                        [-3.6577e-02, -3.0907e-01,  1.6920e-01],\n",
       "                        [-3.4935e-01, -3.7983e-01, -1.4946e-01]],\n",
       "              \n",
       "                       [[ 1.1055e-02,  6.3887e-02, -5.1585e-02],\n",
       "                        [ 6.1412e-02, -7.1517e-02, -6.0884e-02],\n",
       "                        [ 3.3172e-02, -4.4216e-02, -6.9665e-02]]],\n",
       "              \n",
       "              \n",
       "                      [[[ 4.4919e-02,  7.1669e-02,  4.0595e-04],\n",
       "                        [-7.3644e-02,  9.2495e-02, -9.4843e-02],\n",
       "                        [ 1.4431e-01,  3.2492e-02, -1.5137e-02]],\n",
       "              \n",
       "                       [[ 1.0302e-01,  1.9936e-01, -1.7051e-01],\n",
       "                        [-5.9730e-02, -3.5927e-01,  3.6301e-01],\n",
       "                        [-6.9398e-02, -6.4696e-01,  4.0941e-01]],\n",
       "              \n",
       "                       [[-6.5925e-03,  2.1203e-02,  8.0865e-02],\n",
       "                        [ 5.5097e-02, -5.7490e-02, -2.2125e-02],\n",
       "                        [-4.6161e-02, -1.2354e-01, -5.5179e-02]],\n",
       "              \n",
       "                       [[-1.7353e-01, -3.1870e-02, -8.2700e-02],\n",
       "                        [-7.9800e-02, -4.0944e-01, -2.5014e-01],\n",
       "                        [-2.5238e-02, -2.4320e-01, -1.5907e-02]],\n",
       "              \n",
       "                       [[-5.1617e-02,  4.5518e-02,  2.0495e-01],\n",
       "                        [ 6.6981e-03, -5.7994e-02,  1.2823e-01],\n",
       "                        [ 4.3361e-02, -4.3710e-02, -7.7527e-02]],\n",
       "              \n",
       "                       [[-1.0760e-03,  4.4979e-02,  6.2791e-02],\n",
       "                        [-7.3612e-02, -9.2187e-02,  8.3487e-03],\n",
       "                        [-2.6131e-02,  4.0726e-02, -1.9915e-02]],\n",
       "              \n",
       "                       [[-1.3520e-01, -2.5225e-01,  8.3831e-02],\n",
       "                        [-8.9457e-02, -8.2727e-02,  3.7766e-01],\n",
       "                        [ 2.5145e-01, -1.0072e-01, -8.4881e-02]],\n",
       "              \n",
       "                       [[-9.7265e-02, -6.3222e-02,  1.8409e-01],\n",
       "                        [-7.3919e-02, -3.9764e-01,  2.7751e-01],\n",
       "                        [ 2.2444e-02, -5.8339e-01,  3.3657e-01]],\n",
       "              \n",
       "                       [[-2.3593e-01, -1.6252e-01, -2.0562e-01],\n",
       "                        [ 1.2987e-01,  1.2063e-01, -5.2433e-01],\n",
       "                        [ 9.7929e-02,  1.5140e-01, -1.5841e-01]],\n",
       "              \n",
       "                       [[-4.2506e-02,  5.7165e-02,  9.8430e-02],\n",
       "                        [-9.1076e-02, -1.0225e-01,  2.1388e-02],\n",
       "                        [-1.7015e-02, -4.9302e-02, -1.0516e-01]]],\n",
       "              \n",
       "              \n",
       "                      [[[ 1.6327e-01,  3.5866e-02, -5.7449e-02],\n",
       "                        [-4.8663e-02, -2.0782e-02, -8.8974e-02],\n",
       "                        [-1.2975e-03,  8.4218e-02, -7.3093e-02]],\n",
       "              \n",
       "                       [[-7.3119e-01, -2.9380e-01, -5.2726e-01],\n",
       "                        [-3.7606e-01,  3.1373e-01, -1.3796e-01],\n",
       "                        [-1.3747e-01,  2.2781e-01,  4.3509e-01]],\n",
       "              \n",
       "                       [[-3.5580e-02, -2.4473e-02, -1.8993e-02],\n",
       "                        [-2.2318e-02,  5.0582e-02,  6.8106e-02],\n",
       "                        [-2.8623e-03, -6.8509e-02,  6.9785e-02]],\n",
       "              \n",
       "                       [[-3.8467e-01,  2.4308e-01, -3.1874e-02],\n",
       "                        [ 3.7201e-01,  2.2650e-01, -2.1434e-01],\n",
       "                        [-1.1999e-01, -2.5135e-01,  3.6024e-02]],\n",
       "              \n",
       "                       [[ 8.5949e-02, -8.5999e-02, -1.0417e-01],\n",
       "                        [-4.8644e-02,  8.0229e-02, -1.4200e-01],\n",
       "                        [ 3.2679e-02,  7.3535e-02,  7.5576e-03]],\n",
       "              \n",
       "                       [[ 8.5461e-02,  5.1249e-03, -1.1392e-01],\n",
       "                        [ 7.8077e-02,  1.6190e-02, -2.0088e-03],\n",
       "                        [-8.1087e-02, -1.0730e-02, -5.3005e-02]],\n",
       "              \n",
       "                       [[-6.4115e-01, -1.7963e-01,  3.2107e-01],\n",
       "                        [-4.2995e-01, -1.5458e-01, -2.0318e-01],\n",
       "                        [-1.6176e-01,  7.6458e-02,  6.5542e-02]],\n",
       "              \n",
       "                       [[-2.6759e-01,  5.8103e-01,  1.3843e-01],\n",
       "                        [-3.3051e-01,  2.4888e-01, -1.3704e-02],\n",
       "                        [ 1.0027e-01, -2.0452e-01, -6.9367e-02]],\n",
       "              \n",
       "                       [[-2.0639e-02, -1.6807e-01, -9.5868e-02],\n",
       "                        [ 5.0481e-02, -1.5364e-01, -1.2018e-01],\n",
       "                        [-9.0385e-02, -7.4638e-02, -2.1928e-01]],\n",
       "              \n",
       "                       [[ 1.3765e-01,  1.2024e-02, -1.1604e-01],\n",
       "                        [-6.7502e-02, -1.3868e-02, -8.0795e-02],\n",
       "                        [ 1.3667e-02, -1.0884e-01, -1.2187e-01]]],\n",
       "              \n",
       "              \n",
       "                      [[[-8.7595e-02, -4.1424e-02, -1.9786e-02],\n",
       "                        [-3.2537e-02,  3.1943e-02, -1.2796e-01],\n",
       "                        [ 2.2282e-03, -2.1549e-02,  2.1289e-02]],\n",
       "              \n",
       "                       [[ 1.7687e-01, -1.6128e-01, -2.1622e-01],\n",
       "                        [ 2.8379e-03, -3.1729e-01,  2.5251e-03],\n",
       "                        [ 5.7639e-02, -3.2238e-01,  2.6857e-01]],\n",
       "              \n",
       "                       [[ 3.4221e-02, -5.8193e-02,  9.3649e-03],\n",
       "                        [ 1.1805e-02, -4.8251e-02,  8.1888e-02],\n",
       "                        [-1.0358e-01,  1.9145e-02, -5.7259e-02]],\n",
       "              \n",
       "                       [[-8.8369e-02, -2.9081e-01,  2.7722e-02],\n",
       "                        [ 3.9147e-02, -2.5701e-01,  1.4042e-01],\n",
       "                        [-7.8866e-02, -2.1991e-01,  1.4192e-01]],\n",
       "              \n",
       "                       [[ 9.4368e-03,  7.8495e-03,  4.5467e-02],\n",
       "                        [-2.4939e-02, -9.8650e-02, -8.0975e-02],\n",
       "                        [ 6.9646e-02, -1.9832e-01,  1.6966e-02]],\n",
       "              \n",
       "                       [[-8.9474e-02,  9.2056e-02,  6.8928e-02],\n",
       "                        [-9.3557e-02, -9.3381e-02, -1.7502e-03],\n",
       "                        [-4.9575e-02,  3.4288e-02, -6.8214e-02]],\n",
       "              \n",
       "                       [[ 5.3401e-02, -1.2247e-01, -9.3306e-02],\n",
       "                        [-8.1161e-02, -8.8567e-02, -7.1719e-02],\n",
       "                        [-4.3584e-02, -2.0221e-01, -1.0242e-01]],\n",
       "              \n",
       "                       [[-2.0600e-02,  5.5700e-02, -7.6666e-02],\n",
       "                        [-1.7998e-03,  2.0642e-02,  3.4033e-02],\n",
       "                        [-4.1371e-02, -3.6938e-02, -4.2936e-02]],\n",
       "              \n",
       "                       [[ 2.1493e-01,  1.2995e-01,  1.2477e-01],\n",
       "                        [ 1.4927e-01, -4.1249e-02, -4.4747e-01],\n",
       "                        [ 3.5792e-01,  7.9325e-02, -2.1026e-01]],\n",
       "              \n",
       "                       [[ 4.8546e-02,  9.2368e-02,  9.1980e-02],\n",
       "                        [ 2.2887e-02, -8.1327e-02, -9.5744e-02],\n",
       "                        [-8.9029e-02,  3.9415e-03, -1.1419e-01]]],\n",
       "              \n",
       "              \n",
       "                      [[[-9.3461e-02, -8.3993e-02, -7.8444e-02],\n",
       "                        [-1.8322e-02, -9.0595e-03, -4.7559e-02],\n",
       "                        [ 4.8988e-02, -4.3263e-02, -1.3789e-02]],\n",
       "              \n",
       "                       [[ 3.1607e-01,  2.6510e-01, -3.5942e-02],\n",
       "                        [-1.8765e-01, -7.9709e-02, -2.0416e-02],\n",
       "                        [ 2.7830e-01,  2.1329e-01, -5.4200e-03]],\n",
       "              \n",
       "                       [[-8.9516e-02, -8.6391e-02, -3.2429e-02],\n",
       "                        [-1.9881e-04, -3.6135e-02, -7.8455e-02],\n",
       "                        [-1.2286e-03, -9.6206e-02, -1.0096e-01]],\n",
       "              \n",
       "                       [[ 1.6773e-02,  2.5674e-02,  6.2418e-02],\n",
       "                        [ 5.3057e-02, -9.0291e-02, -4.3773e-02],\n",
       "                        [-1.5707e-02, -1.8037e-01, -1.5250e-01]],\n",
       "              \n",
       "                       [[-7.0779e-02, -8.2019e-02, -6.4505e-02],\n",
       "                        [-1.1625e-01, -3.8114e-02, -7.2394e-02],\n",
       "                        [ 8.9055e-02,  5.8755e-02,  4.4196e-02]],\n",
       "              \n",
       "                       [[ 5.0550e-03, -3.3698e-02,  2.1738e-02],\n",
       "                        [-7.2166e-02, -4.7503e-02, -2.4866e-02],\n",
       "                        [-2.9982e-02, -1.0310e-01,  3.9182e-02]],\n",
       "              \n",
       "                       [[-6.6480e-02, -2.3594e-01,  4.0659e-01],\n",
       "                        [-2.4092e-01, -1.5498e-01,  1.9606e-02],\n",
       "                        [-1.0479e-01, -9.7510e-02, -3.2003e-01]],\n",
       "              \n",
       "                       [[ 1.0825e-01, -1.2871e-01,  1.4074e-01],\n",
       "                        [ 8.8891e-02, -2.0674e-01, -2.5222e-01],\n",
       "                        [-6.9953e-02, -2.6822e-01, -2.9653e-01]],\n",
       "              \n",
       "                       [[-5.3365e-02,  5.7343e-02,  7.1640e-02],\n",
       "                        [-1.6121e-01, -4.7851e-02, -3.9173e-03],\n",
       "                        [-1.2377e-01,  6.5770e-02,  1.8383e-01]],\n",
       "              \n",
       "                       [[-9.7751e-02, -1.4278e-03, -2.8276e-02],\n",
       "                        [ 8.7912e-02,  9.7993e-02,  1.8673e-02],\n",
       "                        [ 9.3028e-02, -5.2356e-02,  9.1939e-02]]],\n",
       "              \n",
       "              \n",
       "                      [[[ 2.4992e-02, -5.3697e-02, -1.3357e-01],\n",
       "                        [-4.2712e-02, -1.3546e-02, -5.6637e-03],\n",
       "                        [-6.5442e-02,  5.6816e-02, -2.7186e-02]],\n",
       "              \n",
       "                       [[-3.8062e-01, -2.2841e-01,  4.3238e-02],\n",
       "                        [-1.1249e-01, -3.5116e-01, -3.8611e-01],\n",
       "                        [ 3.4370e-01,  5.7316e-01,  6.9430e-03]],\n",
       "              \n",
       "                       [[ 1.8897e-02, -5.7529e-02, -7.9896e-02],\n",
       "                        [-2.4757e-02, -6.1175e-02, -9.3708e-02],\n",
       "                        [-9.4432e-02, -6.1628e-02,  7.8444e-02]],\n",
       "              \n",
       "                       [[-2.5161e-01, -2.4094e-01, -8.8052e-02],\n",
       "                        [-9.0623e-02,  1.8536e-03, -6.4558e-02],\n",
       "                        [ 1.6770e-01,  2.1063e-01, -1.6580e-02]],\n",
       "              \n",
       "                       [[-1.1524e-01,  5.1601e-02, -2.0379e-01],\n",
       "                        [-2.8838e-02, -6.9834e-02, -1.3554e-01],\n",
       "                        [ 1.8932e-01, -1.7197e-02, -1.8681e-01]],\n",
       "              \n",
       "                       [[ 3.3849e-02, -9.8204e-02,  9.0760e-02],\n",
       "                        [-5.2298e-02,  4.7936e-02, -8.6465e-02],\n",
       "                        [-6.5951e-02,  9.6897e-03,  3.2444e-02]],\n",
       "              \n",
       "                       [[ 1.2803e-01,  3.8757e-01, -2.4596e-01],\n",
       "                        [-2.9428e-01,  4.6108e-02,  6.3285e-02],\n",
       "                        [ 1.7455e-01, -4.6021e-01, -1.7224e-01]],\n",
       "              \n",
       "                       [[-7.0243e-02, -3.0672e-01, -1.7930e-01],\n",
       "                        [-9.5758e-02,  2.3679e-01,  2.0074e-01],\n",
       "                        [-2.7986e-01, -9.4861e-02,  2.7851e-01]],\n",
       "              \n",
       "                       [[-2.0367e-02, -1.5023e-01,  3.1883e-01],\n",
       "                        [-6.7776e-02, -1.2643e-01, -1.4531e-01],\n",
       "                        [ 9.1679e-02,  1.3374e-01, -2.2653e-01]],\n",
       "              \n",
       "                       [[ 1.2429e-01,  8.5082e-02, -5.0147e-02],\n",
       "                        [-7.1127e-03, -8.1561e-02,  6.2989e-02],\n",
       "                        [ 6.1716e-02,  3.4108e-02, -7.0007e-02]]],\n",
       "              \n",
       "              \n",
       "                      [[[ 8.6839e-02, -3.7928e-02,  9.5210e-02],\n",
       "                        [ 1.1450e-01, -1.5588e-02, -6.5133e-02],\n",
       "                        [ 7.6599e-02, -7.7837e-02,  6.6648e-02]],\n",
       "              \n",
       "                       [[-6.4731e-02,  2.9223e-01,  3.4015e-01],\n",
       "                        [-2.8324e-01, -2.0896e-01, -4.0779e-01],\n",
       "                        [-3.0684e-01, -2.3384e-01, -9.4182e-03]],\n",
       "              \n",
       "                       [[-5.0751e-03, -7.2442e-02, -1.1682e-02],\n",
       "                        [-4.5376e-02,  3.5488e-02, -6.5638e-02],\n",
       "                        [-3.6262e-02, -7.6027e-02, -4.2100e-02]],\n",
       "              \n",
       "                       [[ 1.6917e-01,  2.7929e-02, -1.7204e-01],\n",
       "                        [-2.8544e-01, -1.4781e-01, -4.8392e-03],\n",
       "                        [-7.5480e-02, -1.8266e-01,  1.7993e-01]],\n",
       "              \n",
       "                       [[ 1.7863e-01,  1.3600e-01, -1.4314e-03],\n",
       "                        [-4.6595e-02,  1.4132e-01, -1.5448e-01],\n",
       "                        [-2.1984e-01, -1.2222e-01, -7.2537e-02]],\n",
       "              \n",
       "                       [[-6.9296e-02, -8.2569e-02, -8.1761e-03],\n",
       "                        [-3.4361e-03, -2.3670e-02, -6.8507e-02],\n",
       "                        [ 9.1215e-02, -2.9460e-02,  5.4914e-02]],\n",
       "              \n",
       "                       [[ 1.0935e-01, -6.3929e-01, -7.3633e-02],\n",
       "                        [ 1.6658e-01,  9.3755e-02, -2.2812e-01],\n",
       "                        [-9.5073e-02,  4.8177e-01, -5.1474e-02]],\n",
       "              \n",
       "                       [[-2.0874e-01, -3.4243e-01, -3.0781e-01],\n",
       "                        [-2.4002e-01, -3.8886e-01,  1.4075e-01],\n",
       "                        [ 3.9798e-01,  7.4132e-01,  1.9502e-01]],\n",
       "              \n",
       "                       [[ 2.5112e-02,  2.8209e-01,  1.3023e-02],\n",
       "                        [-1.5420e-01,  1.1632e-01,  2.6704e-01],\n",
       "                        [-2.5541e-01, -8.5176e-01, -7.5688e-02]],\n",
       "              \n",
       "                       [[ 4.6678e-02, -1.1575e-01,  9.3336e-03],\n",
       "                        [ 4.1657e-02, -3.6848e-02, -3.3404e-02],\n",
       "                        [ 4.8306e-03, -1.4462e-01,  4.8430e-02]]],\n",
       "              \n",
       "              \n",
       "                      [[[ 8.0868e-02, -3.1716e-02,  9.5309e-02],\n",
       "                        [-3.3031e-02,  2.5307e-02, -6.6280e-02],\n",
       "                        [-4.9868e-03,  4.2132e-02,  4.0469e-02]],\n",
       "              \n",
       "                       [[-1.4455e-01, -1.6569e-01, -4.2348e-02],\n",
       "                        [-1.0262e-02, -4.3833e-02, -1.1992e-01],\n",
       "                        [-3.3286e-02, -8.2428e-04,  6.0484e-02]],\n",
       "              \n",
       "                       [[ 9.2829e-03,  4.5204e-03, -4.8243e-03],\n",
       "                        [ 6.6643e-02,  9.4372e-03,  9.1464e-02],\n",
       "                        [ 6.1612e-02, -7.1539e-02, -1.0301e-03]],\n",
       "              \n",
       "                       [[-9.7097e-02, -8.9137e-02,  1.8249e-02],\n",
       "                        [ 8.7665e-02,  6.2087e-02,  1.7295e-01],\n",
       "                        [-9.9416e-02, -1.0558e-01, -7.2410e-02]],\n",
       "              \n",
       "                       [[ 3.0254e-03, -9.9425e-03,  8.7100e-02],\n",
       "                        [-4.5851e-02, -6.0527e-02, -3.7013e-03],\n",
       "                        [ 7.7631e-02,  2.1261e-02,  4.1205e-02]],\n",
       "              \n",
       "                       [[-2.2804e-02,  4.8378e-02,  1.5618e-02],\n",
       "                        [ 5.0764e-02, -3.7376e-02, -1.1889e-01],\n",
       "                        [-6.9377e-02,  2.0225e-02,  4.9247e-02]],\n",
       "              \n",
       "                       [[-9.9536e-02,  1.9286e-02, -3.6707e-02],\n",
       "                        [-1.8198e-02,  1.4807e-02, -2.5928e-02],\n",
       "                        [-4.8617e-03, -8.1301e-02, -2.7057e-02]],\n",
       "              \n",
       "                       [[-1.1367e-01, -7.7074e-02, -1.0109e-03],\n",
       "                        [ 1.3609e-01,  1.2350e-01,  7.6103e-02],\n",
       "                        [-1.6257e-01, -5.0398e-02, -1.6635e-01]],\n",
       "              \n",
       "                       [[-1.1344e-01, -2.6389e-02, -1.0491e-01],\n",
       "                        [ 4.4002e-02, -1.0732e-01, -1.3141e-02],\n",
       "                        [ 3.1567e-02, -1.1599e-01,  3.4271e-02]],\n",
       "              \n",
       "                       [[-3.9592e-02,  3.1598e-02,  7.5573e-02],\n",
       "                        [-8.2560e-02, -8.2086e-02,  5.0018e-02],\n",
       "                        [-2.3068e-02, -4.3733e-02,  4.1623e-02]]],\n",
       "              \n",
       "              \n",
       "                      [[[-1.2029e-01, -6.9998e-04,  5.9386e-02],\n",
       "                        [ 7.6500e-02, -1.0617e-02, -1.5012e-02],\n",
       "                        [-4.7709e-02, -1.4644e-02,  5.6430e-02]],\n",
       "              \n",
       "                       [[ 2.9623e-02, -5.4721e-01, -5.6933e-02],\n",
       "                        [ 2.9914e-01, -1.5714e-01, -1.9089e-01],\n",
       "                        [-2.0102e-01, -1.8309e-01, -4.3118e-01]],\n",
       "              \n",
       "                       [[-2.3693e-03, -4.0584e-02, -9.9282e-02],\n",
       "                        [-4.2269e-02, -1.0452e-01, -8.4529e-02],\n",
       "                        [-1.2961e-02, -1.0717e-01, -1.1037e-01]],\n",
       "              \n",
       "                       [[ 6.8399e-02,  2.2657e-02, -2.4901e-01],\n",
       "                        [-1.4422e-01,  3.3208e-02, -2.7123e-01],\n",
       "                        [-4.9309e-02, -1.5606e-01, -1.8687e-01]],\n",
       "              \n",
       "                       [[ 5.2996e-02, -3.6039e-01,  7.7075e-02],\n",
       "                        [ 2.8807e-02,  9.2696e-02, -1.9744e-01],\n",
       "                        [-4.4224e-02,  6.8074e-02, -2.0940e-01]],\n",
       "              \n",
       "                       [[ 1.0745e-01, -9.9171e-02,  2.0675e-04],\n",
       "                        [-7.6286e-02,  4.1614e-03,  7.6669e-02],\n",
       "                        [ 1.0085e-01, -2.7101e-03, -7.7923e-02]],\n",
       "              \n",
       "                       [[-2.2559e-01, -4.2500e-01,  1.5357e-01],\n",
       "                        [-1.9852e-01, -4.2272e-01, -3.5273e-01],\n",
       "                        [-3.5901e-03,  6.2152e-02, -2.3115e-01]],\n",
       "              \n",
       "                       [[-1.1709e-01, -2.2321e-01,  1.0398e-01],\n",
       "                        [-8.4335e-02, -4.9401e-01,  1.5775e-01],\n",
       "                        [ 2.9304e-01, -1.6678e-01,  1.3498e-01]],\n",
       "              \n",
       "                       [[ 9.6529e-02,  1.4996e-01,  2.5317e-01],\n",
       "                        [ 1.8703e-01,  4.4120e-01,  3.3416e-01],\n",
       "                        [-5.9820e-03, -2.8728e-02,  2.5638e-01]],\n",
       "              \n",
       "                       [[ 8.5130e-02,  8.4419e-02, -1.1190e-01],\n",
       "                        [-3.7484e-02, -1.1061e-01,  4.1272e-02],\n",
       "                        [-1.3463e-01, -2.0027e-02,  1.4027e-02]]],\n",
       "              \n",
       "              \n",
       "                      [[[ 3.8224e-02,  3.8639e-02, -4.2827e-02],\n",
       "                        [ 6.6781e-02,  3.7569e-02, -9.4114e-02],\n",
       "                        [ 1.2012e-01,  4.7253e-02, -4.8246e-04]],\n",
       "              \n",
       "                       [[-4.0686e-01, -1.0079e-02,  1.1097e-01],\n",
       "                        [-2.7435e-01, -1.5068e-01,  1.6396e-01],\n",
       "                        [ 1.0008e-01, -2.7233e-01, -1.0887e-01]],\n",
       "              \n",
       "                       [[-8.4254e-02,  6.3874e-02,  5.3409e-02],\n",
       "                        [ 2.1162e-02,  8.3601e-02,  4.3396e-02],\n",
       "                        [ 3.5906e-02, -8.8732e-02,  7.0865e-02]],\n",
       "              \n",
       "                       [[-8.5947e-02,  4.2404e-01,  8.6889e-02],\n",
       "                        [ 9.6445e-02,  4.3118e-01, -6.6315e-02],\n",
       "                        [ 3.3634e-01, -1.2745e-01, -4.1641e-01]],\n",
       "              \n",
       "                       [[-9.0091e-02,  3.1128e-02, -8.7509e-02],\n",
       "                        [-3.8337e-02, -5.1769e-02,  5.7424e-02],\n",
       "                        [-9.9880e-02, -5.7830e-02,  1.2639e-03]],\n",
       "              \n",
       "                       [[-7.8042e-04, -5.3079e-02,  3.7419e-02],\n",
       "                        [-7.5830e-02, -8.6241e-02, -1.8839e-02],\n",
       "                        [-7.7086e-02,  6.7853e-02, -7.8046e-02]],\n",
       "              \n",
       "                       [[ 5.2661e-02, -2.3229e-01, -2.1201e-01],\n",
       "                        [-5.4101e-02, -4.7970e-01,  1.8182e-01],\n",
       "                        [-6.1549e-03, -2.3181e-01,  1.4542e-01]],\n",
       "              \n",
       "                       [[-2.2676e-01, -8.0383e-02,  1.4456e-01],\n",
       "                        [ 1.0350e-01,  1.5473e-01,  1.5242e-01],\n",
       "                        [ 2.8094e-01,  1.4981e-02, -2.5919e-01]],\n",
       "              \n",
       "                       [[ 2.3492e-01, -3.0152e-01, -2.0143e-01],\n",
       "                        [-3.6165e-01, -1.9514e-01, -2.0445e-01],\n",
       "                        [-3.2417e-01, -6.9108e-02, -9.1167e-02]],\n",
       "              \n",
       "                       [[-1.4211e-02, -1.0835e-01, -5.3279e-02],\n",
       "                        [-4.3440e-02, -5.7483e-02,  6.8470e-02],\n",
       "                        [-6.4244e-02, -5.7945e-02,  7.4949e-02]]]], device='cuda:0')),\n",
       "             ('block_2.2.bias',\n",
       "              tensor([ 0.2085,  0.0641,  0.1584, -0.0125, -0.2282,  0.1792,  0.0659, -0.0648,\n",
       "                      -0.0156, -0.1310], device='cuda:0')),\n",
       "             ('classifier.1.weight',\n",
       "              tensor([[ 0.0187, -0.1624,  0.1034,  ..., -0.0108, -0.0038, -0.0243],\n",
       "                      [ 0.0035,  0.1082,  0.0237,  ...,  0.1163,  0.0135,  0.0282],\n",
       "                      [-0.0105,  0.0927,  0.0627,  ...,  0.0550,  0.0076, -0.0244],\n",
       "                      ...,\n",
       "                      [-0.0575, -0.0818, -0.0864,  ...,  0.0183, -0.0167, -0.0210],\n",
       "                      [ 0.0894,  0.2089, -0.0782,  ...,  0.0096,  0.0166, -0.0325],\n",
       "                      [-0.0509, -0.0832, -0.0522,  ..., -0.0199, -0.0389,  0.0194]],\n",
       "                     device='cuda:0')),\n",
       "             ('classifier.1.bias',\n",
       "              tensor([ 0.0792, -0.1639,  0.4232, -0.0689, -0.3797, -0.1351,  0.1387,  0.0041,\n",
       "                       0.1900, -0.1244], device='cuda:0'))])"
      ]
     },
     "execution_count": 251,
     "metadata": {},
     "output_type": "execute_result"
    }
   ],
   "source": [
    "model_2.state_dict()"
   ]
  },
  {
   "cell_type": "code",
   "execution_count": 252,
   "metadata": {},
   "outputs": [
    {
     "name": "stderr",
     "output_type": "stream",
     "text": [
      "c:\\Users\\Tiger\\anaconda3\\envs\\py311Udemy\\Lib\\site-packages\\torch\\nn\\modules\\module.py:1898: UserWarning: Positional args are being deprecated, use kwargs instead. Refer to https://pytorch.org/docs/master/generated/torch.nn.Module.html#torch.nn.Module.state_dict for details.\n",
      "  warnings.warn(\n"
     ]
    }
   ],
   "source": [
    "# load model\n",
    "loaded_model_2 = FashionMNISTModelV2(input_shape = 1,\n",
    "                                    hidden_units = 10,\n",
    "                                    output_shape = 10)\n",
    "\n",
    "# load state_dict()\n",
    "loaded_model_2.state_dict(torch.load(f=MODEL_SAVE_PATH))\n",
    "\n",
    "# set to gpu\n",
    "loaded_model_2 = loaded_model_2.to(device)"
   ]
  },
  {
   "cell_type": "code",
   "execution_count": 263,
   "metadata": {},
   "outputs": [],
   "source": [
    "# load model for debuggnig to see what's wrong\n",
    "loaded_model_2 = FashionMNISTModelV2(input_shape = 1,\n",
    "                                    hidden_units = 10,\n",
    "                                    output_shape = 10)\n",
    "# loaded_model_2 = FashionMNISTModelV2(input_shape=1, \n",
    "#                                     hidden_units=10, # try changing this to 128 and seeing what happens \n",
    "#                                     output_shape=10) \n",
    "# load state_dict()\n",
    "# loaded_model_2.state_dict(torch.load(f=MODEL_SAVE_PATH))\n",
    "loaded_model_2.load_state_dict(torch.load(f=MODEL_SAVE_PATH))\n",
    "\n",
    "# set to gpu\n",
    "loaded_model_2 = loaded_model_2.to(device)"
   ]
  },
  {
   "cell_type": "code",
   "execution_count": 257,
   "metadata": {},
   "outputs": [],
   "source": [
    "# from original from course.\n",
    "# Create a new instance of FashionMNISTModelV2 (the same class as our saved state_dict())\n",
    "# Note: loading model will error if the shapes here aren't the same as the saved version\n",
    "loaded_model_2 = FashionMNISTModelV2(input_shape=1, \n",
    "                                    hidden_units=10, # try changing this to 128 and seeing what happens \n",
    "                                    output_shape=10) \n",
    "\n",
    "# Load in the saved state_dict()\n",
    "loaded_model_2.load_state_dict(torch.load(f=MODEL_SAVE_PATH))\n",
    "\n",
    "# Send model to GPU\n",
    "loaded_model_2 = loaded_model_2.to(device)"
   ]
  },
  {
   "cell_type": "code",
   "execution_count": null,
   "metadata": {},
   "outputs": [],
   "source": [
    "torch.load(f=MODEL_SAVE_PATH)"
   ]
  },
  {
   "cell_type": "code",
   "execution_count": 254,
   "metadata": {},
   "outputs": [],
   "source": [
    "# # load model with data from original course\n",
    "# MODEL_NAME_2_ORG = '03_pytorch_computer_vision_model_2_org.pth'\n",
    "# MODEL_SAVE_PATH_ORG = MODEL_PATH/MODEL_NAME_2_ORG\n",
    "\n",
    "# loaded_model_2 = FashionMNISTModelV2(input_shape = 1,\n",
    "#                                     hidden_units = 10,\n",
    "#                                     output_shape = 10)\n",
    "\n",
    "# # load state_dict()\n",
    "# loaded_model_2.state_dict(torch.load(f=MODEL_SAVE_PATH_ORG))\n",
    "\n",
    "# # set to gpu\n",
    "# loaded_model_2 = loaded_model_2.to(device)"
   ]
  },
  {
   "cell_type": "code",
   "execution_count": 264,
   "metadata": {},
   "outputs": [
    {
     "data": {
      "text/plain": [
       "({'mode_name': 'FashionMNISTModelV2',\n",
       "  'model_loss': 0.3202410638332367,\n",
       "  'model_acc': 88.57827476038338},\n",
       " {'mode_name': 'FashionMNISTModelV2',\n",
       "  'model_loss': 0.3202410638332367,\n",
       "  'model_acc': 88.57827476038338})"
      ]
     },
     "execution_count": 264,
     "metadata": {},
     "output_type": "execute_result"
    }
   ],
   "source": [
    "# evaluate loaded model\n",
    "torch.manual_seed(42)\n",
    "\n",
    "loaded_model_2_results = eval_model(\n",
    "    model=loaded_model_2,\n",
    "    data_loader = test_dataloader,\n",
    "    loss_fn = loss_fn,\n",
    "    accuracy_fn = accuracy_fn\n",
    ")\n",
    "\n",
    "loaded_model_2_results, model_2_results"
   ]
  },
  {
   "cell_type": "code",
   "execution_count": 256,
   "metadata": {},
   "outputs": [
    {
     "data": {
      "text/plain": [
       "tensor(False)"
      ]
     },
     "execution_count": 256,
     "metadata": {},
     "output_type": "execute_result"
    }
   ],
   "source": [
    "# see how close the resutls are\n",
    "torch.isclose   (torch.tensor(model_2_results[\"model_loss\"]),\n",
    "                torch.tensor(loaded_model_2_results['model_loss']),\n",
    "                atol= 1e-08,\n",
    "                rtol=0.001)"
   ]
  }
 ],
 "metadata": {
  "kernelspec": {
   "display_name": "py311Udemy",
   "language": "python",
   "name": "python3"
  },
  "language_info": {
   "codemirror_mode": {
    "name": "ipython",
    "version": 3
   },
   "file_extension": ".py",
   "mimetype": "text/x-python",
   "name": "python",
   "nbconvert_exporter": "python",
   "pygments_lexer": "ipython3",
   "version": "3.11.9"
  }
 },
 "nbformat": 4,
 "nbformat_minor": 2
}
