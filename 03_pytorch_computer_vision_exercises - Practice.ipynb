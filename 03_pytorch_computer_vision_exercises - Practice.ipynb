{
  "cells": [
    {
      "cell_type": "markdown",
      "metadata": {
        "colab_type": "text",
        "id": "view-in-github"
      },
      "source": [
        "<a href=\"https://colab.research.google.com/github/mrdbourke/pytorch-deep-learning/blob/main/extras/exercises/03_pytorch_computer_vision_exercises.ipynb\" target=\"_parent\"><img src=\"https://colab.research.google.com/assets/colab-badge.svg\" alt=\"Open In Colab\"/></a>"
      ]
    },
    {
      "cell_type": "markdown",
      "metadata": {
        "id": "Vex99np2wFVt"
      },
      "source": [
        "# 03. PyTorch Computer Vision Exercises\n",
        "\n",
        "The following is a collection of exercises based on computer vision fundamentals in PyTorch.\n",
        "\n",
        "They're a bunch of fun.\n",
        "\n",
        "You're going to get to write plenty of code!\n",
        "\n",
        "## Resources\n",
        "\n",
        "1. These exercises are based on [notebook 03 of the Learn PyTorch for Deep Learning course](https://www.learnpytorch.io/03_pytorch_computer_vision/). \n",
        "2. See a live [walkthrough of the solutions (errors and all) on YouTube](https://youtu.be/_PibmqpEyhA). \n",
        "  * **Note:** Going through these exercises took me just over 3 hours of solid coding, so you should expect around the same.\n",
        "3. See [other solutions on the course GitHub](https://github.com/mrdbourke/pytorch-deep-learning/tree/main/extras/solutions)."
      ]
    },
    {
      "cell_type": "code",
      "execution_count": 2,
      "metadata": {
        "colab": {
          "base_uri": "https://localhost:8080/"
        },
        "id": "GaeYzOTLwWh2",
        "outputId": "17dd5453-9639-4b01-aa18-7ddbfd5c3253"
      },
      "outputs": [
        {
          "name": "stdout",
          "output_type": "stream",
          "text": [
            "Wed Aug  7 12:35:10 2024       \n",
            "+-----------------------------------------------------------------------------------------+\n",
            "| NVIDIA-SMI 551.86                 Driver Version: 551.86         CUDA Version: 12.4     |\n",
            "|-----------------------------------------+------------------------+----------------------+\n",
            "| GPU  Name                     TCC/WDDM  | Bus-Id          Disp.A | Volatile Uncorr. ECC |\n",
            "| Fan  Temp   Perf          Pwr:Usage/Cap |           Memory-Usage | GPU-Util  Compute M. |\n",
            "|                                         |                        |               MIG M. |\n",
            "|=========================================+========================+======================|\n",
            "|   0  NVIDIA GeForce RTX 3080      WDDM  |   00000000:01:00.0  On |                  N/A |\n",
            "| 53%   33C    P8             56W /  370W |    8161MiB /  10240MiB |     33%      Default |\n",
            "|                                         |                        |                  N/A |\n",
            "+-----------------------------------------+------------------------+----------------------+\n",
            "                                                                                         \n",
            "+-----------------------------------------------------------------------------------------+\n",
            "| Processes:                                                                              |\n",
            "|  GPU   GI   CI        PID   Type   Process name                              GPU Memory |\n",
            "|        ID   ID                                                               Usage      |\n",
            "|=========================================================================================|\n",
            "|    0   N/A  N/A      1612    C+G   ...n\\126.0.2592.113\\msedgewebview2.exe      N/A      |\n",
            "|    0   N/A  N/A      2900    C+G   ...m Files\\Mozilla Firefox\\firefox.exe      N/A      |\n",
            "|    0   N/A  N/A      3404    C+G   ..._8wekyb3d8bbwe\\Microsoft.Photos.exe      N/A      |\n",
            "|    0   N/A  N/A      4148    C+G   ...Mozilla Thunderbird\\thunderbird.exe      N/A      |\n",
            "|    0   N/A  N/A      5932    C+G   ...oogle\\Chrome\\Application\\chrome.exe      N/A      |\n",
            "|    0   N/A  N/A      7608    C+G   ...n\\126.0.2592.113\\msedgewebview2.exe      N/A      |\n",
            "|    0   N/A  N/A      7848    C+G   ...CBS_cw5n1h2txyewy\\TextInputHost.exe      N/A      |\n",
            "|    0   N/A  N/A      7980    C+G   C:\\Windows\\explorer.exe                     N/A      |\n",
            "|    0   N/A  N/A      9548    C+G   ...Programs\\Microsoft VS Code\\Code.exe      N/A      |\n",
            "|    0   N/A  N/A     10140    C+G   ....Search_cw5n1h2txyewy\\SearchApp.exe      N/A      |\n",
            "|    0   N/A  N/A     10604    C+G   ...5n1h2txyewy\\ShellExperienceHost.exe      N/A      |\n",
            "|    0   N/A  N/A     11308    C+G   ...t.LockApp_cw5n1h2txyewy\\LockApp.exe      N/A      |\n",
            "|    0   N/A  N/A     12748    C+G   ...Wacom\\WacomCenter\\WacomCenterUI.exe      N/A      |\n",
            "|    0   N/A  N/A     12888    C+G   ...ekyb3d8bbwe\\PhoneExperienceHost.exe      N/A      |\n",
            "|    0   N/A  N/A     15328    C+G   ...crosoft\\Skype for Desktop\\Skype.exe      N/A      |\n",
            "|    0   N/A  N/A     15636    C+G   ...es (x86)\\Dropbox\\Client\\Dropbox.exe      N/A      |\n",
            "|    0   N/A  N/A     16148    C+G   ...0.0_x64__cv1g1gvanyjgm\\WhatsApp.exe      N/A      |\n",
            "|    0   N/A  N/A     16304    C+G   ...l\\Microsoft\\Teams\\current\\Teams.exe      N/A      |\n",
            "|    0   N/A  N/A     16564    C+G   ...a\\Local\\slack\\app-4.39.95\\slack.exe      N/A      |\n",
            "|    0   N/A  N/A     17208    C+G   ...al\\Discord\\app-1.0.9156\\Discord.exe      N/A      |\n",
            "|    0   N/A  N/A     18508    C+G   ...es (x86)\\Dropbox\\Client\\Dropbox.exe      N/A      |\n",
            "|    0   N/A  N/A     18960    C+G   ...l\\Microsoft\\Teams\\current\\Teams.exe      N/A      |\n",
            "|    0   N/A  N/A     19152    C+G   ..._x64__kzf8qxf38zg5c\\Skype\\Skype.exe      N/A      |\n",
            "|    0   N/A  N/A     20188    C+G   ...ft Office\\root\\Office16\\WINWORD.EXE      N/A      |\n",
            "|    0   N/A  N/A     24732    C+G   ...m Files\\Mozilla Firefox\\firefox.exe      N/A      |\n",
            "|    0   N/A  N/A     25268    C+G   ...siveControlPanel\\SystemSettings.exe      N/A      |\n",
            "|    0   N/A  N/A     27784    C+G   ...soft Office\\root\\Office16\\EXCEL.EXE      N/A      |\n",
            "|    0   N/A  N/A     32744      C   ...naconda3\\envs\\py311Udemy\\python.exe      N/A      |\n",
            "|    0   N/A  N/A     41052    C+G   ...r\\AppData\\Roaming\\Zoom\\bin\\Zoom.exe      N/A      |\n",
            "+-----------------------------------------------------------------------------------------+\n"
          ]
        }
      ],
      "source": [
        "# Check for GPU\n",
        "!nvidia-smi"
      ]
    },
    {
      "cell_type": "code",
      "execution_count": 3,
      "metadata": {},
      "outputs": [
        {
          "name": "stderr",
          "output_type": "stream",
          "text": [
            "c:\\Users\\Tiger\\anaconda3\\envs\\py311Udemy\\Lib\\site-packages\\tqdm\\auto.py:21: TqdmWarning: IProgress not found. Please update jupyter and ipywidgets. See https://ipywidgets.readthedocs.io/en/stable/user_install.html\n",
            "  from .autonotebook import tqdm as notebook_tqdm\n"
          ]
        }
      ],
      "source": [
        "import requests\n",
        "from pathlib import Path\n",
        "import sklearn\n",
        "import matplotlib.pyplot as plt\n",
        "import pandas as pd\n",
        "from sklearn.datasets import make_circles\n",
        "from sklearn.datasets import make_moons\n",
        "from sklearn.model_selection import train_test_split\n",
        "from sklearn.datasets import make_blobs\n",
        "import pandas as pd\n",
        "import torch\n",
        "from torch import nn\n",
        "from helper_functions import plot_predictions, plot_decision_boundary, accuracy_fn\n",
        "from torchmetrics import Accuracy, ConfusionMatrix\n",
        "import mlxtend\n",
        "from torchvision import datasets\n",
        "from torchvision import transforms\n",
        "from torchvision.transforms import ToTensor\n",
        "from torch.utils.data import DataLoader\n",
        "from timeit import default_timer as timer\n",
        "from tqdm.auto import tqdm\n",
        "from mlxtend.plotting import plot_confusion_matrix\n",
        "import random\n",
        "from pathlib import Path"
      ]
    },
    {
      "cell_type": "code",
      "execution_count": 4,
      "metadata": {
        "colab": {
          "base_uri": "https://localhost:8080/",
          "height": 53
        },
        "id": "DNwZLMbCzJLk",
        "outputId": "9c150c50-a092-4f34-9d33-b45247fb080d"
      },
      "outputs": [
        {
          "name": "stdout",
          "output_type": "stream",
          "text": [
            "2.3.0\n",
            "cuda\n"
          ]
        }
      ],
      "source": [
        "# Import torch\n",
        "import torch\n",
        "\n",
        "# Exercises require PyTorch > 1.10.0\n",
        "print(torch.__version__)\n",
        "\n",
        "# TODO: Setup device agnostic code\n",
        "device = 'cuda' if torch.cuda.is_available() else 'cpu'\n",
        "print (device)"
      ]
    },
    {
      "cell_type": "markdown",
      "metadata": {
        "id": "FSFX7tc1w-en"
      },
      "source": [
        "## 1. What are 3 areas in industry where computer vision is currently being used?"
      ]
    },
    {
      "cell_type": "markdown",
      "metadata": {
        "id": "VyWRkvWGbCXj"
      },
      "source": [
        "1. Image recognition\n",
        "2. Self Driving\n",
        "3. Medical imaging"
      ]
    },
    {
      "cell_type": "markdown",
      "metadata": {
        "id": "oBK-WI6YxDYa"
      },
      "source": [
        "## 2. Search \"what is overfitting in machine learning\" and write down a sentence about what you find. "
      ]
    },
    {
      "cell_type": "markdown",
      "metadata": {
        "id": "d1rxD6GObCqh"
      },
      "source": [
        "fits training data well, but not genaralizable"
      ]
    },
    {
      "cell_type": "markdown",
      "metadata": {
        "id": "XeYFEqw8xK26"
      },
      "source": [
        "## 3. Search \"ways to prevent overfitting in machine learning\", write down 3 of the things you find and a sentence about each. \n",
        "> **Note:** there are lots of these, so don't worry too much about all of them, just pick 3 and start with those."
      ]
    },
    {
      "cell_type": "markdown",
      "metadata": {
        "id": "ocvOdWKcbEKr"
      },
      "source": [
        "1. dropout\n",
        "2. stop training when test results are worse than training\n",
        "3. introduce noixe"
      ]
    },
    {
      "cell_type": "markdown",
      "metadata": {
        "id": "DKdEEFEqxM-8"
      },
      "source": [
        "## 4. Spend 20-minutes reading and clicking through the [CNN Explainer website](https://poloclub.github.io/cnn-explainer/).\n",
        "\n",
        "* Upload your own example image using the \"upload\" button on the website and see what happens in each layer of a CNN as your image passes through it."
      ]
    },
    {
      "cell_type": "markdown",
      "metadata": {
        "id": "TqZaJIRMbFtS"
      },
      "source": [
        "classifies graph as lady bug"
      ]
    },
    {
      "cell_type": "markdown",
      "metadata": {
        "id": "lvf-3pODxXYI"
      },
      "source": [
        "## 5. Load the [`torchvision.datasets.MNIST()`](https://pytorch.org/vision/stable/generated/torchvision.datasets.MNIST.html#torchvision.datasets.MNIST) train and test datasets."
      ]
    },
    {
      "cell_type": "code",
      "execution_count": 5,
      "metadata": {
        "id": "SHjeuN81bHza"
      },
      "outputs": [],
      "source": [
        "train_data = datasets.MNIST(\n",
        "    root = 'data',\n",
        "    train = True,\n",
        "    download = True,\n",
        "    transform = ToTensor(),\n",
        "    target_transform = None\n",
        ")\n",
        "\n",
        "test_data = datasets.MNIST(\n",
        "    root = 'data',\n",
        "    train = False,\n",
        "    download = True,\n",
        "    transform = ToTensor(),\n",
        "    target_transform = None\n",
        ")"
      ]
    },
    {
      "cell_type": "markdown",
      "metadata": {
        "id": "qxZW-uAbxe_F"
      },
      "source": [
        "## 6. Visualize at least 5 different samples of the MNIST training dataset."
      ]
    },
    {
      "cell_type": "code",
      "execution_count": 6,
      "metadata": {
        "id": "QVFsYi1PbItE"
      },
      "outputs": [
        {
          "data": {
            "image/png": "[encoded data removed]",
            "text/plain": [
              "<Figure size 900x900 with 6 Axes>"
            ]
          },
          "metadata": {},
          "output_type": "display_data"
        }
      ],
      "source": [
        "train_data_size = len (train_data)\n",
        "fig = plt.figure (figsize=(9,9))\n",
        "image_count_range = range (1, 7)\n",
        "rows, cols = 3, 2\n",
        "for i in  image_count_range:\n",
        "    img_idx = random.randint(0, train_data_size)\n",
        "    image, label = train_data[img_idx]\n",
        "    fig.add_subplot (rows, cols, i)\n",
        "    plt.imshow (image.squeeze(), cmap = 'grey')\n",
        "    plt.title (label)\n",
        "\n",
        "\n"
      ]
    },
    {
      "cell_type": "code",
      "execution_count": 7,
      "metadata": {},
      "outputs": [
        {
          "data": {
            "text/plain": [
              "Dataset MNIST\n",
              "    Number of datapoints: 60000\n",
              "    Root location: data\n",
              "    Split: Train\n",
              "    StandardTransform\n",
              "Transform: ToTensor()"
            ]
          },
          "execution_count": 7,
          "metadata": {},
          "output_type": "execute_result"
        }
      ],
      "source": [
        "train_data"
      ]
    },
    {
      "cell_type": "markdown",
      "metadata": {
        "id": "JAPDzW0wxhi3"
      },
      "source": [
        "## 7. Turn the MNIST train and test datasets into dataloaders using `torch.utils.data.DataLoader`, set the `batch_size=32`."
      ]
    },
    {
      "cell_type": "code",
      "execution_count": 8,
      "metadata": {
        "id": "ALA6MPcFbJXQ"
      },
      "outputs": [],
      "source": [
        "BATCH_SIZE = 32\n",
        "train_dataloader = DataLoader(dataset=train_data,\n",
        "                            batch_size = BATCH_SIZE,\n",
        "                            shuffle = True)\n",
        "\n",
        "test_dataloader = DataLoader(dataset = test_data,\n",
        "                            batch_size = BATCH_SIZE,\n",
        "                            shuffle = False\n",
        "                            )"
      ]
    },
    {
      "cell_type": "markdown",
      "metadata": {
        "id": "bCCVfXk5xjYS"
      },
      "source": [
        "## 8. Recreate `model_2` used in notebook 03 (the same model from the [CNN Explainer website](https://poloclub.github.io/cnn-explainer/), also known as TinyVGG) capable of fitting on the MNIST dataset."
      ]
    },
    {
      "cell_type": "code",
      "execution_count": 23,
      "metadata": {},
      "outputs": [
        {
          "name": "stdout",
          "output_type": "stream",
          "text": [
            "image shape torch.Size([1, 28, 28])\n",
            "lazy out torch.Size([1, 10])\n",
            "image shape torch.Size([1, 28, 28])\n",
            "max_pool shape torch.Size([1, 10, 13, 13]),\n",
            "flatten_out torch.Size([1, 1690])\n"
          ]
        }
      ],
      "source": [
        "# write test code to compute size of \n",
        "torch.manual_seed(42)\n",
        "img, img_class = train_data[0]\n",
        "print (f'image shape {img.shape}')\n",
        "conv_layer = nn.Conv2d(in_channels = 1, \n",
        "                out_channels = 10,\n",
        "                kernel_size = 3,\n",
        "                padding = 0)\n",
        "max_pool_layer = nn.MaxPool2d(kernel_size = 2)\n",
        "flatten_model = nn.Flatten()\n",
        "lazy_dense = nn.LazyLinear(out_features=10)\n",
        "# linear_model = nn.Linear(in_features=13*13,\n",
        "#                         out_features = 10)\n",
        "\n",
        "unsqueeze_img = img.unsqueeze (dim = 0)\n",
        "conv_out = conv_layer(unsqueeze_img)\n",
        "# print( conv_out.view(1, -1).size(1))\n",
        "maxp_out = max_pool_layer(conv_out)\n",
        "# print( maxp_out.view(1, -1).size(1))\n",
        "flat_out = flatten_model(maxp_out)\n",
        "# linear_out = linear_model(flat_out)\n",
        "flat_out.shape, maxp_out.shape, linear_out.shape\n",
        "final_out = lazy_dense(flat_out)\n",
        "flat_out.shape[0]*flat_out.shape[1]\n",
        "# final_out.shape, flat_out.shape, maxp_out.shape, linear_out.shape\n",
        "print (f'lazy out {final_out.shape}\\nimage shape {img.shape}\\nmax_pool shape {maxp_out.shape},\\nflatten_out {flat_out.shape}')"
      ]
    },
    {
      "cell_type": "code",
      "execution_count": 20,
      "metadata": {},
      "outputs": [
        {
          "name": "stdout",
          "output_type": "stream",
          "text": [
            "unqueeze img torch.Size([1, 1, 28, 28])\n",
            "torch.Size([1, 10])\n"
          ]
        },
        {
          "name": "stderr",
          "output_type": "stream",
          "text": [
            "c:\\Users\\Tiger\\anaconda3\\envs\\py311Udemy\\Lib\\site-packages\\torch\\nn\\modules\\lazy.py:181: UserWarning: Lazy modules are a new feature under heavy development so changes to the API or functionality can happen at any moment.\n",
            "  warnings.warn('Lazy modules are a new feature under heavy development '\n"
          ]
        }
      ],
      "source": [
        "import torch\n",
        "import torch.nn as nn\n",
        "\n",
        "# Define the network architecture\n",
        "class CustomModel(nn.Module):\n",
        "    def __init__(self):\n",
        "        super(CustomModel, self).__init__()\n",
        "        self.conv_layer = nn.Conv2d(in_channels=1, out_channels=10, kernel_size=3, padding=0)\n",
        "        self.max_pool_layer = nn.MaxPool2d(kernel_size=2)\n",
        "        self.flatten = nn.Flatten()\n",
        "        self.linear_layer = nn.Linear(in_features=10*13*13, out_features=10)\n",
        "        self.lazy_layer = nn.LazyLinear(out_features=10)\n",
        "    \n",
        "    def forward(self, x):\n",
        "        x = self.conv_layer(x)\n",
        "        x = self.max_pool_layer(x)\n",
        "        x = self.flatten(x)\n",
        "        # x = self.linear_layer(x)\n",
        "        x = self.lazy_layer(x)\n",
        "        return x\n",
        "\n",
        "# Create a dummy input tensor with appropriate dimensions (1 channel, 14x14)\n",
        "dummy_input = torch.randn(1, 1, 14, 14)\n",
        "# print (f'input_shape {dummy_input.shape}')\n",
        "# Instantiate the model and get the output\n",
        "model = CustomModel()\n",
        "# output = model(dummy_input)\n",
        "unsq_img = img.unsqueeze(dim=0)\n",
        "print (f'unqueeze img {unsq_img.shape}')\n",
        "output = model(unsq_img)\n",
        "print(output.shape)  # should be torch.Size([1, 10])\n"
      ]
    },
    {
      "cell_type": "code",
      "execution_count": 43,
      "metadata": {
        "id": "5IKNF22XbKYS"
      },
      "outputs": [
        {
          "name": "stderr",
          "output_type": "stream",
          "text": [
            "c:\\Users\\Tiger\\anaconda3\\envs\\py311Udemy\\Lib\\site-packages\\torch\\nn\\modules\\lazy.py:181: UserWarning: Lazy modules are a new feature under heavy development so changes to the API or functionality can happen at any moment.\n",
            "  warnings.warn('Lazy modules are a new feature under heavy development '\n"
          ]
        },
        {
          "data": {
            "text/plain": [
              "HassanCNN(\n",
              "  (conv1): Conv2d(1, 10, kernel_size=(3, 3), stride=(1, 1), padding=(1, 1))\n",
              "  (conv2): Conv2d(10, 10, kernel_size=(3, 3), stride=(1, 1), padding=(1, 1))\n",
              "  (relu): ReLU()\n",
              "  (maxpool): MaxPool2d(kernel_size=2, stride=2, padding=0, dilation=1, ceil_mode=False)\n",
              "  (flatten): Flatten(start_dim=1, end_dim=-1)\n",
              "  (lazydense): LazyLinear(in_features=0, out_features=10, bias=True)\n",
              ")"
            ]
          },
          "execution_count": 43,
          "metadata": {},
          "output_type": "execute_result"
        }
      ],
      "source": [
        "class HassanCNN(nn.Module):\n",
        "    def __init__ (self,input_shape, hidden_units, output_shape,\n",
        "            in_conv_k_size:int = 3,\n",
        "            in_stride:int = 1,\n",
        "            in_pad:int = 1,\n",
        "            in_maxp_k_size = 2,\n",
        "            in_maxp_stride = 2,\n",
        "            in_batch_size = 32):\n",
        "        super().__init__()\n",
        "        self.conv1 = nn.Conv2d(\n",
        "                            in_channels = input_shape,\n",
        "                            out_channels = hidden_units,\n",
        "                            kernel_size=in_conv_k_size,\n",
        "                            stride = in_stride,\n",
        "                            padding = in_pad)\n",
        "        self.conv2 = nn.Conv2d(\n",
        "                            in_channels = hidden_units,\n",
        "                            out_channels = hidden_units,\n",
        "                            kernel_size=in_conv_k_size,\n",
        "                            stride = in_stride,\n",
        "                            padding = in_pad)\n",
        "        self.relu = nn.ReLU()\n",
        "\n",
        "        self.maxpool = nn.MaxPool2d(kernel_size=in_maxp_k_size,\n",
        "                                    stride = in_maxp_stride)\n",
        "        self.flatten = nn.Flatten()\n",
        "        # self.linear = nn.Linear()\n",
        "        self.lazydense = nn.LazyLinear(out_features = output_shape)\n",
        "\n",
        "    def forward (self, x):\n",
        "        # first block\n",
        "        x = self.conv1(x)\n",
        "        x = self.relu(x)\n",
        "        x = self.maxpool(x)\n",
        "\n",
        "        \n",
        "\n",
        "        # second block\n",
        "        x = self.conv2(x)\n",
        "        x = self.relu(x)\n",
        "        x = self.maxpool(x)\n",
        "\n",
        "        # flatten\n",
        "        # linear_output = x.size(1) * x.size(2) * hidden_units\n",
        "        x = self.flatten(x)\n",
        "        # flattened_size = x.view(in_batch_size, -1).size(1)\n",
        "        # flattened_features = hidden_units * flattened_size\n",
        "        # flattened_feature = x.shape[0] * x.shape[1]\n",
        "        x = self.lazydense (x)\n",
        "        return x\n",
        "\n",
        "torch.manual_seed(42)\n",
        "model_has1 = HassanCNN(input_shape = 1,\n",
        "                       hidden_units = 10,\n",
        "                       output_shape = 10).to(device)\n",
        "\n",
        "model_has1"
      ]
    },
    {
      "cell_type": "code",
      "execution_count": 45,
      "metadata": {},
      "outputs": [
        {
          "data": {
            "text/plain": [
              "torch.Size([1, 10])"
            ]
          },
          "execution_count": 45,
          "metadata": {},
          "output_type": "execute_result"
        }
      ],
      "source": [
        "X, y = train_data[0]\n",
        "X = X.to(device)\n",
        "pred = model_has1(X.unsqueeze(dim =0))\n",
        "pred.shape"
      ]
    },
    {
      "cell_type": "markdown",
      "metadata": {
        "id": "sf_3zUr7xlhy"
      },
      "source": [
        "## 9. Train the model you built in exercise 8. for 5 epochs on CPU and GPU and see how long it takes on each."
      ]
    },
    {
      "cell_type": "code",
      "execution_count": 46,
      "metadata": {
        "id": "jSo6vVWFbNLD"
      },
      "outputs": [],
      "source": [
        "# set up loss\n",
        "loss_fn = nn.CrossEntropyLoss()\n",
        "optimizer = torch.optim.SGD(params = model_has1.parameters(), lr = 0.1)"
      ]
    },
    {
      "cell_type": "code",
      "execution_count": 47,
      "metadata": {},
      "outputs": [],
      "source": [
        "# timer\n",
        "def print_train_time (start:float,\n",
        "                      end:float,\n",
        "                      device:torch.device = None):\n",
        "    total_time = end - start\n",
        "    print (f'Train time ondevice {device}: {total_time:.3f} seconds')\n",
        "    return total_time\n"
      ]
    },
    {
      "cell_type": "code",
      "execution_count": 50,
      "metadata": {},
      "outputs": [],
      "source": [
        "def train_loop (model: nn.Module,\n",
        "                dataloader:torch.utils.data.DataLoader,\n",
        "                loss_fn:torch.nn.Module,\n",
        "                optimizer:torch.optim.Optimizer,\n",
        "                accuracy_fn,\n",
        "                device:torch.device = device):\n",
        "    train_loss = 0\n",
        "    train_acc = 0\n",
        "    model.train()\n",
        "    for batch, (X, y) in enumerate(dataloader):\n",
        "        X, y = X.to(device), y.to(device)\n",
        "        y_train_pred = model (X)\n",
        "        loss = loss_fn (y_train_pred, y)\n",
        "        train_loss += loss\n",
        "        train_acc += accuracy_fn(y_true = y,\n",
        "                                 y_pred = y_train_pred.argmax(dim = 1))\n",
        "        optimizer.zero_grad()\n",
        "        loss.backward()\n",
        "        optimizer.step()\n",
        "\n",
        "    train_loss /= len(dataloader)\n",
        "    train_acc /= len(dataloader)\n",
        "    print (f'Train Loss {train_loss:.4f}| train acc {train_acc:.2f} ')\n",
        "\n",
        "def test_loop (model: nn.Module,\n",
        "               dataloader:torch.utils.data.DataLoader,\n",
        "               loss_fn: torch.nn.Module,\n",
        "               accuracy_fn,\n",
        "               device:torch.device = device):\n",
        "    \n",
        "    test_loss = 0\n",
        "    test_acc = 0\n",
        "    model.eval()\n",
        "    for batch, (X, y) in enumerate (dataloader):\n",
        "        X, y = X.to(device), y.to(device)\n",
        "        y_test_pred = model(X)\n",
        "        test_loss += loss_fn(y_test_pred, y)\n",
        "        test_acc += accuracy_fn(y_true = y, \n",
        "                                y_pred = y_test_pred.argmax(dim = 1))\n",
        "        \n",
        "    test_loss /= len(dataloader)\n",
        "    test_acc /= len(dataloader)\n",
        "\n",
        "    print ('Test Loss: {test_loss:.4f}| Test ACC {test_acc:.2f}')\n"
      ]
    },
    {
      "cell_type": "code",
      "execution_count": 52,
      "metadata": {},
      "outputs": [
        {
          "name": "stderr",
          "output_type": "stream",
          "text": [
            "  0%|          | 0/5 [00:00<?, ?it/s]"
          ]
        },
        {
          "name": "stdout",
          "output_type": "stream",
          "text": [
            "Epoch 0\n",
            "\n",
            "Train Loss 0.0681| train acc 97.92 \n"
          ]
        },
        {
          "name": "stderr",
          "output_type": "stream",
          "text": [
            " 20%|██        | 1/5 [00:14<00:58, 14.56s/it]"
          ]
        },
        {
          "name": "stdout",
          "output_type": "stream",
          "text": [
            "Test Loss: {test_loss:.4f}| Test ACC {test_acc:.2f}\n",
            "Epoch 1\n",
            "\n",
            "Train Loss 0.0614| train acc 98.07 \n"
          ]
        },
        {
          "name": "stderr",
          "output_type": "stream",
          "text": [
            " 40%|████      | 2/5 [00:28<00:42, 14.28s/it]"
          ]
        },
        {
          "name": "stdout",
          "output_type": "stream",
          "text": [
            "Test Loss: {test_loss:.4f}| Test ACC {test_acc:.2f}\n",
            "Epoch 2\n",
            "\n",
            "Train Loss 0.0558| train acc 98.22 \n"
          ]
        },
        {
          "name": "stderr",
          "output_type": "stream",
          "text": [
            " 60%|██████    | 3/5 [00:42<00:28, 14.14s/it]"
          ]
        },
        {
          "name": "stdout",
          "output_type": "stream",
          "text": [
            "Test Loss: {test_loss:.4f}| Test ACC {test_acc:.2f}\n",
            "Epoch 3\n",
            "\n",
            "Train Loss 0.0527| train acc 98.40 \n"
          ]
        },
        {
          "name": "stderr",
          "output_type": "stream",
          "text": [
            " 80%|████████  | 4/5 [00:56<00:14, 14.11s/it]"
          ]
        },
        {
          "name": "stdout",
          "output_type": "stream",
          "text": [
            "Test Loss: {test_loss:.4f}| Test ACC {test_acc:.2f}\n",
            "Epoch 4\n",
            "\n",
            "Train Loss 0.0496| train acc 98.45 \n"
          ]
        },
        {
          "name": "stderr",
          "output_type": "stream",
          "text": [
            "100%|██████████| 5/5 [01:10<00:00, 14.16s/it]"
          ]
        },
        {
          "name": "stdout",
          "output_type": "stream",
          "text": [
            "Test Loss: {test_loss:.4f}| Test ACC {test_acc:.2f}\n",
            "Train time ondevice cuda: 70.800 seconds\n"
          ]
        },
        {
          "name": "stderr",
          "output_type": "stream",
          "text": [
            "\n"
          ]
        }
      ],
      "source": [
        "torch.manual_seed(42)\n",
        "train_time_start_on_has_model1 = timer()\n",
        "epochs = 5\n",
        "range_epochs = range (epochs)\n",
        "for epoch in tqdm (range_epochs):\n",
        "    print (f'Epoch {epoch}\\n')\n",
        "    train_loop(model= model_has1,\n",
        "           dataloader = train_dataloader,\n",
        "           loss_fn = loss_fn,\n",
        "           optimizer = optimizer,\n",
        "           accuracy_fn =accuracy_fn)\n",
        "    \n",
        "    test_loop(model= model_has1,\n",
        "              dataloader = test_dataloader,\n",
        "              loss_fn = loss_fn,\n",
        "              accuracy_fn = accuracy_fn)\n",
        "    \n",
        "\n",
        "train_time_end_on_has_model1 = timer()\n",
        "\n",
        "total_time_has_model1 =print_train_time(start = train_time_start_on_has_model1,\n",
        "                                        end=train_time_end_on_has_model1,\n",
        "                                        device = device)\n",
        "\n",
        "\n"
      ]
    },
    {
      "cell_type": "markdown",
      "metadata": {
        "id": "w1CsHhPpxp1w"
      },
      "source": [
        "## 10. Make predictions using your trained model and visualize at least 5 of them comparing the prediciton to the target label."
      ]
    },
    {
      "cell_type": "markdown",
      "metadata": {},
      "source": [
        "##  Evaluate Model"
      ]
    },
    {
      "cell_type": "code",
      "execution_count": 65,
      "metadata": {
        "id": "_YGgZvSobNxu"
      },
      "outputs": [],
      "source": [
        "# write code to valuate model\n",
        "torch.manual_seed(42)\n",
        "def eval_model(model: torch.nn.Module,\n",
        "                dataloader: torch.utils.data.DataLoader,\n",
        "                loss_fn: torch.nn.Module,\n",
        "                accuracy_fn):\n",
        "    \n",
        "    loss, acc = 0,0\n",
        "    model.eval()\n",
        "\n",
        "    with torch.inference_mode():\n",
        "        for X, y in dataloader:\n",
        "            X, y = X.to (device), y.to(device)\n",
        "            y_pred = model (X)\n",
        "            \n",
        "            loss += loss_fn (y_pred, y)\n",
        "            acc += accuracy_fn(y_true = y, \n",
        "                               y_pred = y_pred.argmax(dim =1))\n",
        "            \n",
        "        loss /= len(dataloader)\n",
        "        acc /= len(dataloader)\n",
        "\n",
        "    return {\"model_name\": model.__class__.__name__,\n",
        "            \"model_loss\": loss.item(),\n",
        "            \"model_acc\": acc}\n"
      ]
    },
    {
      "cell_type": "code",
      "execution_count": 66,
      "metadata": {},
      "outputs": [
        {
          "data": {
            "text/plain": [
              "{'model_name': 'HassanCNN',\n",
              " 'model_loss': 0.043279651552438736,\n",
              " 'model_acc': 98.63218849840256}"
            ]
          },
          "execution_count": 66,
          "metadata": {},
          "output_type": "execute_result"
        }
      ],
      "source": [
        "model_has1_results = eval_model (model =model_has1,\n",
        "                                 dataloader=test_dataloader,\n",
        "                                  loss_fn = loss_fn,\n",
        "                                   accuracy_fn=accuracy_fn )\n",
        "\n",
        "model_has1_results"
      ]
    },
    {
      "cell_type": "markdown",
      "metadata": {},
      "source": [
        "## Show results"
      ]
    },
    {
      "cell_type": "code",
      "execution_count": 70,
      "metadata": {},
      "outputs": [
        {
          "data": {
            "image/png": "[encoded data removed]",
            "text/plain": [
              "<Figure size 900x900 with 9 Axes>"
            ]
          },
          "metadata": {},
          "output_type": "display_data"
        }
      ],
      "source": [
        "torch.manual_seed(42)\n",
        "fig = plt.figure(figsize=(9,9))\n",
        "class_names = train_data.classes\n",
        "model_has1.eval()\n",
        "row, cols = 2, 3\n",
        "range_pics = range (1,rows * cols + 1)\n",
        "with torch.inference_mode():\n",
        "    for i in range_pics:\n",
        "        rand_idx = torch.randint(0, len (test_data), size =[1]).item()\n",
        "        img, label = test_data[rand_idx]\n",
        "        unsqz_img = torch.unsqueeze(img, dim = 0).to(device)\n",
        "        pred_label = model_has1(unsqz_img).argmax(dim = 1)\n",
        "        fig.add_subplot(rows, cols, i)\n",
        "        plt.imshow(img.squeeze(), cmap = 'gray')\n",
        "        plt.title (class_names[label] + '/' + class_names[pred_label])\n",
        "        plt.axis(False)\n"
      ]
    },
    {
      "cell_type": "markdown",
      "metadata": {
        "id": "qQwzqlBWxrpG"
      },
      "source": [
        "## 11. Plot a confusion matrix comparing your model's predictions to the truth labels."
      ]
    },
    {
      "cell_type": "code",
      "execution_count": 77,
      "metadata": {},
      "outputs": [
        {
          "name": "stderr",
          "output_type": "stream",
          "text": [
            "Making predictions: 100%|██████████| 313/313 [00:01<00:00, 195.07it/s]\n"
          ]
        }
      ],
      "source": [
        "# create predictions\n",
        "y_preds = []\n",
        "model_has1.eval()\n",
        "with torch.inference_mode():\n",
        "    for X, y in tqdm(test_dataloader, desc = 'Making predictions'):\n",
        "        X, y = X.to (device), y.to(device)\n",
        "        y_logit = model_has1(X)\n",
        "        y_pred = torch.softmax(y_logit, dim = 1).argmax(dim = 1)\n",
        "        y_preds.append(y_pred.cpu())\n",
        "y_pred_tensor = torch.cat(y_preds)\n"
      ]
    },
    {
      "cell_type": "code",
      "execution_count": 82,
      "metadata": {
        "id": "vSrXiT_AbQ6e"
      },
      "outputs": [
        {
          "data": {
            "image/png": "[encoded data removed]",
            "text/plain": [
              "<Figure size 1200x900 with 1 Axes>"
            ]
          },
          "metadata": {},
          "output_type": "display_data"
        }
      ],
      "source": [
        "confmat = ConfusionMatrix(num_classes=len(class_names), task = 'multiclass')\n",
        "confmat_tensor = confmat (preds=y_pred_tensor,\n",
        "                          target = test_data.targets)\n",
        "\n",
        "fig, ax = plot_confusion_matrix(\n",
        "    conf_mat = confmat_tensor.numpy(),\n",
        "    class_names = class_names,\n",
        "    figsize =  (12, 9)\n",
        ")"
      ]
    },
    {
      "cell_type": "markdown",
      "metadata": {
        "id": "lj6bDhoWxt2y"
      },
      "source": [
        "## 12. Create a random tensor of shape `[1, 3, 64, 64]` and pass it through a `nn.Conv2d()` layer with various hyperparameter settings (these can be any settings you choose), what do you notice if the `kernel_size` parameter goes up and down?"
      ]
    },
    {
      "cell_type": "code",
      "execution_count": 76,
      "metadata": {
        "id": "leCTsqtSbR5P"
      },
      "outputs": [
        {
          "data": {
            "text/plain": [
              "torch.Size([1, 10, 23, 23])"
            ]
          },
          "execution_count": 76,
          "metadata": {},
          "output_type": "execute_result"
        }
      ],
      "source": [
        "tst_imgs = torch.randn(size = (1, 3, 64, 64))\n",
        "tst_img = tst_imgs[0]\n",
        "conv_layer = nn.Conv2d(in_channels = 3,\n",
        "                       out_channels=10,\n",
        "                       kernel_size=4,\n",
        "                       stride = 3,\n",
        "                       padding = 3)\n",
        "conv_output = conv_layer (tst_img.unsqueeze(0))\n",
        "conv_output.shape\n"
      ]
    },
    {
      "cell_type": "markdown",
      "metadata": {
        "id": "VHS20cNTxwSi"
      },
      "source": [
        "## 13. Use a model similar to the trained `model_2` from notebook 03 to make predictions on the test [`torchvision.datasets.FashionMNIST`](https://pytorch.org/vision/main/generated/torchvision.datasets.FashionMNIST.html) dataset. \n",
        "* Then plot some predictions where the model was wrong alongside what the label of the image should've been. \n",
        "* After visualing these predictions do you think it's more of a modelling error or a data error? \n",
        "* As in, could the model do better or are the labels of the data too close to each other (e.g. a \"Shirt\" label is too close to \"T-shirt/top\")?"
      ]
    },
    {
      "cell_type": "code",
      "execution_count": null,
      "metadata": {
        "id": "78a8LjtdbSZj"
      },
      "outputs": [],
      "source": []
    }
  ],
  "metadata": {
    "accelerator": "GPU",
    "colab": {
      "authorship_tag": "ABX9TyMUsDcN/+FAm9Pf7Ifqs6AZ",
      "collapsed_sections": [],
      "include_colab_link": true,
      "name": "03_pytorch_computer_vision_exercises.ipynb",
      "provenance": []
    },
    "kernelspec": {
      "display_name": "Python 3",
      "name": "python3"
    },
    "language_info": {
      "codemirror_mode": {
        "name": "ipython",
        "version": 3
      },
      "file_extension": ".py",
      "mimetype": "text/x-python",
      "name": "python",
      "nbconvert_exporter": "python",
      "pygments_lexer": "ipython3",
      "version": "3.11.9"
    }
  },
  "nbformat": 4,
  "nbformat_minor": 0
}
