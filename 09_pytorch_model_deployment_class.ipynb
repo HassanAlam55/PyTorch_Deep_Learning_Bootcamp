{
 "cells": [
  {
   "cell_type": "markdown",
   "metadata": {},
   "source": [
    "# Model Deployment Class, replicating"
   ]
  },
  {
   "cell_type": "code",
   "execution_count": 123,
   "metadata": {},
   "outputs": [],
   "source": [
    "from helper_functions import accuracy_fn, download_data, plot_decision_boundary, plot_loss_curves, plot_predictions, set_seeds\n",
    "# from helper_functions import download_data, set_seeds, plot_loss_curves\n",
    "from going_modular import engine, data_loaders\n",
    "from going_modular import predictions\n",
    "from going_modular.engine import train_step, test_step\n",
    "from going_modular.utils import save_model\n",
    "import mlxtend\n",
    "from mlxtend.plotting import plot_confusion_matrix\n",
    "import numpy as np\n",
    "import os\n",
    "import pandas as pd\n",
    "from pathlib import Path\n",
    "\n",
    "import matplotlib.pyplot as plt\n",
    "import pandas as pd\n",
    "from PIL import Image\n",
    "import random\n",
    "import requests\n",
    "import sklearn\n",
    "from sklearn.datasets import make_circles\n",
    "from sklearn.datasets import make_moons\n",
    "from sklearn.model_selection import train_test_split\n",
    "from sklearn.datasets import make_blobs\n",
    "from torchinfo import summary\n",
    "import torch\n",
    "from torch import nn\n",
    "from torch.utils.tensorboard import SummaryWriter\n",
    "from torchmetrics import Accuracy, ConfusionMatrix\n",
    "import torchvision\n",
    "from torchvision import datasets\n",
    "\n",
    "from torchvision import transforms\n",
    "from torchvision.transforms import ToTensor\n",
    "from torch.utils.data import DataLoader, Dataset\n",
    "from timeit import default_timer as timer\n",
    "from tqdm.auto import tqdm\n",
    "from typing import Tuple, Dict, List\n",
    "writer = SummaryWriter()\n",
    "import zipfile\n",
    "\n"
   ]
  },
  {
   "cell_type": "code",
   "execution_count": 124,
   "metadata": {},
   "outputs": [
    {
     "name": "stdout",
     "output_type": "stream",
     "text": [
      "2.3.0\n",
      "0.18.0\n"
     ]
    }
   ],
   "source": [
    "# see torch and torch vision plus\n",
    "print (torch.__version__)\n",
    "print (torchvision.__version__)"
   ]
  },
  {
   "cell_type": "code",
   "execution_count": 125,
   "metadata": {},
   "outputs": [],
   "source": [
    "# !nvcc --version"
   ]
  },
  {
   "cell_type": "code",
   "execution_count": 126,
   "metadata": {},
   "outputs": [],
   "source": [
    "device = 'cuda' if torch.cuda.is_available() else 'cpu'\n",
    "def set_seeds (seed: int=42):\n",
    "    \"\"\"_summary_\n",
    "\n",
    "    Args:\n",
    "        seed (int, optional): _description_. Defaults to 42.\n",
    "    \"\"\" \n",
    "    torch.manual_seed(seed)\n",
    "    torch.cuda.manual_seed(seed)   "
   ]
  },
  {
   "cell_type": "code",
   "execution_count": 127,
   "metadata": {},
   "outputs": [
    {
     "data": {
      "text/plain": [
       "True"
      ]
     },
     "execution_count": 127,
     "metadata": {},
     "output_type": "execute_result"
    }
   ],
   "source": [
    "import torch\n",
    "torch.cuda.is_available()"
   ]
  },
  {
   "cell_type": "code",
   "execution_count": 128,
   "metadata": {},
   "outputs": [
    {
     "name": "stdout",
     "output_type": "stream",
     "text": [
      "effnetb2 transforms: ImageClassification(\n",
      "    crop_size=[288]\n",
      "    resize_size=[288]\n",
      "    mean=[0.485, 0.456, 0.406]\n",
      "    std=[0.229, 0.224, 0.225]\n",
      "    interpolation=InterpolationMode.BICUBIC\n",
      ")\n"
     ]
    }
   ],
   "source": [
    "# wet up data paths\n",
    "# E:\\Dropbox\\GithubRepo\\Udemy\\pytorch-deep-learning-main\\pytorch-deep-learning-main - Copy\\data\\pizza_steak_sushi_20_percent\n",
    "data_20_percent_path = Path('../data/pizza_steak_sushi_20_percent')\n",
    "train_dir = data_20_percent_path / 'train'\n",
    "test_dir = data_20_percent_path / 'test'\n",
    "effnetb2_weights = torchvision.models.EfficientNet_B2_Weights.DEFAULT\n",
    "effnetb2_transforms = effnetb2_weights.transforms()\n",
    "print (f'effnetb2 transforms: {effnetb2_transforms}')\n",
    "# effnetb2 = torchvision.models.efficientnet_b2(weights=\"effnetb2_weights\")\n",
    "effnetb2 = torchvision.models.efficientnet_b2(weights=\"DEFAULT\")\n",
    "\n",
    "for param in effnetb2.parameters():\n",
    "    param.requires_grad=False\n"
   ]
  },
  {
   "cell_type": "code",
   "execution_count": 129,
   "metadata": {},
   "outputs": [
    {
     "data": {
      "text/plain": [
       "============================================================================================================================================\n",
       "Layer (type (var_name))                                      Input Shape          Output Shape         Param #              Trainable\n",
       "============================================================================================================================================\n",
       "EfficientNet (EfficientNet)                                  [1, 3, 224, 224]     [1, 1000]            --                   False\n",
       "├─Sequential (features)                                      [1, 3, 224, 224]     [1, 1408, 7, 7]      --                   False\n",
       "│    └─Conv2dNormActivation (0)                              [1, 3, 224, 224]     [1, 32, 112, 112]    --                   False\n",
       "│    │    └─Conv2d (0)                                       [1, 3, 224, 224]     [1, 32, 112, 112]    (864)                False\n",
       "│    │    └─BatchNorm2d (1)                                  [1, 32, 112, 112]    [1, 32, 112, 112]    (64)                 False\n",
       "│    │    └─SiLU (2)                                         [1, 32, 112, 112]    [1, 32, 112, 112]    --                   --\n",
       "│    └─Sequential (1)                                        [1, 32, 112, 112]    [1, 16, 112, 112]    --                   False\n",
       "│    │    └─MBConv (0)                                       [1, 32, 112, 112]    [1, 16, 112, 112]    (1,448)              False\n",
       "│    │    └─MBConv (1)                                       [1, 16, 112, 112]    [1, 16, 112, 112]    (612)                False\n",
       "│    └─Sequential (2)                                        [1, 16, 112, 112]    [1, 24, 56, 56]      --                   False\n",
       "│    │    └─MBConv (0)                                       [1, 16, 112, 112]    [1, 24, 56, 56]      (6,004)              False\n",
       "│    │    └─MBConv (1)                                       [1, 24, 56, 56]      [1, 24, 56, 56]      (10,710)             False\n",
       "│    │    └─MBConv (2)                                       [1, 24, 56, 56]      [1, 24, 56, 56]      (10,710)             False\n",
       "│    └─Sequential (3)                                        [1, 24, 56, 56]      [1, 48, 28, 28]      --                   False\n",
       "│    │    └─MBConv (0)                                       [1, 24, 56, 56]      [1, 48, 28, 28]      (16,518)             False\n",
       "│    │    └─MBConv (1)                                       [1, 48, 28, 28]      [1, 48, 28, 28]      (43,308)             False\n",
       "│    │    └─MBConv (2)                                       [1, 48, 28, 28]      [1, 48, 28, 28]      (43,308)             False\n",
       "│    └─Sequential (4)                                        [1, 48, 28, 28]      [1, 88, 14, 14]      --                   False\n",
       "│    │    └─MBConv (0)                                       [1, 48, 28, 28]      [1, 88, 14, 14]      (50,300)             False\n",
       "│    │    └─MBConv (1)                                       [1, 88, 14, 14]      [1, 88, 14, 14]      (123,750)            False\n",
       "│    │    └─MBConv (2)                                       [1, 88, 14, 14]      [1, 88, 14, 14]      (123,750)            False\n",
       "│    │    └─MBConv (3)                                       [1, 88, 14, 14]      [1, 88, 14, 14]      (123,750)            False\n",
       "│    └─Sequential (5)                                        [1, 88, 14, 14]      [1, 120, 14, 14]     --                   False\n",
       "│    │    └─MBConv (0)                                       [1, 88, 14, 14]      [1, 120, 14, 14]     (149,158)            False\n",
       "│    │    └─MBConv (1)                                       [1, 120, 14, 14]     [1, 120, 14, 14]     (237,870)            False\n",
       "│    │    └─MBConv (2)                                       [1, 120, 14, 14]     [1, 120, 14, 14]     (237,870)            False\n",
       "│    │    └─MBConv (3)                                       [1, 120, 14, 14]     [1, 120, 14, 14]     (237,870)            False\n",
       "│    └─Sequential (6)                                        [1, 120, 14, 14]     [1, 208, 7, 7]       --                   False\n",
       "│    │    └─MBConv (0)                                       [1, 120, 14, 14]     [1, 208, 7, 7]       (301,406)            False\n",
       "│    │    └─MBConv (1)                                       [1, 208, 7, 7]       [1, 208, 7, 7]       (686,868)            False\n",
       "│    │    └─MBConv (2)                                       [1, 208, 7, 7]       [1, 208, 7, 7]       (686,868)            False\n",
       "│    │    └─MBConv (3)                                       [1, 208, 7, 7]       [1, 208, 7, 7]       (686,868)            False\n",
       "│    │    └─MBConv (4)                                       [1, 208, 7, 7]       [1, 208, 7, 7]       (686,868)            False\n",
       "│    └─Sequential (7)                                        [1, 208, 7, 7]       [1, 352, 7, 7]       --                   False\n",
       "│    │    └─MBConv (0)                                       [1, 208, 7, 7]       [1, 352, 7, 7]       (846,900)            False\n",
       "│    │    └─MBConv (1)                                       [1, 352, 7, 7]       [1, 352, 7, 7]       (1,888,920)          False\n",
       "│    └─Conv2dNormActivation (8)                              [1, 352, 7, 7]       [1, 1408, 7, 7]      --                   False\n",
       "│    │    └─Conv2d (0)                                       [1, 352, 7, 7]       [1, 1408, 7, 7]      (495,616)            False\n",
       "│    │    └─BatchNorm2d (1)                                  [1, 1408, 7, 7]      [1, 1408, 7, 7]      (2,816)              False\n",
       "│    │    └─SiLU (2)                                         [1, 1408, 7, 7]      [1, 1408, 7, 7]      --                   --\n",
       "├─AdaptiveAvgPool2d (avgpool)                                [1, 1408, 7, 7]      [1, 1408, 1, 1]      --                   --\n",
       "├─Sequential (classifier)                                    [1, 1408]            [1, 1000]            --                   False\n",
       "│    └─Dropout (0)                                           [1, 1408]            [1, 1408]            --                   --\n",
       "│    └─Linear (1)                                            [1, 1408]            [1, 1000]            (1,409,000)          False\n",
       "============================================================================================================================================\n",
       "Total params: 9,109,994\n",
       "Trainable params: 0\n",
       "Non-trainable params: 9,109,994\n",
       "Total mult-adds (Units.MEGABYTES): 659.05\n",
       "============================================================================================================================================\n",
       "Input size (MB): 0.60\n",
       "Forward/backward pass size (MB): 156.81\n",
       "Params size (MB): 36.44\n",
       "Estimated Total Size (MB): 193.85\n",
       "============================================================================================================================================"
      ]
     },
     "execution_count": 129,
     "metadata": {},
     "output_type": "execute_result"
    }
   ],
   "source": [
    "from torchinfo import summary\n",
    "# effnetb2\n",
    "summary(model=effnetb2,\n",
    "        input_size= (1, 3, 224, 224),\n",
    "        col_names=['input_size', 'output_size', 'num_params', 'trainable'],\n",
    "        col_width=20,\n",
    "        row_settings=['var_names'])"
   ]
  },
  {
   "cell_type": "code",
   "execution_count": 130,
   "metadata": {},
   "outputs": [
    {
     "data": {
      "text/plain": [
       "1408"
      ]
     },
     "execution_count": 130,
     "metadata": {},
     "output_type": "execute_result"
    }
   ],
   "source": [
    "# get input size of last layer\n",
    "effnetb2_lastlayer = list(effnetb2.children())[-1]\n",
    "effnetb2_last_child_layer_inpu_count = list(effnetb2_lastlayer.children())[-1].in_features\n",
    "effnetb2_last_child_layer_inpu_count"
   ]
  },
  {
   "cell_type": "code",
   "execution_count": 131,
   "metadata": {},
   "outputs": [],
   "source": [
    "set_seeds()\n",
    "effnetb2.classifier=nn.Sequential(\n",
    "    nn.Dropout(p = 0.3, inplace=True),\n",
    "    nn.Linear(in_features=effnetb2_last_child_layer_inpu_count, out_features=3)\n",
    "\n",
    ")"
   ]
  },
  {
   "cell_type": "code",
   "execution_count": 132,
   "metadata": {},
   "outputs": [],
   "source": [
    "# function to create effnetb2\n",
    "def create_effnetb2(output_feature_count:int, drop_out = 0.3, seed:int=42)-> nn.Module:\n",
    "    weights = torchvision.models.EfficientNet_B2_Weights.DEFAULT\n",
    "    transforms= weights.transforms()\n",
    "    # model = torchvision.models.efficientnet_b2(weights=\"DEFAULT\").to(device)\n",
    "    model = torchvision.models.efficientnet_b2(weights=weights).to(device)\n",
    "\n",
    "    for param in model.features.parameters():\n",
    "        param.requires_grad = False\n",
    "\n",
    "    set_seeds()\n",
    "\n",
    "    last_layer = list(model.children())[-1]\n",
    "    last_child_layer = list(last_layer.children())[-1]\n",
    "    last_input = last_child_layer.in_features\n",
    "\n",
    "    model.classifier = nn.Sequential(\n",
    "        nn.Dropout(p = drop_out, inplace=True),\n",
    "        nn.Linear(in_features =last_input, \n",
    "                  out_features = output_feature_count).to(device))\n",
    "\n",
    "    model.name = 'effnetb2'\n",
    "    print (f'[INFO] created new {model.name} model')\n",
    "    \n",
    "    return model, transforms\n",
    "\n",
    "\n"
   ]
  },
  {
   "cell_type": "code",
   "execution_count": 133,
   "metadata": {},
   "outputs": [
    {
     "name": "stdout",
     "output_type": "stream",
     "text": [
      "[INFO] created new effnetb2 model\n",
      "============================================================================================================================================\n",
      "Layer (type (var_name))                                      Input Shape          Output Shape         Param #              Trainable\n",
      "============================================================================================================================================\n",
      "EfficientNet (EfficientNet)                                  [1, 3, 224, 224]     [1, 3]               --                   Partial\n",
      "├─Sequential (features)                                      [1, 3, 224, 224]     [1, 1408, 7, 7]      --                   False\n",
      "│    └─Conv2dNormActivation (0)                              [1, 3, 224, 224]     [1, 32, 112, 112]    --                   False\n",
      "│    │    └─Conv2d (0)                                       [1, 3, 224, 224]     [1, 32, 112, 112]    (864)                False\n",
      "│    │    └─BatchNorm2d (1)                                  [1, 32, 112, 112]    [1, 32, 112, 112]    (64)                 False\n",
      "│    │    └─SiLU (2)                                         [1, 32, 112, 112]    [1, 32, 112, 112]    --                   --\n",
      "│    └─Sequential (1)                                        [1, 32, 112, 112]    [1, 16, 112, 112]    --                   False\n",
      "│    │    └─MBConv (0)                                       [1, 32, 112, 112]    [1, 16, 112, 112]    (1,448)              False\n",
      "│    │    └─MBConv (1)                                       [1, 16, 112, 112]    [1, 16, 112, 112]    (612)                False\n",
      "│    └─Sequential (2)                                        [1, 16, 112, 112]    [1, 24, 56, 56]      --                   False\n",
      "│    │    └─MBConv (0)                                       [1, 16, 112, 112]    [1, 24, 56, 56]      (6,004)              False\n",
      "│    │    └─MBConv (1)                                       [1, 24, 56, 56]      [1, 24, 56, 56]      (10,710)             False\n",
      "│    │    └─MBConv (2)                                       [1, 24, 56, 56]      [1, 24, 56, 56]      (10,710)             False\n",
      "│    └─Sequential (3)                                        [1, 24, 56, 56]      [1, 48, 28, 28]      --                   False\n",
      "│    │    └─MBConv (0)                                       [1, 24, 56, 56]      [1, 48, 28, 28]      (16,518)             False\n",
      "│    │    └─MBConv (1)                                       [1, 48, 28, 28]      [1, 48, 28, 28]      (43,308)             False\n",
      "│    │    └─MBConv (2)                                       [1, 48, 28, 28]      [1, 48, 28, 28]      (43,308)             False\n",
      "│    └─Sequential (4)                                        [1, 48, 28, 28]      [1, 88, 14, 14]      --                   False\n",
      "│    │    └─MBConv (0)                                       [1, 48, 28, 28]      [1, 88, 14, 14]      (50,300)             False\n",
      "│    │    └─MBConv (1)                                       [1, 88, 14, 14]      [1, 88, 14, 14]      (123,750)            False\n",
      "│    │    └─MBConv (2)                                       [1, 88, 14, 14]      [1, 88, 14, 14]      (123,750)            False\n",
      "│    │    └─MBConv (3)                                       [1, 88, 14, 14]      [1, 88, 14, 14]      (123,750)            False\n",
      "│    └─Sequential (5)                                        [1, 88, 14, 14]      [1, 120, 14, 14]     --                   False\n",
      "│    │    └─MBConv (0)                                       [1, 88, 14, 14]      [1, 120, 14, 14]     (149,158)            False\n",
      "│    │    └─MBConv (1)                                       [1, 120, 14, 14]     [1, 120, 14, 14]     (237,870)            False\n",
      "│    │    └─MBConv (2)                                       [1, 120, 14, 14]     [1, 120, 14, 14]     (237,870)            False\n",
      "│    │    └─MBConv (3)                                       [1, 120, 14, 14]     [1, 120, 14, 14]     (237,870)            False\n",
      "│    └─Sequential (6)                                        [1, 120, 14, 14]     [1, 208, 7, 7]       --                   False\n",
      "│    │    └─MBConv (0)                                       [1, 120, 14, 14]     [1, 208, 7, 7]       (301,406)            False\n",
      "│    │    └─MBConv (1)                                       [1, 208, 7, 7]       [1, 208, 7, 7]       (686,868)            False\n",
      "│    │    └─MBConv (2)                                       [1, 208, 7, 7]       [1, 208, 7, 7]       (686,868)            False\n",
      "│    │    └─MBConv (3)                                       [1, 208, 7, 7]       [1, 208, 7, 7]       (686,868)            False\n",
      "│    │    └─MBConv (4)                                       [1, 208, 7, 7]       [1, 208, 7, 7]       (686,868)            False\n",
      "│    └─Sequential (7)                                        [1, 208, 7, 7]       [1, 352, 7, 7]       --                   False\n",
      "│    │    └─MBConv (0)                                       [1, 208, 7, 7]       [1, 352, 7, 7]       (846,900)            False\n",
      "│    │    └─MBConv (1)                                       [1, 352, 7, 7]       [1, 352, 7, 7]       (1,888,920)          False\n",
      "│    └─Conv2dNormActivation (8)                              [1, 352, 7, 7]       [1, 1408, 7, 7]      --                   False\n",
      "│    │    └─Conv2d (0)                                       [1, 352, 7, 7]       [1, 1408, 7, 7]      (495,616)            False\n",
      "│    │    └─BatchNorm2d (1)                                  [1, 1408, 7, 7]      [1, 1408, 7, 7]      (2,816)              False\n",
      "│    │    └─SiLU (2)                                         [1, 1408, 7, 7]      [1, 1408, 7, 7]      --                   --\n",
      "├─AdaptiveAvgPool2d (avgpool)                                [1, 1408, 7, 7]      [1, 1408, 1, 1]      --                   --\n",
      "├─Sequential (classifier)                                    [1, 1408]            [1, 3]               --                   True\n",
      "│    └─Dropout (0)                                           [1, 1408]            [1, 1408]            --                   --\n",
      "│    └─Linear (1)                                            [1, 1408]            [1, 3]               4,227                True\n",
      "============================================================================================================================================\n",
      "Total params: 7,705,221\n",
      "Trainable params: 4,227\n",
      "Non-trainable params: 7,700,994\n",
      "Total mult-adds (Units.MEGABYTES): 657.64\n",
      "============================================================================================================================================\n",
      "Input size (MB): 0.60\n",
      "Forward/backward pass size (MB): 156.80\n",
      "Params size (MB): 30.82\n",
      "Estimated Total Size (MB): 188.22\n",
      "============================================================================================================================================\n"
     ]
    },
    {
     "data": {
      "text/plain": [
       "ImageClassification(\n",
       "    crop_size=[288]\n",
       "    resize_size=[288]\n",
       "    mean=[0.485, 0.456, 0.406]\n",
       "    std=[0.229, 0.224, 0.225]\n",
       "    interpolation=InterpolationMode.BICUBIC\n",
       ")"
      ]
     },
     "execution_count": 133,
     "metadata": {},
     "output_type": "execute_result"
    }
   ],
   "source": [
    "effnetb2, effnetb2_transforms = create_effnetb2(output_feature_count=3)\n",
    "effnetb2\n",
    "print(summary(model=effnetb2,\n",
    "        input_size= (1, 3, 224, 224),\n",
    "        col_names=['input_size', 'output_size', 'num_params', 'trainable'],\n",
    "        col_width=20,\n",
    "        row_settings=['var_names']))\n",
    "\n",
    "effnetb2_transforms"
   ]
  },
  {
   "cell_type": "code",
   "execution_count": 134,
   "metadata": {},
   "outputs": [],
   "source": [
    "# data loader\n",
    "train_dataloader_effnetb2, test_dataloader_effnetb2, class_names = data_loaders.create_dataloaders(train_dir=train_dir, \n",
    "                                                                                          test_dir=test_dir, # use 10% data for testing\n",
    "                                                                                          transform=effnetb2_transforms, \n",
    "                                                                                          batch_size=32)"
   ]
  },
  {
   "cell_type": "code",
   "execution_count": 135,
   "metadata": {},
   "outputs": [
    {
     "data": {
      "text/plain": [
       "(15, 5, ['pizza', 'steak', 'sushi'])"
      ]
     },
     "execution_count": 135,
     "metadata": {},
     "output_type": "execute_result"
    }
   ],
   "source": [
    "len (train_dataloader_effnetb2), len (test_dataloader_effnetb2), class_names"
   ]
  },
  {
   "cell_type": "code",
   "execution_count": 136,
   "metadata": {},
   "outputs": [],
   "source": [
    "loss_fn = nn.CrossEntropyLoss()\n",
    "effnetb2_optimizer = torch.optim.Adam(effnetb2.parameters(), lr=1e-3)"
   ]
  },
  {
   "cell_type": "code",
   "execution_count": 137,
   "metadata": {},
   "outputs": [],
   "source": [
    "# general trainer\n",
    "\n",
    "def train (model: torch.nn.Module,\n",
    "           train_dataloader: torch.utils.data.DataLoader,\n",
    "           test_dataloader: torch.utils.data.DataLoader,\n",
    "           optimizer: torch.optim.Optimizer,\n",
    "           loss_fn: torch.nn.Module,\n",
    "           epochs: int,\n",
    "           device: torch.device,\n",
    "           writer: torch.utils.tensorboard.writer.SummaryWriter) -> Dict[str, List]:\n",
    "    \n",
    "    results = {'train_loss':[],\n",
    "               'train_acc': [],\n",
    "               'test_loss': [],\n",
    "               'test_acc': []}\n",
    "\n",
    "    for epoch in tqdm(range(epochs)):\n",
    "        train_loss, train_acc = train_step(model = model,\n",
    "                                           dataloader = train_dataloader,\n",
    "                                           loss_fn = loss_fn,\n",
    "                                           optimizer=optimizer,\n",
    "                                           device = device)\n",
    "        \n",
    "        test_loss, test_acc = test_step(model = model,\n",
    "                                        dataloader = test_dataloader,\n",
    "                                        loss_fn = loss_fn,\n",
    "                                        device=device)\n",
    "        \n",
    "        print (\n",
    "            f'Epoch: {epoch + 1} |'\n",
    "            f'train_loss: {train_loss:.4f} |'\n",
    "            f'train_acc: {train_acc:.4f} |'\n",
    "            f'test_loss {test_loss:.4f} |'\n",
    "            f'test_acc:  {test_acc}:.4f'\n",
    "\n",
    "        )\n",
    "\n",
    "        results['train_loss'].append(train_loss)\n",
    "        results['train_acc'].append(train_acc)\n",
    "        results['test_loss'].append(test_loss)\n",
    "        results['test_acc'].append(test_acc)\n",
    "\n",
    "    if writer:\n",
    "        writer.add_scalars (main_tag = 'Accuracy',\n",
    "                            tag_scalar_dict = {'train_acc': train_acc,\n",
    "                                              'test_acc':test_acc},\n",
    "                            global_step=epoch)\n",
    "        writer.add_scalars (main_tag = 'Loss',\n",
    "                           tag_scalar_dict = {'train_loss': train_loss,\n",
    "                                              'test_loss' : test_loss},\n",
    "                            global_step = epoch)\n",
    "        \n",
    "        writer.add_graph (model = model,\n",
    "                          input_to_model = torch.randn(32, 3, 224, 224).to(device))# 3 or 1?\n",
    "    \n",
    "    writer.close()\n",
    "\n",
    "    return results"
   ]
  },
  {
   "cell_type": "code",
   "execution_count": 138,
   "metadata": {},
   "outputs": [
    {
     "name": "stderr",
     "output_type": "stream",
     "text": [
      " 10%|█         | 1/10 [00:10<01:36, 10.72s/it]"
     ]
    },
    {
     "name": "stdout",
     "output_type": "stream",
     "text": [
      "Epoch: 1 |train_loss: 0.9855 |train_acc: 0.5604 |test_loss 0.7407 |test_acc:  0.934659090909091:.4f\n"
     ]
    },
    {
     "name": "stderr",
     "output_type": "stream",
     "text": [
      " 20%|██        | 2/10 [00:16<01:00,  7.58s/it]"
     ]
    },
    {
     "name": "stdout",
     "output_type": "stream",
     "text": [
      "Epoch: 2 |train_loss: 0.7175 |train_acc: 0.8438 |test_loss 0.5869 |test_acc:  0.940909090909091:.4f\n"
     ]
    },
    {
     "name": "stderr",
     "output_type": "stream",
     "text": [
      " 30%|███       | 3/10 [00:21<00:46,  6.63s/it]"
     ]
    },
    {
     "name": "stdout",
     "output_type": "stream",
     "text": [
      "Epoch: 3 |train_loss: 0.5876 |train_acc: 0.8917 |test_loss 0.4909 |test_acc:  0.95:.4f\n"
     ]
    },
    {
     "name": "stderr",
     "output_type": "stream",
     "text": [
      " 40%|████      | 4/10 [00:27<00:37,  6.17s/it]"
     ]
    },
    {
     "name": "stdout",
     "output_type": "stream",
     "text": [
      "Epoch: 4 |train_loss: 0.4474 |train_acc: 0.9062 |test_loss 0.4355 |test_acc:  0.940909090909091:.4f\n"
     ]
    },
    {
     "name": "stderr",
     "output_type": "stream",
     "text": [
      " 50%|█████     | 5/10 [00:32<00:29,  5.85s/it]"
     ]
    },
    {
     "name": "stdout",
     "output_type": "stream",
     "text": [
      "Epoch: 5 |train_loss: 0.4290 |train_acc: 0.9104 |test_loss 0.3915 |test_acc:  0.9443181818181818:.4f\n"
     ]
    },
    {
     "name": "stderr",
     "output_type": "stream",
     "text": [
      " 60%|██████    | 6/10 [00:37<00:22,  5.70s/it]"
     ]
    },
    {
     "name": "stdout",
     "output_type": "stream",
     "text": [
      "Epoch: 6 |train_loss: 0.4380 |train_acc: 0.8896 |test_loss 0.3512 |test_acc:  0.96875:.4f\n"
     ]
    },
    {
     "name": "stderr",
     "output_type": "stream",
     "text": [
      " 70%|███████   | 7/10 [00:43<00:16,  5.64s/it]"
     ]
    },
    {
     "name": "stdout",
     "output_type": "stream",
     "text": [
      "Epoch: 7 |train_loss: 0.4245 |train_acc: 0.8771 |test_loss 0.3268 |test_acc:  0.95625:.4f\n"
     ]
    },
    {
     "name": "stderr",
     "output_type": "stream",
     "text": [
      " 80%|████████  | 8/10 [00:48<00:11,  5.58s/it]"
     ]
    },
    {
     "name": "stdout",
     "output_type": "stream",
     "text": [
      "Epoch: 8 |train_loss: 0.3897 |train_acc: 0.8958 |test_loss 0.3457 |test_acc:  0.9289772727272727:.4f\n"
     ]
    },
    {
     "name": "stderr",
     "output_type": "stream",
     "text": [
      " 90%|█████████ | 9/10 [00:54<00:05,  5.58s/it]"
     ]
    },
    {
     "name": "stdout",
     "output_type": "stream",
     "text": [
      "Epoch: 9 |train_loss: 0.3749 |train_acc: 0.8812 |test_loss 0.3129 |test_acc:  0.9130681818181818:.4f\n"
     ]
    },
    {
     "name": "stderr",
     "output_type": "stream",
     "text": [
      "100%|██████████| 10/10 [00:59<00:00,  5.98s/it]"
     ]
    },
    {
     "name": "stdout",
     "output_type": "stream",
     "text": [
      "Epoch: 10 |train_loss: 0.3757 |train_acc: 0.8604 |test_loss 0.2813 |test_acc:  0.96875:.4f\n"
     ]
    },
    {
     "name": "stderr",
     "output_type": "stream",
     "text": [
      "\n"
     ]
    }
   ],
   "source": [
    "# train effnetb2\n",
    "set_seeds()\n",
    "\n",
    "effnetb2_retults = train (model = effnetb2,\n",
    "                          train_dataloader=train_dataloader_effnetb2,\n",
    "                          test_dataloader=test_dataloader_effnetb2,\n",
    "                          optimizer=effnetb2_optimizer,\n",
    "                          loss_fn = loss_fn,\n",
    "                          epochs = 10,\n",
    "                          device=device,\n",
    "                          writer=writer)"
   ]
  },
  {
   "cell_type": "code",
   "execution_count": null,
   "metadata": {},
   "outputs": [],
   "source": []
  },
  {
   "cell_type": "code",
   "execution_count": 139,
   "metadata": {},
   "outputs": [
    {
     "data": {
      "image/png": "[encoded data removed]",
      "text/plain": [
       "<Figure size 1500x700 with 2 Axes>"
      ]
     },
     "metadata": {},
     "output_type": "display_data"
    }
   ],
   "source": [
    "# !nvidia-smi\n",
    "plot_loss_curves(effnetb2_retults)"
   ]
  },
  {
   "cell_type": "markdown",
   "metadata": {},
   "source": [
    "### 3.5 Save the EffNetB2 feeature extractor"
   ]
  },
  {
   "cell_type": "code",
   "execution_count": 140,
   "metadata": {},
   "outputs": [
    {
     "name": "stdout",
     "output_type": "stream",
     "text": [
      "[INFO] Saving model to: models\\09_pre_trained_effnetb2_feature_extractor_pizza_steak_sushi_20_percent_10_epochs.pth\n"
     ]
    }
   ],
   "source": [
    "model_path = f\"09_pre_trained_effnetb2_feature_extractor_pizza_steak_sushi_20_percent_{10}_epochs.pth\"\n",
    "save_model (model = effnetb2,\n",
    "            target_dir=\"models\",\n",
    "            model_name = model_path)"
   ]
  },
  {
   "cell_type": "markdown",
   "metadata": {},
   "source": [
    "### 3.6 inspect size of EFFNetB2"
   ]
  },
  {
   "cell_type": "code",
   "execution_count": 141,
   "metadata": {},
   "outputs": [],
   "source": [
    "pretrained_effnetb2_model_size = Path(\"models/\", model_path).stat().st_size/(1024 * 1024)"
   ]
  },
  {
   "cell_type": "markdown",
   "metadata": {},
   "source": [
    "### 3.7 Colling EffNetB2 feature extractor stats"
   ]
  },
  {
   "cell_type": "code",
   "execution_count": 142,
   "metadata": {},
   "outputs": [
    {
     "data": {
      "text/plain": [
       "7705221"
      ]
     },
     "execution_count": 142,
     "metadata": {},
     "output_type": "execute_result"
    }
   ],
   "source": [
    "# count number of paramters\n",
    "effnetb2_total_params = sum(torch.numel(param) for param in effnetb2.parameters())\n",
    "effnetb2_total_params"
   ]
  },
  {
   "cell_type": "code",
   "execution_count": 143,
   "metadata": {},
   "outputs": [
    {
     "data": {
      "text/plain": [
       "{'test_loss': 0.2812606513500214,\n",
       " 'test_acc': 0.96875,\n",
       " 'number_of_paramters': 7705221,\n",
       " 'model_size (MB)': 29.89214515686035}"
      ]
     },
     "execution_count": 143,
     "metadata": {},
     "output_type": "execute_result"
    }
   ],
   "source": [
    "effnetb2_stats = {'test_loss':effnetb2_retults['test_loss'][-1],\n",
    "                  'test_acc':effnetb2_retults['test_acc'][-1],\n",
    "                  'number_of_paramters': effnetb2_total_params,\n",
    "                  'model_size (MB)': pretrained_effnetb2_model_size}\n",
    "\n",
    "effnetb2_stats"
   ]
  },
  {
   "cell_type": "markdown",
   "metadata": {},
   "source": [
    "## 4.0 ViT feature extractor"
   ]
  },
  {
   "cell_type": "code",
   "execution_count": 144,
   "metadata": {},
   "outputs": [
    {
     "data": {
      "text/plain": [
       "Sequential(\n",
       "  (head): Linear(in_features=768, out_features=1000, bias=True)\n",
       ")"
      ]
     },
     "execution_count": 144,
     "metadata": {},
     "output_type": "execute_result"
    }
   ],
   "source": [
    "vit = torchvision.models.vit_b_16()\n",
    "vit.heads"
   ]
  },
  {
   "cell_type": "code",
   "execution_count": 145,
   "metadata": {},
   "outputs": [],
   "source": [
    "# list(list(vit.children())[-1])[-1].in_features"
   ]
  },
  {
   "cell_type": "code",
   "execution_count": 146,
   "metadata": {},
   "outputs": [],
   "source": [
    "# create vit model\n",
    "def create_vit_model(num_classes: int = 3, drop_out = 0.3, seed:int=42)-> nn.Module:\n",
    "    weights = torchvision.models.ViT_B_16_Weights.DEFAULT\n",
    "    model= torchvision.models.vit_b_16(weights=weights).to(device)\n",
    "    transforms=weights.transforms()\n",
    "\n",
    "    for param in model.parameters():\n",
    "        param.requires_grad = False\n",
    "\n",
    "    set_seeds(seed=seed)\n",
    "\n",
    "    last_layer = list (model.children())[-1]\n",
    "    last_child_layer = list (last_layer.children())[-1]\n",
    "    last_input = last_child_layer.in_features\n",
    "\n",
    "    model.heads = nn.Sequential(\n",
    "        nn.Dropout(p = drop_out, inplace=True),\n",
    "        nn.Linear(in_features=last_input,\n",
    "                  out_features=num_classes).to(device))\n",
    "    \n",
    "    model.name = 'ViT_B_16'\n",
    "    print (f'[INFO] created new {model.name} model')\n",
    "\n",
    "    return model, transforms"
   ]
  },
  {
   "cell_type": "code",
   "execution_count": 147,
   "metadata": {},
   "outputs": [
    {
     "name": "stdout",
     "output_type": "stream",
     "text": [
      "[INFO] created new ViT_B_16 model\n",
      "============================================================================================================================================\n",
      "Layer (type (var_name))                                      Input Shape          Output Shape         Param #              Trainable\n",
      "============================================================================================================================================\n",
      "VisionTransformer (VisionTransformer)                        [1, 3, 224, 224]     [1, 3]               768                  Partial\n",
      "├─Conv2d (conv_proj)                                         [1, 3, 224, 224]     [1, 768, 14, 14]     (590,592)            False\n",
      "├─Encoder (encoder)                                          [1, 197, 768]        [1, 197, 768]        151,296              False\n",
      "│    └─Dropout (dropout)                                     [1, 197, 768]        [1, 197, 768]        --                   --\n",
      "│    └─Sequential (layers)                                   [1, 197, 768]        [1, 197, 768]        --                   False\n",
      "│    │    └─EncoderBlock (encoder_layer_0)                   [1, 197, 768]        [1, 197, 768]        (7,087,872)          False\n",
      "│    │    └─EncoderBlock (encoder_layer_1)                   [1, 197, 768]        [1, 197, 768]        (7,087,872)          False\n",
      "│    │    └─EncoderBlock (encoder_layer_2)                   [1, 197, 768]        [1, 197, 768]        (7,087,872)          False\n",
      "│    │    └─EncoderBlock (encoder_layer_3)                   [1, 197, 768]        [1, 197, 768]        (7,087,872)          False\n",
      "│    │    └─EncoderBlock (encoder_layer_4)                   [1, 197, 768]        [1, 197, 768]        (7,087,872)          False\n",
      "│    │    └─EncoderBlock (encoder_layer_5)                   [1, 197, 768]        [1, 197, 768]        (7,087,872)          False\n",
      "│    │    └─EncoderBlock (encoder_layer_6)                   [1, 197, 768]        [1, 197, 768]        (7,087,872)          False\n",
      "│    │    └─EncoderBlock (encoder_layer_7)                   [1, 197, 768]        [1, 197, 768]        (7,087,872)          False\n",
      "│    │    └─EncoderBlock (encoder_layer_8)                   [1, 197, 768]        [1, 197, 768]        (7,087,872)          False\n",
      "│    │    └─EncoderBlock (encoder_layer_9)                   [1, 197, 768]        [1, 197, 768]        (7,087,872)          False\n",
      "│    │    └─EncoderBlock (encoder_layer_10)                  [1, 197, 768]        [1, 197, 768]        (7,087,872)          False\n",
      "│    │    └─EncoderBlock (encoder_layer_11)                  [1, 197, 768]        [1, 197, 768]        (7,087,872)          False\n",
      "│    └─LayerNorm (ln)                                        [1, 197, 768]        [1, 197, 768]        (1,536)              False\n",
      "├─Sequential (heads)                                         [1, 768]             [1, 3]               --                   True\n",
      "│    └─Dropout (0)                                           [1, 768]             [1, 768]             --                   --\n",
      "│    └─Linear (1)                                            [1, 768]             [1, 3]               2,307                True\n",
      "============================================================================================================================================\n",
      "Total params: 85,800,963\n",
      "Trainable params: 2,307\n",
      "Non-trainable params: 85,798,656\n",
      "Total mult-adds (Units.MEGABYTES): 172.47\n",
      "============================================================================================================================================\n",
      "Input size (MB): 0.60\n",
      "Forward/backward pass size (MB): 104.09\n",
      "Params size (MB): 229.20\n",
      "Estimated Total Size (MB): 333.89\n",
      "============================================================================================================================================\n"
     ]
    },
    {
     "data": {
      "text/plain": [
       "ImageClassification(\n",
       "    crop_size=[224]\n",
       "    resize_size=[256]\n",
       "    mean=[0.485, 0.456, 0.406]\n",
       "    std=[0.229, 0.224, 0.225]\n",
       "    interpolation=InterpolationMode.BILINEAR\n",
       ")"
      ]
     },
     "execution_count": 147,
     "metadata": {},
     "output_type": "execute_result"
    }
   ],
   "source": [
    "vit, vit_transforms = create_vit_model(num_classes=3)\n",
    "\n",
    "print(summary(model=vit,\n",
    "        input_size= (1, 3, 224, 224),\n",
    "        col_names=['input_size', 'output_size', 'num_params', 'trainable'],\n",
    "        col_width=20,\n",
    "        row_settings=['var_names']))\n",
    "\n",
    "vit_transforms"
   ]
  },
  {
   "cell_type": "code",
   "execution_count": 148,
   "metadata": {},
   "outputs": [
    {
     "name": "stdout",
     "output_type": "stream",
     "text": [
      "[INFO] created new effnetb2 model\n",
      "============================================================================================================================================\n",
      "Layer (type (var_name))                                      Input Shape          Output Shape         Param #              Trainable\n",
      "============================================================================================================================================\n",
      "EfficientNet (EfficientNet)                                  [1, 3, 224, 224]     [1, 3]               --                   Partial\n",
      "├─Sequential (features)                                      [1, 3, 224, 224]     [1, 1408, 7, 7]      --                   False\n",
      "│    └─Conv2dNormActivation (0)                              [1, 3, 224, 224]     [1, 32, 112, 112]    --                   False\n",
      "│    │    └─Conv2d (0)                                       [1, 3, 224, 224]     [1, 32, 112, 112]    (864)                False\n",
      "│    │    └─BatchNorm2d (1)                                  [1, 32, 112, 112]    [1, 32, 112, 112]    (64)                 False\n",
      "│    │    └─SiLU (2)                                         [1, 32, 112, 112]    [1, 32, 112, 112]    --                   --\n",
      "│    └─Sequential (1)                                        [1, 32, 112, 112]    [1, 16, 112, 112]    --                   False\n",
      "│    │    └─MBConv (0)                                       [1, 32, 112, 112]    [1, 16, 112, 112]    (1,448)              False\n",
      "│    │    └─MBConv (1)                                       [1, 16, 112, 112]    [1, 16, 112, 112]    (612)                False\n",
      "│    └─Sequential (2)                                        [1, 16, 112, 112]    [1, 24, 56, 56]      --                   False\n",
      "│    │    └─MBConv (0)                                       [1, 16, 112, 112]    [1, 24, 56, 56]      (6,004)              False\n",
      "│    │    └─MBConv (1)                                       [1, 24, 56, 56]      [1, 24, 56, 56]      (10,710)             False\n",
      "│    │    └─MBConv (2)                                       [1, 24, 56, 56]      [1, 24, 56, 56]      (10,710)             False\n",
      "│    └─Sequential (3)                                        [1, 24, 56, 56]      [1, 48, 28, 28]      --                   False\n",
      "│    │    └─MBConv (0)                                       [1, 24, 56, 56]      [1, 48, 28, 28]      (16,518)             False\n",
      "│    │    └─MBConv (1)                                       [1, 48, 28, 28]      [1, 48, 28, 28]      (43,308)             False\n",
      "│    │    └─MBConv (2)                                       [1, 48, 28, 28]      [1, 48, 28, 28]      (43,308)             False\n",
      "│    └─Sequential (4)                                        [1, 48, 28, 28]      [1, 88, 14, 14]      --                   False\n",
      "│    │    └─MBConv (0)                                       [1, 48, 28, 28]      [1, 88, 14, 14]      (50,300)             False\n",
      "│    │    └─MBConv (1)                                       [1, 88, 14, 14]      [1, 88, 14, 14]      (123,750)            False\n",
      "│    │    └─MBConv (2)                                       [1, 88, 14, 14]      [1, 88, 14, 14]      (123,750)            False\n",
      "│    │    └─MBConv (3)                                       [1, 88, 14, 14]      [1, 88, 14, 14]      (123,750)            False\n",
      "│    └─Sequential (5)                                        [1, 88, 14, 14]      [1, 120, 14, 14]     --                   False\n",
      "│    │    └─MBConv (0)                                       [1, 88, 14, 14]      [1, 120, 14, 14]     (149,158)            False\n",
      "│    │    └─MBConv (1)                                       [1, 120, 14, 14]     [1, 120, 14, 14]     (237,870)            False\n",
      "│    │    └─MBConv (2)                                       [1, 120, 14, 14]     [1, 120, 14, 14]     (237,870)            False\n",
      "│    │    └─MBConv (3)                                       [1, 120, 14, 14]     [1, 120, 14, 14]     (237,870)            False\n",
      "│    └─Sequential (6)                                        [1, 120, 14, 14]     [1, 208, 7, 7]       --                   False\n",
      "│    │    └─MBConv (0)                                       [1, 120, 14, 14]     [1, 208, 7, 7]       (301,406)            False\n",
      "│    │    └─MBConv (1)                                       [1, 208, 7, 7]       [1, 208, 7, 7]       (686,868)            False\n",
      "│    │    └─MBConv (2)                                       [1, 208, 7, 7]       [1, 208, 7, 7]       (686,868)            False\n",
      "│    │    └─MBConv (3)                                       [1, 208, 7, 7]       [1, 208, 7, 7]       (686,868)            False\n",
      "│    │    └─MBConv (4)                                       [1, 208, 7, 7]       [1, 208, 7, 7]       (686,868)            False\n",
      "│    └─Sequential (7)                                        [1, 208, 7, 7]       [1, 352, 7, 7]       --                   False\n",
      "│    │    └─MBConv (0)                                       [1, 208, 7, 7]       [1, 352, 7, 7]       (846,900)            False\n",
      "│    │    └─MBConv (1)                                       [1, 352, 7, 7]       [1, 352, 7, 7]       (1,888,920)          False\n",
      "│    └─Conv2dNormActivation (8)                              [1, 352, 7, 7]       [1, 1408, 7, 7]      --                   False\n",
      "│    │    └─Conv2d (0)                                       [1, 352, 7, 7]       [1, 1408, 7, 7]      (495,616)            False\n",
      "│    │    └─BatchNorm2d (1)                                  [1, 1408, 7, 7]      [1, 1408, 7, 7]      (2,816)              False\n",
      "│    │    └─SiLU (2)                                         [1, 1408, 7, 7]      [1, 1408, 7, 7]      --                   --\n",
      "├─AdaptiveAvgPool2d (avgpool)                                [1, 1408, 7, 7]      [1, 1408, 1, 1]      --                   --\n",
      "├─Sequential (classifier)                                    [1, 1408]            [1, 3]               --                   True\n",
      "│    └─Dropout (0)                                           [1, 1408]            [1, 1408]            --                   --\n",
      "│    └─Linear (1)                                            [1, 1408]            [1, 3]               4,227                True\n",
      "============================================================================================================================================\n",
      "Total params: 7,705,221\n",
      "Trainable params: 4,227\n",
      "Non-trainable params: 7,700,994\n",
      "Total mult-adds (Units.MEGABYTES): 657.64\n",
      "============================================================================================================================================\n",
      "Input size (MB): 0.60\n",
      "Forward/backward pass size (MB): 156.80\n",
      "Params size (MB): 30.82\n",
      "Estimated Total Size (MB): 188.22\n",
      "============================================================================================================================================\n"
     ]
    },
    {
     "data": {
      "text/plain": [
       "ImageClassification(\n",
       "    crop_size=[288]\n",
       "    resize_size=[288]\n",
       "    mean=[0.485, 0.456, 0.406]\n",
       "    std=[0.229, 0.224, 0.225]\n",
       "    interpolation=InterpolationMode.BICUBIC\n",
       ")"
      ]
     },
     "execution_count": 148,
     "metadata": {},
     "output_type": "execute_result"
    }
   ],
   "source": [
    "effnetb2, effnetb2_transforms = create_effnetb2(output_feature_count=3)\n",
    "effnetb2\n",
    "print(summary(model=effnetb2,\n",
    "        input_size= (1, 3, 224, 224),\n",
    "        col_names=['input_size', 'output_size', 'num_params', 'trainable'],\n",
    "        col_width=20,\n",
    "        row_settings=['var_names']))\n",
    "\n",
    "effnetb2_transforms"
   ]
  },
  {
   "cell_type": "markdown",
   "metadata": {},
   "source": [
    "### 4.1 ViT Dataloader"
   ]
  },
  {
   "cell_type": "code",
   "execution_count": 149,
   "metadata": {},
   "outputs": [],
   "source": [
    "# data loader\n",
    "train_dataloader_vit, test_dataloader_vit, class_names = data_loaders.create_dataloaders(train_dir=train_dir, \n",
    "                                                                                          test_dir=test_dir, # use 10% data for testing\n",
    "                                                                                          transform=vit_transforms, \n",
    "                                                                                          batch_size=32)"
   ]
  },
  {
   "cell_type": "markdown",
   "metadata": {},
   "source": [
    "### 4.2 Vit training"
   ]
  },
  {
   "cell_type": "code",
   "execution_count": 150,
   "metadata": {},
   "outputs": [],
   "source": [
    "loss_fn = nn.CrossEntropyLoss()\n",
    "vit_optimizer = torch.optim.Adam(vit.parameters(), lr=1e-3)"
   ]
  },
  {
   "cell_type": "code",
   "execution_count": 151,
   "metadata": {},
   "outputs": [
    {
     "name": "stderr",
     "output_type": "stream",
     "text": [
      " 10%|█         | 1/10 [00:06<01:02,  6.90s/it]"
     ]
    },
    {
     "name": "stdout",
     "output_type": "stream",
     "text": [
      "Epoch: 1 |train_loss: 0.7245 |train_acc: 0.7250 |test_loss 0.2896 |test_acc:  0.9289772727272727:.4f\n"
     ]
    },
    {
     "name": "stderr",
     "output_type": "stream",
     "text": [
      " 20%|██        | 2/10 [00:13<00:52,  6.61s/it]"
     ]
    },
    {
     "name": "stdout",
     "output_type": "stream",
     "text": [
      "Epoch: 2 |train_loss: 0.2648 |train_acc: 0.9083 |test_loss 0.1720 |test_acc:  0.9602272727272727:.4f\n"
     ]
    },
    {
     "name": "stderr",
     "output_type": "stream",
     "text": [
      " 30%|███       | 3/10 [00:19<00:45,  6.57s/it]"
     ]
    },
    {
     "name": "stdout",
     "output_type": "stream",
     "text": [
      "Epoch: 3 |train_loss: 0.1975 |train_acc: 0.9479 |test_loss 0.1281 |test_acc:  0.9693181818181819:.4f\n"
     ]
    },
    {
     "name": "stderr",
     "output_type": "stream",
     "text": [
      " 40%|████      | 4/10 [00:26<00:39,  6.57s/it]"
     ]
    },
    {
     "name": "stdout",
     "output_type": "stream",
     "text": [
      "Epoch: 4 |train_loss: 0.1410 |train_acc: 0.9604 |test_loss 0.1085 |test_acc:  0.972159090909091:.4f\n"
     ]
    },
    {
     "name": "stderr",
     "output_type": "stream",
     "text": [
      " 50%|█████     | 5/10 [00:32<00:32,  6.56s/it]"
     ]
    },
    {
     "name": "stdout",
     "output_type": "stream",
     "text": [
      "Epoch: 5 |train_loss: 0.1234 |train_acc: 0.9646 |test_loss 0.0965 |test_acc:  0.978409090909091:.4f\n"
     ]
    },
    {
     "name": "stderr",
     "output_type": "stream",
     "text": [
      " 60%|██████    | 6/10 [00:39<00:26,  6.52s/it]"
     ]
    },
    {
     "name": "stdout",
     "output_type": "stream",
     "text": [
      "Epoch: 6 |train_loss: 0.1387 |train_acc: 0.9354 |test_loss 0.0846 |test_acc:  0.972159090909091:.4f\n"
     ]
    },
    {
     "name": "stderr",
     "output_type": "stream",
     "text": [
      " 70%|███████   | 7/10 [00:45<00:19,  6.51s/it]"
     ]
    },
    {
     "name": "stdout",
     "output_type": "stream",
     "text": [
      "Epoch: 7 |train_loss: 0.1079 |train_acc: 0.9625 |test_loss 0.0831 |test_acc:  0.9875:.4f\n"
     ]
    },
    {
     "name": "stderr",
     "output_type": "stream",
     "text": [
      " 80%|████████  | 8/10 [00:52<00:13,  6.51s/it]"
     ]
    },
    {
     "name": "stdout",
     "output_type": "stream",
     "text": [
      "Epoch: 8 |train_loss: 0.1237 |train_acc: 0.9437 |test_loss 0.0761 |test_acc:  0.978409090909091:.4f\n"
     ]
    },
    {
     "name": "stderr",
     "output_type": "stream",
     "text": [
      " 90%|█████████ | 9/10 [00:58<00:06,  6.53s/it]"
     ]
    },
    {
     "name": "stdout",
     "output_type": "stream",
     "text": [
      "Epoch: 9 |train_loss: 0.1052 |train_acc: 0.9771 |test_loss 0.0750 |test_acc:  0.978409090909091:.4f\n"
     ]
    },
    {
     "name": "stderr",
     "output_type": "stream",
     "text": [
      "100%|██████████| 10/10 [01:05<00:00,  6.53s/it]"
     ]
    },
    {
     "name": "stdout",
     "output_type": "stream",
     "text": [
      "Epoch: 10 |train_loss: 0.0786 |train_acc: 0.9854 |test_loss 0.0640 |test_acc:  1.0:.4f\n"
     ]
    },
    {
     "name": "stderr",
     "output_type": "stream",
     "text": [
      "\n",
      "c:\\Users\\Tiger\\anaconda3\\envs\\Py311UdemyWCUDA1\\Lib\\site-packages\\torch\\__init__.py:1559: TracerWarning: Converting a tensor to a Python boolean might cause the trace to be incorrect. We can't record the data flow of Python values, so this value will be treated as a constant in the future. This means that the trace might not generalize to other inputs!\n",
      "  assert condition, message\n"
     ]
    }
   ],
   "source": [
    "# train vit\n",
    "set_seeds()\n",
    "\n",
    "vit_retults = train (model = vit,\n",
    "                          train_dataloader=train_dataloader_vit,\n",
    "                          test_dataloader=test_dataloader_vit,\n",
    "                          optimizer=vit_optimizer,\n",
    "                          loss_fn = loss_fn,\n",
    "                          epochs = 10,\n",
    "                          device=device,\n",
    "                          writer=writer)"
   ]
  },
  {
   "cell_type": "code",
   "execution_count": 152,
   "metadata": {},
   "outputs": [
    {
     "data": {
      "image/png": "[encoded data removed]",
      "text/plain": [
       "<Figure size 1500x700 with 2 Axes>"
      ]
     },
     "metadata": {},
     "output_type": "display_data"
    }
   ],
   "source": [
    "# train effnetb2\n",
    "plot_loss_curves(vit_retults)"
   ]
  },
  {
   "cell_type": "code",
   "execution_count": null,
   "metadata": {},
   "outputs": [],
   "source": []
  },
  {
   "cell_type": "markdown",
   "metadata": {},
   "source": [
    "### 4.3 Save the fit feeature extractor"
   ]
  },
  {
   "cell_type": "code",
   "execution_count": 153,
   "metadata": {},
   "outputs": [
    {
     "name": "stdout",
     "output_type": "stream",
     "text": [
      "[INFO] Saving model to: models\\09_pre_trained_vit_feature_extractor_pizza_steak_sushi_20_percent_10_epochs.pth\n"
     ]
    }
   ],
   "source": [
    "vit_model_path = f\"09_pre_trained_vit_feature_extractor_pizza_steak_sushi_20_percent_{10}_epochs.pth\"\n",
    "save_model (model = vit,\n",
    "            target_dir=\"models\",\n",
    "            model_name = vit_model_path)"
   ]
  },
  {
   "cell_type": "markdown",
   "metadata": {},
   "source": [
    "### 4.4 inspect size of vit"
   ]
  },
  {
   "cell_type": "code",
   "execution_count": 154,
   "metadata": {},
   "outputs": [
    {
     "data": {
      "text/plain": [
       "327.38194465637207"
      ]
     },
     "execution_count": 154,
     "metadata": {},
     "output_type": "execute_result"
    }
   ],
   "source": [
    "pretrained_vit_model_size = Path(\"models/\", vit_model_path).stat().st_size/(1024 * 1024)\n",
    "pretrained_vit_model_size"
   ]
  },
  {
   "cell_type": "markdown",
   "metadata": {},
   "source": [
    "### 4.6 Collecting vit feature extractor stats"
   ]
  },
  {
   "cell_type": "code",
   "execution_count": 155,
   "metadata": {},
   "outputs": [
    {
     "data": {
      "text/plain": [
       "85800963"
      ]
     },
     "execution_count": 155,
     "metadata": {},
     "output_type": "execute_result"
    }
   ],
   "source": [
    "# count number of paramters\n",
    "vit_total_params = sum(torch.numel(param) for param in vit.parameters())\n",
    "vit_total_params"
   ]
  },
  {
   "cell_type": "code",
   "execution_count": 156,
   "metadata": {},
   "outputs": [
    {
     "data": {
      "text/plain": [
       "{'test_loss': 0.06396642997860909,\n",
       " 'test_acc': 1.0,\n",
       " 'number_of_paramters': 85800963,\n",
       " 'model_size (MB)': 327.38194465637207}"
      ]
     },
     "execution_count": 156,
     "metadata": {},
     "output_type": "execute_result"
    }
   ],
   "source": [
    "vit_stats = {'test_loss':vit_retults['test_loss'][-1],\n",
    "                  'test_acc':vit_retults['test_acc'][-1],\n",
    "                  'number_of_paramters': vit_total_params,\n",
    "                  'model_size (MB)': pretrained_vit_model_size}\n",
    "\n",
    "vit_stats"
   ]
  },
  {
   "cell_type": "markdown",
   "metadata": {},
   "source": [
    "## 5. Making Prediction swith our trained data models\n"
   ]
  },
  {
   "cell_type": "code",
   "execution_count": 157,
   "metadata": {},
   "outputs": [],
   "source": [
    "# Get all test data paths\n",
    "# from tqdm import tqdm\n",
    "# from pathlib import Path\n",
    "# test_data_paths = list(Path(test_dir).glob(\"*/*.jpg\"))\n",
    "# test_labels = [path.parent.stem for path in test_data_paths]\n",
    "# Create a function to return a list of dictionaries with sample, label, prediction, pred prob\n",
    "def pred_and_store(test_paths, model, transform, class_names, device):\n",
    "  test_pred_list = []\n",
    "  for path in tqdm(test_paths):\n",
    "    # Create empty dict to store info for each sample\n",
    "    pred_dict = {}\n",
    "\n",
    "    # Get sample path\n",
    "    pred_dict[\"image_path\"] = path\n",
    "\n",
    "    # Get class name\n",
    "    class_name = path.parent.stem\n",
    "    pred_dict[\"class_name\"] = class_name\n",
    "\n",
    "    #520cc050-f648-4d4d-b7ae-16850d1a8fbd Get prediction and prediction probability\n",
    "    from PIL import Image\n",
    "    \n",
    "    # 6. timer\n",
    "    start_time = timer()\n",
    "\n",
    "    img = Image.open(path) # open image\n",
    "    transformed_image = transform(img).unsqueeze(0) # transform image and add batch dimension\n",
    "    model.eval()\n",
    "    with torch.inference_mode():\n",
    "      pred_logit = model(transformed_image.to(device))\n",
    "      pred_prob = torch.softmax(pred_logit, dim=1)\n",
    "      pred_label = torch.argmax(pred_prob, dim=1)\n",
    "      # pred_class = class_names[pred_label.cpu()]\n",
    "      pred_class = class_names[pred_label.cpu()]\n",
    "\n",
    "      # Make sure things in the dictionary are back on the CPU \n",
    "      pred_dict[\"pred_prob\"] = pred_prob.unsqueeze(0).max().cpu().item()\n",
    "      pred_dict[\"pred_class\"] = pred_class\n",
    "\n",
    "      # 12. End timerer\n",
    "      end_time = timer()\n",
    "      pred_dict[\"time_for_pred\"] = round (end_time - start_time, 4)\n",
    "  \n",
    "    # Does the pred match the true label?\n",
    "    pred_dict[\"correct\"] = class_name == pred_class\n",
    "\n",
    "    # print(pred_dict)\n",
    "    # Add the dictionary to the list of preds\n",
    "    test_pred_list.append(pred_dict)\n",
    "\n",
    "  return test_pred_list\n",
    "\n",
    "# test_pred_dicts = pred_and_store(test_paths=test_data_paths,\n",
    "#                                  model=pretrained_vit_swag,\n",
    "#                                  transform=vit_transforms_swag,\n",
    "#                                  class_names=class_names,\n",
    "#                                  device=device)\n",
    "\n",
    "# test_pred_dicts[:5]"
   ]
  },
  {
   "cell_type": "code",
   "execution_count": 158,
   "metadata": {},
   "outputs": [
    {
     "name": "stderr",
     "output_type": "stream",
     "text": [
      "100%|██████████| 150/150 [00:02<00:00, 51.28it/s]\n"
     ]
    },
    {
     "data": {
      "text/plain": [
       "[{'image_path': WindowsPath('../data/pizza_steak_sushi_20_percent/test/pizza/1001116.jpg'),\n",
       "  'class_name': 'pizza',\n",
       "  'pred_prob': 0.9985803365707397,\n",
       "  'pred_class': 'pizza',\n",
       "  'time_for_pred': 0.027,\n",
       "  'correct': True},\n",
       " {'image_path': WindowsPath('../data/pizza_steak_sushi_20_percent/test/pizza/1032754.jpg'),\n",
       "  'class_name': 'pizza',\n",
       "  'pred_prob': 0.9952054023742676,\n",
       "  'pred_class': 'pizza',\n",
       "  'time_for_pred': 0.0278,\n",
       "  'correct': True},\n",
       " {'image_path': WindowsPath('../data/pizza_steak_sushi_20_percent/test/pizza/1067986.jpg'),\n",
       "  'class_name': 'pizza',\n",
       "  'pred_prob': 0.9984466433525085,\n",
       "  'pred_class': 'pizza',\n",
       "  'time_for_pred': 0.0246,\n",
       "  'correct': True},\n",
       " {'image_path': WindowsPath('../data/pizza_steak_sushi_20_percent/test/pizza/129666.jpg'),\n",
       "  'class_name': 'pizza',\n",
       "  'pred_prob': 0.9858282804489136,\n",
       "  'pred_class': 'pizza',\n",
       "  'time_for_pred': 0.0221,\n",
       "  'correct': True},\n",
       " {'image_path': WindowsPath('../data/pizza_steak_sushi_20_percent/test/pizza/1315645.jpg'),\n",
       "  'class_name': 'pizza',\n",
       "  'pred_prob': 0.9697028994560242,\n",
       "  'pred_class': 'pizza',\n",
       "  'time_for_pred': 0.0209,\n",
       "  'correct': True}]"
      ]
     },
     "execution_count": 158,
     "metadata": {},
     "output_type": "execute_result"
    }
   ],
   "source": [
    "# test on vit\n",
    "test_data_paths = list(Path(test_dir).glob(\"*/*.jpg\"))\n",
    "test_labels = [path.parent.stem for path in test_data_paths]\n",
    "test_pred_dicts_vit = pred_and_store(test_paths=test_data_paths,\n",
    "                                 model=vit,\n",
    "                                 transform=vit_transforms,\n",
    "                                 class_names=class_names,\n",
    "                                 device=device)\n",
    "\n",
    "test_pred_dicts_vit[:5]"
   ]
  },
  {
   "cell_type": "code",
   "execution_count": 159,
   "metadata": {},
   "outputs": [
    {
     "name": "stderr",
     "output_type": "stream",
     "text": [
      "100%|██████████| 150/150 [00:05<00:00, 27.14it/s]\n"
     ]
    },
    {
     "data": {
      "text/plain": [
       "[{'image_path': WindowsPath('../data/pizza_steak_sushi_20_percent/test/pizza/1001116.jpg'),\n",
       "  'class_name': 'pizza',\n",
       "  'pred_prob': 0.40349331498146057,\n",
       "  'pred_class': 'sushi',\n",
       "  'time_for_pred': 0.0389,\n",
       "  'correct': False},\n",
       " {'image_path': WindowsPath('../data/pizza_steak_sushi_20_percent/test/pizza/1032754.jpg'),\n",
       "  'class_name': 'pizza',\n",
       "  'pred_prob': 0.3899497091770172,\n",
       "  'pred_class': 'sushi',\n",
       "  'time_for_pred': 0.034,\n",
       "  'correct': False},\n",
       " {'image_path': WindowsPath('../data/pizza_steak_sushi_20_percent/test/pizza/1067986.jpg'),\n",
       "  'class_name': 'pizza',\n",
       "  'pred_prob': 0.36351701617240906,\n",
       "  'pred_class': 'sushi',\n",
       "  'time_for_pred': 0.0397,\n",
       "  'correct': False},\n",
       " {'image_path': WindowsPath('../data/pizza_steak_sushi_20_percent/test/pizza/129666.jpg'),\n",
       "  'class_name': 'pizza',\n",
       "  'pred_prob': 0.36818185448646545,\n",
       "  'pred_class': 'sushi',\n",
       "  'time_for_pred': 0.0341,\n",
       "  'correct': False},\n",
       " {'image_path': WindowsPath('../data/pizza_steak_sushi_20_percent/test/pizza/1315645.jpg'),\n",
       "  'class_name': 'pizza',\n",
       "  'pred_prob': 0.38284048438072205,\n",
       "  'pred_class': 'sushi',\n",
       "  'time_for_pred': 0.0356,\n",
       "  'correct': False}]"
      ]
     },
     "execution_count": 159,
     "metadata": {},
     "output_type": "execute_result"
    }
   ],
   "source": [
    "# \n",
    "test_data_paths = list(Path(test_dir).glob(\"*/*.jpg\"))\n",
    "test_labels = [path.parent.stem for path in test_data_paths]\n",
    "test_pred_dicts_effnetb2 = pred_and_store(test_paths=test_data_paths,\n",
    "                                 model=effnetb2,\n",
    "                                 transform=effnetb2_transforms,\n",
    "                                 class_names=class_names,\n",
    "                                 device=device)\n",
    "\n",
    "test_pred_dicts_effnetb2[:5]"
   ]
  },
  {
   "cell_type": "code",
   "execution_count": 162,
   "metadata": {},
   "outputs": [
    {
     "data": {
      "text/html": [
       "<div>\n",
       "<style scoped>\n",
       "    .dataframe tbody tr th:only-of-type {\n",
       "        vertical-align: middle;\n",
       "    }\n",
       "\n",
       "    .dataframe tbody tr th {\n",
       "        vertical-align: top;\n",
       "    }\n",
       "\n",
       "    .dataframe thead th {\n",
       "        text-align: right;\n",
       "    }\n",
       "</style>\n",
       "<table border=\"1\" class=\"dataframe\">\n",
       "  <thead>\n",
       "    <tr style=\"text-align: right;\">\n",
       "      <th></th>\n",
       "      <th>image_path</th>\n",
       "      <th>class_name</th>\n",
       "      <th>pred_prob</th>\n",
       "      <th>pred_class</th>\n",
       "      <th>time_for_pred</th>\n",
       "      <th>correct</th>\n",
       "    </tr>\n",
       "  </thead>\n",
       "  <tbody>\n",
       "    <tr>\n",
       "      <th>0</th>\n",
       "      <td>..\\data\\pizza_steak_sushi_20_percent\\test\\pizz...</td>\n",
       "      <td>pizza</td>\n",
       "      <td>0.403493</td>\n",
       "      <td>sushi</td>\n",
       "      <td>0.0389</td>\n",
       "      <td>False</td>\n",
       "    </tr>\n",
       "    <tr>\n",
       "      <th>1</th>\n",
       "      <td>..\\data\\pizza_steak_sushi_20_percent\\test\\pizz...</td>\n",
       "      <td>pizza</td>\n",
       "      <td>0.389950</td>\n",
       "      <td>sushi</td>\n",
       "      <td>0.0340</td>\n",
       "      <td>False</td>\n",
       "    </tr>\n",
       "  </tbody>\n",
       "</table>\n",
       "</div>"
      ],
      "text/plain": [
       "                                          image_path class_name  pred_prob  \\\n",
       "0  ..\\data\\pizza_steak_sushi_20_percent\\test\\pizz...      pizza   0.403493   \n",
       "1  ..\\data\\pizza_steak_sushi_20_percent\\test\\pizz...      pizza   0.389950   \n",
       "\n",
       "  pred_class  time_for_pred  correct  \n",
       "0      sushi         0.0389    False  \n",
       "1      sushi         0.0340    False  "
      ]
     },
     "execution_count": 162,
     "metadata": {},
     "output_type": "execute_result"
    }
   ],
   "source": [
    "effnet2b_test_pred_df = pd. DataFrame(test_pred_dicts_effnetb2)\n",
    "effnet2b_test_pred_df.head(2)"
   ]
  },
  {
   "cell_type": "code",
   "execution_count": 163,
   "metadata": {},
   "outputs": [
    {
     "data": {
      "text/plain": [
       "correct\n",
       "False    117\n",
       "True      33\n",
       "Name: count, dtype: int64"
      ]
     },
     "execution_count": 163,
     "metadata": {},
     "output_type": "execute_result"
    }
   ],
   "source": [
    "# check number of correct predictions\n",
    "effnet2b_test_pred_df.correct.value_counts()"
   ]
  },
  {
   "cell_type": "code",
   "execution_count": 164,
   "metadata": {},
   "outputs": [
    {
     "name": "stdout",
     "output_type": "stream",
     "text": [
      "EffNetB2 average time per prediction: 0.0364 seconds\n"
     ]
    }
   ],
   "source": [
    "# Find the average time per prediction\n",
    "effnetb2_average_time_per_pred = round(effnet2b_test_pred_df.time_for_pred.mean(), 4)\n",
    "print(f\"EffNetB2 average time per prediction: {effnetb2_average_time_per_pred} seconds\")"
   ]
  },
  {
   "cell_type": "code",
   "execution_count": 165,
   "metadata": {},
   "outputs": [
    {
     "data": {
      "text/plain": [
       "{'test_loss': 0.2812606513500214,\n",
       " 'test_acc': 0.96875,\n",
       " 'number_of_paramters': 7705221,\n",
       " 'model_size (MB)': 29.89214515686035,\n",
       " 'time_per_pred_cpu': 0.0364}"
      ]
     },
     "execution_count": 165,
     "metadata": {},
     "output_type": "execute_result"
    }
   ],
   "source": [
    "effnetb2_stats['time_per_pred_cpu'] =effnetb2_average_time_per_pred\n",
    "effnetb2_stats"
   ]
  },
  {
   "cell_type": "markdown",
   "metadata": {},
   "source": [
    "###  5.3 get statsfor stats VIT"
   ]
  },
  {
   "cell_type": "code",
   "execution_count": 167,
   "metadata": {},
   "outputs": [
    {
     "data": {
      "text/html": [
       "<div>\n",
       "<style scoped>\n",
       "    .dataframe tbody tr th:only-of-type {\n",
       "        vertical-align: middle;\n",
       "    }\n",
       "\n",
       "    .dataframe tbody tr th {\n",
       "        vertical-align: top;\n",
       "    }\n",
       "\n",
       "    .dataframe thead th {\n",
       "        text-align: right;\n",
       "    }\n",
       "</style>\n",
       "<table border=\"1\" class=\"dataframe\">\n",
       "  <thead>\n",
       "    <tr style=\"text-align: right;\">\n",
       "      <th></th>\n",
       "      <th>image_path</th>\n",
       "      <th>class_name</th>\n",
       "      <th>pred_prob</th>\n",
       "      <th>pred_class</th>\n",
       "      <th>time_for_pred</th>\n",
       "      <th>correct</th>\n",
       "    </tr>\n",
       "  </thead>\n",
       "  <tbody>\n",
       "    <tr>\n",
       "      <th>0</th>\n",
       "      <td>..\\data\\pizza_steak_sushi_20_percent\\test\\pizz...</td>\n",
       "      <td>pizza</td>\n",
       "      <td>0.998580</td>\n",
       "      <td>pizza</td>\n",
       "      <td>0.0270</td>\n",
       "      <td>True</td>\n",
       "    </tr>\n",
       "    <tr>\n",
       "      <th>1</th>\n",
       "      <td>..\\data\\pizza_steak_sushi_20_percent\\test\\pizz...</td>\n",
       "      <td>pizza</td>\n",
       "      <td>0.995205</td>\n",
       "      <td>pizza</td>\n",
       "      <td>0.0278</td>\n",
       "      <td>True</td>\n",
       "    </tr>\n",
       "  </tbody>\n",
       "</table>\n",
       "</div>"
      ],
      "text/plain": [
       "                                          image_path class_name  pred_prob  \\\n",
       "0  ..\\data\\pizza_steak_sushi_20_percent\\test\\pizz...      pizza   0.998580   \n",
       "1  ..\\data\\pizza_steak_sushi_20_percent\\test\\pizz...      pizza   0.995205   \n",
       "\n",
       "  pred_class  time_for_pred  correct  \n",
       "0      pizza         0.0270     True  \n",
       "1      pizza         0.0278     True  "
      ]
     },
     "execution_count": 167,
     "metadata": {},
     "output_type": "execute_result"
    }
   ],
   "source": [
    "# create DF\n",
    "vit_test_pred_df = pd.DataFrame(test_pred_dicts_vit)\n",
    "vit_test_pred_df.head(2)"
   ]
  },
  {
   "cell_type": "code",
   "execution_count": 168,
   "metadata": {},
   "outputs": [
    {
     "data": {
      "text/plain": [
       "correct\n",
       "True    150\n",
       "Name: count, dtype: int64"
      ]
     },
     "execution_count": 168,
     "metadata": {},
     "output_type": "execute_result"
    }
   ],
   "source": [
    "# Count the number of correct predictions\n",
    "vit_test_pred_df.correct.value_counts()"
   ]
  },
  {
   "cell_type": "code",
   "execution_count": 170,
   "metadata": {},
   "outputs": [
    {
     "data": {
      "text/plain": [
       "0.0192"
      ]
     },
     "execution_count": 170,
     "metadata": {},
     "output_type": "execute_result"
    }
   ],
   "source": [
    "# get average\n",
    "vit_average_time_per_pred = round (vit_test_pred_df.time_for_pred.mean(), 4)\n",
    "vit_average_time_per_pred"
   ]
  },
  {
   "cell_type": "code",
   "execution_count": 171,
   "metadata": {},
   "outputs": [
    {
     "data": {
      "text/plain": [
       "{'test_loss': 0.06396642997860909,\n",
       " 'test_acc': 1.0,\n",
       " 'number_of_paramters': 85800963,\n",
       " 'model_size (MB)': 327.38194465637207,\n",
       " 'time_per_pred_cpu': 0.0192}"
      ]
     },
     "execution_count": 171,
     "metadata": {},
     "output_type": "execute_result"
    }
   ],
   "source": [
    "vit_stats['time_per_pred_cpu'] = vit_average_time_per_pred\n",
    "vit_stats"
   ]
  },
  {
   "cell_type": "markdown",
   "metadata": {},
   "source": [
    "## 6. Comparing models "
   ]
  },
  {
   "cell_type": "code",
   "execution_count": 175,
   "metadata": {},
   "outputs": [
    {
     "data": {
      "text/html": [
       "<div>\n",
       "<style scoped>\n",
       "    .dataframe tbody tr th:only-of-type {\n",
       "        vertical-align: middle;\n",
       "    }\n",
       "\n",
       "    .dataframe tbody tr th {\n",
       "        vertical-align: top;\n",
       "    }\n",
       "\n",
       "    .dataframe thead th {\n",
       "        text-align: right;\n",
       "    }\n",
       "</style>\n",
       "<table border=\"1\" class=\"dataframe\">\n",
       "  <thead>\n",
       "    <tr style=\"text-align: right;\">\n",
       "      <th></th>\n",
       "      <th>test_loss</th>\n",
       "      <th>test_acc</th>\n",
       "      <th>number_of_paramters</th>\n",
       "      <th>model_size (MB)</th>\n",
       "      <th>time_per_pred_cpu</th>\n",
       "      <th>model</th>\n",
       "    </tr>\n",
       "  </thead>\n",
       "  <tbody>\n",
       "    <tr>\n",
       "      <th>0</th>\n",
       "      <td>0.281261</td>\n",
       "      <td>96.88</td>\n",
       "      <td>7705221</td>\n",
       "      <td>29.892145</td>\n",
       "      <td>0.0364</td>\n",
       "      <td>EffNetB2</td>\n",
       "    </tr>\n",
       "    <tr>\n",
       "      <th>1</th>\n",
       "      <td>0.063966</td>\n",
       "      <td>100.00</td>\n",
       "      <td>85800963</td>\n",
       "      <td>327.381945</td>\n",
       "      <td>0.0192</td>\n",
       "      <td>ViT</td>\n",
       "    </tr>\n",
       "  </tbody>\n",
       "</table>\n",
       "</div>"
      ],
      "text/plain": [
       "   test_loss  test_acc  number_of_paramters  model_size (MB)  \\\n",
       "0   0.281261     96.88              7705221        29.892145   \n",
       "1   0.063966    100.00             85800963       327.381945   \n",
       "\n",
       "   time_per_pred_cpu     model  \n",
       "0             0.0364  EffNetB2  \n",
       "1             0.0192       ViT  "
      ]
     },
     "execution_count": 175,
     "metadata": {},
     "output_type": "execute_result"
    }
   ],
   "source": [
    "# Turn stat dictionaries into DataFrame\n",
    "df = pd.DataFrame([effnetb2_stats, vit_stats])\n",
    "df['model'] = [\"EffNetB2\", \"ViT\"]\n",
    "df['test_acc'] = round (df['test_acc'] * 100, 2)\n",
    "df"
   ]
  },
  {
   "cell_type": "code",
   "execution_count": 176,
   "metadata": {},
   "outputs": [
    {
     "data": {
      "text/html": [
       "<div>\n",
       "<style scoped>\n",
       "    .dataframe tbody tr th:only-of-type {\n",
       "        vertical-align: middle;\n",
       "    }\n",
       "\n",
       "    .dataframe tbody tr th {\n",
       "        vertical-align: top;\n",
       "    }\n",
       "\n",
       "    .dataframe thead th {\n",
       "        text-align: right;\n",
       "    }\n",
       "</style>\n",
       "<table border=\"1\" class=\"dataframe\">\n",
       "  <thead>\n",
       "    <tr style=\"text-align: right;\">\n",
       "      <th></th>\n",
       "      <th>test_loss</th>\n",
       "      <th>test_acc</th>\n",
       "      <th>number_of_paramters</th>\n",
       "      <th>model_size (MB)</th>\n",
       "      <th>time_per_pred_cpu</th>\n",
       "    </tr>\n",
       "  </thead>\n",
       "  <tbody>\n",
       "    <tr>\n",
       "      <th>Fit to EffNetB2 ratios</th>\n",
       "      <td>0.227428</td>\n",
       "      <td>1.032205</td>\n",
       "      <td>11.135432</td>\n",
       "      <td>10.952106</td>\n",
       "      <td>0.527473</td>\n",
       "    </tr>\n",
       "  </tbody>\n",
       "</table>\n",
       "</div>"
      ],
      "text/plain": [
       "                        test_loss  test_acc  number_of_paramters  \\\n",
       "Fit to EffNetB2 ratios   0.227428  1.032205            11.135432   \n",
       "\n",
       "                        model_size (MB)  time_per_pred_cpu  \n",
       "Fit to EffNetB2 ratios        10.952106           0.527473  "
      ]
     },
     "execution_count": 176,
     "metadata": {},
     "output_type": "execute_result"
    }
   ],
   "source": [
    "# compare Vit to EffNetB2\n",
    "pd.DataFrame(data= (df.set_index('model').loc['ViT']/df.set_index('model').loc['EffNetB2']),\n",
    "                        columns = ['Fit to EffNetB2 ratios']).T"
   ]
  },
  {
   "cell_type": "markdown",
   "metadata": {},
   "source": [
    "### 6.1 Visulaizeing speed vs performance"
   ]
  },
  {
   "cell_type": "code",
   "execution_count": 188,
   "metadata": {},
   "outputs": [
    {
     "data": {
      "text/plain": [
       "<function matplotlib.pyplot.show(close=None, block=None)>"
      ]
     },
     "execution_count": 188,
     "metadata": {},
     "output_type": "execute_result"
    },
    {
     "data": {
      "image/png": "[encoded data removed]",
      "text/plain": [
       "<Figure size 1200x800 with 1 Axes>"
      ]
     },
     "metadata": {},
     "output_type": "display_data"
    }
   ],
   "source": [
    "fig, ax = plt.subplots(figsize= (12, 8))\n",
    "scatter = ax.scatter(data= df,\n",
    "                     x = 'time_per_pred_cpu',\n",
    "                     y = 'test_acc',\n",
    "                     c = ['blue', 'orange'],\n",
    "                     s = 'model_size (MB)')\n",
    "ax.set_title (\"FoodVision Mini Inference Speed vs Performance\", fontsize = 18)\n",
    "ax.set_xlabel(\"prediction tie per image (second)\", fontsize = 14)\n",
    "ax.set_ylabel(\"Test accuracy (%)\", fontsize = 14)\n",
    "ax.tick_params (axis = 'both', labelsize = 12)\n",
    "\n",
    "ax.grid (True)\n",
    "\n",
    "# 3. annotate\n",
    "for index, row in df.iterrows():\n",
    "    ax.annotate(text = row['model'],\n",
    "                xy = (row['time_per_pred_cpu']+0.0006, row ['test_acc']+0.03))\n",
    "    \n",
    "#  4. Create legedn\n",
    "handles, labels = scatter.legend_elements (prop='sizes', alpha = 0.5)\n",
    "models_size_legend = ax.legend(handles,\n",
    "                               labels,\n",
    "                               loc = 'lower right',\n",
    "                               title = \"Model size (MB)\",\n",
    "                               fontsize = 12)\n",
    "\n",
    "plt.show"
   ]
  },
  {
   "cell_type": "markdown",
   "metadata": {},
   "source": [
    "## 7. Food Vision minto on Gradio"
   ]
  },
  {
   "cell_type": "code",
   "execution_count": null,
   "metadata": {},
   "outputs": [],
   "source": [
    "# "
   ]
  },
  {
   "cell_type": "code",
   "execution_count": 189,
   "metadata": {},
   "outputs": [
    {
     "name": "stdout",
     "output_type": "stream",
     "text": [
      "Gradio version 5.9.1\n"
     ]
    }
   ],
   "source": [
    "# import/install gradio\n",
    "try: \n",
    "    import gradio as getattr\n",
    "except:\n",
    "    !pip -q install gradio\n",
    "    import gradio as gr\n",
    "\n",
    "print (f'Gradio version {gr.__version__}')"
   ]
  },
  {
   "cell_type": "code",
   "execution_count": 190,
   "metadata": {},
   "outputs": [
    {
     "data": {
      "text/plain": [
       "device(type='cpu')"
      ]
     },
     "execution_count": 190,
     "metadata": {},
     "output_type": "execute_result"
    }
   ],
   "source": [
    "# put model to cput\n",
    "effnetb2.to('cpu')\n",
    "next(iter(effnetb2.parameters())).device"
   ]
  },
  {
   "cell_type": "code",
   "execution_count": 192,
   "metadata": {},
   "outputs": [],
   "source": [
    "# recreate workflow\n",
    "def predict(img) ->Tuple [Dict, float]:\n",
    "\n",
    "    start_time = timer()\n",
    "\n",
    "    img = effnetb2_transforms(img).unsqueeze(0)\n",
    "\n",
    "    effnetb2.eval()\n",
    "    with torch.inference_mode():\n",
    "        pred_probs = torch.softmax(effnetb2(img), dim = 1)\n",
    "\n",
    "    pred_labels_probs = {class_names[i]:float (pred_probs[0][i]) for i in range (len(class_names))}\n",
    "\n",
    "    pred_time = round (timer() - start_time , 5)\n",
    "\n",
    "    return pred_labels_probs, pred_time\n"
   ]
  },
  {
   "cell_type": "code",
   "execution_count": 193,
   "metadata": {},
   "outputs": [
    {
     "name": "stdout",
     "output_type": "stream",
     "text": [
      "[INFO] Prediction on image at path: ..\\data\\pizza_steak_sushi_20_percent\\test\\sushi\\1063878.jpg\n",
      "\n",
      "label and prbob:\n",
      "{'pizza': 0.3609239459037781, 'steak': 0.2757018506526947, 'sushi': 0.363374263048172}\n",
      "Prediction Time : 0.15452 seconds\n"
     ]
    }
   ],
   "source": [
    "test_data_paths = list(Path(test_dir).glob(\"*/*.jpg\"))\n",
    "\n",
    "random_image_path = random.sample (test_data_paths, k = 1)[0]\n",
    "\n",
    "image = Image.open(random_image_path)\n",
    "\n",
    "print (f'[INFO] Prediction on image at path: {random_image_path}\\n')\n",
    "pred_dict, pred_time = predict (img = image)\n",
    "print (f'label and prbob:\\n{pred_dict}')\n",
    "print (f'Prediction Time : {pred_time} seconds')"
   ]
  },
  {
   "cell_type": "markdown",
   "metadata": {},
   "source": [
    "### 7.3 Creating example list"
   ]
  },
  {
   "cell_type": "code",
   "execution_count": 194,
   "metadata": {},
   "outputs": [
    {
     "data": {
      "text/plain": [
       "[['..\\\\data\\\\pizza_steak_sushi_20_percent\\\\test\\\\pizza\\\\2582289.jpg'],\n",
       " ['..\\\\data\\\\pizza_steak_sushi_20_percent\\\\test\\\\sushi\\\\472912.jpg'],\n",
       " ['..\\\\data\\\\pizza_steak_sushi_20_percent\\\\test\\\\pizza\\\\3785667.jpg']]"
      ]
     },
     "execution_count": 194,
     "metadata": {},
     "output_type": "execute_result"
    }
   ],
   "source": [
    "example_list = [[str(filepath)] for filepath in random.sample (test_data_paths, k = 3)]\n",
    "example_list"
   ]
  },
  {
   "cell_type": "markdown",
   "metadata": {},
   "source": [
    "### 7.4 Build a Gradiao interface"
   ]
  },
  {
   "cell_type": "code",
   "execution_count": 199,
   "metadata": {},
   "outputs": [
    {
     "name": "stdout",
     "output_type": "stream",
     "text": [
      "* Running on local URL:  http://127.0.0.1:7860\n",
      "\n",
      "Could not create share link. Please check your internet connection or our status page: https://status.gradio.app.\n"
     ]
    },
    {
     "data": {
      "text/html": [
       "<div><iframe src=\"http://127.0.0.1:7860/\" width=\"100%\" height=\"500\" allow=\"autoplay; camera; microphone; clipboard-read; clipboard-write;\" frameborder=\"0\" allowfullscreen></iframe></div>"
      ],
      "text/plain": [
       "<IPython.core.display.HTML object>"
      ]
     },
     "metadata": {},
     "output_type": "display_data"
    },
    {
     "data": {
      "text/plain": []
     },
     "execution_count": 199,
     "metadata": {},
     "output_type": "execute_result"
    }
   ],
   "source": [
    "title = \"Food vision Mini 🍕🥩🍣\"\n",
    "description = \"an EfficentNetB2 feature extract\"\n",
    "article = \"Created at Hassan 09\"\n",
    "\n",
    "demo = gr.Interface(fn=predict,\n",
    "                    inputs = gr.Image(type='pil'),\n",
    "                    outputs = [gr.Label(num_top_classes = 3, label = \"Prdictions\"),\n",
    "                                gr.Number(label = \"prediction time\")],\n",
    "                    examples = example_list,\n",
    "                    title = title,\n",
    "                    description=description,\n",
    "                    article=article)\n",
    "\n",
    "demo.launch(debug=False,\n",
    "           share=True)"
   ]
  }
 ],
 "metadata": {
  "kernelspec": {
   "display_name": "Py311UdemyWCUDA1",
   "language": "python",
   "name": "python3"
  },
  "language_info": {
   "codemirror_mode": {
    "name": "ipython",
    "version": 3
   },
   "file_extension": ".py",
   "mimetype": "text/x-python",
   "name": "python",
   "nbconvert_exporter": "python",
   "pygments_lexer": "ipython3",
   "version": "3.11.9"
  }
 },
 "nbformat": 4,
 "nbformat_minor": 2
}
