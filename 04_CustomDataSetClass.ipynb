{
 "cells": [
  {
   "cell_type": "markdown",
   "metadata": {},
   "source": [
    "# 04 Custom Data Set Class"
   ]
  },
  {
   "cell_type": "code",
   "execution_count": 19,
   "metadata": {},
   "outputs": [],
   "source": [
    "import requests\n",
    "from pathlib import Path\n",
    "import sklearn\n",
    "import matplotlib.pyplot as plt\n",
    "import pandas as pd\n",
    "from sklearn.datasets import make_circles\n",
    "from sklearn.datasets import make_moons\n",
    "from sklearn.model_selection import train_test_split\n",
    "from sklearn.datasets import make_blobs\n",
    "import os\n",
    "import pandas as pd\n",
    "import torch\n",
    "from torch import nn\n",
    "from helper_functions import plot_predictions, plot_decision_boundary, accuracy_fn\n",
    "from torchmetrics import Accuracy, ConfusionMatrix\n",
    "import mlxtend\n",
    "from torchvision import datasets\n",
    "from torchvision import transforms\n",
    "from torchvision.transforms import ToTensor\n",
    "from torch.utils.data import DataLoader\n",
    "from timeit import default_timer as timer\n",
    "from tqdm.auto import tqdm\n",
    "from mlxtend.plotting import plot_confusion_matrix\n",
    "import random\n",
    "import zipfile\n"
   ]
  },
  {
   "cell_type": "code",
   "execution_count": null,
   "metadata": {},
   "outputs": [],
   "source": [
    "# !pip install mlxtend"
   ]
  },
  {
   "cell_type": "code",
   "execution_count": 22,
   "metadata": {},
   "outputs": [
    {
     "data": {
      "text/plain": [
       "'2.3.0'"
      ]
     },
     "execution_count": 22,
     "metadata": {},
     "output_type": "execute_result"
    }
   ],
   "source": [
    "# !pip install tqdm \n",
    "# !nvcc --version\n",
    "# !pip install torch torchvision torchaudio --index-url https://download.pytorch.org/whl/cu121\n",
    "# import torch\n",
    "# torch.__version__\n"
   ]
  },
  {
   "cell_type": "code",
   "execution_count": 8,
   "metadata": {},
   "outputs": [
    {
     "data": {
      "text/plain": [
       "'cuda'"
      ]
     },
     "execution_count": 8,
     "metadata": {},
     "output_type": "execute_result"
    }
   ],
   "source": [
    "# set up gpu\n",
    "device = 'cuda' if torch.cuda.is_available() else 'cpu'\n",
    "RANDOM_SEED = 42\n",
    "device"
   ]
  },
  {
   "cell_type": "code",
   "execution_count": null,
   "metadata": {},
   "outputs": [],
   "source": [
    "# get data\n",
    "# assert int(torch.__version__.split('.')[1]) >=11\n",
    "# assert int(torchvision._version__.split('.')[1]) >= 11\n",
    "# data_dir = pathlib.Path(\"../data\")\n",
    "\n",
    "# !nvidia-smi"
   ]
  },
  {
   "cell_type": "code",
   "execution_count": 18,
   "metadata": {},
   "outputs": [
    {
     "name": "stdout",
     "output_type": "stream",
     "text": [
      "data\\pizza steak sushi directory already exists.. skipping download\n",
      "Unzipping pizz, steak  and sushi\n"
     ]
    },
    {
     "data": {
      "text/plain": [
       "WindowsPath('../data/pizza_steak_sushi.zip')"
      ]
     },
     "execution_count": 18,
     "metadata": {},
     "output_type": "execute_result"
    }
   ],
   "source": [
    "# int(torch.__version__.split('.')[1])\n",
    "# int(torchvision._version__.split('.')[1])\n",
    "# Setup data directory\n",
    "\n",
    "import pathlib\n",
    "data_path = Path(\"data/\")\n",
    "data_dir = pathlib.Path(\"../data\")\n",
    "image_path = data_path/\"pizza steak sushi\"\n",
    "if image_path.is_dir():\n",
    "    print (f'{image_path} directory already exists.. skipping download')\n",
    "else:\n",
    "    print (f'{image_path} does not exisit creting one..')\n",
    "    image_path.mkdir(parents = True, exist_ok = True)\n",
    "\n",
    "#\n",
    "with zipfile.ZipFile(data_dir /'pizza_steak_sushi.zip', 'r') as zip_ref:\n",
    "    print ('Unzipping pizz, steak  and sushi')\n",
    "    zip_ref.extractall(image_path)\n",
    "    \n",
    "test_path = data_dir /'pizza_steak_sushi.zip'\n",
    "test_path"
   ]
  },
  {
   "cell_type": "markdown",
   "metadata": {},
   "source": [
    "## explore function\n"
   ]
  },
  {
   "cell_type": "code",
   "execution_count": 27,
   "metadata": {},
   "outputs": [
    {
     "name": "stdout",
     "output_type": "stream",
     "text": [
      "end=There are 2 and directories 0 images in data\\pizza steak sushi.\n",
      "end=There are 3 and directories 0 images in data\\pizza steak sushi\\test.\n",
      "end=There are 0 and directories 25 images in data\\pizza steak sushi\\test\\pizza.\n",
      "end=There are 0 and directories 19 images in data\\pizza steak sushi\\test\\steak.\n",
      "end=There are 0 and directories 31 images in data\\pizza steak sushi\\test\\sushi.\n",
      "end=There are 3 and directories 0 images in data\\pizza steak sushi\\train.\n",
      "end=There are 0 and directories 78 images in data\\pizza steak sushi\\train\\pizza.\n",
      "end=There are 0 and directories 75 images in data\\pizza steak sushi\\train\\steak.\n",
      "end=There are 0 and directories 72 images in data\\pizza steak sushi\\train\\sushi.\n"
     ]
    }
   ],
   "source": [
    "# explore directoy\n",
    "def walk_through_dir(dir_path):\n",
    "    for dirpath, dirnames, filenames in os.walk (dir_path):\n",
    "        print (f'end=There are {len(dirnames)} and directories {len (filenames)} images in {dirpath}.')\n",
    "\n",
    "data_dir = pathlib.Path(\"../data\")\n",
    "image_path = data_path /\"pizza steak sushi\"\n",
    "walk_through_dir(image_path)"
   ]
  },
  {
   "cell_type": "code",
   "execution_count": 29,
   "metadata": {},
   "outputs": [
    {
     "data": {
      "text/plain": [
       "(WindowsPath('data/pizza steak sushi/train'),\n",
       " WindowsPath('data/pizza steak sushi/test'))"
      ]
     },
     "execution_count": 29,
     "metadata": {},
     "output_type": "execute_result"
    }
   ],
   "source": [
    "# set up train test path\n",
    "train_dir = image_path /'train'\n",
    "test_dir = image_path/'test'\n",
    "\n",
    "train_dir, test_dir"
   ]
  },
  {
   "cell_type": "code",
   "execution_count": 10,
   "metadata": {},
   "outputs": [],
   "source": [
    "# get training data\n",
    "train_data = datasets.Food101(root=data_dir,\n",
    "                              split='train',\n",
    "                              download=True)\n",
    "\n",
    "# Get testing data\n",
    "test_data = datasets.Food101(root=data_dir,\n",
    "                             split='test',\n",
    "                             download=True)"
   ]
  }
 ],
 "metadata": {
  "kernelspec": {
   "display_name": "py311Udemy",
   "language": "python",
   "name": "python3"
  },
  "language_info": {
   "codemirror_mode": {
    "name": "ipython",
    "version": 3
   },
   "file_extension": ".py",
   "mimetype": "text/x-python",
   "name": "python",
   "nbconvert_exporter": "python",
   "pygments_lexer": "ipython3",
   "version": "3.9.19"
  }
 },
 "nbformat": 4,
 "nbformat_minor": 2
}
